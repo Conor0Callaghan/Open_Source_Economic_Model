{
 "cells": [
  {
   "cell_type": "code",
   "execution_count": 1,
   "id": "6e487a1b",
   "metadata": {},
   "outputs": [],
   "source": [
    "import numpy as np\n",
    "from datetime import datetime as dt, timedelta\n",
    "from datetime import date\n",
    "from enum import IntEnum\n",
    "from dataclasses import dataclass\n",
    "from dateutil.relativedelta import relativedelta\n",
    "from typing import List, Dict, Any\n",
    "\n",
    "\n",
    "class Frequency(IntEnum):\n",
    "    ANNUAL = 1\n",
    "    BIANNUAL = 2\n",
    "    TRIANNUAL = 3\n",
    "    QUARTERLY = 4\n",
    "    MONTHLY = 12\n",
    "\n",
    "\n",
    "@dataclass\n",
    "class EquityShare:\n",
    "    asset_id: int\n",
    "    nace: str\n",
    "    issuer: str\n",
    "    buy_date: date\n",
    "    dividend_yield: float\n",
    "    frequency: Frequency\n",
    "    market_price: float\n",
    "\n",
    "    @property\n",
    "    def dividend_amount(self) -> float:\n",
    "        return self.dividend_yield # Probably needs to be removed\n",
    "\n",
    "    def generate_dividend_dates(self, modelling_date: date, end_date: date ) -> date:\n",
    "        \"\"\"\n",
    "\n",
    "        :type modelling_date: date\n",
    "        \"\"\"\n",
    "        delta = relativedelta(months=(12 // self.frequency))\n",
    "        this_date = self.buy_date - delta\n",
    "        while this_date < end_date:  # Coupon payment dates\n",
    "            this_date = this_date + delta\n",
    "            if this_date < modelling_date: #Not interested in past payments\n",
    "                continue\n",
    "            if this_date <= end_date:\n",
    "                yield this_date # ? What is the advantage of yield here?\n",
    "\n",
    "#    def term_to_maturity(self, modelling_date: date)->int:\n",
    "#        \"\"\"\n",
    "#\n",
    "#        :type modelling_date: date\n",
    "#        \"\"\"\n",
    "#        delta: timedelta = self.maturity_date - modelling_date\n",
    "#        return delta.days\n",
    "\n",
    "#    def gross_redemption_yield(self):\n",
    "#        pass\n",
    "\n"
   ]
  },
  {
   "cell_type": "code",
   "execution_count": 18,
   "id": "bac584fd",
   "metadata": {},
   "outputs": [],
   "source": []
  },
  {
   "cell_type": "code",
   "execution_count": 19,
   "id": "84d2df21",
   "metadata": {},
   "outputs": [
    {
     "data": {
      "text/plain": [
       "EquityShare(asset_id=1, nace='A.1.2', issuer='Open Source Modelling', buy_date=datetime.date(2015, 12, 1), dividend_yield=0.03, frequency=<Frequency.QUARTERLY: 4>, market_price=12.6)"
      ]
     },
     "execution_count": 19,
     "metadata": {},
     "output_type": "execute_result"
    }
   ],
   "source": [
    "test_share_1 # Test upload 1 share"
   ]
  },
  {
   "cell_type": "code",
   "execution_count": 4,
   "id": "202f6f60",
   "metadata": {},
   "outputs": [],
   "source": [
    "test_share_2 = EquityShare(asset_id= 2, nace= \"A.3.1\",\n",
    "    issuer= \"Test Issuer\"\n",
    "    ,buy_date= date(2020, 5, 2)\n",
    "    ,dividend_yield= 0.04\n",
    "    ,frequency= Frequency.ANNUAL\n",
    "    ,market_price= 102.1\n",
    ")"
   ]
  },
  {
   "cell_type": "code",
   "execution_count": 5,
   "id": "d409c8d9",
   "metadata": {},
   "outputs": [
    {
     "data": {
      "text/plain": [
       "EquityShare(asset_id=2, nace='A.3.1', issuer='Test Issuer', buy_date=datetime.date(2020, 5, 2), dividend_yield=0.04, frequency=<Frequency.ANNUAL: 1>, market_price=102.1)"
      ]
     },
     "execution_count": 5,
     "metadata": {},
     "output_type": "execute_result"
    }
   ],
   "source": [
    "test_share_2 # Test upload 2 share"
   ]
  },
  {
   "cell_type": "code",
   "execution_count": 6,
   "id": "6906598a",
   "metadata": {},
   "outputs": [],
   "source": [
    "test_share_3 = EquityShare(asset_id= 3, nace= \"B.12\",\n",
    "    issuer= \"Test Issuer\"\n",
    "    ,buy_date= date(2020, 5, 2)\n",
    "    ,dividend_yield= 0.012\n",
    "    ,frequency= Frequency.TRIANNUAL\n",
    "    ,market_price= 102\n",
    ")"
   ]
  },
  {
   "cell_type": "code",
   "execution_count": 7,
   "id": "fad11ace",
   "metadata": {},
   "outputs": [
    {
     "data": {
      "text/plain": [
       "EquityShare(asset_id=3, nace='B.12', issuer='Test Issuer', buy_date=datetime.date(2020, 5, 2), dividend_yield=0.012, frequency=<Frequency.TRIANNUAL: 3>, market_price=102)"
      ]
     },
     "execution_count": 7,
     "metadata": {},
     "output_type": "execute_result"
    }
   ],
   "source": [
    "test_share_3 # Test upload 3 share"
   ]
  },
  {
   "cell_type": "code",
   "execution_count": 8,
   "id": "50e1345b",
   "metadata": {},
   "outputs": [],
   "source": [
    "import pandas as pd\n",
    "import csv\n",
    "#from EquityClasses import EquityShare\n",
    "from datetime import datetime\n",
    "\n",
    "\n",
    "def GetEquityShare(filename) -> EquityShare:\n",
    "    with open(filename, mode=\"r\", encoding=\"utf-8-sig\") as csvfile:\n",
    "        reader = csv.DictReader(csvfile)\n",
    "        for row in reader:\n",
    "            equity_share = EquityShare(asset_id=int(row[\"Asset_ID\"]),\n",
    "                                 nace=row[\"NACE\"],\n",
    "                                 issuer=None,\n",
    "                                 buy_date=datetime.strptime(row[\"Buy_Date\"], \"%d/%m/%Y\").date(),\n",
    "                                 dividend_yield=float(row[\"Dividend_Yield\"]),\n",
    "                                 frequency=int(row[\"Frequency\"]),\n",
    "                                 market_price=float(row[\"Market_Price\"]))\n",
    "            yield equity_share\n",
    "            "
   ]
  },
  {
   "cell_type": "code",
   "execution_count": 9,
   "id": "034080a0",
   "metadata": {},
   "outputs": [],
   "source": [
    "test_equity_import = GetEquityShare(\"Input\\Equity_Portfolio_test.csv\")"
   ]
  },
  {
   "cell_type": "code",
   "execution_count": 10,
   "id": "cccf8242",
   "metadata": {},
   "outputs": [],
   "source": [
    "class EquitySharePortfolio():\n",
    "    def __init__(self, equity_share: dict[int,EquityShare] = None):\n",
    "        \"\"\"\n",
    "\n",
    "        :type equity_share: dict[int,EquityShare]\n",
    "        \"\"\"\n",
    "        self.equity_share = equity_share\n",
    "\n",
    "    def IsEmpty(self)-> bool:\n",
    "        if self.equity_share == None:\n",
    "            return True\n",
    "        if len(self.equity_share) == 0:\n",
    "            return True\n",
    "        return False\n",
    "\n",
    "    def add(self,equity_share: EquityShare) :\n",
    "        \"\"\"\n",
    "\n",
    "        :type equity_share: EquityShare\n",
    "        \"\"\"\n",
    "        if self.equity_share == None:\n",
    "            self.equity_share = {equity_share.asset_id: equity_share}\n",
    "        else:\n",
    "            self.equity_share.update({equity_share.asset_id: equity_share})\n",
    "\n",
    "\n",
    "\n",
    "    def create_dividend_dates(self, modelling_date, end_date)->dict:\n",
    "        \"\"\"\n",
    "                Create the vector of dates at which the dividends are paid out and the total amounts for\n",
    "                all equity shares in the portfolio, for dates on or after the modelling date\n",
    "\n",
    "                Parameters\n",
    "                ----------\n",
    "                self : EquitySharePortfolio class instance\n",
    "                    The EquitySharePortfolio instance with populated initial portfolio.\n",
    "\n",
    "                Returns\n",
    "                -------\n",
    "                EquityShare.coupondates\n",
    "                    An array of datetimes, containing all the dates at which the coupons are paid out.\n",
    "\n",
    "                \"\"\"\n",
    "\n",
    "        dividends: dict[date, float] = {}\n",
    "        equity_share: EquityShare\n",
    "        dividend_date: date\n",
    "        for asset_id in self.equity_share:\n",
    "            equity_share = self.equity_share[asset_id]\n",
    "            dividend_amount = equity_share.dividend_amount\n",
    "            for dividend_date in equity_share.generate_dividend_dates(modelling_date, end_date):\n",
    "                if dividend_date in dividends:\n",
    "                    dividends[dividend_date] = dividend_amount + dividends[dividend_date] # ? Why is here a plus? (you agregate coupon amounts if same date?)\n",
    "                else:\n",
    "                    dividends.update({dividend_date:dividend_amount})\n",
    "        return dividends\n",
    "\n",
    "    def create_terminal_cashflow(self, modelling_date: date, end_date: date) -> dict:\n",
    "        \"\"\"\n",
    "\n",
    "        :rtype: dict\n",
    "        \"\"\"\n",
    "        terminals: dict[date, float] = {}\n",
    "        equity_share: EquityShare\n",
    "        terminal_date: date\n",
    "\n",
    "        for asset_id in self.equity_share:\n",
    "            equity_share = self.equity_share[asset_id]\n",
    "            #terminal_amount = equity_share.notional_amount\n",
    "            terminal_amount = 1\n",
    "            terminal_date = end_date\n",
    "            if terminal_date in terminals:\n",
    "                terminals[terminal_date] = terminal_amount + terminals[terminal_date]\n",
    "            else:\n",
    "                maturities.update({maturity_date:maturity_amount})\n",
    "        return maturities\n"
   ]
  },
  {
   "cell_type": "code",
   "execution_count": 23,
   "id": "93945455",
   "metadata": {},
   "outputs": [],
   "source": [
    "# Check equity construction\n",
    "asset_id = 1\n",
    "nace = \"A.1.2\"\n",
    "issuer = \"Open Source Modelling\"\n",
    "buy_date = date(2015, 12, 1)\n",
    "dividend_yield = 0.03\n",
    "frequency = Frequency.QUARTERLY\n",
    "market_price = 12.6\n",
    "\n",
    "test_share_1 = EquityShare(asset_id = asset_id, nace= nace,\n",
    "    issuer= issuer\n",
    "    ,buy_date= buy_date\n",
    "    ,dividend_yield= dividend_yield\n",
    "    ,frequency= frequency\n",
    "    ,market_price= market_price\n",
    ")\n",
    "\n",
    "assert test_share_1.asset_id == asset_id\n",
    "assert test_share_1.nace == nace\n",
    "assert test_share_1.issuer == issuer\n",
    "assert test_share_1.buy_date == buy_date\n",
    "assert test_share_1.dividend_yield == dividend_yield\n",
    "\n",
    "\n",
    "\n",
    "\n",
    "\n"
   ]
  },
  {
   "cell_type": "code",
   "execution_count": null,
   "id": "a9cb83a9",
   "metadata": {},
   "outputs": [],
   "source": []
  },
  {
   "cell_type": "code",
   "execution_count": 11,
   "id": "9462a3fd",
   "metadata": {},
   "outputs": [],
   "source": [
    "# Test is Portfolio constructor\n",
    "a = EquitySharePortfolio()\n"
   ]
  },
  {
   "cell_type": "code",
   "execution_count": 20,
   "id": "9ce584ed",
   "metadata": {},
   "outputs": [],
   "source": []
  },
  {
   "cell_type": "code",
   "execution_count": 12,
   "id": "045659e5",
   "metadata": {},
   "outputs": [],
   "source": [
    "#test_Not_IsEmpty\n",
    "b = EquitySharePortfolio({test_share_1.asset_id: test_share_1}) "
   ]
  },
  {
   "cell_type": "code",
   "execution_count": null,
   "id": "ce9f2406",
   "metadata": {},
   "outputs": [],
   "source": []
  },
  {
   "cell_type": "code",
   "execution_count": 13,
   "id": "48f77aa4",
   "metadata": {},
   "outputs": [
    {
     "data": {
      "text/plain": [
       "True"
      ]
     },
     "execution_count": 13,
     "metadata": {},
     "output_type": "execute_result"
    }
   ],
   "source": [
    "# test_add_to_empty_portfolio\n",
    "equity_share_portfolio = EquitySharePortfolio()\n",
    "equity_share_portfolio.add(test_share_1)\n",
    "\n",
    "# isEmpty?\n",
    "equity_share_portfolio.IsEmpty()\n",
    "\n",
    "# Only one equity in ptf\n",
    "len(equity_share_portfolio.equity_share)\n",
    "\n",
    "# Is equity identified by asset id equal to the input equity object\n",
    "equity_share_portfolio.equity_share[test_share_1.asset_id] == test_share_1\n",
    "\n",
    "test_share_1.asset_id in equity_share_portfolio.equity_share\n"
   ]
  },
  {
   "cell_type": "code",
   "execution_count": 14,
   "id": "2466d865",
   "metadata": {
    "scrolled": true
   },
   "outputs": [
    {
     "data": {
      "text/plain": [
       "True"
      ]
     },
     "execution_count": 14,
     "metadata": {},
     "output_type": "execute_result"
    }
   ],
   "source": [
    "# test_add_to_non_empty_portfolio\n",
    "\n",
    "equity_share_portfolio = EquitySharePortfolio()\n",
    "equity_share_portfolio.add(test_share_1)\n",
    "equity_share_portfolio.add(test_share_2)\n",
    "equity_share_portfolio.add(test_share_3)\n",
    "\n",
    "len(equity_share_portfolio.equity_share)\n",
    "\n",
    "test_share_3.asset_id in equity_share_portfolio.equity_share"
   ]
  },
  {
   "cell_type": "code",
   "execution_count": 16,
   "id": "f6462a47",
   "metadata": {},
   "outputs": [],
   "source": [
    "#test_create_dividend_dates_single_bond(test_share_1):\n",
    "equity_share_portfolio = EquitySharePortfolio()\n",
    "equity_share_portfolio.add(test_share_1)\n",
    "modelling_date = date(2023, 6, 1)\n",
    "end_date = date(2023+50, 6, 1)\n",
    "dividend_dates = equity_share_portfolio.create_dividend_dates(modelling_date, end_date)\n",
    "\n",
    "assert date(2023, 6, 1) in dividend_dates\n",
    "assert date(2023, 9, 1) in dividend_dates\n",
    "assert date(2023, 12, 1) in dividend_dates\n",
    "#assert test_share_1.maturity_date in dividend_dates  # TODO: Check that a final coupon should be paid at maturity\n",
    "assert dividend_dates[date(2023, 6, 1)] == test_share_1.dividend_amount\n"
   ]
  },
  {
   "cell_type": "code",
   "execution_count": 17,
   "id": "d63dde03",
   "metadata": {},
   "outputs": [
    {
     "data": {
      "text/plain": [
       "True"
      ]
     },
     "execution_count": 17,
     "metadata": {},
     "output_type": "execute_result"
    }
   ],
   "source": []
  }
 ],
 "metadata": {
  "kernelspec": {
   "display_name": "Python 3 (ipykernel)",
   "language": "python",
   "name": "python3"
  },
  "language_info": {
   "codemirror_mode": {
    "name": "ipython",
    "version": 3
   },
   "file_extension": ".py",
   "mimetype": "text/x-python",
   "name": "python",
   "nbconvert_exporter": "python",
   "pygments_lexer": "ipython3",
   "version": "3.9.7"
  }
 },
 "nbformat": 4,
 "nbformat_minor": 5
}
