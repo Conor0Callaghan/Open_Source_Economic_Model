{
 "cells": [
  {
   "cell_type": "code",
   "execution_count": 179,
   "id": "6e487a1b",
   "metadata": {},
   "outputs": [],
   "source": [
    "import numpy as np\n",
    "import pandas as pd\n",
    "import csv\n",
    "#from EquityClasses import EquityShare\n",
    "from datetime import datetime\n",
    "from datetime import datetime as dt, timedelta\n",
    "from datetime import date\n",
    "from enum import IntEnum\n",
    "from dataclasses import dataclass\n",
    "from dateutil.relativedelta import relativedelta\n",
    "from typing import List, Dict, Any"
   ]
  },
  {
   "cell_type": "markdown",
   "id": "84507b2a",
   "metadata": {},
   "source": [
    "Frequency class represents the frequency of dividend payments. Assumed to be constant"
   ]
  },
  {
   "cell_type": "code",
   "execution_count": 180,
   "id": "4b2dbbc8",
   "metadata": {},
   "outputs": [],
   "source": [
    "class Frequency(IntEnum):\n",
    "    ANNUAL = 1\n",
    "    BIANNUAL = 2\n",
    "    TRIANNUAL = 3\n",
    "    QUARTERLY = 4\n",
    "    MONTHLY = 12"
   ]
  },
  {
   "cell_type": "markdown",
   "id": "c996e125",
   "metadata": {},
   "source": [
    "EquityShare class represents a single equity position on the balance sheet at the modelling date."
   ]
  },
  {
   "cell_type": "code",
   "execution_count": 181,
   "id": "0ce435f2",
   "metadata": {},
   "outputs": [],
   "source": [
    "@dataclass\n",
    "class EquityShare:\n",
    "    asset_id: int\n",
    "    nace: str\n",
    "    issuer: str\n",
    "    issue_date: date\n",
    "    dividend_yield: float\n",
    "    frequency: Frequency\n",
    "    market_price: float\n",
    "    growth_rate: float\n",
    "\n",
    "    @property\n",
    "    def dividend_amount(self, market_value: float) -> float:\n",
    "        return market_value * self.dividend_yield # Probably needs to be removed\n",
    "    \n",
    "    def terminal_amount(self, market_value: float, growth_rate: float, terminal_rate: float) -> float:\n",
    "        return market_value/(terminal_rate-growth_rate)\n",
    "    \n",
    "    def generate_dividend_dates(self, modelling_date: date, end_date: date) -> date:\n",
    "        \"\"\"\n",
    "        Generator yielding the dividend payment date starting from the first dividend\n",
    "        paid after the modelling date. \n",
    "        \n",
    "        :type modelling_date: date\n",
    "        :type end_date: date\n",
    "        \n",
    "        \"\"\"\n",
    "        delta = relativedelta(months=(12 // self.frequency))\n",
    "        this_date = self.issue_date - delta\n",
    "        while this_date < end_date:  # Coupon payment dates\n",
    "            this_date = this_date + delta\n",
    "            if this_date < modelling_date: #Not interested in past payments\n",
    "                continue\n",
    "            if this_date <= end_date:\n",
    "                yield this_date # ? What is the advantage of yield here?"
   ]
  },
  {
   "cell_type": "markdown",
   "id": "49d48e43",
   "metadata": {},
   "source": [
    "GetEquityShare generator imports the portfolio of equities from the csv file and correctly saves them in the EquityShare objects."
   ]
  },
  {
   "cell_type": "code",
   "execution_count": 182,
   "id": "50e1345b",
   "metadata": {},
   "outputs": [],
   "source": [
    "def GetEquityShare(filename:str) -> EquityShare:\n",
    "    \"\"\"\n",
    "    :type filename: str\n",
    "    \"\"\"\n",
    "\n",
    "    with open(filename, mode=\"r\", encoding=\"utf-8-sig\") as csvfile:\n",
    "        reader = csv.DictReader(csvfile)\n",
    "        for row in reader:\n",
    "            equity_share = EquityShare(asset_id=int(row[\"Asset_ID\"]),\n",
    "                             nace=row[\"NACE\"],\n",
    "                             issuer=None,\n",
    "                             issue_date=datetime.strptime(row[\"Issue_Date\"], \"%d/%m/%Y\").date(),\n",
    "                             dividend_yield=float(row[\"Dividend_Yield\"]),\n",
    "                             frequency=int(row[\"Frequency\"]),\n",
    "                             market_price=float(row[\"Market_Price\"]),\n",
    "                             growth_rate= float(row[\"Growth_Rate\"]))\n",
    "            yield equity_share\n",
    "            "
   ]
  },
  {
   "cell_type": "code",
   "execution_count": 183,
   "id": "cccf8242",
   "metadata": {},
   "outputs": [],
   "source": [
    "class EquitySharePortfolio():\n",
    "    def __init__(self, equity_share: dict[int,EquityShare] = None):\n",
    "        \"\"\"\n",
    "\n",
    "        :type equity_share: dict[int,EquityShare]\n",
    "        \"\"\"\n",
    "        self.equity_share = equity_share\n",
    "\n",
    "    def IsEmpty(self)-> bool:\n",
    "        if self.equity_share == None:\n",
    "            return True\n",
    "        if len(self.equity_share) == 0:\n",
    "            return True\n",
    "        return False\n",
    "\n",
    "    def add(self, equity_share: EquityShare) :\n",
    "        \"\"\"\n",
    "\n",
    "        :type equity_share: EquityShare\n",
    "        \"\"\"\n",
    "        if self.equity_share == None:\n",
    "            self.equity_share = {equity_share.asset_id: equity_share}\n",
    "        else:\n",
    "            self.equity_share.update({equity_share.asset_id: equity_share})\n",
    "\n",
    "\n",
    "\n",
    "    def create_dividend_dates(self, modelling_date: date, end_date: date)->dict:\n",
    "        \"\"\"\n",
    "        Create the vector of dates at which the dividends are paid out and the total amounts for\n",
    "        all equity shares in the portfolio, for dates on or after the modelling date.\n",
    "\n",
    "        Parameters\n",
    "        ----------\n",
    "        self : EquitySharePortfolio class instance\n",
    "            The EquitySharePortfolio instance with populated initial portfolio.\n",
    "        :type modelling_date: date\n",
    "        :type end_date: date\n",
    "\n",
    "        Returns\n",
    "        -------\n",
    "        all_dividends\n",
    "            An array of arrays of datetimes, containing all the dates at which the coupons are paid out.\n",
    "\n",
    "        \"\"\"\n",
    "        all_dividends = np.array([])\n",
    "        dividends: dict[date, float] = {}\n",
    "        equity_share: EquityShare\n",
    "        dividend_date: date\n",
    "        for asset_id in self.equity_share:\n",
    "            equity_share = self.equity_share[asset_id] # Select one asset position\n",
    "            dividend_amount = 0\n",
    "            for dividend_date in equity_share.generate_dividend_dates(modelling_date, end_date):\n",
    "                if dividend_date in dividends: # If two cash flows on same date\n",
    "                    pass\n",
    "                    # Do nothing since dividend amounts are calibrated afterwards for equity\n",
    "                    #dividends[dividend_date] = dividend_amount + dividends[dividend_date] # ? Why is here a plus? (you agregate coupon amounts if same date?)\n",
    "                else: # New cash flow date\n",
    "                    dividends.update({dividend_date:dividend_amount})\n",
    "            all_dividends = np.append(all_dividends, np.array(dividends))\n",
    "        return all_dividends\n",
    "\n",
    "    def create_terminal_cashflow(self, modelling_date: date, end_date: date) -> dict:\n",
    "        \"\"\"\n",
    "        self : EquitySharePortfolio class instance\n",
    "            The EquitySharePortfolio instance with populated initial portfolio.\n",
    "        :type modelling_date: date\n",
    "        :type end_date: date\n",
    "\n",
    "        :rtype: dict\n",
    "        \"\"\"\n",
    "        all_terminals = np.array([])\n",
    "        terminals: dict[date, float] = {}\n",
    "        equity_share: EquityShare\n",
    "        terminal_date: date\n",
    "\n",
    "        for asset_id in self.equity_share:\n",
    "            equity_share = self.equity_share[asset_id]\n",
    "            \n",
    "            terminal_amount = 0\n",
    "            terminal_date = end_date\n",
    "            if terminal_date in terminals:\n",
    "                pass\n",
    "                # Do nothing since dividend amounts are calibrated afterwards for equity\n",
    "                #terminals[terminal_date] = terminal_amount + terminals[terminal_date]\n",
    "            else:\n",
    "                terminals.update({maturity_date:maturity_amount})\n",
    "            all_terminals = np.append(all_terminals,np.array(terminals))\n",
    "        return all_terminals\n"
   ]
  },
  {
   "cell_type": "code",
   "execution_count": 184,
   "id": "f2ff4d7b",
   "metadata": {},
   "outputs": [],
   "source": [
    "# Check equity construction\n",
    "asset_id = 1\n",
    "nace = \"A.1.2\"\n",
    "issuer = \"Open Source Modelling\"\n",
    "issue_date = date(2015, 12, 1)\n",
    "dividend_yield = 0.03\n",
    "frequency = Frequency.QUARTERLY\n",
    "market_price = 12.6\n",
    "growth_rate = 0.02\n",
    "\n",
    "test_share_1 = EquityShare(asset_id = asset_id, nace= nace,\n",
    "    issuer= issuer\n",
    "    ,issue_date= issue_date\n",
    "    ,dividend_yield= dividend_yield\n",
    "    ,frequency= frequency\n",
    "    ,market_price= market_price\n",
    "    ,growth_rate = growth_rate\n",
    ")\n",
    "\n",
    "assert test_share_1.asset_id == asset_id\n",
    "assert test_share_1.nace == nace\n",
    "assert test_share_1.issuer == issuer\n",
    "assert test_share_1.issue_date == issue_date\n",
    "assert test_share_1.dividend_yield == dividend_yield\n",
    "assert test_share_1.frequency == frequency\n",
    "assert test_share_1.market_price == market_price\n",
    "assert test_share_1.growth_rate == growth_rate"
   ]
  },
  {
   "cell_type": "code",
   "execution_count": 185,
   "id": "1266d127",
   "metadata": {},
   "outputs": [],
   "source": [
    "test_share_2 = EquityShare(asset_id= 2, nace= \"A.3.1\",\n",
    "    issuer= \"Test Issuer\"\n",
    "    ,issue_date= date(2016, 7, 1)\n",
    "    ,dividend_yield= 0.04\n",
    "    ,frequency= Frequency.MONTHLY\n",
    "    ,market_price= 102.1\n",
    "    ,growth_rate = 0.04\n",
    ")"
   ]
  },
  {
   "cell_type": "code",
   "execution_count": 186,
   "id": "80b3db92",
   "metadata": {},
   "outputs": [],
   "source": [
    "test_share_3 = EquityShare(asset_id= 3, nace= \"B.12\",\n",
    "    issuer= \"Test Issuer\"\n",
    "    ,issue_date= date(2020, 5, 2)\n",
    "    ,dividend_yield= 0.012\n",
    "    ,frequency= Frequency.TRIANNUAL\n",
    "    ,market_price= 102\n",
    "    ,growth_rate = 0.01\n",
    ")"
   ]
  },
  {
   "cell_type": "code",
   "execution_count": 187,
   "id": "9462a3fd",
   "metadata": {},
   "outputs": [],
   "source": [
    "# Test is Portfolio constructor\n",
    "a = EquitySharePortfolio()"
   ]
  },
  {
   "cell_type": "code",
   "execution_count": 188,
   "id": "457399f6",
   "metadata": {},
   "outputs": [],
   "source": [
    "test_equity_import = GetEquityShare(\"Input\\Equity_Portfolio_test.csv\")"
   ]
  },
  {
   "cell_type": "code",
   "execution_count": 189,
   "id": "045659e5",
   "metadata": {},
   "outputs": [],
   "source": [
    "#test_Not_IsEmpty\n",
    "b = EquitySharePortfolio({test_share_1.asset_id: test_share_1}) "
   ]
  },
  {
   "cell_type": "code",
   "execution_count": 190,
   "id": "48f77aa4",
   "metadata": {},
   "outputs": [
    {
     "data": {
      "text/plain": [
       "True"
      ]
     },
     "execution_count": 190,
     "metadata": {},
     "output_type": "execute_result"
    }
   ],
   "source": [
    "# test_add_to_empty_portfolio\n",
    "equity_share_portfolio = EquitySharePortfolio()\n",
    "equity_share_portfolio.add(test_share_1)\n",
    "\n",
    "# isEmpty?\n",
    "equity_share_portfolio.IsEmpty()\n",
    "\n",
    "# Only one equity in ptf\n",
    "len(equity_share_portfolio.equity_share)\n",
    "\n",
    "# Is equity identified by asset id equal to the input equity object\n",
    "equity_share_portfolio.equity_share[test_share_1.asset_id] == test_share_1\n",
    "\n",
    "test_share_1.asset_id in equity_share_portfolio.equity_share\n"
   ]
  },
  {
   "cell_type": "code",
   "execution_count": 191,
   "id": "2466d865",
   "metadata": {
    "scrolled": true
   },
   "outputs": [
    {
     "data": {
      "text/plain": [
       "True"
      ]
     },
     "execution_count": 191,
     "metadata": {},
     "output_type": "execute_result"
    }
   ],
   "source": [
    "# test_add_to_non_empty_portfolio\n",
    "\n",
    "equity_share_portfolio = EquitySharePortfolio()\n",
    "equity_share_portfolio.add(test_share_1)\n",
    "equity_share_portfolio.add(test_share_2)\n",
    "equity_share_portfolio.add(test_share_3)\n",
    "\n",
    "len(equity_share_portfolio.equity_share)\n",
    "\n",
    "test_share_3.asset_id in equity_share_portfolio.equity_share"
   ]
  },
  {
   "cell_type": "code",
   "execution_count": 192,
   "id": "f6462a47",
   "metadata": {},
   "outputs": [],
   "source": [
    "#test_create_dividend_dates_single_bond(test_share_1):\n",
    "equity_share_portfolio = EquitySharePortfolio()\n",
    "equity_share_portfolio.add(test_share_1)\n",
    "modelling_date = date(2023, 6, 1)\n",
    "end_date = date(2023+50, 6, 1)\n",
    "dividend_dates = equity_share_portfolio.create_dividend_dates(modelling_date, end_date)\n",
    "\n",
    "assert date(2023, 6, 1) in dividend_dates[0]\n",
    "assert date(2023, 9, 1) in dividend_dates[0]\n",
    "assert date(2023, 12, 1) in dividend_dates[0]\n",
    "assert dividend_dates[0][date(2023, 6, 1)] == 0\n"
   ]
  },
  {
   "cell_type": "code",
   "execution_count": 193,
   "id": "ab27dcb5",
   "metadata": {
    "scrolled": true
   },
   "outputs": [],
   "source": [
    "# Calculate dividend dates for 2 shares\n",
    "equity_share_portfolio = EquitySharePortfolio()\n",
    "equity_share_portfolio.add(test_share_1)\n",
    "equity_share_portfolio.add(test_share_2)\n",
    "modelling_date = date(2023, 6, 1)\n",
    "end_date = date(2023+50, 6, 1)\n",
    "dividend_dates = equity_share_portfolio.create_dividend_dates(modelling_date, end_date)\n",
    "equity_share_portfolio.dividend_dates = dividend_dates\n",
    "\n",
    "assert date(2023, 6, 1) in dividend_dates[0]\n",
    "assert dividend_dates[0][date(2023, 6, 1)] == 0\n",
    "assert date(2023, 7, 1) in dividend_dates[0]\n",
    "assert date(2023, 7, 1) in dividend_dates[1]"
   ]
  },
  {
   "cell_type": "code",
   "execution_count": 197,
   "id": "9ce0084d",
   "metadata": {},
   "outputs": [
    {
     "data": {
      "text/plain": [
       "dict"
      ]
     },
     "execution_count": 197,
     "metadata": {},
     "output_type": "execute_result"
    }
   ],
   "source": [
    "type(dividend_dates[0])"
   ]
  },
  {
   "cell_type": "code",
   "execution_count": 195,
   "id": "6f6967e8",
   "metadata": {},
   "outputs": [],
   "source": [
    "def create_dividend_fractions(obj, modelling_date)->dict:\n",
    "    \"\"\"\n",
    "    Create the vector of year fractions at which the dividends are paid out and the total amounts for\n",
    "    all equity shares in the portfolio, for dates on or after the modelling date\n",
    "\n",
    "    Parameters\n",
    "    ----------\n",
    "    self : EquitySharePortfolio class instance\n",
    "        The EquitySharePortfolio instance with populated initial portfolio.\n",
    "\n",
    "    Returns\n",
    "    -------\n",
    "    EquityShare.dividendfrac\n",
    "        An array of flats, containing all the date fractions at which the dividends are paid out.\n",
    "\n",
    "    \"\"\"        \n",
    "\n",
    "    # other counting conventions MISSING\n",
    "\n",
    "    n_equity = len(obj.equity_share)  # Number of assets in the bond portfolio\n",
    "\n",
    "    # Data structures list of lists for dividend payments\n",
    "    all_date_frac = (\n",
    "        []\n",
    "    )  # this will save the date fractions of dividends for the portfolio\n",
    "    all_dates_considered = (\n",
    "        []\n",
    "    )  # this will save if a cash flow is already expired before the modelling date in the portfolio\n",
    "\n",
    "    # Data structure list of lists for terminal amount repayment\n",
    "    all_dividend_date_frac = (\n",
    "        []\n",
    "    )  # this will save the date fractions of terminal value repayment for the portfolio\n",
    "    all_dividend_dates_considered = (\n",
    "        []\n",
    "    )  # this will save if a bond is already expired before the modelling date in the portfolio\n",
    "\n",
    "    for i_equity in range(0, n_equity):  # For each equity in the current portfolio\n",
    "        # Reset objects for the next asset\n",
    "        equity_date_frac = np.array(\n",
    "            []\n",
    "        )  # this will save date fractions of dividends of a single asset\n",
    "        equity_dates_considered = np.array(\n",
    "            []\n",
    "        )  # this will save the boolean, if the dividend date is after the modelling date\n",
    "\n",
    "        equity_terminal_date_frac = np.array(\n",
    "            []\n",
    "        ) # this will save date fractions of terminal sale of a single equity\n",
    "        equity_terminal_dates_considered = np.array(\n",
    "            []\n",
    "        )  # this will save the boolean, if the terminal sale date is after the modelling date\n",
    "\n",
    "        dividend_counter = 0  # Counter of future dividend cash flows initialized to 0\n",
    "\n",
    "        date_new = (\n",
    "            obj.dividend_dates[i_equity] - modelling_date\n",
    "        )  # calculate the time difference between the dividend dates and modelling date using vector substraction\n",
    "\n",
    "        for one_dividend_date in datenew:  # for each coupon date of the selected bond\n",
    "            if one_dividend_date.days > 0:  # coupon date is after the modelling date\n",
    "                equity_date_frac = np.append(\n",
    "                    equity_date_frac, one_dividend_date.days / 365.25\n",
    "                )  # append date fraction\n",
    "                equity_dates_considered = np.append(\n",
    "                    equity_dates_considered, int(dividend_counter)\n",
    "                )  # append \"is after modelling date\" flag\n",
    "            dividend_counter += 1\n",
    "            # else skip\n",
    "        all_date_frac.append(\n",
    "            equity_date_frac\n",
    "        )  # append what fraction of the date is each cash flow compared to the modelling date\n",
    "        all_dates_considered.append(\n",
    "            equity_dates_considered.astype(int)\n",
    "        )  # append which cash flows are after the modelling date\n",
    "\n",
    "        # Calculate if the terminal sale date is before the modelling date\n",
    "        asset_calc_terminal_datefrac = (\n",
    "            obj.terminal_dates[i_equity] - modelling_date\n",
    "        )  # calculate the time difference between the terminal sale date and modelling date\n",
    "\n",
    "        if (\n",
    "            asset_calc_terminal_date_frac[0].days > 0\n",
    "        ):  # if terminal sale date is after modelling date\n",
    "            equity_terminal_date_frac = np.append(\n",
    "                equity_terminal_date_frac, asset_calc_terminal_date_frac[0].days / 365.25\n",
    "            )  # append date fraction\n",
    "            equity_terminal_dates_considered = np.append(\n",
    "                equity_terminal_dates_considered, int(1)\n",
    "            )  # append \"is after modelling date\" flag\n",
    "        # else skip\n",
    "        all_dividend_date_frac.append(\n",
    "            equity_terminal_datefrac\n",
    "        )  # append what fraction of the date is each cash flow compared to the modelling date\n",
    "        all_dividend_dates_considered.append(\n",
    "            equity_terminal_dates_considered.astype(int)\n",
    "        )  # append which cash flows are after the modelling date\n",
    "\n",
    "    # Save coupon related data structures into the object\n",
    "    obj.dividend_dates_frac = all_date_frac\n",
    "    obj.dates_considered = all_dates_considered\n",
    "\n",
    "    # Save terminal sale related data structures into the object\n",
    "    obj.terminal_dates_frac = all_dividend_date_frac\n",
    "    obj.dates_considerednot = all_dividend_dates_considered\n",
    "\n",
    "    return [\n",
    "        all_date_frac,\n",
    "        all_dates_considered,\n",
    "        all_dividend_date_frac,\n",
    "        all_dividend_dates_considered,\n",
    "    ]  # return all generated data structures (for now)\n",
    "\n",
    "\n"
   ]
  },
  {
   "cell_type": "code",
   "execution_count": 196,
   "id": "bc33d73d",
   "metadata": {},
   "outputs": [
    {
     "ename": "TypeError",
     "evalue": "unsupported operand type(s) for -: 'dict' and 'datetime.date'",
     "output_type": "error",
     "traceback": [
      "\u001b[1;31m---------------------------------------------------------------------------\u001b[0m",
      "\u001b[1;31mTypeError\u001b[0m                                 Traceback (most recent call last)",
      "\u001b[1;32m~\\AppData\\Local\\Temp/ipykernel_12220/4227232210.py\u001b[0m in \u001b[0;36m<module>\u001b[1;34m\u001b[0m\n\u001b[1;32m----> 1\u001b[1;33m \u001b[0mcreate_dividend_fractions\u001b[0m\u001b[1;33m(\u001b[0m\u001b[0mequity_share_portfolio\u001b[0m\u001b[1;33m,\u001b[0m \u001b[0mmodelling_date\u001b[0m\u001b[1;33m)\u001b[0m\u001b[1;33m\u001b[0m\u001b[1;33m\u001b[0m\u001b[0m\n\u001b[0m",
      "\u001b[1;32m~\\AppData\\Local\\Temp/ipykernel_12220/3207228288.py\u001b[0m in \u001b[0;36mcreate_dividend_fractions\u001b[1;34m(obj, modelling_date)\u001b[0m\n\u001b[0;32m     55\u001b[0m \u001b[1;33m\u001b[0m\u001b[0m\n\u001b[0;32m     56\u001b[0m         date_new = (\n\u001b[1;32m---> 57\u001b[1;33m             \u001b[0mobj\u001b[0m\u001b[1;33m.\u001b[0m\u001b[0mdividend_dates\u001b[0m\u001b[1;33m[\u001b[0m\u001b[0mi_equity\u001b[0m\u001b[1;33m]\u001b[0m \u001b[1;33m-\u001b[0m \u001b[0mmodelling_date\u001b[0m\u001b[1;33m\u001b[0m\u001b[1;33m\u001b[0m\u001b[0m\n\u001b[0m\u001b[0;32m     58\u001b[0m         )  # calculate the time difference between the dividend dates and modelling date using vector substraction\n\u001b[0;32m     59\u001b[0m \u001b[1;33m\u001b[0m\u001b[0m\n",
      "\u001b[1;31mTypeError\u001b[0m: unsupported operand type(s) for -: 'dict' and 'datetime.date'"
     ]
    }
   ],
   "source": [
    "create_dividend_fractions(equity_share_portfolio, modelling_date)"
   ]
  },
  {
   "cell_type": "markdown",
   "id": "b496d527",
   "metadata": {},
   "source": [
    "Question 1: Why did you put all date fractions in a single dimension list?\n",
    "Question 2: Is it worth using numpy arrays so that we can do vector substractions?"
   ]
  },
  {
   "cell_type": "code",
   "execution_count": null,
   "id": "1f7e02e9",
   "metadata": {},
   "outputs": [],
   "source": []
  }
 ],
 "metadata": {
  "kernelspec": {
   "display_name": "Python 3 (ipykernel)",
   "language": "python",
   "name": "python3"
  },
  "language_info": {
   "codemirror_mode": {
    "name": "ipython",
    "version": 3
   },
   "file_extension": ".py",
   "mimetype": "text/x-python",
   "name": "python",
   "nbconvert_exporter": "python",
   "pygments_lexer": "ipython3",
   "version": "3.9.7"
  }
 },
 "nbformat": 4,
 "nbformat_minor": 5
}
