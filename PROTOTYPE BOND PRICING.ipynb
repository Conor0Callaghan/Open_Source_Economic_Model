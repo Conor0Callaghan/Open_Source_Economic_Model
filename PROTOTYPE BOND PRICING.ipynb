{
 "cells": [
  {
   "cell_type": "code",
   "execution_count": 1,
   "id": "e29a2cf6",
   "metadata": {},
   "outputs": [],
   "source": [
    "import datetime as dt\n",
    "import numpy as np\n",
    "import pandas as pd"
   ]
  },
  {
   "cell_type": "code",
   "execution_count": 2,
   "id": "2e0acb43",
   "metadata": {},
   "outputs": [],
   "source": [
    "from Curves import Curves\n",
    "from ImportData import importSWEiopa\n",
    "from BondClasses import ZeroCouponBond,ZeroCouponBondPriced"
   ]
  },
  {
   "cell_type": "code",
   "execution_count": 3,
   "id": "254b915a",
   "metadata": {},
   "outputs": [],
   "source": [
    "paramfile = pd.read_csv(\"Parameters.csv\")\n",
    "paramfile.index = paramfile[\"Parameter\"]\n",
    "del paramfile[\"Parameter\"]"
   ]
  },
  {
   "attachments": {},
   "cell_type": "markdown",
   "id": "f63679bb",
   "metadata": {},
   "source": [
    "# IMPORT EIOPA CURVE"
   ]
  },
  {
   "cell_type": "code",
   "execution_count": 4,
   "id": "740cf9a9",
   "metadata": {},
   "outputs": [],
   "source": [
    "selected_param_file = paramfile.loc[\"EIOPA_param_file\"][0]\n",
    "selected_curves_file = paramfile.loc[\"EIOPA_curves_file\"][0]\n",
    "country = paramfile.loc[\"country\"][\"value\"]\n",
    "compounding = int(paramfile.loc[\"compounding\"][\"value\"])\n",
    "\n",
    "# Model parameters\n",
    "MD = dt.datetime.strptime(paramfile.loc[\"Modelling_Date\"][\"value\"],\"%d/%m/%Y\")\n",
    "MD = dt.date(MD.year,MD.month,MD.day)\n",
    "\n",
    "[maturities_country, curve_country, extra_param, Qb]= importSWEiopa(selected_param_file, selected_curves_file, country)"
   ]
  },
  {
   "cell_type": "code",
   "execution_count": 5,
   "id": "2f43c801",
   "metadata": {},
   "outputs": [],
   "source": [
    "# Maturity of observations:\n",
    "M_Obs = np.transpose(np.array(maturities_country.values))\n",
    "\n",
    "# Ultimate froward rate ufr represents the rate to which the rate curve will converge as time increases:\n",
    "ufr = extra_param.iloc[3]/100\n",
    "\n",
    "# Convergence speed parameter alpha controls the speed at which the curve converges towards the ufr from the last liquid point:\n",
    "alpha = extra_param.iloc[4]\n",
    "\n",
    "# Qb calibration vector published by EIOPA for the curve calibration:\n",
    "Qb = np.transpose(np.array(Qb.values))"
   ]
  },
  {
   "attachments": {},
   "cell_type": "markdown",
   "id": "4fa2d76f",
   "metadata": {},
   "source": [
    "# PRICING OF A COUPON BOND"
   ]
  },
  {
   "cell_type": "code",
   "execution_count": 6,
   "id": "7283c63d",
   "metadata": {},
   "outputs": [],
   "source": [
    "# Example bond\n",
    "nAsset = 2\n",
    "issuedate = np.array([dt.date(2021,12,3),dt.date(2021,12,3),dt.date(2019,12,3)])\n",
    "maturitydate = np.array([dt.date(2026,12,12),dt.date(2028,12,12),dt.date(2020,12,3)])\n",
    "notional = np.array([100,100,100])\n",
    "couponrate = np.array([0.03, 0.05,0.04])\n",
    "frequency = np.array([1, 1, 1])\n",
    "recovrate = np.array([0.4, 0.4,0.4]) \n",
    "defprob =np.array([0.03, 0.03,0.04]) \n",
    "zspread = np.array([0.008, 0.008,0.005])"
   ]
  },
  {
   "cell_type": "code",
   "execution_count": 7,
   "id": "2d7fb75f",
   "metadata": {},
   "outputs": [],
   "source": [
    "zcb = ZeroCouponBond(issuedate, maturitydate, frequency, notional, couponrate, recovrate, defprob, zspread)"
   ]
  },
  {
   "cell_type": "code",
   "execution_count": 8,
   "id": "b50ee567",
   "metadata": {},
   "outputs": [],
   "source": [
    "zcb.createcashflows()"
   ]
  },
  {
   "cell_type": "code",
   "execution_count": 9,
   "id": "537c1720",
   "metadata": {},
   "outputs": [],
   "source": [
    "zcbPriced = ZeroCouponBondPriced(MD,zspread,compounding)"
   ]
  },
  {
   "cell_type": "code",
   "execution_count": 10,
   "id": "4f566cf5",
   "metadata": {},
   "outputs": [],
   "source": [
    "[coupondatesconsidered,coupondatefrac] = zcbPriced.refactordates(zcb.coupondates,MD)\n",
    "[notionaldatesconsidered,notionaldatefrac] = zcbPriced.refactordates(zcb.notionaldates,MD)"
   ]
  },
  {
   "cell_type": "code",
   "execution_count": 11,
   "id": "3a2cf658",
   "metadata": {},
   "outputs": [],
   "source": [
    "# Numeric precision of the optimisation\n",
    "Precision = float(paramfile.loc[\"Precision\"][0])\n",
    "\n",
    "# Targeted distance between the extrapolated curve and the ultimate forward rate at the convergence point\n",
    "Tau = float(paramfile.loc[\"Tau\"][0])# 1 basis point\n",
    "\n",
    "Country = paramfile.loc[\"country\"]\n",
    "\n",
    "InitialDate = paramfile.loc[\"Modelling_Date\"]\n",
    "\n",
    "Curves = Curves(ufr, Precision, Tau, InitialDate, Country)"
   ]
  },
  {
   "cell_type": "code",
   "execution_count": 12,
   "id": "9021e186",
   "metadata": {},
   "outputs": [],
   "source": [
    "coupontargetrates = []\n",
    "notionaltargetrates = []\n",
    "\n",
    "for iAsset in range(0,nAsset):\n",
    "\n",
    "    if not notionaldatesconsidered:\n",
    "       print(\"This bond has matured\") \n",
    "    else: \n",
    "        coupontargetrates.append(Curves.SWExtrapolate(np.transpose(coupondatefrac[iAsset]),M_Obs, Qb, ufr, alpha))\n",
    "        notionaltargetrates.append(Curves.SWExtrapolate(np.transpose(notionaldatefrac[iAsset]),M_Obs, Qb, ufr, alpha))\n",
    "        zcbPriced.coupondatefrac.append(np.transpose(coupondatefrac[iAsset]))\n",
    "        zcbPriced.notionaldatefrac.append(np.transpose(notionaldatefrac[iAsset]))\n",
    "        zcbPriced.couponcfs.append(zcb.couponcfs[iAsset][coupondatesconsidered[iAsset]])\n",
    "        zcbPriced.notionalcfs.append(zcb.notionalcfs[iAsset])"
   ]
  },
  {
   "attachments": {},
   "cell_type": "markdown",
   "id": "4463a0b1",
   "metadata": {},
   "source": [
    "Remove cashflows that are not considered"
   ]
  },
  {
   "cell_type": "code",
   "execution_count": 13,
   "id": "6320842d",
   "metadata": {},
   "outputs": [],
   "source": [
    "zcbPriced.PriceBond(coupontargetrates,notionaltargetrates,coupondatefrac,notionaldatefrac,zcbPriced.couponcfs,zcbPriced.notionalcfs)"
   ]
  },
  {
   "attachments": {},
   "cell_type": "markdown",
   "id": "acd9b9e7",
   "metadata": {},
   "source": [
    "### Restult"
   ]
  },
  {
   "cell_type": "code",
   "execution_count": 14,
   "id": "0c1b4930",
   "metadata": {},
   "outputs": [
    {
     "data": {
      "text/plain": [
       "[array([97.48139803]), array([107.1858606])]"
      ]
     },
     "execution_count": 14,
     "metadata": {},
     "output_type": "execute_result"
    }
   ],
   "source": [
    "zcbPriced.marketprice"
   ]
  }
 ],
 "metadata": {
  "kernelspec": {
   "display_name": "Python 3 (ipykernel)",
   "language": "python",
   "name": "python3"
  },
  "language_info": {
   "codemirror_mode": {
    "name": "ipython",
    "version": 3
   },
   "file_extension": ".py",
   "mimetype": "text/x-python",
   "name": "python",
   "nbconvert_exporter": "python",
   "pygments_lexer": "ipython3",
   "version": "3.9.7"
  }
 },
 "nbformat": 4,
 "nbformat_minor": 5
}
