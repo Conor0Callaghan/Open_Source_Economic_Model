{
 "cells": [
  {
   "cell_type": "code",
   "execution_count": 1,
   "id": "e29a2cf6",
   "metadata": {},
   "outputs": [],
   "source": [
    "import datetime as dt\n",
    "import numpy as np\n",
    "import pandas as pd"
   ]
  },
  {
   "cell_type": "code",
   "execution_count": 2,
   "id": "2e0acb43",
   "metadata": {},
   "outputs": [],
   "source": [
    "from Curves import Curves\n",
    "from ImportData import importSWEiopa\n",
    "from BondClasses import ZeroCouponBond,ZeroCouponBondPriced"
   ]
  },
  {
   "cell_type": "code",
   "execution_count": 3,
   "id": "254b915a",
   "metadata": {},
   "outputs": [],
   "source": [
    "paramfile = pd.read_csv(\"Parameters.csv\")\n",
    "paramfile.index = paramfile[\"Parameter\"]\n",
    "del paramfile[\"Parameter\"]"
   ]
  },
  {
   "attachments": {},
   "cell_type": "markdown",
   "id": "f63679bb",
   "metadata": {},
   "source": [
    "# IMPORT EIOPA CURVE"
   ]
  },
  {
   "cell_type": "code",
   "execution_count": 4,
   "id": "740cf9a9",
   "metadata": {},
   "outputs": [],
   "source": [
    "selected_param_file = paramfile.loc[\"EIOPA_param_file\"][0]\n",
    "selected_curves_file = paramfile.loc[\"EIOPA_curves_file\"][0]\n",
    "country = paramfile.loc[\"country\"][\"value\"]\n",
    "compounding = int(paramfile.loc[\"compounding\"][\"value\"])\n",
    "\n",
    "# Model parameters\n",
    "MD = dt.datetime.strptime(paramfile.loc[\"Modelling_Date\"][\"value\"],\"%d/%m/%Y\")\n",
    "MD = dt.date(MD.year,MD.month,MD.day)\n",
    "\n",
    "[maturities_country, curve_country, extra_param, Qb]= importSWEiopa(selected_param_file, selected_curves_file, country)"
   ]
  },
  {
   "cell_type": "code",
   "execution_count": 5,
   "id": "2f43c801",
   "metadata": {},
   "outputs": [],
   "source": [
    "# Maturity of observations:\n",
    "M_Obs = np.transpose(np.array(maturities_country.values))\n",
    "\n",
    "# Ultimate froward rate ufr represents the rate to which the rate curve will converge as time increases:\n",
    "ufr = extra_param.iloc[3]/100\n",
    "\n",
    "# Convergence speed parameter alpha controls the speed at which the curve converges towards the ufr from the last liquid point:\n",
    "alpha = extra_param.iloc[4]\n",
    "\n",
    "# Qb calibration vector published by EIOPA for the curve calibration:\n",
    "Qb = np.transpose(np.array(Qb.values))"
   ]
  },
  {
   "attachments": {},
   "cell_type": "markdown",
   "id": "4fa2d76f",
   "metadata": {},
   "source": [
    "# PRICING OF A COUPON BOND"
   ]
  },
  {
   "cell_type": "code",
   "execution_count": 6,
   "id": "aa4c924c",
   "metadata": {},
   "outputs": [
    {
     "data": {
      "text/html": [
       "<div>\n",
       "<style scoped>\n",
       "    .dataframe tbody tr th:only-of-type {\n",
       "        vertical-align: middle;\n",
       "    }\n",
       "\n",
       "    .dataframe tbody tr th {\n",
       "        vertical-align: top;\n",
       "    }\n",
       "\n",
       "    .dataframe thead th {\n",
       "        text-align: right;\n",
       "    }\n",
       "</style>\n",
       "<table border=\"1\" class=\"dataframe\">\n",
       "  <thead>\n",
       "    <tr style=\"text-align: right;\">\n",
       "      <th></th>\n",
       "      <th>Asset_Type</th>\n",
       "      <th>Issue_Date</th>\n",
       "      <th>Maturity_Date</th>\n",
       "      <th>Notional_amount</th>\n",
       "      <th>Coupon_Rate</th>\n",
       "      <th>Frequency</th>\n",
       "      <th>Recovery_Rate</th>\n",
       "      <th>Default_Probability</th>\n",
       "      <th>Sector_Spread</th>\n",
       "    </tr>\n",
       "    <tr>\n",
       "      <th>Asset ID</th>\n",
       "      <th></th>\n",
       "      <th></th>\n",
       "      <th></th>\n",
       "      <th></th>\n",
       "      <th></th>\n",
       "      <th></th>\n",
       "      <th></th>\n",
       "      <th></th>\n",
       "      <th></th>\n",
       "    </tr>\n",
       "  </thead>\n",
       "  <tbody>\n",
       "    <tr>\n",
       "      <th>1</th>\n",
       "      <td>Corporate_Bond</td>\n",
       "      <td>3/12/2021</td>\n",
       "      <td>12/12/2026</td>\n",
       "      <td>100</td>\n",
       "      <td>0.03</td>\n",
       "      <td>1</td>\n",
       "      <td>0.4</td>\n",
       "      <td>0.03</td>\n",
       "      <td>0.008</td>\n",
       "    </tr>\n",
       "    <tr>\n",
       "      <th>2</th>\n",
       "      <td>Corporate_Bond</td>\n",
       "      <td>3/12/2021</td>\n",
       "      <td>12/12/2028</td>\n",
       "      <td>100</td>\n",
       "      <td>0.05</td>\n",
       "      <td>1</td>\n",
       "      <td>0.4</td>\n",
       "      <td>0.03</td>\n",
       "      <td>0.008</td>\n",
       "    </tr>\n",
       "    <tr>\n",
       "      <th>3</th>\n",
       "      <td>Corporate_Bond</td>\n",
       "      <td>3/12/2019</td>\n",
       "      <td>3/12/2020</td>\n",
       "      <td>100</td>\n",
       "      <td>0.04</td>\n",
       "      <td>1</td>\n",
       "      <td>0.4</td>\n",
       "      <td>0.03</td>\n",
       "      <td>0.008</td>\n",
       "    </tr>\n",
       "  </tbody>\n",
       "</table>\n",
       "</div>"
      ],
      "text/plain": [
       "              Asset_Type Issue_Date Maturity_Date  Notional_amount  \\\n",
       "Asset ID                                                             \n",
       "1         Corporate_Bond  3/12/2021    12/12/2026              100   \n",
       "2         Corporate_Bond  3/12/2021    12/12/2028              100   \n",
       "3         Corporate_Bond  3/12/2019     3/12/2020              100   \n",
       "\n",
       "          Coupon_Rate  Frequency  Recovery_Rate  Default_Probability  \\\n",
       "Asset ID                                                               \n",
       "1                0.03          1            0.4                 0.03   \n",
       "2                0.05          1            0.4                 0.03   \n",
       "3                0.04          1            0.4                 0.03   \n",
       "\n",
       "          Sector_Spread  \n",
       "Asset ID                 \n",
       "1                 0.008  \n",
       "2                 0.008  \n",
       "3                 0.008  "
      ]
     },
     "execution_count": 6,
     "metadata": {},
     "output_type": "execute_result"
    }
   ],
   "source": [
    "bondfile = pd.read_csv(\"ZCB_Input.csv\")\n",
    "bondfile.index = bondfile[\"Asset ID\"]\n",
    "del bondfile[\"Asset ID\"]\n",
    "bondfile"
   ]
  },
  {
   "cell_type": "code",
   "execution_count": 7,
   "id": "46f3e18c",
   "metadata": {},
   "outputs": [],
   "source": [
    "def converttime(date_time):\n",
    "    format = \"%d/%m/%Y\"\n",
    "    datetime_str = dt.datetime.strptime(date_time,format).date()\n",
    "    return datetime_str"
   ]
  },
  {
   "cell_type": "code",
   "execution_count": 8,
   "id": "541e211c",
   "metadata": {},
   "outputs": [],
   "source": [
    "# To Fix\n",
    "issuedate = np.array([])\n",
    "maturitydate = np.array([])\n",
    "notional = np.array([])\n",
    "couponrate = np.array([])\n",
    "frequency = np.array([])\n",
    "recovrate = np.array([])\n",
    "defprob = np.array([])\n",
    "sspread = np.array([])\n",
    "zspread = np.array([])\n",
    "\n",
    "for iCount in range(0,bondfile.index.size):\n",
    "    issuedate = np.append(issuedate,converttime(bondfile[\"Issue_Date\"].iloc[iCount]))\n",
    "    maturitydate = np.append(maturitydate,converttime(bondfile[\"Maturity_Date\"].iloc[iCount]))\n",
    "    notional = np.append(notional,bondfile[\"Notional_amount\"].iloc[iCount])\n",
    "    couponrate = np.append(couponrate,bondfile[\"Coupon_Rate\"].iloc[iCount])\n",
    "    frequency = np.append(frequency,bondfile[\"Frequency\"].iloc[iCount])\n",
    "    recovrate = np.append(recovrate,bondfile[\"Recovery_Rate\"].iloc[iCount])\n",
    "    defprob = np.append(defprob,bondfile[\"Default_Probability\"].iloc[iCount])\n",
    "    sspread = np.append(sspread,bondfile[\"Sector_Spread\"].iloc[iCount])\n",
    "\n",
    "zspread = np.array([0.008, 0.008,0.005]) # This will be calibrated in a further development"
   ]
  },
  {
   "cell_type": "code",
   "execution_count": 9,
   "id": "7283c63d",
   "metadata": {},
   "outputs": [],
   "source": [
    "# Example bond\n",
    "\n",
    "#issuedate = np.array([dt.date(2021,12,3),dt.date(2021,12,3),dt.date(2019,12,3)])\n",
    "#maturitydate = np.array([dt.date(2026,12,12),dt.date(2028,12,12),dt.date(2020,12,3)])\n",
    "#notional = np.array([100,100,100])\n",
    "#couponrate = np.array([0.03, 0.05,0.04])\n",
    "#frequency = np.array([1, 1, 1])\n",
    "#recovrate = np.array([0.4, 0.4,0.4]) \n",
    "#defprob =np.array([0.03, 0.03,0.04]) \n",
    "#sspread = np.array([0.008, 0.008,0.005])\n",
    "#zspread = np.array([0.008, 0.008,0.005])"
   ]
  },
  {
   "cell_type": "code",
   "execution_count": 10,
   "id": "9a8ae75a",
   "metadata": {},
   "outputs": [
    {
     "data": {
      "text/plain": [
       "array([0.03, 0.05, 0.04])"
      ]
     },
     "execution_count": 10,
     "metadata": {},
     "output_type": "execute_result"
    }
   ],
   "source": [
    "couponrate"
   ]
  },
  {
   "cell_type": "code",
   "execution_count": 11,
   "id": "2d7fb75f",
   "metadata": {},
   "outputs": [],
   "source": [
    "zcb = ZeroCouponBond(issuedate, maturitydate, frequency, notional, couponrate, recovrate, defprob, zspread, sspread)"
   ]
  },
  {
   "cell_type": "code",
   "execution_count": 12,
   "id": "b50ee567",
   "metadata": {},
   "outputs": [],
   "source": [
    "zcb.createcashflows()"
   ]
  },
  {
   "cell_type": "code",
   "execution_count": 13,
   "id": "537c1720",
   "metadata": {},
   "outputs": [],
   "source": [
    "zcbPriced = ZeroCouponBondPriced(MD,zspread,compounding)"
   ]
  },
  {
   "cell_type": "code",
   "execution_count": 14,
   "id": "4f566cf5",
   "metadata": {},
   "outputs": [],
   "source": [
    "[coupondatesconsidered,coupondatefrac] = zcbPriced.refactordates(zcb.coupondates,MD)\n",
    "[notionaldatesconsidered,notionaldatefrac] = zcbPriced.refactordates(zcb.notionaldates,MD)"
   ]
  },
  {
   "cell_type": "code",
   "execution_count": 15,
   "id": "3a2cf658",
   "metadata": {},
   "outputs": [],
   "source": [
    "# Numeric precision of the optimisation\n",
    "Precision = float(paramfile.loc[\"Precision\"][0])\n",
    "\n",
    "# Targeted distance between the extrapolated curve and the ultimate forward rate at the convergence point\n",
    "Tau = float(paramfile.loc[\"Tau\"][0])# 1 basis point\n",
    "\n",
    "Country = paramfile.loc[\"country\"]\n",
    "\n",
    "InitialDate = paramfile.loc[\"Modelling_Date\"]\n",
    "\n",
    "Curves = Curves(ufr, Precision, Tau, InitialDate, Country)"
   ]
  },
  {
   "cell_type": "code",
   "execution_count": 16,
   "id": "9021e186",
   "metadata": {},
   "outputs": [],
   "source": [
    "coupontargetrates = []\n",
    "notionaltargetrates = []\n",
    "\n",
    "for iAsset in range(0,issuedate.size-1):\n",
    "\n",
    "    if not notionaldatesconsidered:\n",
    "       print(\"This bond has matured\") \n",
    "    else: \n",
    "        coupontargetrates.append(Curves.SWExtrapolate(np.transpose(coupondatefrac[iAsset]),M_Obs, Qb, ufr, alpha))\n",
    "        notionaltargetrates.append(Curves.SWExtrapolate(np.transpose(notionaldatefrac[iAsset]),M_Obs, Qb, ufr, alpha))\n",
    "        zcbPriced.coupondatefrac.append(np.transpose(coupondatefrac[iAsset]))\n",
    "        zcbPriced.notionaldatefrac.append(np.transpose(notionaldatefrac[iAsset]))\n",
    "        zcbPriced.couponcfs.append(zcb.couponcfs[iAsset][coupondatesconsidered[iAsset]])\n",
    "        zcbPriced.notionalcfs.append(zcb.notionalcfs[iAsset])"
   ]
  },
  {
   "attachments": {},
   "cell_type": "markdown",
   "id": "4463a0b1",
   "metadata": {},
   "source": [
    "Remove cashflows that are not considered"
   ]
  },
  {
   "cell_type": "code",
   "execution_count": 17,
   "id": "6320842d",
   "metadata": {},
   "outputs": [],
   "source": [
    "zcbPriced.PriceBond(coupontargetrates,notionaltargetrates,coupondatefrac,notionaldatefrac,zcbPriced.couponcfs,zcbPriced.notionalcfs)"
   ]
  },
  {
   "attachments": {},
   "cell_type": "markdown",
   "id": "acd9b9e7",
   "metadata": {},
   "source": [
    "### Price of two hypothetical bonds that mature after modelling date"
   ]
  },
  {
   "cell_type": "code",
   "execution_count": 18,
   "id": "0c1b4930",
   "metadata": {},
   "outputs": [
    {
     "data": {
      "text/plain": [
       "[array([97.48139803]), array([107.1858606])]"
      ]
     },
     "execution_count": 18,
     "metadata": {},
     "output_type": "execute_result"
    }
   ],
   "source": [
    "zcbPriced.marketprice"
   ]
  }
 ],
 "metadata": {
  "kernelspec": {
   "display_name": "Python 3 (ipykernel)",
   "language": "python",
   "name": "python3"
  },
  "language_info": {
   "codemirror_mode": {
    "name": "ipython",
    "version": 3
   },
   "file_extension": ".py",
   "mimetype": "text/x-python",
   "name": "python",
   "nbconvert_exporter": "python",
   "pygments_lexer": "ipython3",
   "version": "3.9.7"
  }
 },
 "nbformat": 4,
 "nbformat_minor": 5
}
