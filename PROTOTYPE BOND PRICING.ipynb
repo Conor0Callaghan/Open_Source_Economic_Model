{
 "cells": [
  {
   "cell_type": "code",
   "execution_count": 1,
   "id": "e29a2cf6",
   "metadata": {},
   "outputs": [],
   "source": [
    "import datetime as dt\n",
    "import numpy as np\n",
    "import pandas as pd"
   ]
  },
  {
   "cell_type": "code",
   "execution_count": 2,
   "id": "2e0acb43",
   "metadata": {},
   "outputs": [],
   "source": [
    "#from BasicFin import DayCount, disctorates, ratestodics, refactordates\n",
    "from SmithWilson import SWExtrapolate\n",
    "from ImportData import importSWEiopa\n",
    "from BondClasses import ZeroCouponBond,BondPrices"
   ]
  },
  {
   "cell_type": "code",
   "execution_count": 2,
   "id": "254b915a",
   "metadata": {},
   "outputs": [],
   "source": [
    "paramfile = pd.read_csv(\"Parameters.csv\")\n",
    "paramfile.index = paramfile[\"Parameter_name\"]\n",
    "del paramfile[\"Parameter_name\"]"
   ]
  },
  {
   "attachments": {},
   "cell_type": "markdown",
   "id": "f63679bb",
   "metadata": {},
   "source": [
    "# IMPORT EIOPA CURVE"
   ]
  },
  {
   "cell_type": "code",
   "execution_count": 3,
   "id": "740cf9a9",
   "metadata": {},
   "outputs": [],
   "source": [
    "selected_param_file = paramfile.loc[\"EIOPA_param_file\"][0]\n",
    "selected_curves_file = paramfile.loc[\"EIOPA_curves_file\"][0]\n",
    "country = paramfile.loc[\"country\"][0]\n",
    "compounding = paramfile[\"compounding\"]\n",
    "\n",
    "[maturities_country, curve_country, extra_param, Qb]= importSWEiopa(selected_param_file, selected_curves_file, country)"
   ]
  },
  {
   "cell_type": "code",
   "execution_count": 4,
   "id": "2f43c801",
   "metadata": {},
   "outputs": [],
   "source": [
    "# Maturity of observations:\n",
    "M_Obs = np.transpose(np.array(maturities_country.values))\n",
    "\n",
    "# Ultimate froward rate ufr represents the rate to which the rate curve will converge as time increases:\n",
    "ufr = extra_param.iloc[3]/100\n",
    "\n",
    "# Convergence speed parameter alpha controls the speed at which the curve converges towards the ufr from the last liquid point:\n",
    "alpha = extra_param.iloc[4]\n",
    "\n",
    "# Qb calibration vector published by EIOPA for the curve calibration:\n",
    "Qb = np.transpose(np.array(Qb.values))"
   ]
  },
  {
   "attachments": {},
   "cell_type": "markdown",
   "id": "4fa2d76f",
   "metadata": {},
   "source": [
    "# PRICING OF A COUPON BOND"
   ]
  },
  {
   "cell_type": "code",
   "execution_count": 5,
   "id": "7283c63d",
   "metadata": {},
   "outputs": [],
   "source": [
    "# Model parameters\n",
    "MD = dt.date(2023,4,29)\n",
    "\n",
    "# Example CouponBond\n",
    "issuedate = dt.date(2022,12,3)\n",
    "maturitydate = dt.date(2025,12,3)\n",
    "notional = 100\n",
    "couponrate = 0.05\n",
    "frequency = 1\n",
    "recovrate = 0.7\n",
    "defprob =0.05\n",
    "zspread = 0.005\n",
    "zcb = ZeroCouponBond(issuedate, maturitydate, frequency, notional, couponrate, recovrate, defprob, zspread)"
   ]
  },
  {
   "cell_type": "code",
   "execution_count": 6,
   "id": "b50ee567",
   "metadata": {},
   "outputs": [],
   "source": [
    "zcb.createcashflows()\n",
    "zcbPrice = BondPrices(MD,zspread,compounding)"
   ]
  },
  {
   "cell_type": "code",
   "execution_count": 7,
   "id": "4f566cf5",
   "metadata": {},
   "outputs": [
    {
     "name": "stdout",
     "output_type": "stream",
     "text": [
      "[datetime.timedelta(days=-147) datetime.timedelta(days=218)\n",
      " datetime.timedelta(days=584) datetime.timedelta(days=949)]\n",
      "[datetime.timedelta(days=949)]\n"
     ]
    }
   ],
   "source": [
    "[datesconsidered,datefrac] = zcbPrice.refactordates(zcb.coupondates,MD)\n",
    "[datesconsiderednot,datefracnot] = zcbPrice.refactordates(zcb.notionaldates,MD)"
   ]
  },
  {
   "cell_type": "code",
   "execution_count": 8,
   "id": "9021e186",
   "metadata": {},
   "outputs": [],
   "source": [
    "targetratescoupon = SWExtrapolate(np.transpose(datefrac),M_Obs, Qb, ufr, alpha)"
   ]
  },
  {
   "cell_type": "code",
   "execution_count": 9,
   "id": "4469448d",
   "metadata": {},
   "outputs": [],
   "source": [
    "targetratesnotional = SWExtrapolate(np.transpose(datefracnot),M_Obs, Qb, ufr, alpha)"
   ]
  },
  {
   "cell_type": "code",
   "execution_count": 10,
   "id": "0c1b4930",
   "metadata": {},
   "outputs": [],
   "source": [
    "zcbPrice.PriceBond(targetratescoupon,targetratesnotional,datefrac,datefracnot,zcb.couponcf[datesconsidered],zcb.notionalcf)"
   ]
  },
  {
   "cell_type": "code",
   "execution_count": 11,
   "id": "344814c4",
   "metadata": {},
   "outputs": [
    {
     "data": {
      "text/plain": [
       "array([106.237753])"
      ]
     },
     "execution_count": 11,
     "metadata": {},
     "output_type": "execute_result"
    }
   ],
   "source": [
    "zcbPrice.marketprice"
   ]
  }
 ],
 "metadata": {
  "kernelspec": {
   "display_name": "Python 3 (ipykernel)",
   "language": "python",
   "name": "python3"
  },
  "language_info": {
   "codemirror_mode": {
    "name": "ipython",
    "version": 3
   },
   "file_extension": ".py",
   "mimetype": "text/x-python",
   "name": "python",
   "nbconvert_exporter": "python",
   "pygments_lexer": "ipython3",
   "version": "3.9.7"
  }
 },
 "nbformat": 4,
 "nbformat_minor": 5
}
