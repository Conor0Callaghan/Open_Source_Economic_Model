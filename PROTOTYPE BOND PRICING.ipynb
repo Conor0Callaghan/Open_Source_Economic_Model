{
 "cells": [
  {
   "cell_type": "code",
   "execution_count": 1,
   "id": "e29a2cf6",
   "metadata": {},
   "outputs": [],
   "source": [
    "import datetime as dt\n",
    "import numpy as np\n",
    "import pandas as pd"
   ]
  },
  {
   "cell_type": "code",
   "execution_count": 2,
   "id": "2e0acb43",
   "metadata": {},
   "outputs": [],
   "source": [
    "from Curves import Curves\n",
    "from ImportData import importSWEiopa\n",
    "from BondClasses import ZeroCouponBond,ZeroCouponBondPriced"
   ]
  },
  {
   "cell_type": "code",
   "execution_count": 3,
   "id": "254b915a",
   "metadata": {},
   "outputs": [],
   "source": [
    "paramfile = pd.read_csv(\"Parameters.csv\")\n",
    "paramfile.index = paramfile[\"Parameter\"]\n",
    "del paramfile[\"Parameter\"]"
   ]
  },
  {
   "cell_type": "code",
   "execution_count": 4,
   "id": "dbce8cad",
   "metadata": {},
   "outputs": [],
   "source": [
    "spreadfile = pd.read_csv(\"Sector_Spread.csv\")\n",
    "spreadfile.index = spreadfile[\"NACE\"]\n",
    "del spreadfile[\"NACE\"]"
   ]
  },
  {
   "attachments": {},
   "cell_type": "markdown",
   "id": "f63679bb",
   "metadata": {},
   "source": [
    "# IMPORT EIOPA CURVE"
   ]
  },
  {
   "cell_type": "code",
   "execution_count": 5,
   "id": "740cf9a9",
   "metadata": {},
   "outputs": [],
   "source": [
    "selected_param_file = paramfile.loc[\"EIOPA_param_file\"][0]\n",
    "selected_curves_file = paramfile.loc[\"EIOPA_curves_file\"][0]\n",
    "country = paramfile.loc[\"country\"][\"value\"]\n",
    "compounding = int(paramfile.loc[\"compounding\"][\"value\"])\n",
    "\n",
    "# Model parameters\n",
    "MD = dt.datetime.strptime(paramfile.loc[\"Modelling_Date\"][\"value\"],\"%d/%m/%Y\")\n",
    "MD = dt.date(MD.year,MD.month,MD.day)\n",
    "\n",
    "[maturities_country, curve_country, extra_param, Qb]= importSWEiopa(selected_param_file, selected_curves_file, country)"
   ]
  },
  {
   "cell_type": "code",
   "execution_count": 6,
   "id": "2f43c801",
   "metadata": {},
   "outputs": [],
   "source": [
    "# Maturity of observations:\n",
    "M_Obs = np.transpose(np.array(maturities_country.values))\n",
    "\n",
    "# Ultimate froward rate ufr represents the rate to which the rate curve will converge as time increases:\n",
    "ufr = extra_param.iloc[3]/100\n",
    "\n",
    "# Convergence speed parameter alpha controls the speed at which the curve converges towards the ufr from the last liquid point:\n",
    "alpha = extra_param.iloc[4]\n",
    "\n",
    "# Qb calibration vector published by EIOPA for the curve calibration:\n",
    "Qb = np.transpose(np.array(Qb.values))"
   ]
  },
  {
   "attachments": {},
   "cell_type": "markdown",
   "id": "4fa2d76f",
   "metadata": {},
   "source": [
    "# PRICING OF A COUPON BOND"
   ]
  },
  {
   "cell_type": "code",
   "execution_count": 7,
   "id": "aa4c924c",
   "metadata": {},
   "outputs": [
    {
     "data": {
      "text/html": [
       "<div>\n",
       "<style scoped>\n",
       "    .dataframe tbody tr th:only-of-type {\n",
       "        vertical-align: middle;\n",
       "    }\n",
       "\n",
       "    .dataframe tbody tr th {\n",
       "        vertical-align: top;\n",
       "    }\n",
       "\n",
       "    .dataframe thead th {\n",
       "        text-align: right;\n",
       "    }\n",
       "</style>\n",
       "<table border=\"1\" class=\"dataframe\">\n",
       "  <thead>\n",
       "    <tr style=\"text-align: right;\">\n",
       "      <th></th>\n",
       "      <th>Asset_Type</th>\n",
       "      <th>NACE</th>\n",
       "      <th>Issue_Date</th>\n",
       "      <th>Maturity_Date</th>\n",
       "      <th>Notional_amount</th>\n",
       "      <th>Coupon_Rate</th>\n",
       "      <th>Frequency</th>\n",
       "      <th>Recovery_Rate</th>\n",
       "      <th>Default_Probability</th>\n",
       "      <th>Market_Price</th>\n",
       "    </tr>\n",
       "    <tr>\n",
       "      <th>Asset ID</th>\n",
       "      <th></th>\n",
       "      <th></th>\n",
       "      <th></th>\n",
       "      <th></th>\n",
       "      <th></th>\n",
       "      <th></th>\n",
       "      <th></th>\n",
       "      <th></th>\n",
       "      <th></th>\n",
       "      <th></th>\n",
       "    </tr>\n",
       "  </thead>\n",
       "  <tbody>\n",
       "    <tr>\n",
       "      <th>1</th>\n",
       "      <td>Corporate_Bond</td>\n",
       "      <td>A1.4.5</td>\n",
       "      <td>3/12/2021</td>\n",
       "      <td>12/12/2026</td>\n",
       "      <td>100</td>\n",
       "      <td>0.03</td>\n",
       "      <td>1</td>\n",
       "      <td>0.4</td>\n",
       "      <td>0.03</td>\n",
       "      <td>94</td>\n",
       "    </tr>\n",
       "    <tr>\n",
       "      <th>2</th>\n",
       "      <td>Corporate_Bond</td>\n",
       "      <td>B5.2.0</td>\n",
       "      <td>3/12/2021</td>\n",
       "      <td>12/12/2028</td>\n",
       "      <td>100</td>\n",
       "      <td>0.05</td>\n",
       "      <td>1</td>\n",
       "      <td>0.4</td>\n",
       "      <td>0.03</td>\n",
       "      <td>92</td>\n",
       "    </tr>\n",
       "    <tr>\n",
       "      <th>3</th>\n",
       "      <td>Corporate_Bond</td>\n",
       "      <td>B8.9.3</td>\n",
       "      <td>3/12/2019</td>\n",
       "      <td>3/12/2020</td>\n",
       "      <td>100</td>\n",
       "      <td>0.04</td>\n",
       "      <td>1</td>\n",
       "      <td>0.4</td>\n",
       "      <td>0.03</td>\n",
       "      <td>96</td>\n",
       "    </tr>\n",
       "  </tbody>\n",
       "</table>\n",
       "</div>"
      ],
      "text/plain": [
       "              Asset_Type    NACE Issue_Date Maturity_Date  Notional_amount  \\\n",
       "Asset ID                                                                     \n",
       "1         Corporate_Bond  A1.4.5  3/12/2021    12/12/2026              100   \n",
       "2         Corporate_Bond  B5.2.0  3/12/2021    12/12/2028              100   \n",
       "3         Corporate_Bond  B8.9.3  3/12/2019     3/12/2020              100   \n",
       "\n",
       "          Coupon_Rate  Frequency  Recovery_Rate  Default_Probability  \\\n",
       "Asset ID                                                               \n",
       "1                0.03          1            0.4                 0.03   \n",
       "2                0.05          1            0.4                 0.03   \n",
       "3                0.04          1            0.4                 0.03   \n",
       "\n",
       "          Market_Price  \n",
       "Asset ID                \n",
       "1                   94  \n",
       "2                   92  \n",
       "3                   96  "
      ]
     },
     "execution_count": 7,
     "metadata": {},
     "output_type": "execute_result"
    }
   ],
   "source": [
    "bondfile = pd.read_csv(\"ZCB_Input.csv\")\n",
    "bondfile.index = bondfile[\"Asset ID\"]\n",
    "del bondfile[\"Asset ID\"]\n",
    "bondfile"
   ]
  },
  {
   "cell_type": "code",
   "execution_count": 8,
   "id": "46f3e18c",
   "metadata": {},
   "outputs": [],
   "source": [
    "def converttime(date_time):\n",
    "    format = \"%d/%m/%Y\"\n",
    "    datetime_str = dt.datetime.strptime(date_time,format).date()\n",
    "    return datetime_str"
   ]
  },
  {
   "cell_type": "code",
   "execution_count": 9,
   "id": "541e211c",
   "metadata": {},
   "outputs": [],
   "source": [
    "nace = np.array([])\n",
    "issuedate = np.array([])\n",
    "maturitydate = np.array([])\n",
    "notional = np.array([])\n",
    "couponrate = np.array([])\n",
    "frequency = np.array([])\n",
    "recovrate = np.array([])\n",
    "defprob = np.array([])\n",
    "sspread = np.array([])\n",
    "zspread = np.array([])\n",
    "marketprice = np.array([])\n",
    "\n",
    "for iCount in range(0,bondfile.index.size):\n",
    "    nace = np.append(nace,bondfile[\"NACE\"].iloc[iCount])\n",
    "    issuedate = np.append(issuedate,converttime(bondfile[\"Issue_Date\"].iloc[iCount]))\n",
    "    maturitydate = np.append(maturitydate,converttime(bondfile[\"Maturity_Date\"].iloc[iCount]))\n",
    "    notional = np.append(notional,bondfile[\"Notional_amount\"].iloc[iCount])\n",
    "    couponrate = np.append(couponrate,bondfile[\"Coupon_Rate\"].iloc[iCount])\n",
    "    frequency = np.append(frequency,bondfile[\"Frequency\"].iloc[iCount])\n",
    "    recovrate = np.append(recovrate,bondfile[\"Recovery_Rate\"].iloc[iCount])\n",
    "    defprob = np.append(defprob,bondfile[\"Default_Probability\"].iloc[iCount])\n",
    "    sspread = np.append(sspread,spreadfile.loc[bondfile[\"NACE\"].iloc[iCount]][\"sSpread\"])\n",
    "    marketprice = np.append(marketprice, bondfile[\"Market_Price\"].iloc[iCount])"
   ]
  },
  {
   "cell_type": "code",
   "execution_count": 10,
   "id": "7283c63d",
   "metadata": {},
   "outputs": [],
   "source": [
    "# Example bond\n",
    "\n",
    "#issuedate = np.array([dt.date(2021,12,3),dt.date(2021,12,3),dt.date(2019,12,3)])\n",
    "#maturitydate = np.array([dt.date(2026,12,12),dt.date(2028,12,12),dt.date(2020,12,3)])\n",
    "#notional = np.array([100,100,100])\n",
    "#couponrate = np.array([0.03, 0.05,0.04])\n",
    "#frequency = np.array([1, 1, 1])\n",
    "#recovrate = np.array([0.4, 0.4,0.4]) \n",
    "#defprob =np.array([0.03, 0.03,0.04]) \n",
    "#sspread = np.array([0.008, 0.008,0.005])\n",
    "#zspread = np.array([0.008, 0.008,0.005])"
   ]
  },
  {
   "cell_type": "code",
   "execution_count": 11,
   "id": "2d7fb75f",
   "metadata": {},
   "outputs": [],
   "source": [
    "zcb = ZeroCouponBond(issuedate, maturitydate, frequency, notional, couponrate, recovrate, defprob, sspread, zspread, marketprice)"
   ]
  },
  {
   "cell_type": "code",
   "execution_count": 12,
   "id": "b50ee567",
   "metadata": {},
   "outputs": [],
   "source": [
    "zcb.createcashflows()"
   ]
  },
  {
   "cell_type": "code",
   "execution_count": 13,
   "id": "537c1720",
   "metadata": {},
   "outputs": [],
   "source": [
    "zcbPriced = ZeroCouponBondPriced(MD,compounding)"
   ]
  },
  {
   "cell_type": "code",
   "execution_count": 14,
   "id": "4f566cf5",
   "metadata": {},
   "outputs": [],
   "source": [
    "[coupondatesconsidered,coupondatefrac] = zcbPriced.refactordates(zcb.coupondates,MD)\n",
    "[notionaldatesconsidered,notionaldatefrac] = zcbPriced.refactordates(zcb.notionaldates,MD)"
   ]
  },
  {
   "cell_type": "code",
   "execution_count": 15,
   "id": "d85de327",
   "metadata": {},
   "outputs": [],
   "source": [
    "# carry forward the sspread of bonds that are still relevant\n",
    "zcbPriced.sspread = []\n",
    "zcbPriced.marketprice = []\n",
    "\n",
    "for iCount in range(0,len(notionaldatesconsidered)-1):\n",
    "    if notionaldatesconsidered[iCount] == [0]:\n",
    "        zcbPriced.sspread = np.append(zcbPriced.sspread,zcb.sspread[iCount])\n",
    "        zcbPriced.marketprice = np.append(zcbPriced.marketprice,zcb.marketprice[iCount])"
   ]
  },
  {
   "cell_type": "code",
   "execution_count": 16,
   "id": "3a2cf658",
   "metadata": {},
   "outputs": [],
   "source": [
    "# Numeric precision of the optimisation\n",
    "Precision = float(paramfile.loc[\"Precision\"][0])\n",
    "# Targeted distance between the extrapolated curve and the ultimate forward rate at the convergence point\n",
    "Tau = float(paramfile.loc[\"Tau\"][0]) # 1 basis point\n",
    "Country = paramfile.loc[\"country\"]\n",
    "InitialDate = paramfile.loc[\"Modelling_Date\"]\n",
    "Curves = Curves(ufr, Precision, Tau, InitialDate, Country)"
   ]
  },
  {
   "cell_type": "code",
   "execution_count": 17,
   "id": "9021e186",
   "metadata": {},
   "outputs": [],
   "source": [
    "coupontargetrates = []\n",
    "notionaltargetrates = []\n",
    "\n",
    "for iAsset in range(0,issuedate.size-1):\n",
    "\n",
    "    if not notionaldatesconsidered:\n",
    "       print(\"This bond has matured\") \n",
    "    else: \n",
    "        coupontargetrates.append(Curves.SWExtrapolate(np.transpose(coupondatefrac[iAsset]),M_Obs, Qb, ufr, alpha))\n",
    "        notionaltargetrates.append(Curves.SWExtrapolate(np.transpose(notionaldatefrac[iAsset]),M_Obs, Qb, ufr, alpha))\n",
    "        zcbPriced.coupondatefrac.append(np.transpose(coupondatefrac[iAsset]))\n",
    "        zcbPriced.notionaldatefrac.append(np.transpose(notionaldatefrac[iAsset]))\n",
    "        zcbPriced.couponcfs.append(zcb.couponcfs[iAsset][coupondatesconsidered[iAsset]])\n",
    "        zcbPriced.notionalcfs.append(zcb.notionalcfs[iAsset])"
   ]
  },
  {
   "attachments": {},
   "cell_type": "markdown",
   "id": "4463a0b1",
   "metadata": {},
   "source": [
    "Remove cashflows that are not considered"
   ]
  },
  {
   "cell_type": "code",
   "execution_count": 18,
   "id": "6320842d",
   "metadata": {},
   "outputs": [],
   "source": [
    "#zcbPriced.PriceBond(coupontargetrates,notionaltargetrates,coupondatefrac,notionaldatefrac,zcbPriced.couponcfs,zcbPriced.notionalcfs,zcbPriced.sspread,np.array([0.01,0.01]))"
   ]
  },
  {
   "attachments": {},
   "cell_type": "markdown",
   "id": "acd9b9e7",
   "metadata": {},
   "source": [
    "### Calibration of two hypothetical bonds that mature after modelling date"
   ]
  },
  {
   "cell_type": "code",
   "execution_count": 19,
   "id": "38663980",
   "metadata": {},
   "outputs": [],
   "source": [
    "def BisectionsSpread(zcbPriced, xStart, xEnd, coupontargetrate,notionaltargetrate,coupondatefrac,notionaldatefrac,couponcfs,notionalcf,sspread, marketprice, Precision, maxIter):\n",
    "    \"\"\"\n",
    "    Bisection root finding algorithm for finding the root of a function. The function here is the allowed difference between the ultimate forward rate and the extrapolated curve using Smith & Wilson.\n",
    "\n",
    "    Args:\n",
    "        xStart =    1 x 1 floating number representing the minimum allowed value of the convergence speed parameter alpha. Ex. alpha = 0.05\n",
    "        xEnd =      1 x 1 floating number representing the maximum allowed value of the convergence speed parameter alpha. Ex. alpha = 0.8\n",
    "        M_Obs =     n x 1 ndarray of maturities of bonds, that have rates provided in input (r). Ex. u = [[1], [3]]\n",
    "        r_Obs =     n x 1 ndarray of rates, for which you wish to calibrate the algorithm. Each rate belongs to an observable Zero-Coupon Bond with a known maturity. Ex. r = [[0.0024], [0.0034]]\n",
    "        ufr  =      1 x 1 floating number, representing the ultimate forward rate. Ex. ufr = 0.042\n",
    "        Tau =       1 x 1 floating number representing the allowed difference between ufr and actual curve. Ex. Tau = 0.00001\n",
    "        Precision = 1 x 1 floating number representing the precision of the calculation. Higher the precision, more accurate the estimation of the root\n",
    "        maxIter =   1 x 1 positive integer representing the maximum number of iterations allowed. This is to prevent an infinite loop in case the method does not converge to a solution         \n",
    "    \n",
    "    Returns:\n",
    "        1 x 1 floating number representing the optimal value of the parameter alpha \n",
    "\n",
    "    Example of use:\n",
    "        >>> import numpy as np\n",
    "        >>> from SWCalibrate import SWCalibrate as SWCalibrate\n",
    "        >>> M_Obs = np.transpose(np.array([1, 2, 4, 5, 6, 7]))\n",
    "        >>> r_Obs =  np.transpose(np.array([0.01, 0.02, 0.03, 0.032, 0.035, 0.04]))\n",
    "        >>> xStart = 0.05\n",
    "        >>> xEnd = 0.5\n",
    "        >>> maxIter = 1000\n",
    "        >>> alfa = 0.15\n",
    "        >>> ufr = 0.042\n",
    "        >>> Precision = 0.0000000001\n",
    "        >>> Tau = 0.0001\n",
    "        >>> BisectionAlpha(xStart, xEnd, M_Obs, r_Obs, ufr, Tau, Precision, maxIter)\n",
    "        [Out] 0.11549789285636511\n",
    "\n",
    "    For more information see https://www.eiopa.europa.eu/sites/default/files/risk_free_interest_rate/12092019-technical_documentation.pdf and https://en.wikipedia.org/wiki/Bisection_method\n",
    "    \n",
    "    Implemented by Gregor Fabjan from Qnity Consultants on 17/12/2021.\n",
    "    \"\"\"   \n",
    "\n",
    "    yStart = zcbPriced.OpenPriceBond(coupontargetrate,notionaltargetrate,coupondatefrac,notionaldatefrac,couponcfs,notionalcf,sspread,xStart)\n",
    "    yEnd = zcbPriced.OpenPriceBond(coupontargetrate,notionaltargetrate,coupondatefrac,notionaldatefrac,couponcfs,notionalcf,sspread,xEnd)\n",
    "    if np.abs(yStart-marketprice) < Precision:\n",
    "        #self.alpha = xStart # If initial point already satisfies the conditions return start point\n",
    "        return xStart\n",
    "    if np.abs(yEnd-marketprice) < Precision:\n",
    "        #self.alpha = xEnd\n",
    "        return xEnd # If final point already satisfies the conditions return end point\n",
    "    iIter = 0\n",
    "    while iIter <= maxIter:\n",
    "        xMid = (xEnd+xStart)/2 # calculate mid-point\n",
    "        yMid = zcbPriced.OpenPriceBond(coupontargetrate,notionaltargetrate,coupondatefrac,notionaldatefrac,couponcfs,notionalcf,sspread,xMid) # What is the solution at midpoint\n",
    "        if ((yStart-marketprice) == 0 or (xEnd-xStart)/2 < Precision): # Solution found\n",
    "            #self.alpha = xMid\n",
    "            return xMid\n",
    "        else: # Solution not found\n",
    "            iIter += 1\n",
    "            if np.sign(yMid-marketprice) == np.sign(yStart-marketprice): # If the start point and the middle point have the same sign, then the root must be in the second half of the interval   \n",
    "                xStart = xMid\n",
    "            else: # If the start point and the middle point have a different sign than by mean value theorem the interval must contain at least one root\n",
    "                xEnd = xMid\n",
    "    return \"Did not converge\""
   ]
  },
  {
   "cell_type": "code",
   "execution_count": 20,
   "id": "454559c1",
   "metadata": {},
   "outputs": [],
   "source": [
    "zcbPriced.zspread = []\n",
    "for iCount in range(0,len(coupontargetrates)):\n",
    "    zSpreadTmp = BisectionsSpread(zcbPriced, -0.2, 0.2, coupontargetrates[iCount],notionaltargetrates[iCount],zcbPriced.coupondatefrac[iCount],zcbPriced.notionaldatefrac[iCount],zcbPriced.couponcfs[iCount],zcbPriced.notionalcfs[iCount],zcbPriced.sspread[iCount],zcbPriced.marketprice[iCount], Precision, 1000)\n",
    "    zcbPriced.zspread = np.append(zcbPriced.zspread,zSpreadTmp)"
   ]
  },
  {
   "cell_type": "code",
   "execution_count": 21,
   "id": "836d1e95",
   "metadata": {},
   "outputs": [
    {
     "data": {
      "text/plain": [
       "array([94., 92.])"
      ]
     },
     "execution_count": 21,
     "metadata": {},
     "output_type": "execute_result"
    }
   ],
   "source": [
    "zcbPriced.marketprice"
   ]
  },
  {
   "cell_type": "code",
   "execution_count": 22,
   "id": "d577c4a7",
   "metadata": {},
   "outputs": [
    {
     "data": {
      "text/plain": [
       "[array([0.04474545, 0.04352242, 0.04174698, 0.04015462]),\n",
       " array([0.04474545, 0.04352242, 0.04174698, 0.04015462, 0.03903412,\n",
       "        0.03830698])]"
      ]
     },
     "execution_count": 22,
     "metadata": {},
     "output_type": "execute_result"
    }
   ],
   "source": [
    "coupontargetrates"
   ]
  },
  {
   "cell_type": "code",
   "execution_count": 23,
   "id": "1c4d82cf",
   "metadata": {},
   "outputs": [
    {
     "data": {
      "text/plain": [
       "array([0.01, 0.01])"
      ]
     },
     "execution_count": 23,
     "metadata": {},
     "output_type": "execute_result"
    }
   ],
   "source": [
    "zcbPriced.sspread"
   ]
  },
  {
   "cell_type": "code",
   "execution_count": 24,
   "id": "7aa0b82c",
   "metadata": {},
   "outputs": [
    {
     "data": {
      "text/plain": [
       "array([0.00056424, 0.02093499])"
      ]
     },
     "execution_count": 24,
     "metadata": {},
     "output_type": "execute_result"
    }
   ],
   "source": [
    "zcbPriced.zspread"
   ]
  }
 ],
 "metadata": {
  "kernelspec": {
   "display_name": "Python 3 (ipykernel)",
   "language": "python",
   "name": "python3"
  },
  "language_info": {
   "codemirror_mode": {
    "name": "ipython",
    "version": 3
   },
   "file_extension": ".py",
   "mimetype": "text/x-python",
   "name": "python",
   "nbconvert_exporter": "python",
   "pygments_lexer": "ipython3",
   "version": "3.9.7"
  }
 },
 "nbformat": 4,
 "nbformat_minor": 5
}
