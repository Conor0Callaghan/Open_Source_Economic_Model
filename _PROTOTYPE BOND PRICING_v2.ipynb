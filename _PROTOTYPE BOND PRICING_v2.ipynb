{
 "cells": [
  {
   "cell_type": "code",
   "execution_count": 1,
   "id": "e29a2cf6",
   "metadata": {},
   "outputs": [],
   "source": [
    "import os\n",
    "import datetime as dt\n",
    "import numpy as np\n",
    "import pandas as pd"
   ]
  },
  {
   "cell_type": "code",
   "execution_count": 2,
   "id": "2e0acb43",
   "metadata": {},
   "outputs": [],
   "source": [
    "from CurvesClass import Curves\n",
    "from ImportData import import_SWEiopa, get_corporate_bonds\n",
    "from BondClasses import *\n",
    "from ConfigurationClass import Configuration\n",
    "from ImportData import get_configuration, get_settings\n",
    "from MainLoop import create_cashflow_dataframe"
   ]
  },
  {
   "cell_type": "markdown",
   "id": "1294f88b",
   "metadata": {},
   "source": [
    "## Input files\n",
    "\n",
    "There are multiple input files needed to calibrate the fixed income portfolio. They are located in the \"Input\" folder."
   ]
  },
  {
   "cell_type": "markdown",
   "id": "77e4fea4",
   "metadata": {},
   "source": [
    "### Parameters.csv\n",
    "\n",
    "Parameters file holds information about the type of run and the modelling date.\n",
    "\n",
    " - EIOPA_param_file ...the relative location of the EIOPA parameter file that will be used as the RFR Ex. \"Input/Param_no_VA.csv\"\n",
    " - EIOPA_curves_file ... the relative location of the EIOPA yield curve that will be used as the RFR Ex. \"Input/Curves_no_VA.csv\"\n",
    " - country ... the name of the country that will be used as the base for this run Ex. \"Slovenia\"\n",
    " - n_proj_years ... length of a run in years starting from the Modelling date Ex. 50\n",
    " - Precision ... precision parameter specifying the acceptable tollerance between the calibrated bond price and the market value Ex. 0.00000001\n",
    " - Tau ... the acceptable size of the gap between the extrapolated yield rate and the ulitmate forward rate Ex. 0.0001\n",
    " - compounding ... the way that the interest rates are compounded in the run Ex. -1\n",
    " - Modelling_Date ... the starting date of the run specified as a date string Ex.\"29/04/2023\"\n"
   ]
  },
  {
   "cell_type": "markdown",
   "id": "e54e482e",
   "metadata": {},
   "source": [
    "### EIOPA RFR files\n",
    "\n",
    "There are two types of files derived from the monthly EIOPA RFR submision that are used in this model. The \"Curves_XX.csv\" containing the yearly yield curves for all countries in scope and the \"Param_XX.csv\" with the paameters used to derive the curves. These files are used to derive the risk free term structure at the modelling date and to efficiently project the evolution of the term structure."
   ]
  },
  {
   "cell_type": "markdown",
   "id": "aea3d2a6",
   "metadata": {},
   "source": [
    "### Portfolio description\n",
    "\n",
    "The modelled portfolio is split by asset classes. The fixed income portfolio is located in the file \"Bond_Portfolio.csv\". Each security needs the following fields:\n",
    "\n",
    " -  Asset ID ... unique id such as an ISIN, SEDOL or CUSIP code Ex. IT1234567891\n",
    " -  Asset_Type ... asset type string Ex. \"Corporate_Bond\"\n",
    " -  NACE ... NACE asset classification code (nomenclature statistique des activités économiques dans la Communauté européenne) Ex. A1.4.5\n",
    " -  Issue_Date ... the string date specifying the issue date of the bond Ex. 3/12/2021\n",
    " -  Maturity_Date ... the string date specifying the maturity date of the bond Ex. 3/12/2021\n",
    " -  Notional_amount ... the notional amount of the bond Ex. 100\n",
    " -  Coupon_Rate ... percentage of the notional amount paid in dividends every period (specified by Frequency) Ex. 0.0014\n",
    " -  Frequency ... number of times per a year that dividends are paid Ex. 1 (once per a year)\n",
    " -  Recovery_Rate ... percentage of the notional amound that can be recovered in case of a default Ex. 0.80\n",
    " -  Default_Probability ... percentage probability of default per year Ex. 0.012\n",
    " -  Units ... number of each bond held in the portfolio Ex. 230\n",
    " -  Market_Price ... market price of the bond at the modelling date Ex. 96"
   ]
  },
  {
   "cell_type": "markdown",
   "id": "7fb266af",
   "metadata": {},
   "source": [
    "### Sector spread\n",
    "The list of NACE sector codes and the sector specific spread over the risk free rate\n",
    " - NACE ... NACE code of the issuer Ex. \"A1.1\" \n",
    " - NACE code text  ... description of the NACE code for this issuer Ex. \"Growing of non-perennial crops\" \n",
    " - sSpread  ...  NACE sector specific spread over the risk free rate Ex. 0.01\n",
    "\n",
    "In the POC, the spread is displayed directly in the bond input file"
   ]
  },
  {
   "cell_type": "markdown",
   "id": "bc1f9c50",
   "metadata": {},
   "source": [
    "Set up the base folder"
   ]
  },
  {
   "cell_type": "code",
   "execution_count": 3,
   "id": "3e6008fd",
   "metadata": {},
   "outputs": [],
   "source": [
    "base_folder = os.getcwd()  # Get current working directory"
   ]
  },
  {
   "cell_type": "markdown",
   "id": "7eff419f",
   "metadata": {},
   "source": [
    "Most of the run settings are saved in the configuration file:"
   ]
  },
  {
   "cell_type": "code",
   "execution_count": 4,
   "id": "0de4b3d4",
   "metadata": {},
   "outputs": [],
   "source": [
    "conf: Configuration\n",
    "conf = get_configuration(os.path.join(base_folder, \"ALM.ini\"), os)"
   ]
  },
  {
   "cell_type": "markdown",
   "id": "abdbce0f",
   "metadata": {},
   "source": [
    "These lines of code just extract the absolute location of different files:"
   ]
  },
  {
   "cell_type": "code",
   "execution_count": 5,
   "id": "a4fe2672",
   "metadata": {},
   "outputs": [],
   "source": [
    "parameters_file = conf.input_parameters\n",
    "cash_portfolio_file = conf.input_cash_portfolio\n",
    "bond_portfolio_file = conf.input_bond_portfolio"
   ]
  },
  {
   "cell_type": "code",
   "execution_count": 6,
   "id": "254b915a",
   "metadata": {},
   "outputs": [],
   "source": [
    "paramfile = pd.read_csv(\"Input/Parameters.csv\")\n",
    "paramfile.index = paramfile[\"Parameter\"]\n"
   ]
  },
  {
   "cell_type": "markdown",
   "id": "b3051082",
   "metadata": {},
   "source": [
    "The parameter file is:"
   ]
  },
  {
   "cell_type": "code",
   "execution_count": 7,
   "id": "05896586",
   "metadata": {},
   "outputs": [
    {
     "data": {
      "text/html": [
       "<div>\n",
       "<style scoped>\n",
       "    .dataframe tbody tr th:only-of-type {\n",
       "        vertical-align: middle;\n",
       "    }\n",
       "\n",
       "    .dataframe tbody tr th {\n",
       "        vertical-align: top;\n",
       "    }\n",
       "\n",
       "    .dataframe thead th {\n",
       "        text-align: right;\n",
       "    }\n",
       "</style>\n",
       "<table border=\"1\" class=\"dataframe\">\n",
       "  <thead>\n",
       "    <tr style=\"text-align: right;\">\n",
       "      <th></th>\n",
       "      <th>Parameter</th>\n",
       "      <th>Value</th>\n",
       "    </tr>\n",
       "    <tr>\n",
       "      <th>Parameter</th>\n",
       "      <th></th>\n",
       "      <th></th>\n",
       "    </tr>\n",
       "  </thead>\n",
       "  <tbody>\n",
       "    <tr>\n",
       "      <th>EIOPA_param_file</th>\n",
       "      <td>EIOPA_param_file</td>\n",
       "      <td>Input/Param_no_VA.csv</td>\n",
       "    </tr>\n",
       "    <tr>\n",
       "      <th>EIOPA_curves_file</th>\n",
       "      <td>EIOPA_curves_file</td>\n",
       "      <td>Input/Curves_no_VA.csv</td>\n",
       "    </tr>\n",
       "    <tr>\n",
       "      <th>country</th>\n",
       "      <td>country</td>\n",
       "      <td>Slovenia</td>\n",
       "    </tr>\n",
       "    <tr>\n",
       "      <th>run_type</th>\n",
       "      <td>run_type</td>\n",
       "      <td>Risk Neutral</td>\n",
       "    </tr>\n",
       "    <tr>\n",
       "      <th>n_proj_years</th>\n",
       "      <td>n_proj_years</td>\n",
       "      <td>50</td>\n",
       "    </tr>\n",
       "    <tr>\n",
       "      <th>Precision</th>\n",
       "      <td>Precision</td>\n",
       "      <td>1E-10</td>\n",
       "    </tr>\n",
       "    <tr>\n",
       "      <th>Tau</th>\n",
       "      <td>Tau</td>\n",
       "      <td>0.0001</td>\n",
       "    </tr>\n",
       "    <tr>\n",
       "      <th>compounding</th>\n",
       "      <td>compounding</td>\n",
       "      <td>-1</td>\n",
       "    </tr>\n",
       "    <tr>\n",
       "      <th>Modelling_Date</th>\n",
       "      <td>Modelling_Date</td>\n",
       "      <td>29/04/2023</td>\n",
       "    </tr>\n",
       "  </tbody>\n",
       "</table>\n",
       "</div>"
      ],
      "text/plain": [
       "                           Parameter                   Value\n",
       "Parameter                                                   \n",
       "EIOPA_param_file    EIOPA_param_file   Input/Param_no_VA.csv\n",
       "EIOPA_curves_file  EIOPA_curves_file  Input/Curves_no_VA.csv\n",
       "country                      country                Slovenia\n",
       "run_type                    run_type            Risk Neutral\n",
       "n_proj_years            n_proj_years                      50\n",
       "Precision                  Precision                   1E-10\n",
       "Tau                              Tau                  0.0001\n",
       "compounding              compounding                      -1\n",
       "Modelling_Date        Modelling_Date              29/04/2023"
      ]
     },
     "metadata": {},
     "output_type": "display_data"
    }
   ],
   "source": [
    "display(paramfile)"
   ]
  },
  {
   "cell_type": "code",
   "execution_count": 8,
   "id": "324f5b35",
   "metadata": {},
   "outputs": [],
   "source": [
    "del paramfile[\"Parameter\"]"
   ]
  },
  {
   "cell_type": "markdown",
   "id": "1a0e0606",
   "metadata": {},
   "source": [
    "The settings object holds data about file locations, information about the run settings and model parameters such as modelling date."
   ]
  },
  {
   "cell_type": "code",
   "execution_count": 9,
   "id": "389e3d90",
   "metadata": {},
   "outputs": [],
   "source": [
    "settings = get_settings(parameters_file)"
   ]
  },
  {
   "cell_type": "markdown",
   "id": "ae86c785",
   "metadata": {},
   "source": [
    "The CorpBond object contains information about each equity position. This includes:\n",
    "* asset_id\n",
    "* nace\n",
    "* issuer\n",
    "* issue_date\n",
    "* maturity_date\n",
    "* coupon_rate\n",
    "* bond specific spread\n",
    "* notional_amount\n",
    "* frequency\n",
    "* recovery_rate\n",
    "* default_probability\n",
    "* units\n",
    "* market_price\n",
    "  "
   ]
  },
  {
   "cell_type": "markdown",
   "id": "2a99e7c3",
   "metadata": {},
   "source": [
    "A Python generator reads the bond portfolio file and encodes it into a dictionary based on the asset id. Each asset id contains a CorpBond object describing a single fixed income position."
   ]
  },
  {
   "cell_type": "code",
   "execution_count": 10,
   "id": "f43d9b12",
   "metadata": {},
   "outputs": [],
   "source": [
    "bond_input_generator = get_corporate_bonds(bond_portfolio_file)\n",
    "bond_input = {corp_bond.asset_id: corp_bond for corp_bond in bond_input_generator}"
   ]
  },
  {
   "cell_type": "markdown",
   "id": "2ef975e1",
   "metadata": {},
   "source": [
    "The dictionary containing the bond portfolio is:"
   ]
  },
  {
   "cell_type": "code",
   "execution_count": 11,
   "id": "f92b972b",
   "metadata": {},
   "outputs": [
    {
     "data": {
      "text/plain": [
       "{1234: CorpBond(asset_id=1234, nace='A1.4.5', issuer=None, issue_date=datetime.date(2021, 12, 3), maturity_date=datetime.date(2026, 12, 12), coupon_rate=0.03, notional_amount=100.0, zspread=0.01, frequency=1, recovery_rate=0.4, default_probability=0.03, units=1.0, market_price=94.0),\n",
       " 2889: CorpBond(asset_id=2889, nace='B5.2.0', issuer=None, issue_date=datetime.date(2021, 12, 3), maturity_date=datetime.date(2028, 12, 12), coupon_rate=0.05, notional_amount=100.0, zspread=0.01, frequency=2, recovery_rate=0.4, default_probability=0.03, units=2.0, market_price=92.0),\n",
       " 31: CorpBond(asset_id=31, nace='B8.9.3', issuer=None, issue_date=datetime.date(2019, 12, 3), maturity_date=datetime.date(2025, 12, 3), coupon_rate=0.04, notional_amount=100.0, zspread=0.01, frequency=12, recovery_rate=0.4, default_probability=0.03, units=3.0, market_price=96.0)}"
      ]
     },
     "metadata": {},
     "output_type": "display_data"
    }
   ],
   "source": [
    "display(bond_input)"
   ]
  },
  {
   "cell_type": "markdown",
   "id": "d23aa529",
   "metadata": {},
   "source": [
    "CorpBondPortfolio class contains all CorpBond objects in a dictionary:"
   ]
  },
  {
   "cell_type": "code",
   "execution_count": 12,
   "id": "5a93ea15",
   "metadata": {},
   "outputs": [],
   "source": [
    "bond_portfolio = CorpBondPortfolio(bond_input)"
   ]
  },
  {
   "cell_type": "code",
   "execution_count": 13,
   "id": "eff8c400",
   "metadata": {},
   "outputs": [
    {
     "data": {
      "text/plain": [
       "{1234: CorpBond(asset_id=1234, nace='A1.4.5', issuer=None, issue_date=datetime.date(2021, 12, 3), maturity_date=datetime.date(2026, 12, 12), coupon_rate=0.03, notional_amount=100.0, zspread=0.01, frequency=1, recovery_rate=0.4, default_probability=0.03, units=1.0, market_price=94.0),\n",
       " 2889: CorpBond(asset_id=2889, nace='B5.2.0', issuer=None, issue_date=datetime.date(2021, 12, 3), maturity_date=datetime.date(2028, 12, 12), coupon_rate=0.05, notional_amount=100.0, zspread=0.01, frequency=2, recovery_rate=0.4, default_probability=0.03, units=2.0, market_price=92.0),\n",
       " 31: CorpBond(asset_id=31, nace='B8.9.3', issuer=None, issue_date=datetime.date(2019, 12, 3), maturity_date=datetime.date(2025, 12, 3), coupon_rate=0.04, notional_amount=100.0, zspread=0.01, frequency=12, recovery_rate=0.4, default_probability=0.03, units=3.0, market_price=96.0)}"
      ]
     },
     "execution_count": 13,
     "metadata": {},
     "output_type": "execute_result"
    }
   ],
   "source": [
    "bond_portfolio.corporate_bonds"
   ]
  },
  {
   "cell_type": "markdown",
   "id": "4a99d246",
   "metadata": {},
   "source": [
    "## Importing the information about the economic environment\n",
    "\n",
    "import_SWEiopa() reads the necessary data about the current yield curve. One of these parameters (the ufr or ultimate forward rate) is necessary in the equity example as ufr is used in the Gordon growth formula to calculate the terminal value of the equity position. Inside OSEM, the parameters related to the yield curve are saved in the Curves object. "
   ]
  },
  {
   "cell_type": "code",
   "execution_count": 14,
   "id": "cad2aa84",
   "metadata": {},
   "outputs": [],
   "source": [
    "[maturities_country, curve_country, extra_param, Qb] = import_SWEiopa(settings.EIOPA_param_file,\n",
    "                                                                          settings.EIOPA_curves_file, settings.country)\n",
    "# Curves object with information about term structure\n",
    "curves = Curves(extra_param[\"UFR\"] / 100, settings.precision, settings.tau, settings.modelling_date,\n",
    "                settings.country)"
   ]
  },
  {
   "cell_type": "code",
   "execution_count": 15,
   "id": "b0947b28",
   "metadata": {},
   "outputs": [],
   "source": [
    "ufr = extra_param[\"UFR\"]/100 # ultimate forward rate\n",
    "precision = float(settings.precision) # Numeric precision of the optimisation\n",
    "# Targeted distance between the extrapolated curve and the ufr at the convergence point\n",
    "tau = float(settings.tau) # 1 basis point"
   ]
  },
  {
   "cell_type": "code",
   "execution_count": 16,
   "id": "7fddfac3",
   "metadata": {},
   "outputs": [],
   "source": [
    "curves.SetObservedTermStructure(maturity_vec=curve_country.index.tolist(), yield_vec=curve_country.values)\n",
    "curves.CalcFwdRates()\n",
    "curves.ProjectForwardRate(settings.n_proj_years)\n",
    "curves.CalibrateProjected(settings.n_proj_years, 0.05, 0.5, 1000)"
   ]
  },
  {
   "cell_type": "code",
   "execution_count": 17,
   "id": "dbce8cad",
   "metadata": {},
   "outputs": [],
   "source": [
    "spreadfile = pd.read_csv(\"Input/Sector_Spread.csv\")\n",
    "spreadfile.index = spreadfile[\"NACE\"]\n",
    "del spreadfile[\"NACE\"]"
   ]
  },
  {
   "cell_type": "markdown",
   "id": "3775ba12",
   "metadata": {},
   "source": [
    "Save the calibration parameters of the selected curve into the Curves instance:"
   ]
  },
  {
   "cell_type": "markdown",
   "id": "4fa2d76f",
   "metadata": {},
   "source": [
    "### Cash flow projection of a bond portfolio\n",
    "\n",
    "The basis of OSEM is cash flow simulation. The cash flows for the coupon payment and the return of the notional are simulated separately. \n",
    "\n",
    "A list of dictionaries containing all the dates and amounts of coupon payments are produced by calling the create_coupon_flows function:"
   ]
  },
  {
   "cell_type": "code",
   "execution_count": 18,
   "id": "bae77bd7",
   "metadata": {},
   "outputs": [],
   "source": [
    "dividend_flows = bond_portfolio.create_coupon_flows(settings.modelling_date, settings.end_date)"
   ]
  },
  {
   "cell_type": "markdown",
   "id": "f2944def",
   "metadata": {},
   "source": [
    "The list of dictionaries containing the return of the notional amount is produced by calling the function create_maturity_flows:"
   ]
  },
  {
   "cell_type": "code",
   "execution_count": 19,
   "id": "bd86897d",
   "metadata": {},
   "outputs": [],
   "source": [
    "terminal_flows = bond_portfolio.create_maturity_flows(terminal_date=settings.end_date)"
   ]
  },
  {
   "cell_type": "markdown",
   "id": "1efeaffe",
   "metadata": {},
   "source": [
    "All cash flows can be represented in a matrix with all possible cash flow dates as columns and all equities as rows. The non-zero entries then represent the value of the cash flow at that date. The first step is to calculate the unique dates for the entire portfolio of bonds. This is done by calling the unique_dates_profiles() function over the dates related to coupons or notional amount payments.\n",
    "\n",
    "Both can then conveniently be represented as DataFrames.\n",
    "\n",
    "Note that a vector of bond specific spreads is also provided as output."
   ]
  },
  {
   "cell_type": "code",
   "execution_count": 20,
   "id": "5c7c31be",
   "metadata": {},
   "outputs": [],
   "source": [
    "unique_list = bond_portfolio.unique_dates_profile(dividend_flows)"
   ]
  },
  {
   "cell_type": "code",
   "execution_count": 21,
   "id": "0ff89040",
   "metadata": {},
   "outputs": [],
   "source": [
    "unique_terminal_list = bond_portfolio.unique_dates_profile(terminal_flows)"
   ]
  },
  {
   "cell_type": "markdown",
   "id": "54eab2d0",
   "metadata": {},
   "source": [
    "Using the sorted list of unique dates as column headers, the dataframes containing the information related to the cash flows can be produced. \n",
    "\n",
    "The first dataframe contains the market price of each position. Additionaly, the dataframe of zspreads is returned that helps to price the bonds using a discounted cash flow method. The last output is a dataframe containing the amount (units) of each bond in the portfolio is created. "
   ]
  },
  {
   "cell_type": "code",
   "execution_count": 22,
   "id": "e1e06fdc",
   "metadata": {},
   "outputs": [],
   "source": [
    "[market_price_df, zspread_df, units_df] = bond_portfolio.init_bond_portfolio_to_dataframe(settings.modelling_date)"
   ]
  },
  {
   "cell_type": "markdown",
   "id": "787e2fe9",
   "metadata": {},
   "source": [
    "A dataframe of cash flows and notional amount payments is created:"
   ]
  },
  {
   "cell_type": "code",
   "execution_count": 23,
   "id": "f5c66705",
   "metadata": {},
   "outputs": [],
   "source": [
    "# Dataframe with bond  coupon cash flows\n",
    "cash_flows = create_cashflow_dataframe(dividend_flows, unique_list)\n",
    "# Dataframe with bond notional cash flows\n",
    "notional_cash_flows = create_cashflow_dataframe(terminal_flows, unique_terminal_list)"
   ]
  },
  {
   "cell_type": "markdown",
   "id": "7ca3312a",
   "metadata": {},
   "source": [
    "Cash flow dataframe with coupon amounts and dates:"
   ]
  },
  {
   "cell_type": "code",
   "execution_count": 24,
   "id": "f402f6d6",
   "metadata": {},
   "outputs": [
    {
     "data": {
      "text/html": [
       "<div>\n",
       "<style scoped>\n",
       "    .dataframe tbody tr th:only-of-type {\n",
       "        vertical-align: middle;\n",
       "    }\n",
       "\n",
       "    .dataframe tbody tr th {\n",
       "        vertical-align: top;\n",
       "    }\n",
       "\n",
       "    .dataframe thead th {\n",
       "        text-align: right;\n",
       "    }\n",
       "</style>\n",
       "<table border=\"1\" class=\"dataframe\">\n",
       "  <thead>\n",
       "    <tr style=\"text-align: right;\">\n",
       "      <th></th>\n",
       "      <th>2023-05-03</th>\n",
       "      <th>2023-06-03</th>\n",
       "      <th>2023-07-03</th>\n",
       "      <th>2023-08-03</th>\n",
       "      <th>2023-09-03</th>\n",
       "      <th>2023-10-03</th>\n",
       "      <th>2023-11-03</th>\n",
       "      <th>2023-12-03</th>\n",
       "      <th>2024-01-03</th>\n",
       "      <th>2024-02-03</th>\n",
       "      <th>...</th>\n",
       "      <th>2025-09-03</th>\n",
       "      <th>2025-10-03</th>\n",
       "      <th>2025-11-03</th>\n",
       "      <th>2025-12-03</th>\n",
       "      <th>2026-06-03</th>\n",
       "      <th>2026-12-03</th>\n",
       "      <th>2027-06-03</th>\n",
       "      <th>2027-12-03</th>\n",
       "      <th>2028-06-03</th>\n",
       "      <th>2028-12-03</th>\n",
       "    </tr>\n",
       "  </thead>\n",
       "  <tbody>\n",
       "    <tr>\n",
       "      <th>1234</th>\n",
       "      <td>0.0</td>\n",
       "      <td>0.0</td>\n",
       "      <td>0.0</td>\n",
       "      <td>0.0</td>\n",
       "      <td>0.0</td>\n",
       "      <td>0.0</td>\n",
       "      <td>0.0</td>\n",
       "      <td>3.0</td>\n",
       "      <td>0.0</td>\n",
       "      <td>0.0</td>\n",
       "      <td>...</td>\n",
       "      <td>0.0</td>\n",
       "      <td>0.0</td>\n",
       "      <td>0.0</td>\n",
       "      <td>3.0</td>\n",
       "      <td>0.0</td>\n",
       "      <td>3.0</td>\n",
       "      <td>0.0</td>\n",
       "      <td>0.0</td>\n",
       "      <td>0.0</td>\n",
       "      <td>0.0</td>\n",
       "    </tr>\n",
       "    <tr>\n",
       "      <th>2889</th>\n",
       "      <td>0.0</td>\n",
       "      <td>5.0</td>\n",
       "      <td>0.0</td>\n",
       "      <td>0.0</td>\n",
       "      <td>0.0</td>\n",
       "      <td>0.0</td>\n",
       "      <td>0.0</td>\n",
       "      <td>5.0</td>\n",
       "      <td>0.0</td>\n",
       "      <td>0.0</td>\n",
       "      <td>...</td>\n",
       "      <td>0.0</td>\n",
       "      <td>0.0</td>\n",
       "      <td>0.0</td>\n",
       "      <td>5.0</td>\n",
       "      <td>5.0</td>\n",
       "      <td>5.0</td>\n",
       "      <td>5.0</td>\n",
       "      <td>5.0</td>\n",
       "      <td>5.0</td>\n",
       "      <td>5.0</td>\n",
       "    </tr>\n",
       "    <tr>\n",
       "      <th>31</th>\n",
       "      <td>4.0</td>\n",
       "      <td>4.0</td>\n",
       "      <td>4.0</td>\n",
       "      <td>4.0</td>\n",
       "      <td>4.0</td>\n",
       "      <td>4.0</td>\n",
       "      <td>4.0</td>\n",
       "      <td>4.0</td>\n",
       "      <td>4.0</td>\n",
       "      <td>4.0</td>\n",
       "      <td>...</td>\n",
       "      <td>4.0</td>\n",
       "      <td>4.0</td>\n",
       "      <td>4.0</td>\n",
       "      <td>4.0</td>\n",
       "      <td>0.0</td>\n",
       "      <td>0.0</td>\n",
       "      <td>0.0</td>\n",
       "      <td>0.0</td>\n",
       "      <td>0.0</td>\n",
       "      <td>0.0</td>\n",
       "    </tr>\n",
       "  </tbody>\n",
       "</table>\n",
       "<p>3 rows × 38 columns</p>\n",
       "</div>"
      ],
      "text/plain": [
       "      2023-05-03  2023-06-03  2023-07-03  2023-08-03  2023-09-03  2023-10-03  \\\n",
       "1234         0.0         0.0         0.0         0.0         0.0         0.0   \n",
       "2889         0.0         5.0         0.0         0.0         0.0         0.0   \n",
       "31           4.0         4.0         4.0         4.0         4.0         4.0   \n",
       "\n",
       "      2023-11-03  2023-12-03  2024-01-03  2024-02-03  ...  2025-09-03  \\\n",
       "1234         0.0         3.0         0.0         0.0  ...         0.0   \n",
       "2889         0.0         5.0         0.0         0.0  ...         0.0   \n",
       "31           4.0         4.0         4.0         4.0  ...         4.0   \n",
       "\n",
       "      2025-10-03  2025-11-03  2025-12-03  2026-06-03  2026-12-03  2027-06-03  \\\n",
       "1234         0.0         0.0         3.0         0.0         3.0         0.0   \n",
       "2889         0.0         0.0         5.0         5.0         5.0         5.0   \n",
       "31           4.0         4.0         4.0         0.0         0.0         0.0   \n",
       "\n",
       "      2027-12-03  2028-06-03  2028-12-03  \n",
       "1234         0.0         0.0         0.0  \n",
       "2889         5.0         5.0         5.0  \n",
       "31           0.0         0.0         0.0  \n",
       "\n",
       "[3 rows x 38 columns]"
      ]
     },
     "metadata": {},
     "output_type": "display_data"
    }
   ],
   "source": [
    "display(cash_flows)"
   ]
  },
  {
   "cell_type": "markdown",
   "id": "15622214",
   "metadata": {},
   "source": [
    "Cash flow dataframe with notional amount payments and dates:"
   ]
  },
  {
   "cell_type": "code",
   "execution_count": 25,
   "id": "6648b5bd",
   "metadata": {},
   "outputs": [
    {
     "data": {
      "text/html": [
       "<div>\n",
       "<style scoped>\n",
       "    .dataframe tbody tr th:only-of-type {\n",
       "        vertical-align: middle;\n",
       "    }\n",
       "\n",
       "    .dataframe tbody tr th {\n",
       "        vertical-align: top;\n",
       "    }\n",
       "\n",
       "    .dataframe thead th {\n",
       "        text-align: right;\n",
       "    }\n",
       "</style>\n",
       "<table border=\"1\" class=\"dataframe\">\n",
       "  <thead>\n",
       "    <tr style=\"text-align: right;\">\n",
       "      <th></th>\n",
       "      <th>2025-12-03</th>\n",
       "      <th>2026-12-12</th>\n",
       "      <th>2028-12-12</th>\n",
       "    </tr>\n",
       "  </thead>\n",
       "  <tbody>\n",
       "    <tr>\n",
       "      <th>1234</th>\n",
       "      <td>0.0</td>\n",
       "      <td>100.0</td>\n",
       "      <td>0.0</td>\n",
       "    </tr>\n",
       "    <tr>\n",
       "      <th>2889</th>\n",
       "      <td>0.0</td>\n",
       "      <td>0.0</td>\n",
       "      <td>100.0</td>\n",
       "    </tr>\n",
       "    <tr>\n",
       "      <th>31</th>\n",
       "      <td>100.0</td>\n",
       "      <td>0.0</td>\n",
       "      <td>0.0</td>\n",
       "    </tr>\n",
       "  </tbody>\n",
       "</table>\n",
       "</div>"
      ],
      "text/plain": [
       "      2025-12-03  2026-12-12  2028-12-12\n",
       "1234         0.0       100.0         0.0\n",
       "2889         0.0         0.0       100.0\n",
       "31         100.0         0.0         0.0"
      ]
     },
     "metadata": {},
     "output_type": "display_data"
    }
   ],
   "source": [
    "display(notional_cash_flows)"
   ]
  },
  {
   "cell_type": "markdown",
   "id": "51ce58a6",
   "metadata": {},
   "source": [
    "The extra spread due to the extra riskines of the bond compared to a risk free instrument:"
   ]
  },
  {
   "cell_type": "code",
   "execution_count": 26,
   "id": "2180058e",
   "metadata": {},
   "outputs": [
    {
     "data": {
      "text/html": [
       "<div>\n",
       "<style scoped>\n",
       "    .dataframe tbody tr th:only-of-type {\n",
       "        vertical-align: middle;\n",
       "    }\n",
       "\n",
       "    .dataframe tbody tr th {\n",
       "        vertical-align: top;\n",
       "    }\n",
       "\n",
       "    .dataframe thead th {\n",
       "        text-align: right;\n",
       "    }\n",
       "</style>\n",
       "<table border=\"1\" class=\"dataframe\">\n",
       "  <thead>\n",
       "    <tr style=\"text-align: right;\">\n",
       "      <th></th>\n",
       "      <th>2023-04-29</th>\n",
       "    </tr>\n",
       "  </thead>\n",
       "  <tbody>\n",
       "    <tr>\n",
       "      <th>1234</th>\n",
       "      <td>0.01</td>\n",
       "    </tr>\n",
       "    <tr>\n",
       "      <th>2889</th>\n",
       "      <td>0.01</td>\n",
       "    </tr>\n",
       "    <tr>\n",
       "      <th>31</th>\n",
       "      <td>0.01</td>\n",
       "    </tr>\n",
       "  </tbody>\n",
       "</table>\n",
       "</div>"
      ],
      "text/plain": [
       "      2023-04-29\n",
       "1234        0.01\n",
       "2889        0.01\n",
       "31          0.01"
      ]
     },
     "metadata": {},
     "output_type": "display_data"
    }
   ],
   "source": [
    "display(zspread_df)"
   ]
  },
  {
   "cell_type": "markdown",
   "id": "95ad6415",
   "metadata": {},
   "source": [
    "### Calculation of present value of each instrument\n",
    "The cashflows can be used to price the current market value of the bond, implied by the assumed economic parameters.\n",
    "\n",
    "This pricing is done using the risk free rate as the discounting factor. In practice, the price of risk for an equity share is positive.\n",
    "\n",
    "A calibration method needs to be used to calculate the spread implied by the market.\n",
    "This example will show the pricing using the risk free rate assumptions and the calibration that returns the spread such that the observed market price is preserved.\n",
    "\n",
    "\n",
    "For simplicity, this example does the pricing at the modelling date by setting the projection year equal to 0."
   ]
  },
  {
   "cell_type": "code",
   "execution_count": 27,
   "id": "2a8aa3da",
   "metadata": {},
   "outputs": [],
   "source": [
    "proj_period = 0"
   ]
  },
  {
   "cell_type": "markdown",
   "id": "d30960a2",
   "metadata": {},
   "source": [
    "The present value of the bond implied by the current yield strucute is:"
   ]
  },
  {
   "cell_type": "code",
   "execution_count": 28,
   "id": "e93a3c42",
   "metadata": {},
   "outputs": [],
   "source": [
    "market_price_df = bond_portfolio.price_bond_portfolio(cash_flows, notional_cash_flows, settings, proj_period, curves, zspread_df, market_price_df,settings.modelling_date)"
   ]
  },
  {
   "cell_type": "code",
   "execution_count": 29,
   "id": "49488669",
   "metadata": {},
   "outputs": [
    {
     "data": {
      "text/html": [
       "<div>\n",
       "<style scoped>\n",
       "    .dataframe tbody tr th:only-of-type {\n",
       "        vertical-align: middle;\n",
       "    }\n",
       "\n",
       "    .dataframe tbody tr th {\n",
       "        vertical-align: top;\n",
       "    }\n",
       "\n",
       "    .dataframe thead th {\n",
       "        text-align: right;\n",
       "    }\n",
       "</style>\n",
       "<table border=\"1\" class=\"dataframe\">\n",
       "  <thead>\n",
       "    <tr style=\"text-align: right;\">\n",
       "      <th></th>\n",
       "      <th>2023-04-29</th>\n",
       "    </tr>\n",
       "  </thead>\n",
       "  <tbody>\n",
       "    <tr>\n",
       "      <th>1234</th>\n",
       "      <td>96.375799</td>\n",
       "    </tr>\n",
       "    <tr>\n",
       "      <th>2889</th>\n",
       "      <td>131.437251</td>\n",
       "    </tr>\n",
       "    <tr>\n",
       "      <th>31</th>\n",
       "      <td>210.297223</td>\n",
       "    </tr>\n",
       "  </tbody>\n",
       "</table>\n",
       "</div>"
      ],
      "text/plain": [
       "      2023-04-29\n",
       "1234   96.375799\n",
       "2889  131.437251\n",
       "31    210.297223"
      ]
     },
     "execution_count": 29,
     "metadata": {},
     "output_type": "execute_result"
    }
   ],
   "source": [
    "market_price_df"
   ]
  },
  {
   "cell_type": "markdown",
   "id": "64b6463e",
   "metadata": {},
   "source": [
    "### Calibrate the spread to match market price\n",
    "\n",
    "To calibrate the spread implied by the market, OSEM uses a bisection method to obtain the spread such that when added on top of the risk free term structure, the discounted cashflows equal to the current market price."
   ]
  },
  {
   "cell_type": "code",
   "execution_count": 30,
   "id": "9681162e",
   "metadata": {},
   "outputs": [],
   "source": [
    "calibrated_spread = bond_portfolio.corporate_bonds[1234].bisection_spread(x_start=-0.2\n",
    "                                , x_end=0.2\n",
    "                                , modelling_date=settings. modelling_date\n",
    "                                , end_date=settings.end_date\n",
    "                                , proj_period=proj_period\n",
    "                                , curves=curves\n",
    "                                , precision= 0.00000001\n",
    "                                , max_iter=100000)"
   ]
  },
  {
   "cell_type": "markdown",
   "id": "b8056643",
   "metadata": {},
   "source": [
    "The market value calculated using the discounted cash flow method using the calibrated zspread is:"
   ]
  },
  {
   "cell_type": "code",
   "execution_count": 31,
   "id": "a5eed195",
   "metadata": {},
   "outputs": [
    {
     "data": {
      "text/plain": [
       "array([94.00000004])"
      ]
     },
     "execution_count": 31,
     "metadata": {},
     "output_type": "execute_result"
    }
   ],
   "source": [
    "bond_portfolio.corporate_bonds[1234].price_bond(cash_flows.loc[1234],notional_cash_flows.loc[1234],settings.modelling_date, proj_period,curves,calibrated_spread)"
   ]
  }
 ],
 "metadata": {
  "kernelspec": {
   "display_name": "Python 3 (ipykernel)",
   "language": "python",
   "name": "python3"
  },
  "language_info": {
   "codemirror_mode": {
    "name": "ipython",
    "version": 3
   },
   "file_extension": ".py",
   "mimetype": "text/x-python",
   "name": "python",
   "nbconvert_exporter": "python",
   "pygments_lexer": "ipython3",
   "version": "3.9.7"
  }
 },
 "nbformat": 4,
 "nbformat_minor": 5
}
