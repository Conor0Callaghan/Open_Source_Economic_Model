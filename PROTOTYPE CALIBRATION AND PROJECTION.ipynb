{
 "cells": [
  {
   "attachments": {},
   "cell_type": "markdown",
   "id": "e4a19110",
   "metadata": {},
   "source": [
    "# Prototype of projection the EIOPA curve n-years year ahead and recalibrating the Smith Wilson algorithm to the new curve"
   ]
  },
  {
   "cell_type": "code",
   "execution_count": 1,
   "id": "49ae88db",
   "metadata": {},
   "outputs": [],
   "source": [
    "import numpy as np\n",
    "import pandas as pd\n",
    "import matplotlib.pyplot as plt\n",
    "import matplotlib.ticker as mtick"
   ]
  },
  {
   "cell_type": "code",
   "execution_count": 2,
   "id": "cae8e38e",
   "metadata": {},
   "outputs": [],
   "source": [
    "from ImportData import importSWEiopa\n",
    "from Curves import Curves"
   ]
  },
  {
   "attachments": {},
   "cell_type": "markdown",
   "id": "6ff19c80",
   "metadata": {},
   "source": [
    "## Import Param file"
   ]
  },
  {
   "cell_type": "code",
   "execution_count": 3,
   "id": "76947335",
   "metadata": {},
   "outputs": [],
   "source": [
    "paramfile = pd.read_csv(\"Parameters.csv\")\n",
    "paramfile.index = paramfile[\"Parameter\"]\n",
    "del paramfile[\"Parameter\"]"
   ]
  },
  {
   "attachments": {},
   "cell_type": "markdown",
   "id": "3df2f181",
   "metadata": {},
   "source": [
    "## Read base EIOPA curve from file"
   ]
  },
  {
   "cell_type": "code",
   "execution_count": 4,
   "id": "96ba2d05",
   "metadata": {},
   "outputs": [],
   "source": [
    "selected_param_file = paramfile.loc[\"EIOPA_param_file\"][0]\n",
    "selected_curves_file = paramfile.loc[\"EIOPA_curves_file\"][0]\n",
    "country = paramfile.loc[\"country\"][0]\n",
    "\n",
    "[maturities_country, curve_country, extra_param, Qb]= importSWEiopa(selected_param_file, selected_curves_file, country)"
   ]
  },
  {
   "attachments": {},
   "cell_type": "markdown",
   "id": "f2358d29",
   "metadata": {},
   "source": [
    "## Initiate Curve object"
   ]
  },
  {
   "cell_type": "code",
   "execution_count": 5,
   "id": "78b1b253",
   "metadata": {},
   "outputs": [],
   "source": [
    "# ultimate forward rate\n",
    "ufr = extra_param[\"UFR\"]/100\n",
    "# Numeric precision of the optimisation\n",
    "Precision = float(paramfile.loc[\"Precision\"][0])\n",
    "\n",
    "# Targeted distance between the extrapolated curve and the ultimate forward rate at the convergence point\n",
    "Tau = float(paramfile.loc[\"Tau\"][0])# 1 basis point\n",
    "\n",
    "Country = paramfile.loc[\"country\"]\n",
    "\n",
    "InitialDate = paramfile.loc[\"Modelling_Date\"]"
   ]
  },
  {
   "cell_type": "code",
   "execution_count": 6,
   "id": "68513113",
   "metadata": {},
   "outputs": [],
   "source": [
    "Curves = Curves(ufr, Precision, Tau, InitialDate, Country)"
   ]
  },
  {
   "cell_type": "code",
   "execution_count": 7,
   "id": "be7952ff",
   "metadata": {},
   "outputs": [],
   "source": [
    "Curves.M_Obs = pd.DataFrame(data=range(1,curve_country.size+1),index=None, columns=[\"Maturity\"])\n",
    "Curves.r_Obs = pd.DataFrame(data=curve_country.values, index=None, columns=[\"Yield\"])"
   ]
  },
  {
   "attachments": {},
   "cell_type": "markdown",
   "id": "17176006",
   "metadata": {},
   "source": [
    "### Calculate 1 year forward rates\n",
    "\n",
    "The forward rates will be used to calculate forward spot curves"
   ]
  },
  {
   "cell_type": "code",
   "execution_count": 8,
   "id": "856fa1e5",
   "metadata": {},
   "outputs": [],
   "source": [
    "fwdata = ((Curves.r_Obs[\"Yield\"]+1) ** Curves.M_Obs[\"Maturity\"])/((Curves.r_Obs[\"Yield\"].shift(periods=1)+1) ** Curves.M_Obs[\"Maturity\"].shift(periods=1))"
   ]
  },
  {
   "cell_type": "code",
   "execution_count": 9,
   "id": "720ed481",
   "metadata": {},
   "outputs": [],
   "source": [
    "Curves.FwdRates = pd.DataFrame(data=fwdata.values, index=None, columns=[\"Forward\"])"
   ]
  },
  {
   "attachments": {},
   "cell_type": "markdown",
   "id": "f28e2898",
   "metadata": {},
   "source": [
    "### Forward spot rates"
   ]
  },
  {
   "attachments": {},
   "cell_type": "markdown",
   "id": "f7262cdd",
   "metadata": {},
   "source": [
    "$$\n",
    "y_i(t-i) = \\prod_i^t\\big(1+fw_{EIOPA}(t)\\big)^{\\frac{1}{t-i}}\n",
    "\n",
    "\n",
    "$$"
   ]
  },
  {
   "cell_type": "code",
   "execution_count": 10,
   "id": "cea66290",
   "metadata": {},
   "outputs": [],
   "source": [
    "# Number of projection years\n",
    "N = int(paramfile.loc[\"n_proj_years\"][0])"
   ]
  },
  {
   "cell_type": "code",
   "execution_count": 11,
   "id": "ba7642f8",
   "metadata": {},
   "outputs": [],
   "source": [
    "#EIOPA_curvefwd = EIOPA_curve\n",
    "\n",
    "for year in range(1,N):\n",
    "    spot = ((1+Curves.FwdRates[\"Forward\"][year:]).cumprod(axis=None)**(1/(Curves.M_Obs[\"Maturity\"]-year))-1)[year:]-1\n",
    "    Curves.r_Obs=Curves.r_Obs.join(pd.Series(data=spot.values, index=None, name=\"Yield year\"+str(year)))"
   ]
  },
  {
   "cell_type": "code",
   "execution_count": 12,
   "id": "c28b4868",
   "metadata": {},
   "outputs": [
    {
     "data": {
      "text/html": [
       "<div>\n",
       "<style scoped>\n",
       "    .dataframe tbody tr th:only-of-type {\n",
       "        vertical-align: middle;\n",
       "    }\n",
       "\n",
       "    .dataframe tbody tr th {\n",
       "        vertical-align: top;\n",
       "    }\n",
       "\n",
       "    .dataframe thead th {\n",
       "        text-align: right;\n",
       "    }\n",
       "</style>\n",
       "<table border=\"1\" class=\"dataframe\">\n",
       "  <thead>\n",
       "    <tr style=\"text-align: right;\">\n",
       "      <th></th>\n",
       "      <th>Yield</th>\n",
       "      <th>Yield year1</th>\n",
       "      <th>Yield year2</th>\n",
       "      <th>Yield year3</th>\n",
       "      <th>Yield year4</th>\n",
       "      <th>Yield year5</th>\n",
       "      <th>Yield year6</th>\n",
       "      <th>Yield year7</th>\n",
       "      <th>Yield year8</th>\n",
       "      <th>Yield year9</th>\n",
       "      <th>...</th>\n",
       "      <th>Yield year40</th>\n",
       "      <th>Yield year41</th>\n",
       "      <th>Yield year42</th>\n",
       "      <th>Yield year43</th>\n",
       "      <th>Yield year44</th>\n",
       "      <th>Yield year45</th>\n",
       "      <th>Yield year46</th>\n",
       "      <th>Yield year47</th>\n",
       "      <th>Yield year48</th>\n",
       "      <th>Yield year49</th>\n",
       "    </tr>\n",
       "  </thead>\n",
       "  <tbody>\n",
       "    <tr>\n",
       "      <th>0</th>\n",
       "      <td>0.03472</td>\n",
       "      <td>0.031582</td>\n",
       "      <td>0.027909</td>\n",
       "      <td>0.026170</td>\n",
       "      <td>0.026146</td>\n",
       "      <td>0.026663</td>\n",
       "      <td>0.027041</td>\n",
       "      <td>0.027560</td>\n",
       "      <td>0.028290</td>\n",
       "      <td>0.028950</td>\n",
       "      <td>...</td>\n",
       "      <td>0.033653</td>\n",
       "      <td>0.033492</td>\n",
       "      <td>0.033733</td>\n",
       "      <td>0.033531</td>\n",
       "      <td>0.034204</td>\n",
       "      <td>0.033982</td>\n",
       "      <td>0.033731</td>\n",
       "      <td>0.033931</td>\n",
       "      <td>0.034131</td>\n",
       "      <td>0.034332</td>\n",
       "    </tr>\n",
       "    <tr>\n",
       "      <th>1</th>\n",
       "      <td>0.03315</td>\n",
       "      <td>0.029745</td>\n",
       "      <td>0.027039</td>\n",
       "      <td>0.026158</td>\n",
       "      <td>0.026404</td>\n",
       "      <td>0.026852</td>\n",
       "      <td>0.027301</td>\n",
       "      <td>0.027925</td>\n",
       "      <td>0.028620</td>\n",
       "      <td>0.028010</td>\n",
       "      <td>...</td>\n",
       "      <td>0.033573</td>\n",
       "      <td>0.033612</td>\n",
       "      <td>0.033632</td>\n",
       "      <td>0.033867</td>\n",
       "      <td>0.034093</td>\n",
       "      <td>0.033856</td>\n",
       "      <td>0.033831</td>\n",
       "      <td>0.034031</td>\n",
       "      <td>0.034232</td>\n",
       "      <td>0.034176</td>\n",
       "    </tr>\n",
       "    <tr>\n",
       "      <th>2</th>\n",
       "      <td>0.03140</td>\n",
       "      <td>0.028552</td>\n",
       "      <td>0.026741</td>\n",
       "      <td>0.026326</td>\n",
       "      <td>0.026617</td>\n",
       "      <td>0.027088</td>\n",
       "      <td>0.027631</td>\n",
       "      <td>0.028267</td>\n",
       "      <td>0.028104</td>\n",
       "      <td>0.029452</td>\n",
       "      <td>...</td>\n",
       "      <td>0.033626</td>\n",
       "      <td>0.033585</td>\n",
       "      <td>0.033823</td>\n",
       "      <td>0.033906</td>\n",
       "      <td>0.033972</td>\n",
       "      <td>0.033881</td>\n",
       "      <td>0.033931</td>\n",
       "      <td>0.034131</td>\n",
       "      <td>0.034161</td>\n",
       "      <td>0.034184</td>\n",
       "    </tr>\n",
       "    <tr>\n",
       "      <th>3</th>\n",
       "      <td>0.03009</td>\n",
       "      <td>0.027951</td>\n",
       "      <td>0.026722</td>\n",
       "      <td>0.026505</td>\n",
       "      <td>0.026853</td>\n",
       "      <td>0.027389</td>\n",
       "      <td>0.027960</td>\n",
       "      <td>0.027968</td>\n",
       "      <td>0.029161</td>\n",
       "      <td>0.029882</td>\n",
       "      <td>...</td>\n",
       "      <td>0.033602</td>\n",
       "      <td>0.033740</td>\n",
       "      <td>0.033862</td>\n",
       "      <td>0.033862</td>\n",
       "      <td>0.033962</td>\n",
       "      <td>0.033944</td>\n",
       "      <td>0.034031</td>\n",
       "      <td>0.034104</td>\n",
       "      <td>0.034171</td>\n",
       "      <td>0.034233</td>\n",
       "    </tr>\n",
       "    <tr>\n",
       "      <th>4</th>\n",
       "      <td>0.02930</td>\n",
       "      <td>0.027693</td>\n",
       "      <td>0.026786</td>\n",
       "      <td>0.026716</td>\n",
       "      <td>0.027140</td>\n",
       "      <td>0.027701</td>\n",
       "      <td>0.027782</td>\n",
       "      <td>0.028841</td>\n",
       "      <td>0.029563</td>\n",
       "      <td>0.029543</td>\n",
       "      <td>...</td>\n",
       "      <td>0.033723</td>\n",
       "      <td>0.033788</td>\n",
       "      <td>0.033836</td>\n",
       "      <td>0.033876</td>\n",
       "      <td>0.033996</td>\n",
       "      <td>0.034021</td>\n",
       "      <td>0.034029</td>\n",
       "      <td>0.034123</td>\n",
       "      <td>0.034213</td>\n",
       "      <td>0.034299</td>\n",
       "    </tr>\n",
       "    <tr>\n",
       "      <th>...</th>\n",
       "      <td>...</td>\n",
       "      <td>...</td>\n",
       "      <td>...</td>\n",
       "      <td>...</td>\n",
       "      <td>...</td>\n",
       "      <td>...</td>\n",
       "      <td>...</td>\n",
       "      <td>...</td>\n",
       "      <td>...</td>\n",
       "      <td>...</td>\n",
       "      <td>...</td>\n",
       "      <td>...</td>\n",
       "      <td>...</td>\n",
       "      <td>...</td>\n",
       "      <td>...</td>\n",
       "      <td>...</td>\n",
       "      <td>...</td>\n",
       "      <td>...</td>\n",
       "      <td>...</td>\n",
       "      <td>...</td>\n",
       "      <td>...</td>\n",
       "    </tr>\n",
       "    <tr>\n",
       "      <th>145</th>\n",
       "      <td>0.03274</td>\n",
       "      <td>0.032739</td>\n",
       "      <td>0.032757</td>\n",
       "      <td>0.032801</td>\n",
       "      <td>0.032856</td>\n",
       "      <td>NaN</td>\n",
       "      <td>NaN</td>\n",
       "      <td>NaN</td>\n",
       "      <td>NaN</td>\n",
       "      <td>NaN</td>\n",
       "      <td>...</td>\n",
       "      <td>NaN</td>\n",
       "      <td>NaN</td>\n",
       "      <td>NaN</td>\n",
       "      <td>NaN</td>\n",
       "      <td>NaN</td>\n",
       "      <td>NaN</td>\n",
       "      <td>NaN</td>\n",
       "      <td>NaN</td>\n",
       "      <td>NaN</td>\n",
       "      <td>NaN</td>\n",
       "    </tr>\n",
       "    <tr>\n",
       "      <th>146</th>\n",
       "      <td>0.03275</td>\n",
       "      <td>0.032749</td>\n",
       "      <td>0.032768</td>\n",
       "      <td>0.032811</td>\n",
       "      <td>NaN</td>\n",
       "      <td>NaN</td>\n",
       "      <td>NaN</td>\n",
       "      <td>NaN</td>\n",
       "      <td>NaN</td>\n",
       "      <td>NaN</td>\n",
       "      <td>...</td>\n",
       "      <td>NaN</td>\n",
       "      <td>NaN</td>\n",
       "      <td>NaN</td>\n",
       "      <td>NaN</td>\n",
       "      <td>NaN</td>\n",
       "      <td>NaN</td>\n",
       "      <td>NaN</td>\n",
       "      <td>NaN</td>\n",
       "      <td>NaN</td>\n",
       "      <td>NaN</td>\n",
       "    </tr>\n",
       "    <tr>\n",
       "      <th>147</th>\n",
       "      <td>0.03276</td>\n",
       "      <td>0.032760</td>\n",
       "      <td>0.032778</td>\n",
       "      <td>NaN</td>\n",
       "      <td>NaN</td>\n",
       "      <td>NaN</td>\n",
       "      <td>NaN</td>\n",
       "      <td>NaN</td>\n",
       "      <td>NaN</td>\n",
       "      <td>NaN</td>\n",
       "      <td>...</td>\n",
       "      <td>NaN</td>\n",
       "      <td>NaN</td>\n",
       "      <td>NaN</td>\n",
       "      <td>NaN</td>\n",
       "      <td>NaN</td>\n",
       "      <td>NaN</td>\n",
       "      <td>NaN</td>\n",
       "      <td>NaN</td>\n",
       "      <td>NaN</td>\n",
       "      <td>NaN</td>\n",
       "    </tr>\n",
       "    <tr>\n",
       "      <th>148</th>\n",
       "      <td>0.03277</td>\n",
       "      <td>0.032770</td>\n",
       "      <td>NaN</td>\n",
       "      <td>NaN</td>\n",
       "      <td>NaN</td>\n",
       "      <td>NaN</td>\n",
       "      <td>NaN</td>\n",
       "      <td>NaN</td>\n",
       "      <td>NaN</td>\n",
       "      <td>NaN</td>\n",
       "      <td>...</td>\n",
       "      <td>NaN</td>\n",
       "      <td>NaN</td>\n",
       "      <td>NaN</td>\n",
       "      <td>NaN</td>\n",
       "      <td>NaN</td>\n",
       "      <td>NaN</td>\n",
       "      <td>NaN</td>\n",
       "      <td>NaN</td>\n",
       "      <td>NaN</td>\n",
       "      <td>NaN</td>\n",
       "    </tr>\n",
       "    <tr>\n",
       "      <th>149</th>\n",
       "      <td>0.03278</td>\n",
       "      <td>NaN</td>\n",
       "      <td>NaN</td>\n",
       "      <td>NaN</td>\n",
       "      <td>NaN</td>\n",
       "      <td>NaN</td>\n",
       "      <td>NaN</td>\n",
       "      <td>NaN</td>\n",
       "      <td>NaN</td>\n",
       "      <td>NaN</td>\n",
       "      <td>...</td>\n",
       "      <td>NaN</td>\n",
       "      <td>NaN</td>\n",
       "      <td>NaN</td>\n",
       "      <td>NaN</td>\n",
       "      <td>NaN</td>\n",
       "      <td>NaN</td>\n",
       "      <td>NaN</td>\n",
       "      <td>NaN</td>\n",
       "      <td>NaN</td>\n",
       "      <td>NaN</td>\n",
       "    </tr>\n",
       "  </tbody>\n",
       "</table>\n",
       "<p>150 rows × 50 columns</p>\n",
       "</div>"
      ],
      "text/plain": [
       "       Yield  Yield year1  Yield year2  Yield year3  Yield year4  Yield year5  \\\n",
       "0    0.03472     0.031582     0.027909     0.026170     0.026146     0.026663   \n",
       "1    0.03315     0.029745     0.027039     0.026158     0.026404     0.026852   \n",
       "2    0.03140     0.028552     0.026741     0.026326     0.026617     0.027088   \n",
       "3    0.03009     0.027951     0.026722     0.026505     0.026853     0.027389   \n",
       "4    0.02930     0.027693     0.026786     0.026716     0.027140     0.027701   \n",
       "..       ...          ...          ...          ...          ...          ...   \n",
       "145  0.03274     0.032739     0.032757     0.032801     0.032856          NaN   \n",
       "146  0.03275     0.032749     0.032768     0.032811          NaN          NaN   \n",
       "147  0.03276     0.032760     0.032778          NaN          NaN          NaN   \n",
       "148  0.03277     0.032770          NaN          NaN          NaN          NaN   \n",
       "149  0.03278          NaN          NaN          NaN          NaN          NaN   \n",
       "\n",
       "     Yield year6  Yield year7  Yield year8  Yield year9  ...  Yield year40  \\\n",
       "0       0.027041     0.027560     0.028290     0.028950  ...      0.033653   \n",
       "1       0.027301     0.027925     0.028620     0.028010  ...      0.033573   \n",
       "2       0.027631     0.028267     0.028104     0.029452  ...      0.033626   \n",
       "3       0.027960     0.027968     0.029161     0.029882  ...      0.033602   \n",
       "4       0.027782     0.028841     0.029563     0.029543  ...      0.033723   \n",
       "..           ...          ...          ...          ...  ...           ...   \n",
       "145          NaN          NaN          NaN          NaN  ...           NaN   \n",
       "146          NaN          NaN          NaN          NaN  ...           NaN   \n",
       "147          NaN          NaN          NaN          NaN  ...           NaN   \n",
       "148          NaN          NaN          NaN          NaN  ...           NaN   \n",
       "149          NaN          NaN          NaN          NaN  ...           NaN   \n",
       "\n",
       "     Yield year41  Yield year42  Yield year43  Yield year44  Yield year45  \\\n",
       "0        0.033492      0.033733      0.033531      0.034204      0.033982   \n",
       "1        0.033612      0.033632      0.033867      0.034093      0.033856   \n",
       "2        0.033585      0.033823      0.033906      0.033972      0.033881   \n",
       "3        0.033740      0.033862      0.033862      0.033962      0.033944   \n",
       "4        0.033788      0.033836      0.033876      0.033996      0.034021   \n",
       "..            ...           ...           ...           ...           ...   \n",
       "145           NaN           NaN           NaN           NaN           NaN   \n",
       "146           NaN           NaN           NaN           NaN           NaN   \n",
       "147           NaN           NaN           NaN           NaN           NaN   \n",
       "148           NaN           NaN           NaN           NaN           NaN   \n",
       "149           NaN           NaN           NaN           NaN           NaN   \n",
       "\n",
       "     Yield year46  Yield year47  Yield year48  Yield year49  \n",
       "0        0.033731      0.033931      0.034131      0.034332  \n",
       "1        0.033831      0.034031      0.034232      0.034176  \n",
       "2        0.033931      0.034131      0.034161      0.034184  \n",
       "3        0.034031      0.034104      0.034171      0.034233  \n",
       "4        0.034029      0.034123      0.034213      0.034299  \n",
       "..            ...           ...           ...           ...  \n",
       "145           NaN           NaN           NaN           NaN  \n",
       "146           NaN           NaN           NaN           NaN  \n",
       "147           NaN           NaN           NaN           NaN  \n",
       "148           NaN           NaN           NaN           NaN  \n",
       "149           NaN           NaN           NaN           NaN  \n",
       "\n",
       "[150 rows x 50 columns]"
      ]
     },
     "metadata": {},
     "output_type": "display_data"
    }
   ],
   "source": [
    "display(Curves.r_Obs)"
   ]
  },
  {
   "attachments": {},
   "cell_type": "markdown",
   "id": "017a8ee1",
   "metadata": {},
   "source": [
    "## Calibrate every yield curve\n",
    "\n",
    "### Parameters that stay the same"
   ]
  },
  {
   "attachments": {},
   "cell_type": "markdown",
   "id": "f97b4591",
   "metadata": {},
   "source": [
    "#### Calculated implied observations for the first year of projection"
   ]
  },
  {
   "cell_type": "code",
   "execution_count": 13,
   "metadata": {},
   "outputs": [],
   "source": [
    "ProjYear = 1\n",
    "NameOfYear = \"Yield year\"+str(ProjYear)\n"
   ]
  },
  {
   "cell_type": "code",
   "execution_count": 14,
   "id": "51103493",
   "metadata": {},
   "outputs": [],
   "source": [
    "r_Obs = np.transpose(np.array(Curves.r_Obs[NameOfYear]))[:-ProjYear]"
   ]
  },
  {
   "attachments": {},
   "cell_type": "markdown",
   "id": "c4420f2b",
   "metadata": {},
   "source": [
    "#### Calculated implied maturities for the first year of projection"
   ]
  },
  {
   "cell_type": "code",
   "execution_count": 15,
   "id": "addd8adf",
   "metadata": {},
   "outputs": [],
   "source": [
    "M_Obs = np.transpose(np.array(range(1,r_Obs.size+1)))"
   ]
  },
  {
   "attachments": {},
   "cell_type": "markdown",
   "id": "f4e52583",
   "metadata": {},
   "source": [
    "#### Calibrate"
   ]
  },
  {
   "cell_type": "code",
   "execution_count": 16,
   "id": "024374fa",
   "metadata": {},
   "outputs": [],
   "source": [
    "alphaoptimized = [Curves.BisectionAlpha(0.05, 0.5, M_Obs, r_Obs, Curves.ufr, Curves.Tau, Curves.Precision, 1000)]"
   ]
  },
  {
   "cell_type": "code",
   "execution_count": 17,
   "id": "7e29e6e0",
   "metadata": {},
   "outputs": [],
   "source": [
    "if NameOfYear in Curves.alpha.columns:\n",
    "    Curves.alpha[NameOfYear] = alphaoptimized\n",
    "else:\n",
    "    Curves.alpha = Curves.alpha.join(pd.Series(data=None, index=None, name=NameOfYear,dtype='float64'))\n",
    "    Curves.alpha[NameOfYear] = alphaoptimized"
   ]
  },
  {
   "cell_type": "code",
   "execution_count": 18,
   "id": "2d5d64e4",
   "metadata": {},
   "outputs": [],
   "source": [
    "bCalibrated = Curves.SWCalibrate(r_Obs, M_Obs, Curves.ufr, Curves.alpha[NameOfYear][0])\n",
    "bCalibrated = np.append(bCalibrated,np.repeat(np.nan,ProjYear-1))"
   ]
  },
  {
   "cell_type": "code",
   "execution_count": 19,
   "id": "8443f7b5",
   "metadata": {},
   "outputs": [],
   "source": [
    "if NameOfYear in Curves.b.columns:\n",
    "    Curves.b[NameOfYear] = bCalibrated\n",
    "else:\n",
    "    Curves.b = Curves.b.join(pd.Series(data= None,index=None, name=NameOfYear,dtype='float64'))\n",
    "    Curves.b[NameOfYear] = bCalibrated"
   ]
  },
  {
   "cell_type": "code",
   "execution_count": 20,
   "id": "a52cc07c",
   "metadata": {},
   "outputs": [],
   "source": [
    "r_Obs_Est = Curves.SWExtrapolate(M_Obs, M_Obs, Curves.b[NameOfYear], Curves.ufr, Curves.alpha[NameOfYear][0])"
   ]
  },
  {
   "cell_type": "code",
   "execution_count": 21,
   "id": "9d9a284d",
   "metadata": {},
   "outputs": [
    {
     "data": {
      "image/png": "[encoded data removed]",
      "text/plain": [
       "<Figure size 432x216 with 1 Axes>"
      ]
     },
     "metadata": {
      "needs_background": "light"
     },
     "output_type": "display_data"
    }
   ],
   "source": [
    "fig, ax1 = plt.subplots(1,1)\n",
    "ax1.scatter(M_Obs, r_Obs, label=\"Calculated\",marker=\"x\")\n",
    "ax1.plot(M_Obs, r_Obs_Est)\n",
    "ax1.set_ylabel(\"yield\")\n",
    "ax1.set_title('Recalculated & provided yield curve')\n",
    "ax1.set_xlabel(\"time\")\n",
    "ax1.legend()\n",
    "ax1.yaxis.set_major_formatter(mtick.PercentFormatter())\n",
    "fig.set_figwidth(6)\n",
    "fig.set_figheight(3)\n",
    "plt.show()"
   ]
  },
  {
   "attachments": {},
   "cell_type": "markdown",
   "id": "d3f1592c",
   "metadata": {},
   "source": [
    "# Repeat for second projected year"
   ]
  },
  {
   "cell_type": "code",
   "execution_count": 22,
   "id": "5f1511a4",
   "metadata": {},
   "outputs": [],
   "source": [
    "ProjYear = 2\n",
    "NameOfYear = \"Yield year\"+str(ProjYear)"
   ]
  },
  {
   "cell_type": "code",
   "execution_count": 23,
   "id": "7ca460de",
   "metadata": {},
   "outputs": [],
   "source": [
    "r_Obs = np.transpose(np.array(Curves.r_Obs[NameOfYear]))[:-ProjYear]"
   ]
  },
  {
   "cell_type": "code",
   "execution_count": 24,
   "id": "9311765b",
   "metadata": {},
   "outputs": [],
   "source": [
    "M_Obs = np.transpose(np.array(range(1,r_Obs.size+1)))"
   ]
  },
  {
   "cell_type": "code",
   "execution_count": 25,
   "id": "45e33b9d",
   "metadata": {},
   "outputs": [],
   "source": [
    "alphaoptimized = [Curves.BisectionAlpha(0.05, 0.5, M_Obs, r_Obs, Curves.ufr, Curves.Tau, Curves.Precision, 1000)]"
   ]
  },
  {
   "cell_type": "code",
   "execution_count": 26,
   "id": "5093ea62",
   "metadata": {},
   "outputs": [],
   "source": [
    "if NameOfYear in Curves.alpha.columns:\n",
    "    Curves.alpha[NameOfYear] = alphaoptimized\n",
    "else:\n",
    "    Curves.alpha = Curves.alpha.join(pd.Series(data=None, index=None, name=NameOfYear,dtype='float64'))\n",
    "    Curves.alpha[NameOfYear] = alphaoptimized"
   ]
  },
  {
   "cell_type": "code",
   "execution_count": 27,
   "id": "b83db8c0",
   "metadata": {},
   "outputs": [],
   "source": [
    "bCalibrated = Curves.SWCalibrate(r_Obs, M_Obs, Curves.ufr, Curves.alpha[NameOfYear][0])"
   ]
  },
  {
   "cell_type": "code",
   "execution_count": 28,
   "id": "9098efb6",
   "metadata": {},
   "outputs": [],
   "source": [
    "bCalibrated = np.append(bCalibrated,np.repeat(np.nan,ProjYear-1))"
   ]
  },
  {
   "cell_type": "code",
   "execution_count": 30,
   "id": "5d54cbc5",
   "metadata": {},
   "outputs": [],
   "source": [
    "if NameOfYear in Curves.b.columns:\n",
    "    Curves.b[NameOfYear] = bCalibrated\n",
    "else:\n",
    "    Curves.b = Curves.b.join(pd.Series(data= None,index=None, name=NameOfYear,dtype='float64'))\n",
    "    Curves.b[NameOfYear] = bCalibrated"
   ]
  },
  {
   "cell_type": "code",
   "execution_count": 31,
   "id": "32114ad6",
   "metadata": {},
   "outputs": [],
   "source": [
    "r_Obs_Est = Curves.SWExtrapolate(M_Obs, M_Obs, Curves.b[NameOfYear][:-(ProjYear-1)], Curves.ufr, Curves.alpha[NameOfYear][0])"
   ]
  },
  {
   "cell_type": "code",
   "execution_count": 32,
   "id": "47a6933b",
   "metadata": {},
   "outputs": [
    {
     "data": {
      "image/png": "[encoded data removed]",
      "text/plain": [
       "<Figure size 432x216 with 1 Axes>"
      ]
     },
     "metadata": {
      "needs_background": "light"
     },
     "output_type": "display_data"
    }
   ],
   "source": [
    "fig, ax1 = plt.subplots(1,1)\n",
    "ax1.scatter(M_Obs, r_Obs, label=\"Calculated\",marker=\"x\")\n",
    "ax1.plot(M_Obs, r_Obs_Est)\n",
    "ax1.set_ylabel(\"yield\")\n",
    "ax1.set_title('Recalculated & provided yield curve')\n",
    "ax1.set_xlabel(\"time\")\n",
    "ax1.legend()\n",
    "ax1.yaxis.set_major_formatter(mtick.PercentFormatter())\n",
    "fig.set_figwidth(6)\n",
    "fig.set_figheight(3)\n",
    "plt.show()"
   ]
  },
  {
   "attachments": {},
   "cell_type": "markdown",
   "id": "01756712",
   "metadata": {},
   "source": [
    "# Repeat for all"
   ]
  },
  {
   "cell_type": "code",
   "execution_count": 35,
   "id": "4223f0d0",
   "metadata": {},
   "outputs": [],
   "source": [
    "for iYear in range(2,50):\n",
    "    ProjYear = iYear\n",
    "    NameOfYear = \"Yield year\"+str(ProjYear)\n",
    "    r_Obs = np.transpose(np.array(Curves.r_Obs[NameOfYear]))[:-ProjYear]\n",
    "    M_Obs = np.transpose(np.array(range(1,r_Obs.size+1)))\n",
    "    alphaoptimized = [Curves.BisectionAlpha(0.05, 0.5, M_Obs, r_Obs, Curves.ufr, Curves.Tau, Curves.Precision, 1000)]\n",
    "    if NameOfYear in Curves.alpha.columns:\n",
    "        Curves.alpha[NameOfYear] = alphaoptimized\n",
    "    else:\n",
    "        Curves.alpha = Curves.alpha.join(pd.Series(data=None, index=None, name=NameOfYear,dtype='float64'))\n",
    "        Curves.alpha[NameOfYear] = alphaoptimized\n",
    "    bCalibrated = Curves.SWCalibrate(r_Obs, M_Obs, Curves.ufr, Curves.alpha[NameOfYear][0])\n",
    "    bCalibrated = np.append(bCalibrated,np.repeat(np.nan,ProjYear-1))\n",
    "    if NameOfYear in Curves.b.columns:\n",
    "        Curves.b[NameOfYear] = bCalibrated\n",
    "    else:\n",
    "        Curves.b = Curves.b.join(pd.Series(data= None,index=None, name=NameOfYear,dtype='float64'))\n",
    "        Curves.b[NameOfYear] = bCalibrated\n",
    "    r_Obs_Est = Curves.SWExtrapolate(M_Obs, M_Obs, Curves.b[NameOfYear][:-(ProjYear-1)], Curves.ufr, Curves.alpha[NameOfYear][0])"
   ]
  },
  {
   "cell_type": "code",
   "execution_count": 38,
   "id": "93e7db31",
   "metadata": {},
   "outputs": [
    {
     "data": {
      "image/png": "[encoded data removed]",
      "text/plain": [
       "<Figure size 432x216 with 1 Axes>"
      ]
     },
     "metadata": {
      "needs_background": "light"
     },
     "output_type": "display_data"
    }
   ],
   "source": [
    "fig, ax1 = plt.subplots(1,1)\n",
    "ax1.scatter(M_Obs, r_Obs, label=\"Calculated\",marker=\"x\")\n",
    "ax1.plot(M_Obs, r_Obs_Est)\n",
    "ax1.set_ylabel(\"yield\")\n",
    "ax1.set_title('Recalculated & provided yield curve')\n",
    "ax1.set_xlabel(\"time\")\n",
    "ax1.legend()\n",
    "ax1.yaxis.set_major_formatter(mtick.PercentFormatter())\n",
    "fig.set_figwidth(6)\n",
    "fig.set_figheight(3)\n",
    "plt.show()"
   ]
  }
 ],
 "metadata": {
  "kernelspec": {
   "display_name": "Python 3 (ipykernel)",
   "language": "python",
   "name": "python3"
  },
  "language_info": {
   "codemirror_mode": {
    "name": "ipython",
    "version": 3
   },
   "file_extension": ".py",
   "mimetype": "text/x-python",
   "name": "python",
   "nbconvert_exporter": "python",
   "pygments_lexer": "ipython3",
   "version": "3.9.7"
  }
 },
 "nbformat": 4,
 "nbformat_minor": 5
}
