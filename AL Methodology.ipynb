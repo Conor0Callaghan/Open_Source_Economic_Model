{
 "cells": [
  {
   "attachments": {},
   "cell_type": "markdown",
   "id": "d318d79d",
   "metadata": {},
   "source": [
    "# Open Source Asset Liability "
   ]
  },
  {
   "attachments": {},
   "cell_type": "markdown",
   "id": "3a717345",
   "metadata": {},
   "source": [
    "Open Source Asset Liability (OSAL) is a free modelling solution that allows financial companies to simulate their financial performance in the future."
   ]
  },
  {
   "attachments": {},
   "cell_type": "markdown",
   "id": "8acec05b",
   "metadata": {},
   "source": [
    "OSAL consists of different modules."
   ]
  },
  {
   "attachments": {},
   "cell_type": "markdown",
   "id": "21612d28",
   "metadata": {},
   "source": []
  },
  {
   "cell_type": "code",
   "execution_count": null,
   "id": "5979606b",
   "metadata": {},
   "outputs": [],
   "source": []
  },
  {
   "attachments": {},
   "cell_type": "markdown",
   "id": "457d4aea",
   "metadata": {},
   "source": [
    "## Modelling parameters"
   ]
  },
  {
   "attachments": {},
   "cell_type": "markdown",
   "id": "e434bebc",
   "metadata": {},
   "source": [
    "OSM can be configured to the varied needs of the user. The user can specify the length of the modelling (in years), the type of run, the type of curve used as the risk free rate, the country and the specific modelling date. Bellow we describe in more details each specific setting"
   ]
  },
  {
   "attachments": {},
   "cell_type": "markdown",
   "id": "a2bdf41f",
   "metadata": {},
   "source": [
    "#### Length of the modelling horizon"
   ]
  },
  {
   "attachments": {},
   "cell_type": "markdown",
   "id": "14dc14cd",
   "metadata": {},
   "source": [
    "ToDo"
   ]
  },
  {
   "attachments": {},
   "cell_type": "markdown",
   "id": "82e63a4d",
   "metadata": {},
   "source": [
    "#### Run type"
   ]
  },
  {
   "attachments": {},
   "cell_type": "markdown",
   "id": "ab6d6848",
   "metadata": {},
   "source": [
    "ToDo"
   ]
  },
  {
   "attachments": {},
   "cell_type": "markdown",
   "id": "576a42aa",
   "metadata": {},
   "source": [
    "### Selection of the risk free curve"
   ]
  },
  {
   "attachments": {},
   "cell_type": "markdown",
   "id": "45328a19",
   "metadata": {},
   "source": [
    "ToDo"
   ]
  },
  {
   "attachments": {},
   "cell_type": "markdown",
   "id": "dff3ae4b",
   "metadata": {},
   "source": [
    "### Country"
   ]
  },
  {
   "attachments": {},
   "cell_type": "markdown",
   "id": "2981def2",
   "metadata": {},
   "source": [
    "ToDo"
   ]
  },
  {
   "attachments": {},
   "cell_type": "markdown",
   "id": "75b00e6a",
   "metadata": {},
   "source": [
    "#### Modelling date"
   ]
  },
  {
   "attachments": {},
   "cell_type": "markdown",
   "id": "f632cacc",
   "metadata": {},
   "source": [
    " - $MD \\dots $ modelling date"
   ]
  },
  {
   "attachments": {},
   "cell_type": "markdown",
   "id": "1d92d950",
   "metadata": {},
   "source": [
    "### Government bond input and calibration"
   ]
  },
  {
   "attachments": {},
   "cell_type": "markdown",
   "id": "69747fd4",
   "metadata": {},
   "source": []
  },
  {
   "attachments": {},
   "cell_type": "markdown",
   "id": "6ad6f41f",
   "metadata": {},
   "source": [
    "### Corporate bond input and calibration"
   ]
  },
  {
   "attachments": {},
   "cell_type": "markdown",
   "id": "2c856086",
   "metadata": {},
   "source": [
    "One of the types of assets that OSAL can support is corporate debt in the form of corporate bonds. Bonds, described in the input files, are calibrated to each specific run"
   ]
  },
  {
   "attachments": {},
   "cell_type": "markdown",
   "id": "2e655912",
   "metadata": {},
   "source": [
    " - $f \\dots $ frequency of dates \n",
    " - $M \\dots $ maturity date\n",
    " - $I \\dots $ issue date\n",
    " - $cy \\dots $ coupon yield\n",
    " - $N \\dots $ notional amount\n",
    " - $MV \\dots $ market value at modelling date\n",
    " - $BV \\dots $ book value at modelling date\n",
    "  "
   ]
  },
  {
   "attachments": {},
   "cell_type": "markdown",
   "id": "7c6814b9",
   "metadata": {},
   "source": [
    "### 1) Dates\n",
    "\n",
    "The basic building block of OSAL is a cash flow. The first step in the bond input process is to calculate dates at which the bond is expected to produce a cash flow.\n",
    "\n",
    "We will denote these dates as:\n",
    "\n",
    "$$  I\\leq t_1 < \\dots < t_n \\leq M $$"
   ]
  },
  {
   "attachments": {},
   "cell_type": "markdown",
   "id": "94d4a8c4",
   "metadata": {},
   "source": [
    "### 2) Refactoring\n",
    "\n",
    "The first step in refactoring for fixed income assets such as corporate bonds consists of calculating the cash flow dates that occur after the modelling date since the past cash flows are not considered in the modell. For each cash flow date, a time fraction is calculated with regards to the modelling date in years. This facilitates discounting in later stages.\n",
    "\n"
   ]
  },
  {
   "attachments": {},
   "cell_type": "markdown",
   "id": "3223556b",
   "metadata": {},
   "source": [
    "The calculation of the date fractions is as follows:"
   ]
  },
  {
   "attachments": {},
   "cell_type": "markdown",
   "id": "16e3f966",
   "metadata": {},
   "source": [
    "$ t_1^f = t_j - MD$  where $ j = \\min_i(t_i \\geq MD)  $\n",
    "\n",
    "$ t_2^f = t_{j+1} - MD $\n",
    "\n",
    "$\\dots$\n",
    "\n",
    "$t_n^f = t_{j+k} - MD $\n"
   ]
  },
  {
   "attachments": {},
   "cell_type": "markdown",
   "id": "4b7afdfc",
   "metadata": {},
   "source": [
    "The date fractions are saved and can be viewed in the following object property"
   ]
  },
  {
   "attachments": {},
   "cell_type": "markdown",
   "id": "5a1ac8f9",
   "metadata": {},
   "source": [
    "dates = $ \\{ t_1^f, t_2^f, \\dots t_{j+k}^2 \\}$"
   ]
  },
  {
   "attachments": {},
   "cell_type": "markdown",
   "id": "a5cc93bd",
   "metadata": {},
   "source": [
    "### 3) Cashflow simulation"
   ]
  },
  {
   "attachments": {},
   "cell_type": "markdown",
   "id": "726920af",
   "metadata": {},
   "source": [
    "This section simulates the size of the cash flows in the local currency. For bonds there are two types of cash flows. The coupons and the notional payout."
   ]
  },
  {
   "attachments": {},
   "cell_type": "markdown",
   "id": "52749dbc",
   "metadata": {},
   "source": [
    "##### Coupon cash flow\n",
    "\n",
    "$ divcf = \\{ d_1, \\dots, d_k \\} $\n",
    "\n",
    "Where:\n",
    "\n",
    "$ d_i = N*cy  $"
   ]
  },
  {
   "attachments": {},
   "cell_type": "markdown",
   "id": "af37e979",
   "metadata": {},
   "source": [
    "##### Notional cash flow"
   ]
  },
  {
   "attachments": {},
   "cell_type": "markdown",
   "id": "a5fde601",
   "metadata": {},
   "source": [
    "\n",
    "$ notcf = \\{ N \\} $\n",
    "\n",
    "Where:\n",
    "\n",
    "$ d_1 = N $"
   ]
  },
  {
   "attachments": {},
   "cell_type": "markdown",
   "id": "48f01646",
   "metadata": {},
   "source": [
    "### 4) Calibration"
   ]
  },
  {
   "attachments": {},
   "cell_type": "markdown",
   "id": "8d0eee35",
   "metadata": {},
   "source": [
    "The calibration is the process of finding the correct discount rate for each bond. The correct discount rate at which the discounted price of the bond is equal to the market value of the bond observed at the modelling date.\n",
    "\n",
    "Note that if the run is set to Risk Neutral, the sector specific spread is equal to 0 for all bonds.\n",
    "\n",
    "The discount rate is calibrated using a constant factor called z-spread that increases-decreases the risk free discount rate such that: \n",
    "\n",
    "$$\n",
    "MV = \\frac{d_1}{(1+ y_1+ s + z)^{t_1^f}} + \\dots+\\frac{d_k}{(1+ y_k+ s + z)^{t_k^f}} +\\frac{N}{(1+ y_k+ s + z)^{t_k^f}} \n",
    "$$\n",
    "\n",
    "Where\n",
    " - $MV\\dots $\n",
    " -  $ d_i\\dots $ is the i-th coupon\n",
    " - $ N\\dots $ is the notional amount\n",
    " - $ y_i \\dots $ is the annual yield for a period between the modelling date and time $t_i$\n",
    " - $ s \\dots  $ is the sector specific spread\n",
    " - $ z \\dots $ is the z-Spread of the individual bond  "
   ]
  },
  {
   "attachments": {},
   "cell_type": "markdown",
   "id": "ea88c6bc",
   "metadata": {},
   "source": [
    " ## Equity input and calibration"
   ]
  },
  {
   "attachments": {},
   "cell_type": "markdown",
   "id": "fe0d4a97",
   "metadata": {},
   "source": [
    "OSAL supports the asset class of equities. Different kinds of shares in the company. The shares are modeled as instruments that offer a constant cash flow in the form of a dividend based on the market value at the time of payment and a constant growth as the company matures. At the end of the modelling period, a terminal value is calculated. The terminal value represents the discounted value of all future cash flows outside of the modelling period."
   ]
  },
  {
   "attachments": {},
   "cell_type": "markdown",
   "id": "6c3315f4",
   "metadata": {},
   "source": [
    "Each equity asset has the following fields:"
   ]
  },
  {
   "attachments": {},
   "cell_type": "markdown",
   "id": "f0194666",
   "metadata": {},
   "source": [
    " - $f \\dots $ frequency of dividend payments \n",
    " - $END \\dots $ end of the modelling period\n",
    " - $I \\dots $ issue date\n",
    " - $dy \\dots $ dividend yield\n",
    " - $MV \\dots $ market value at modelling date\n",
    " - $BV \\dots $ book value at modelling date"
   ]
  },
  {
   "attachments": {},
   "cell_type": "markdown",
   "id": "6da26663",
   "metadata": {},
   "source": [
    "### 1) Dates"
   ]
  },
  {
   "attachments": {},
   "cell_type": "markdown",
   "id": "489f75da",
   "metadata": {},
   "source": [
    "The first step is to calculate the dates at which the equity asset generates a cash flow since its issue. This can be either a dividend or a terminal value sale."
   ]
  },
  {
   "attachments": {},
   "cell_type": "markdown",
   "id": "6d4d1a27",
   "metadata": {},
   "source": [
    "#### Dividend cash flow dates"
   ]
  },
  {
   "attachments": {},
   "cell_type": "markdown",
   "id": "5f1369f1",
   "metadata": {},
   "source": [
    "$$  I\\leq t_1 < \\dots < t_n \\leq END $$\n"
   ]
  },
  {
   "attachments": {},
   "cell_type": "markdown",
   "id": "bb5a6b53",
   "metadata": {},
   "source": [
    "#### Terminal value date"
   ]
  },
  {
   "attachments": {},
   "cell_type": "markdown",
   "id": "c18da79d",
   "metadata": {},
   "source": [
    "$t_{term} = END$"
   ]
  },
  {
   "attachments": {},
   "cell_type": "markdown",
   "id": "28703bcd",
   "metadata": {},
   "source": [
    "### 2) Refactoring"
   ]
  },
  {
   "attachments": {},
   "cell_type": "markdown",
   "id": "df3fce99",
   "metadata": {},
   "source": [
    "Similar to refactoring for fixed income assets, this step consists of calculating the cash flow dates that occur after the modelling date since the past cash flows are not considered in the modell. For each cash flow date, a time fraction is calculated with regards to the modelling date in years. This facilitates discounting in later stages."
   ]
  },
  {
   "attachments": {},
   "cell_type": "markdown",
   "id": "3c95175e",
   "metadata": {},
   "source": [
    "The calculation of the date fraction is:\n",
    "\n",
    "$ t_1^f = t_j - MD$ \n",
    "\n",
    "Where \n",
    "\n",
    "$ j = \\min_i(t_i \\geq MD)  $\n",
    "\n",
    "$ t_2^f = t_{j+1} - MD $\n",
    "\n",
    "$\\dots$\n",
    "\n",
    "$t_n^f = t_{j+k} - MD $"
   ]
  },
  {
   "attachments": {},
   "cell_type": "markdown",
   "id": "f8851914",
   "metadata": {},
   "source": [
    "The date fractions are saved and can be viewed in the following object property:"
   ]
  },
  {
   "attachments": {},
   "cell_type": "markdown",
   "id": "1d7a7f75",
   "metadata": {},
   "source": [
    "dates = $ \\{ t_1^f, t_2^f, \\dots t_{j+k}^2 \\}$"
   ]
  },
  {
   "attachments": {},
   "cell_type": "markdown",
   "id": "c8d7ca4e",
   "metadata": {},
   "source": [
    "### 3) Calibration"
   ]
  },
  {
   "attachments": {},
   "cell_type": "markdown",
   "id": "d82cd078",
   "metadata": {},
   "source": [
    "The calibration of an equity asset uses a Gordon growth model to calculate the implied future growth rate, would imply the observed market value at the modelling date. "
   ]
  },
  {
   "attachments": {},
   "cell_type": "markdown",
   "id": "9e04f7ac",
   "metadata": {},
   "source": [
    "The calibration consists of finding a growth rate g such that:\n",
    "\n",
    "$$\n",
    "MV = \\frac{MV*(1+g)^{t^f_1} dy}{(1+y_1)^{t^f_1}}+\\frac{MV*(1+g)^{t^f_2} dy}{(1+y_2)^{t^f_2}}+\\dots + \\frac{MV*(1+g)^{t^f_m} dy}{(1+y_m)^{t^f_m}} + \\frac{1}{(1+y_m)^{t^f_m}} \\frac{MV*dy}{r-g}\n",
    "$$\n",
    "\n",
    "$$\n",
    "1 = \\frac{(1+g)^{t^f_1} dy}{(1+y_1)^{t^f_1}}+\\frac{(1+g)^{t^f_2} dy}{(1+y_2)^{t^f_2}}+\\dots + \\frac{(1+g)^{t^f_m} dy}{(1+y_m)^{t^f_m}} + \\frac{1}{(1+y_m)^{t^f_m}} \\frac{dy}{r-g}\n",
    "$$\n",
    "\n",
    "$$\n",
    "\\frac{1}{dy} = \\frac{(1+g)^{t^f_1}}{(1+y_1)^{t^f_1}}+\\frac{(1+g)^{t^f_2}}{(1+y_2)^{t^f_2}}+\\dots + \\frac{(1+g)^{t^f_m}}{(1+y_m)^{t^f_m}} + \\frac{1}{(1+y_m)^{t^f_m}} \\frac{1}{r-g}\n",
    "$$\n",
    "\n"
   ]
  },
  {
   "attachments": {},
   "cell_type": "markdown",
   "id": "8734781e",
   "metadata": {},
   "source": [
    "### 4) Cashflows"
   ]
  },
  {
   "attachments": {},
   "cell_type": "markdown",
   "id": "bf23d02b",
   "metadata": {},
   "source": [
    "After obtaining the growth rate, the growth of the value of the share and by consequence the size of each dividend can be projected (As well as the terminal value). The calculation of the market value is done using the date fractions calculated in step 1, the calculated yields for each period and the growth rate. "
   ]
  },
  {
   "attachments": {},
   "cell_type": "markdown",
   "id": "dfe6a429",
   "metadata": {},
   "source": [
    "For each time period where a dividend is supposed to be paid, the market value is calculated as:\n",
    "\n",
    "$MV_{t_i^f} = MV (1+g)^{t^f_i}$\n",
    "\n",
    "Based on the market value at that period, the cash flow related to the dividend is calculated as:\n",
    "\n",
    "$d_i = MV_{t_i^f}* dy$"
   ]
  },
  {
   "attachments": {},
   "cell_type": "markdown",
   "id": "7d84391a",
   "metadata": {},
   "source": [
    "The terminal value of the equity is calculated as\n",
    "\n",
    "$TV = \\frac{MV}{r-g}$"
   ]
  },
  {
   "attachments": {},
   "cell_type": "markdown",
   "id": "47ddd63b",
   "metadata": {},
   "source": [
    "\n",
    "$  divcf =  \\{ d_1, \\dots, d_k \\} $"
   ]
  },
  {
   "attachments": {},
   "cell_type": "markdown",
   "id": "ccdae229",
   "metadata": {},
   "source": [
    "## Property input and calibration"
   ]
  },
  {
   "attachments": {},
   "cell_type": "markdown",
   "id": "b7f7da42",
   "metadata": {},
   "source": [
    "ToDo"
   ]
  },
  {
   "attachments": {},
   "cell_type": "markdown",
   "id": "ee6dc59d",
   "metadata": {},
   "source": [
    "## Cash input"
   ]
  },
  {
   "attachments": {},
   "cell_type": "markdown",
   "id": "2d0055ef",
   "metadata": {},
   "source": [
    "ToDo"
   ]
  },
  {
   "attachments": {},
   "cell_type": "markdown",
   "id": "cd75dffb",
   "metadata": {},
   "source": [
    "# Generation of future investment assets"
   ]
  },
  {
   "attachments": {},
   "cell_type": "markdown",
   "id": "3d91c977",
   "metadata": {},
   "source": [
    "Companies are expected to generate excess cash from operation, capital return or investment in the future. That cash is normaly invested into the investments available at that time. Most of the assets that will be in the investment universe at that time do not exist yet at the Modelling Date and are therefor not present in the portfolio.\n",
    "\n",
    "To keep the model realistic, OSAL needs a way to create future assets."
   ]
  },
  {
   "attachments": {},
   "cell_type": "markdown",
   "id": "be2753a4",
   "metadata": {},
   "source": [
    "ToDo"
   ]
  },
  {
   "attachments": {},
   "cell_type": "markdown",
   "id": "f9404038",
   "metadata": {},
   "source": [
    "## Liability preparation"
   ]
  },
  {
   "attachments": {},
   "cell_type": "markdown",
   "id": "92dfc3ab",
   "metadata": {},
   "source": [
    "### Term life"
   ]
  },
  {
   "attachments": {},
   "cell_type": "markdown",
   "id": "6d16c095",
   "metadata": {},
   "source": [
    "ToDo"
   ]
  },
  {
   "attachments": {},
   "cell_type": "markdown",
   "id": "344988ca",
   "metadata": {},
   "source": [
    "### Health"
   ]
  },
  {
   "attachments": {},
   "cell_type": "markdown",
   "id": "c447a68c",
   "metadata": {},
   "source": [
    "ToDo"
   ]
  },
  {
   "attachments": {},
   "cell_type": "markdown",
   "id": "9cb247e3",
   "metadata": {},
   "source": [
    "### P&C"
   ]
  },
  {
   "attachments": {},
   "cell_type": "markdown",
   "id": "a4e768b3",
   "metadata": {},
   "source": [
    "ToDo"
   ]
  },
  {
   "attachments": {},
   "cell_type": "markdown",
   "id": "f46b00a7",
   "metadata": {},
   "source": [
    "# Projection"
   ]
  },
  {
   "attachments": {},
   "cell_type": "markdown",
   "id": "de8fce36",
   "metadata": {},
   "source": [
    "ToDo"
   ]
  },
  {
   "attachments": {},
   "cell_type": "markdown",
   "id": "7634e141",
   "metadata": {},
   "source": [
    "# Trading"
   ]
  },
  {
   "attachments": {},
   "cell_type": "markdown",
   "id": "ce9b7b80",
   "metadata": {},
   "source": [
    "ToDo"
   ]
  }
 ],
 "metadata": {
  "kernelspec": {
   "display_name": "Python 3 (ipykernel)",
   "language": "python",
   "name": "python3"
  },
  "language_info": {
   "codemirror_mode": {
    "name": "ipython",
    "version": 3
   },
   "file_extension": ".py",
   "mimetype": "text/x-python",
   "name": "python",
   "nbconvert_exporter": "python",
   "pygments_lexer": "ipython3",
   "version": "3.9.7"
  }
 },
 "nbformat": 4,
 "nbformat_minor": 5
}
