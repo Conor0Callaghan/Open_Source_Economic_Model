{
 "cells": [
  {
   "attachments": {},
   "cell_type": "markdown",
   "id": "d318d79d",
   "metadata": {},
   "source": [
    "# Open Source Asset Liability "
   ]
  },
  {
   "attachments": {},
   "cell_type": "markdown",
   "id": "3a717345",
   "metadata": {},
   "source": [
    "Open Source Asset Liability (OSAL) is a free modelling solution that allows financial companies to simulate their financial performance in the future."
   ]
  },
  {
   "attachments": {},
   "cell_type": "markdown",
   "id": "8acec05b",
   "metadata": {},
   "source": [
    "OSAL consists of different modules."
   ]
  },
  {
   "attachments": {},
   "cell_type": "markdown",
   "id": "21612d28",
   "metadata": {},
   "source": []
  },
  {
   "cell_type": "code",
   "execution_count": null,
   "id": "5979606b",
   "metadata": {},
   "outputs": [],
   "source": []
  },
  {
   "attachments": {},
   "cell_type": "markdown",
   "id": "457d4aea",
   "metadata": {},
   "source": [
    "## Modelling parameters"
   ]
  },
  {
   "attachments": {},
   "cell_type": "markdown",
   "id": "e434bebc",
   "metadata": {},
   "source": [
    "OSM can be configured to the varied needs of the user. The user can specify the model granularity, length of the modelling (in years), the type of run, the type of curve used as the risk free rate, the country and the specific modelling date. Bellow we describe in more details each specific setting"
   ]
  },
  {
   "attachments": {},
   "cell_type": "markdown",
   "id": "768d3ba5",
   "metadata": {},
   "source": [
    "#### Modelling granularity"
   ]
  },
  {
   "attachments": {},
   "cell_type": "markdown",
   "id": "4f1b0fd4",
   "metadata": {},
   "source": [
    "The modelling granularity is yearly in the initial POC prototype. In the future, this will be extended to monthly, yearly or every 5 years. "
   ]
  },
  {
   "attachments": {},
   "cell_type": "markdown",
   "id": "a2bdf41f",
   "metadata": {},
   "source": [
    "#### Length of the modelling horizon"
   ]
  },
  {
   "attachments": {},
   "cell_type": "markdown",
   "id": "14dc14cd",
   "metadata": {},
   "source": [
    "This parameter sets the length of the modelling horizon. In the POC prototype, the lenght is in years. For example a value of 20 means a modelling horizon of 20 years from the modelling date."
   ]
  },
  {
   "attachments": {},
   "cell_type": "markdown",
   "id": "f3e72b87",
   "metadata": {},
   "source": [
    "$$ END $$"
   ]
  },
  {
   "attachments": {},
   "cell_type": "markdown",
   "id": "82e63a4d",
   "metadata": {},
   "source": [
    "#### Run type"
   ]
  },
  {
   "attachments": {},
   "cell_type": "markdown",
   "id": "ab6d6848",
   "metadata": {},
   "source": [
    "This parameter differentiates different kinds of runs. The POC prototype supports only a risk neutral run, however further the roadmap evisions the development of a real world and a market consistent run."
   ]
  },
  {
   "attachments": {},
   "cell_type": "markdown",
   "id": "576a42aa",
   "metadata": {},
   "source": [
    "### Selection of the risk free curve"
   ]
  },
  {
   "attachments": {},
   "cell_type": "markdown",
   "id": "45328a19",
   "metadata": {},
   "source": [
    "This parameter determines the type of curve used as the risk free rate. The POC prototype supports only the base curve and the base curve with the Volatility Adjustment published by EIOPA."
   ]
  },
  {
   "attachments": {},
   "cell_type": "markdown",
   "id": "dff3ae4b",
   "metadata": {},
   "source": [
    "### Country"
   ]
  },
  {
   "attachments": {},
   "cell_type": "markdown",
   "id": "2981def2",
   "metadata": {},
   "source": [
    "This parameter determines the home economy of the company. The POC prototype supports only one economy. In the future, multiple economies can be implemented."
   ]
  },
  {
   "attachments": {},
   "cell_type": "markdown",
   "id": "75b00e6a",
   "metadata": {},
   "source": [
    "#### Modelling date"
   ]
  },
  {
   "attachments": {},
   "cell_type": "markdown",
   "id": "f632cacc",
   "metadata": {},
   "source": [
    " - $MD \\dots $ modelling date"
   ]
  },
  {
   "attachments": {},
   "cell_type": "markdown",
   "id": "1d92d950",
   "metadata": {},
   "source": [
    "### Government bond input and calibration"
   ]
  },
  {
   "attachments": {},
   "cell_type": "markdown",
   "id": "69747fd4",
   "metadata": {},
   "source": [
    "ToDo"
   ]
  },
  {
   "attachments": {},
   "cell_type": "markdown",
   "id": "6ad6f41f",
   "metadata": {},
   "source": [
    "### Corporate bond input and calibration"
   ]
  },
  {
   "attachments": {},
   "cell_type": "markdown",
   "id": "2c856086",
   "metadata": {},
   "source": [
    "One of the types of assets that OSAL can support is corporate debt in the form of corporate bonds. Bonds, described in the input files, are calibrated to each specific run"
   ]
  },
  {
   "attachments": {},
   "cell_type": "markdown",
   "id": "2e655912",
   "metadata": {},
   "source": [
    " - $f \\dots $ frequency of dates \n",
    " - $M \\dots $ maturity date\n",
    " - $I \\dots $ issue date\n",
    " - $cy \\dots $ coupon yield\n",
    " - $N \\dots $ notional amount\n",
    " - $MV \\dots $ market value at modelling date\n",
    " - $BV \\dots $ book value at modelling date\n",
    "  "
   ]
  },
  {
   "attachments": {},
   "cell_type": "markdown",
   "id": "7c6814b9",
   "metadata": {},
   "source": [
    "### 1) Dates\n",
    "\n",
    "The basic building block of OSAL is a cash flow. The first step in the bond input process is to calculate dates at which the bond is expected to produce a cash flow.\n",
    "\n",
    "We will denote these dates as:\n",
    "\n",
    "$$  I\\leq t_1 < \\dots < t_n \\leq M $$"
   ]
  },
  {
   "attachments": {},
   "cell_type": "markdown",
   "id": "94d4a8c4",
   "metadata": {},
   "source": [
    "### 2) Refactoring\n",
    "\n",
    "The first step in refactoring for fixed income assets such as corporate bonds consists of calculating the cash flow dates that occur after the modelling date since the past cash flows are not considered in the modell. For each cash flow date, a time fraction is calculated with regards to the modelling date in years. This facilitates discounting in later stages.\n",
    "\n"
   ]
  },
  {
   "attachments": {},
   "cell_type": "markdown",
   "id": "3223556b",
   "metadata": {},
   "source": [
    "The calculation of the date fractions is as follows:"
   ]
  },
  {
   "attachments": {},
   "cell_type": "markdown",
   "id": "16e3f966",
   "metadata": {},
   "source": [
    "$$ t_1^f = \\frac{t_j - MD}{365.5}$$\n",
    "\n",
    "$$ t_2^f = \\frac{t_{j+1} - MD}{365.5} $$\n",
    "\n",
    "$$\\dots$$\n",
    "\n",
    "$$t_n^f = \\frac{t_{j+k} - MD}{365.5} $$\n",
    "\n",
    "\n",
    "Where:\n",
    " $$ j = \\min_i(t_i \\geq MD) $$ "
   ]
  },
  {
   "attachments": {},
   "cell_type": "markdown",
   "id": "4b7afdfc",
   "metadata": {},
   "source": [
    "The date fractions are saved and can be viewed in the following object property"
   ]
  },
  {
   "attachments": {},
   "cell_type": "markdown",
   "id": "5a1ac8f9",
   "metadata": {},
   "source": [
    "$$ datescf =  \\{ t_1^f, t_2^f, \\dots t_{j+k}^f \\} $$"
   ]
  },
  {
   "attachments": {},
   "cell_type": "markdown",
   "id": "d11adecf",
   "metadata": {},
   "source": [
    "Terminal date is also refactored if the asset has not matured before the modelling date.\n",
    "\n",
    "$$ t^f_{end} = \\frac{t_{end} - MD} {365.5}   $$\n",
    "\n",
    "The date fraction is saved and can be viewed in the following object property:\n",
    "\n",
    "$$ datesnotional =  \\{ t_{end}^f\\}$$"
   ]
  },
  {
   "attachments": {},
   "cell_type": "markdown",
   "id": "a5cc93bd",
   "metadata": {},
   "source": [
    "### 3) Cashflow simulation"
   ]
  },
  {
   "attachments": {},
   "cell_type": "markdown",
   "id": "726920af",
   "metadata": {},
   "source": [
    "This section simulates the size of the cash flows in the local currency. For bonds there are two types of cash flows. The coupons and the notional payout."
   ]
  },
  {
   "attachments": {},
   "cell_type": "markdown",
   "id": "52749dbc",
   "metadata": {},
   "source": [
    "##### Coupon cash flow\n",
    "\n",
    "$ divcf = \\{ d_1, \\dots, d_k \\} $\n",
    "\n",
    "Where:\n",
    "\n",
    "$ d_i = N*cy  $"
   ]
  },
  {
   "attachments": {},
   "cell_type": "markdown",
   "id": "af37e979",
   "metadata": {},
   "source": [
    "##### Notional cash flow"
   ]
  },
  {
   "attachments": {},
   "cell_type": "markdown",
   "id": "a5fde601",
   "metadata": {},
   "source": [
    "The notional amount returned at the maturity of the bond is saved in the object property:\n",
    "\n",
    "$ notcf = \\{ N \\} $\n"
   ]
  },
  {
   "attachments": {},
   "cell_type": "markdown",
   "id": "48f01646",
   "metadata": {},
   "source": [
    "### 4) Calibration"
   ]
  },
  {
   "attachments": {},
   "cell_type": "markdown",
   "id": "8d0eee35",
   "metadata": {},
   "source": [
    "The calibration is the process of finding the correct discount rate for each bond. The correct discount rate at which the discounted price of the bond is equal to the market value of the bond observed at the modelling date.\n",
    "\n",
    "Note that if the run is set to Risk Neutral, the sector specific spread is equal to 0 for all bonds.\n",
    "\n",
    "The discount rate is calibrated using a constant factor called z-spread that increases-decreases the risk free discount rate such that: \n",
    "\n",
    "$$\n",
    "MV = \\frac{d_1}{(1+ y_1+ s + z)^{t_1^f}} + \\dots+\\frac{d_k}{(1+ y_k+ s + z)^{t_k^f}} +\\frac{N}{(1+ y_k+ s + z)^{t_k^f}} \n",
    "$$\n",
    "\n",
    "Where\n",
    " - $MV\\dots $\n",
    " -  $ d_i\\dots $ is the i-th coupon\n",
    " - $ N\\dots $ is the notional amount\n",
    " - $ y_i \\dots $ is the annual yield for a period between the modelling date and time $t_i$\n",
    " - $ s \\dots  $ is the sector specific spread\n",
    " - $ z \\dots $ is the z-Spread of the individual bond  "
   ]
  },
  {
   "attachments": {},
   "cell_type": "markdown",
   "id": "ea88c6bc",
   "metadata": {},
   "source": [
    " ## Equity input and calibration"
   ]
  },
  {
   "attachments": {},
   "cell_type": "markdown",
   "id": "fe0d4a97",
   "metadata": {},
   "source": [
    "OSAL supports the asset class of equities. Different kinds of shares in the company. The shares are modeled as instruments that offer a constant cash flow in the form of a dividend based on the market value at the time of payment and a constant growth as the company matures. At the end of the modelling period, a terminal value is calculated. The terminal value represents the discounted value of all future cash flows outside of the modelling period."
   ]
  },
  {
   "attachments": {},
   "cell_type": "markdown",
   "id": "6c3315f4",
   "metadata": {},
   "source": [
    "Each equity asset has the following fields:"
   ]
  },
  {
   "attachments": {},
   "cell_type": "markdown",
   "id": "f0194666",
   "metadata": {},
   "source": [
    " - $f \\dots $ frequency of dividend payments \n",
    " - $END \\dots $ end of the modelling period\n",
    " - $I \\dots $ issue date\n",
    " - $dy \\dots $ dividend yield\n",
    " - $MV \\dots $ market value at modelling date\n",
    " - $BV \\dots $ book value at modelling date"
   ]
  },
  {
   "attachments": {},
   "cell_type": "markdown",
   "id": "6da26663",
   "metadata": {},
   "source": [
    "### 1) Dates"
   ]
  },
  {
   "attachments": {},
   "cell_type": "markdown",
   "id": "489f75da",
   "metadata": {},
   "source": [
    "The first step is to calculate the dates at which the equity asset generates a cash flow since its issue. This can be either a dividend or a terminal value sale."
   ]
  },
  {
   "attachments": {},
   "cell_type": "markdown",
   "id": "6d4d1a27",
   "metadata": {},
   "source": [
    "#### Dividend cash flow dates"
   ]
  },
  {
   "attachments": {},
   "cell_type": "markdown",
   "id": "5f1369f1",
   "metadata": {},
   "source": [
    "$$  I\\leq t_1 < \\dots < t_n \\leq END $$\n"
   ]
  },
  {
   "attachments": {},
   "cell_type": "markdown",
   "id": "bb5a6b53",
   "metadata": {},
   "source": [
    "#### Terminal value date"
   ]
  },
  {
   "attachments": {},
   "cell_type": "markdown",
   "id": "c18da79d",
   "metadata": {},
   "source": [
    "$$ t_{end} = END $$"
   ]
  },
  {
   "attachments": {},
   "cell_type": "markdown",
   "id": "28703bcd",
   "metadata": {},
   "source": [
    "### 2) Refactoring"
   ]
  },
  {
   "attachments": {},
   "cell_type": "markdown",
   "id": "df3fce99",
   "metadata": {},
   "source": [
    "Similar to refactoring for fixed income assets, this step consists of calculating the cash flow dates that occur after the modelling date since the past cash flows are not considered in the modell. For each cash flow date, a time fraction is calculated with regards to the modelling date in years. This facilitates discounting in later stages."
   ]
  },
  {
   "attachments": {},
   "cell_type": "markdown",
   "id": "3c95175e",
   "metadata": {},
   "source": [
    "The calculation of the date fraction is:\n",
    "\n",
    "$$ t_1^f =\\frac{t_j - MD}{365.5} $$ \n",
    "\n",
    "\n",
    "\n",
    "$$ t_2^f = \\frac{t_{j+1} - MD}{365.5} $$\n",
    "\n",
    "$$\\dots$$\n",
    "\n",
    "$$t_k^f = \\frac{t_{j+k} - MD}{365.5} $$\n",
    "\n",
    "Where:\n",
    "\n",
    "$$ j = \\min_i(t_i \\geq MD) $$\n",
    "\n",
    "Note that as OSLM starts supporting more daycount conventions, the date fraction calculation will be enchanced.\n"
   ]
  },
  {
   "attachments": {},
   "cell_type": "markdown",
   "id": "f8851914",
   "metadata": {},
   "source": [
    "The date fractions are saved and can be viewed in the following object property:"
   ]
  },
  {
   "attachments": {},
   "cell_type": "markdown",
   "id": "1d7a7f75",
   "metadata": {},
   "source": [
    "$$ datescf =  \\{ t_1^f, t_2^f, \\dots t_{k}^f \\}$$"
   ]
  },
  {
   "attachments": {},
   "cell_type": "markdown",
   "id": "2654cfcc",
   "metadata": {},
   "source": [
    "Terminal date is also refactored if the asset has not matured before the modelling date."
   ]
  },
  {
   "attachments": {},
   "cell_type": "markdown",
   "id": "9a4d0ce5",
   "metadata": {},
   "source": [
    "$$ t^f_{end} = \\frac{t_{end} - MD} {365.5} $$"
   ]
  },
  {
   "attachments": {},
   "cell_type": "markdown",
   "id": "9eb9a5fa",
   "metadata": {},
   "source": [
    "The date fraction is saved and can be viewed in the following object property:"
   ]
  },
  {
   "attachments": {},
   "cell_type": "markdown",
   "id": "3ac155c5",
   "metadata": {},
   "source": [
    "$$ datesterminal =  \\{ t_{end}^f\\}$$"
   ]
  },
  {
   "attachments": {},
   "cell_type": "markdown",
   "id": "c8d7ca4e",
   "metadata": {},
   "source": [
    "### 3) Calibration"
   ]
  },
  {
   "attachments": {},
   "cell_type": "markdown",
   "id": "d82cd078",
   "metadata": {},
   "source": [
    "The calibration of an equity asset uses a Gordon growth model to calculate the implied future growth rate, would imply the observed market value at the modelling date. "
   ]
  },
  {
   "attachments": {},
   "cell_type": "markdown",
   "id": "9e04f7ac",
   "metadata": {},
   "source": [
    "The calibration consists of finding a growth rate g such that:\n",
    "\n",
    "$$\n",
    "MV = \\frac{MV*(1+g)^{t^f_1} dy}{(1+y_1)^{t^f_1}}+\\frac{MV*(1+g)^{t^f_2} dy}{(1+y_2)^{t^f_2}}+\\dots + \\frac{MV*(1+g)^{t^f_m} dy}{(1+y_m)^{t^f_m}} + \\frac{1}{(1+y_m)^{t^f_m}} \\frac{MV*dy}{r-g}\n",
    "$$\n",
    "\n",
    "$$\n",
    "1 = \\frac{(1+g)^{t^f_1} dy}{(1+y_1)^{t^f_1}}+\\frac{(1+g)^{t^f_2} dy}{(1+y_2)^{t^f_2}}+\\dots + \\frac{(1+g)^{t^f_m} dy}{(1+y_m)^{t^f_m}} + \\frac{1}{(1+y_m)^{t^f_m}} \\frac{dy}{r-g}\n",
    "$$\n",
    "\n",
    "$$\n",
    "\\frac{1}{dy} = \\frac{(1+g)^{t^f_1}}{(1+y_1)^{t^f_1}}+\\frac{(1+g)^{t^f_2}}{(1+y_2)^{t^f_2}}+\\dots + \\frac{(1+g)^{t^f_m}}{(1+y_m)^{t^f_m}} + \\frac{1}{(1+y_m)^{t^f_m}} \\frac{1}{r-g}\n",
    "$$\n",
    "\n"
   ]
  },
  {
   "attachments": {},
   "cell_type": "markdown",
   "id": "8734781e",
   "metadata": {},
   "source": [
    "### 4) Cashflows"
   ]
  },
  {
   "attachments": {},
   "cell_type": "markdown",
   "id": "bf23d02b",
   "metadata": {},
   "source": [
    "After obtaining the growth rate, the growth of the value of the share and by consequence the size of each dividend can be projected (As well as the terminal value). The calculation of the market value is done using the date fractions calculated in step 1, the calculated yields for each period and the growth rate. "
   ]
  },
  {
   "attachments": {},
   "cell_type": "markdown",
   "id": "dfe6a429",
   "metadata": {},
   "source": [
    "For each time period where a dividend is supposed to be paid, the market value is calculated as:\n",
    "\n",
    "$MV_{t_i^f} = MV (1+g)^{t^f_i}$\n",
    "\n",
    "Based on the market value at that period, the cash flow related to the dividend is calculated as:\n",
    "\n",
    "$d_i = MV_{t_i^f}* dy$"
   ]
  },
  {
   "attachments": {},
   "cell_type": "markdown",
   "id": "7d84391a",
   "metadata": {},
   "source": [
    "The terminal value of the equity is calculated as\n",
    "\n",
    "$TV = \\frac{MV}{r-g}$"
   ]
  },
  {
   "attachments": {},
   "cell_type": "markdown",
   "id": "47ddd63b",
   "metadata": {},
   "source": [
    "\n",
    "$  divcf =  \\{ d_1, \\dots, d_k \\} $"
   ]
  },
  {
   "attachments": {},
   "cell_type": "markdown",
   "id": "ccdae229",
   "metadata": {},
   "source": [
    "## Property input and calibration"
   ]
  },
  {
   "attachments": {},
   "cell_type": "markdown",
   "id": "b7f7da42",
   "metadata": {},
   "source": [
    "OSAL supports the asset class of properties. They represent properties wholy or partly owned by the company. The property's value is assumed to grow with a fixed growth rate. The property also gives the owner a dividend in the form of rent payments. Property shares are modeled as instruments that offer a constant cash flow in the form of a dividend (rent invcome) based on the property value at the time of payment. The propery also has intrinsic value that increases over time at a constant growth. At the end of the modelling period, a selling value is calculated. The selling value represents the hypothetical sale of the property at the end of hte modelling period."
   ]
  },
  {
   "attachments": {},
   "cell_type": "markdown",
   "id": "36d6e580",
   "metadata": {},
   "source": [
    "Property has the following fields:"
   ]
  },
  {
   "attachments": {},
   "cell_type": "markdown",
   "id": "1fce32a5",
   "metadata": {},
   "source": [
    " - $f \\dots $ frequency of rent payments \n",
    " - $END \\dots $ end of the modelling period\n",
    " - $I \\dots $ date of contract signing (used to calculate the rent payment dates)\n",
    " - $dy \\dots $ rent yield\n",
    " - $MV \\dots $ market value at modelling date\n",
    " - $BV \\dots $ book value at modelling date"
   ]
  },
  {
   "attachments": {},
   "cell_type": "markdown",
   "id": "84461fad",
   "metadata": {},
   "source": [
    "### 1) Dates"
   ]
  },
  {
   "attachments": {},
   "cell_type": "markdown",
   "id": "0c52fec7",
   "metadata": {},
   "source": [
    "The first step is to calculate the dates at which the equity asset generates a cash flow since its issue. This can be either a dividend or a terminal value sale."
   ]
  },
  {
   "attachments": {},
   "cell_type": "markdown",
   "id": "6940788b",
   "metadata": {},
   "source": [
    "#### Dividend cash flow dates"
   ]
  },
  {
   "attachments": {},
   "cell_type": "markdown",
   "id": "c486b561",
   "metadata": {},
   "source": [
    "$$  I\\leq t_1 < \\dots < t_n \\leq END $$"
   ]
  },
  {
   "attachments": {},
   "cell_type": "markdown",
   "id": "ee6dc59d",
   "metadata": {},
   "source": [
    "## Cash input"
   ]
  },
  {
   "attachments": {},
   "cell_type": "markdown",
   "id": "2d0055ef",
   "metadata": {},
   "source": [
    "Cash is an asset class that is supported by the OSAL model. It also serves as a liquidity management field, serving as an intermediate between different trading steps in the projection module. Only a single entry for cash is kept within the model."
   ]
  },
  {
   "attachments": {},
   "cell_type": "markdown",
   "id": "efab4191",
   "metadata": {},
   "source": [
    "$$  cash = CASH $$\n",
    "\n",
    "Where:\n",
    "\n",
    " - $CASH$ is the input cash value loaded from the input files"
   ]
  },
  {
   "attachments": {},
   "cell_type": "markdown",
   "id": "cd75dffb",
   "metadata": {},
   "source": [
    "# Generation of future investment assets"
   ]
  },
  {
   "attachments": {},
   "cell_type": "markdown",
   "id": "3d91c977",
   "metadata": {},
   "source": [
    "Companies are expected to generate excess cash from operation, capital return or investment in the future. That cash is normaly invested into the investments available at that time. Most of the assets that will be in the investment universe at that time do not exist yet at the Modelling Date and are therefor not present in the portfolio.\n",
    "\n",
    "To keep the model realistic, OSAL needs a way to create future assets."
   ]
  },
  {
   "attachments": {},
   "cell_type": "markdown",
   "id": "be2753a4",
   "metadata": {},
   "source": [
    "This section describes the methodology to generate the following asset classes:\n",
    "\n",
    " - Government bonds\n",
    " - Corporate bonds\n",
    " - Equity shares\n",
    " - Property shares"
   ]
  },
  {
   "attachments": {},
   "cell_type": "markdown",
   "id": "e0748640",
   "metadata": {},
   "source": [
    "### Generation of future government bonds"
   ]
  },
  {
   "attachments": {},
   "cell_type": "markdown",
   "id": "2e808c87",
   "metadata": {},
   "source": [
    "ToDo"
   ]
  },
  {
   "attachments": {},
   "cell_type": "markdown",
   "id": "c463de41",
   "metadata": {},
   "source": [
    "### Generation of future corporate bonds"
   ]
  },
  {
   "attachments": {},
   "cell_type": "markdown",
   "id": "0fe7ee93",
   "metadata": {},
   "source": [
    "Corporate bonds are generated at every period for a set of key maturities obtained from the input file XXXX. To avoid the explosion of new assets, the model only generates new bonds from sectors obtained from the input file. The sector is defined by its NACE code. The POC prototype only supports a risk neutral run therefore every sector would have the same profile. Therefore sector list is ignored. The input files also contain frequency $f$."
   ]
  },
  {
   "attachments": {},
   "cell_type": "markdown",
   "id": "95ef7981",
   "metadata": {},
   "source": [
    "In each modelling period $MD_i $, the key maturity of $j$ years and a sector $k$, the folowing bond is generated:\n",
    "\n",
    "Frequency of coupon dates is \n",
    "$$ f$$\n",
    "Maturity date is:\n",
    "\n",
    "$$  M = MD_i+j $$\n",
    "\n",
    "Issue date is:\n",
    "$$  I = MD_i $$\n",
    "\n",
    "Coupon yeld is set empty and will be calibrated in a further step to be priced at par.\n",
    "\n",
    "Notional amount is set to 100.\n",
    "\n",
    "Market value is set to 100.\n",
    "\n",
    "Book value is set to 100."
   ]
  },
  {
   "attachments": {},
   "cell_type": "markdown",
   "id": "b8e599a6",
   "metadata": {},
   "source": [
    "#### Calibration of future corporate bonds"
   ]
  },
  {
   "attachments": {},
   "cell_type": "markdown",
   "id": "5a04e392",
   "metadata": {},
   "source": [
    "For simplicity, the dividend yield of newly created bonds is calibrates such that when priced using the risk free curve, the market value is equal to the notional amount. For a risk neutral run, each sector would have the same properties, therefore, only one bond is generated."
   ]
  },
  {
   "attachments": {},
   "cell_type": "markdown",
   "id": "60c95d09",
   "metadata": {},
   "source": [
    "### 1) Dates\n",
    "\n",
    "The first step in thenew bond generation process is to calculate dates at which the bond is expected to produce a cash flow.\n",
    "\n",
    "We will denote these dates as:\n",
    "\n",
    "$$  I\\leq t_1 < \\dots < t_n \\leq M $$"
   ]
  },
  {
   "attachments": {},
   "cell_type": "markdown",
   "id": "aead91df",
   "metadata": {},
   "source": [
    "### 2) Refactoring\n",
    "\n",
    "Refactoring for fixed income assets consists of calculating the cash flow dates with relation to the modelling date. For each cash flow date, a time fraction is calculated with regards to the modelling date in years."
   ]
  },
  {
   "attachments": {},
   "cell_type": "markdown",
   "id": "6657430b",
   "metadata": {},
   "source": [
    "$$ t_1^f = \\frac{t_1 - MD_i}{365.5}$$\n",
    "\n",
    "$$ t_2^f = \\frac{t_2 - MD_i}{365.5} $$\n",
    "\n",
    "$$\\dots$$\n",
    "\n",
    "$$t_n^f = \\frac{t_{j+k} - MD_i}{365.5} $$\n",
    "\n",
    "Note that the bond was generated such that all coupon cash flows are after the modelling step"
   ]
  },
  {
   "attachments": {},
   "cell_type": "markdown",
   "id": "4d867d0c",
   "metadata": {},
   "source": [
    "The date fractions are saved and can be viewed in the following object property:"
   ]
  },
  {
   "attachments": {},
   "cell_type": "markdown",
   "id": "e9d18ed7",
   "metadata": {},
   "source": [
    "$$ datescf =  \\{ t_1^f, t_2^f, \\dots t_{j+k}^f \\} $$"
   ]
  },
  {
   "attachments": {},
   "cell_type": "markdown",
   "id": "d6686f8d",
   "metadata": {},
   "source": [
    "Terminal date is also refactored if the asset has not matured before the modelling date.\n",
    "\n",
    "$$ t^f_{end} = \\frac{t_{end} - MD} {365.5}   $$\n",
    "\n",
    "The date fraction is saved and can be viewed in the following object property:\n",
    "\n",
    "$$ datesnotional =  \\{ t_{end}^f\\}$$"
   ]
  },
  {
   "attachments": {},
   "cell_type": "markdown",
   "id": "505737df",
   "metadata": {},
   "source": [
    "#### Calibration of the yield"
   ]
  },
  {
   "attachments": {},
   "cell_type": "markdown",
   "id": "adae40d1",
   "metadata": {},
   "source": [
    "$$\n",
    "MV = \\frac{d_1}{(1+ y_1)^{t_1^f}} + \\dots+\\frac{d_k}{(1+ y_k)^{t_k^f}} +\\frac{N}{(1+ y_k)^{t_k^f}} \n",
    "$$\n"
   ]
  },
  {
   "attachments": {},
   "cell_type": "markdown",
   "id": "251bc825",
   "metadata": {},
   "source": [
    "### Generation of future equity shares"
   ]
  },
  {
   "attachments": {},
   "cell_type": "markdown",
   "id": "35d81c4f",
   "metadata": {},
   "source": []
  },
  {
   "attachments": {},
   "cell_type": "markdown",
   "id": "9113dbcd",
   "metadata": {},
   "source": [
    "### Generation of future property bonds"
   ]
  },
  {
   "attachments": {},
   "cell_type": "markdown",
   "id": "c7c99ee2",
   "metadata": {},
   "source": []
  },
  {
   "attachments": {},
   "cell_type": "markdown",
   "id": "a70f03eb",
   "metadata": {},
   "source": []
  },
  {
   "attachments": {},
   "cell_type": "markdown",
   "id": "f9404038",
   "metadata": {},
   "source": [
    "## Liability preparation"
   ]
  },
  {
   "attachments": {},
   "cell_type": "markdown",
   "id": "92dfc3ab",
   "metadata": {},
   "source": [
    "### Term life"
   ]
  },
  {
   "attachments": {},
   "cell_type": "markdown",
   "id": "6d16c095",
   "metadata": {},
   "source": [
    "ToDo"
   ]
  },
  {
   "attachments": {},
   "cell_type": "markdown",
   "id": "344988ca",
   "metadata": {},
   "source": [
    "### Health"
   ]
  },
  {
   "attachments": {},
   "cell_type": "markdown",
   "id": "c447a68c",
   "metadata": {},
   "source": [
    "ToDo"
   ]
  },
  {
   "attachments": {},
   "cell_type": "markdown",
   "id": "9cb247e3",
   "metadata": {},
   "source": [
    "### P&C"
   ]
  },
  {
   "attachments": {},
   "cell_type": "markdown",
   "id": "a4e768b3",
   "metadata": {},
   "source": [
    "ToDo"
   ]
  },
  {
   "attachments": {},
   "cell_type": "markdown",
   "id": "f46b00a7",
   "metadata": {},
   "source": [
    "# Projection"
   ]
  },
  {
   "attachments": {},
   "cell_type": "markdown",
   "id": "de8fce36",
   "metadata": {},
   "source": [
    "ToDo"
   ]
  },
  {
   "attachments": {},
   "cell_type": "markdown",
   "id": "7634e141",
   "metadata": {},
   "source": [
    "# Trading"
   ]
  },
  {
   "attachments": {},
   "cell_type": "markdown",
   "id": "ce9b7b80",
   "metadata": {},
   "source": [
    "ToDo"
   ]
  }
 ],
 "metadata": {
  "kernelspec": {
   "display_name": "Python 3 (ipykernel)",
   "language": "python",
   "name": "python3"
  },
  "language_info": {
   "codemirror_mode": {
    "name": "ipython",
    "version": 3
   },
   "file_extension": ".py",
   "mimetype": "text/x-python",
   "name": "python",
   "nbconvert_exporter": "python",
   "pygments_lexer": "ipython3",
   "version": "3.9.7"
  }
 },
 "nbformat": 4,
 "nbformat_minor": 5
}
