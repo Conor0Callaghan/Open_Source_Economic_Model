{
 "cells": [
  {
   "cell_type": "markdown",
   "id": "3f175eb6",
   "metadata": {},
   "source": [
    "# SUMMARY CHARTS FOR OSEM RUN\n",
    "\n",
    "OSEM model projects and actively trades a portfolio of corporate bonds and equities in light of commitments. The basic unit in OSEM is a cash flow. The purpose of this script is to show a how different types of cash flows are treated in the latest run.\n",
    "\n"
   ]
  },
  {
   "cell_type": "markdown",
   "id": "585652cf",
   "metadata": {},
   "source": [
    "# Table of Contents  \n",
    " 1. Loading the summary csv\n",
    " \n",
    "       Equity\n",
    "        \n",
    "       Corporate bonds\n",
    "       \n",
    "       Cash\n",
    "\n",
    "       Liability profile\n",
    " \n",
    " 2. The initial portfolio\n",
    "      \n",
    "      Periodic cash flows\n",
    "\n",
    "      Terminal cash flows\n",
    "      \n",
    "      Cash movement\n",
    "\n",
    "      End of period market value\n",
    "\n",
    "      \n",
    " 3. Test 1 Return of portfolio\n",
    " 4. Test 2 no vanishing cash flows"
   ]
  },
  {
   "cell_type": "markdown",
   "id": "4c495112",
   "metadata": {},
   "source": [
    "<a id=\"1\"></a> <br>\n",
    "## Loading the summary csv"
   ]
  },
  {
   "cell_type": "code",
   "execution_count": 59,
   "id": "de5f2301",
   "metadata": {},
   "outputs": [],
   "source": [
    "import pandas as pd\n",
    "import matplotlib.pyplot as plt\n",
    "import datetime as dt"
   ]
  },
  {
   "cell_type": "code",
   "execution_count": 60,
   "id": "2910d990",
   "metadata": {},
   "outputs": [],
   "source": [
    "out = pd.read_csv(\"Output/Results.csv\",index_col=0, parse_dates=[0])"
   ]
  },
  {
   "cell_type": "markdown",
   "id": "3398648b",
   "metadata": {},
   "source": [
    "<a id=\"2\"></a> <br>\n",
    "## The initial portfolio\n",
    "\n",
    "This section shows what the initial inputs of the run were. Currently OSEM can handle three types of financial instruments and one type of liability profile."
   ]
  },
  {
   "cell_type": "markdown",
   "id": "91cbe6fa",
   "metadata": {},
   "source": [
    "### Equity\n",
    "\n",
    "Shares in companies:"
   ]
  },
  {
   "cell_type": "code",
   "execution_count": 61,
   "id": "f4e40d86",
   "metadata": {},
   "outputs": [],
   "source": [
    "equity = pd.read_csv(\"Input/Equity_Portfolio_test.csv\",index_col=0)"
   ]
  },
  {
   "cell_type": "code",
   "execution_count": 62,
   "id": "7aac3185",
   "metadata": {},
   "outputs": [
    {
     "data": {
      "text/html": [
       "<div>\n",
       "<style scoped>\n",
       "    .dataframe tbody tr th:only-of-type {\n",
       "        vertical-align: middle;\n",
       "    }\n",
       "\n",
       "    .dataframe tbody tr th {\n",
       "        vertical-align: top;\n",
       "    }\n",
       "\n",
       "    .dataframe thead th {\n",
       "        text-align: right;\n",
       "    }\n",
       "</style>\n",
       "<table border=\"1\" class=\"dataframe\">\n",
       "  <thead>\n",
       "    <tr style=\"text-align: right;\">\n",
       "      <th></th>\n",
       "      <th>Asset_Type</th>\n",
       "      <th>NACE</th>\n",
       "      <th>Issue_Date</th>\n",
       "      <th>Dividend_Yield</th>\n",
       "      <th>Frequency</th>\n",
       "      <th>Units</th>\n",
       "      <th>Market_Price</th>\n",
       "      <th>Terminal</th>\n",
       "      <th>Default_Probability</th>\n",
       "      <th>Growth_Rate</th>\n",
       "    </tr>\n",
       "    <tr>\n",
       "      <th>Asset_ID</th>\n",
       "      <th></th>\n",
       "      <th></th>\n",
       "      <th></th>\n",
       "      <th></th>\n",
       "      <th></th>\n",
       "      <th></th>\n",
       "      <th></th>\n",
       "      <th></th>\n",
       "      <th></th>\n",
       "      <th></th>\n",
       "    </tr>\n",
       "  </thead>\n",
       "  <tbody>\n",
       "    <tr>\n",
       "      <th>1125</th>\n",
       "      <td>Equity_Share</td>\n",
       "      <td>A1.4.5</td>\n",
       "      <td>3/12/2021</td>\n",
       "      <td>0.03</td>\n",
       "      <td>1</td>\n",
       "      <td>1</td>\n",
       "      <td>94</td>\n",
       "      <td>1</td>\n",
       "      <td>0.03</td>\n",
       "      <td>0.01</td>\n",
       "    </tr>\n",
       "    <tr>\n",
       "      <th>2123</th>\n",
       "      <td>Equity_Share</td>\n",
       "      <td>B5.2.0</td>\n",
       "      <td>3/12/2021</td>\n",
       "      <td>0.05</td>\n",
       "      <td>1</td>\n",
       "      <td>1</td>\n",
       "      <td>92</td>\n",
       "      <td>1</td>\n",
       "      <td>0.03</td>\n",
       "      <td>0.02</td>\n",
       "    </tr>\n",
       "    <tr>\n",
       "      <th>3232</th>\n",
       "      <td>Equity_Share</td>\n",
       "      <td>B8.9.3</td>\n",
       "      <td>3/12/2019</td>\n",
       "      <td>0.04</td>\n",
       "      <td>1</td>\n",
       "      <td>1</td>\n",
       "      <td>96</td>\n",
       "      <td>1</td>\n",
       "      <td>0.03</td>\n",
       "      <td>0.04</td>\n",
       "    </tr>\n",
       "    <tr>\n",
       "      <th>3237</th>\n",
       "      <td>Equity_Share</td>\n",
       "      <td>B8.9.3</td>\n",
       "      <td>3/12/2019</td>\n",
       "      <td>0.04</td>\n",
       "      <td>1</td>\n",
       "      <td>1</td>\n",
       "      <td>96</td>\n",
       "      <td>1</td>\n",
       "      <td>0.03</td>\n",
       "      <td>0.00</td>\n",
       "    </tr>\n",
       "  </tbody>\n",
       "</table>\n",
       "</div>"
      ],
      "text/plain": [
       "            Asset_Type    NACE Issue_Date  Dividend_Yield  Frequency  Units  \\\n",
       "Asset_ID                                                                      \n",
       "1125      Equity_Share  A1.4.5  3/12/2021            0.03          1      1   \n",
       "2123      Equity_Share  B5.2.0  3/12/2021            0.05          1      1   \n",
       "3232      Equity_Share  B8.9.3  3/12/2019            0.04          1      1   \n",
       "3237      Equity_Share  B8.9.3  3/12/2019            0.04          1      1   \n",
       "\n",
       "          Market_Price  Terminal  Default_Probability  Growth_Rate  \n",
       "Asset_ID                                                            \n",
       "1125                94         1                 0.03         0.01  \n",
       "2123                92         1                 0.03         0.02  \n",
       "3232                96         1                 0.03         0.04  \n",
       "3237                96         1                 0.03         0.00  "
      ]
     },
     "metadata": {},
     "output_type": "display_data"
    }
   ],
   "source": [
    "display(equity)"
   ]
  },
  {
   "cell_type": "markdown",
   "id": "2e14d8dd",
   "metadata": {},
   "source": [
    "### Corporate bonds\n",
    "\n",
    "Corporate bonds:"
   ]
  },
  {
   "cell_type": "code",
   "execution_count": 63,
   "id": "efe3f757",
   "metadata": {},
   "outputs": [],
   "source": [
    "bonds = pd.read_csv(\"Input/Bond_Portfolio_test.csv\",index_col=0)"
   ]
  },
  {
   "cell_type": "code",
   "execution_count": 64,
   "id": "441012de",
   "metadata": {},
   "outputs": [
    {
     "data": {
      "text/html": [
       "<div>\n",
       "<style scoped>\n",
       "    .dataframe tbody tr th:only-of-type {\n",
       "        vertical-align: middle;\n",
       "    }\n",
       "\n",
       "    .dataframe tbody tr th {\n",
       "        vertical-align: top;\n",
       "    }\n",
       "\n",
       "    .dataframe thead th {\n",
       "        text-align: right;\n",
       "    }\n",
       "</style>\n",
       "<table border=\"1\" class=\"dataframe\">\n",
       "  <thead>\n",
       "    <tr style=\"text-align: right;\">\n",
       "      <th></th>\n",
       "      <th>Asset_Type</th>\n",
       "      <th>NACE</th>\n",
       "      <th>Issue_Date</th>\n",
       "      <th>Maturity_Date</th>\n",
       "      <th>Notional_Amount</th>\n",
       "      <th>Coupon_Rate</th>\n",
       "      <th>Z_Spread</th>\n",
       "      <th>Frequency</th>\n",
       "      <th>Recovery_Rate</th>\n",
       "      <th>Default_Probability</th>\n",
       "      <th>Units</th>\n",
       "      <th>Market_Price</th>\n",
       "    </tr>\n",
       "    <tr>\n",
       "      <th>Asset_ID</th>\n",
       "      <th></th>\n",
       "      <th></th>\n",
       "      <th></th>\n",
       "      <th></th>\n",
       "      <th></th>\n",
       "      <th></th>\n",
       "      <th></th>\n",
       "      <th></th>\n",
       "      <th></th>\n",
       "      <th></th>\n",
       "      <th></th>\n",
       "      <th></th>\n",
       "    </tr>\n",
       "  </thead>\n",
       "  <tbody>\n",
       "    <tr>\n",
       "      <th>1234</th>\n",
       "      <td>Corporate_Bond</td>\n",
       "      <td>A1.4.5</td>\n",
       "      <td>3/12/2021</td>\n",
       "      <td>12/12/2026</td>\n",
       "      <td>100</td>\n",
       "      <td>0.03</td>\n",
       "      <td>0.01</td>\n",
       "      <td>1</td>\n",
       "      <td>0.4</td>\n",
       "      <td>0.03</td>\n",
       "      <td>1</td>\n",
       "      <td>94</td>\n",
       "    </tr>\n",
       "    <tr>\n",
       "      <th>2889</th>\n",
       "      <td>Corporate_Bond</td>\n",
       "      <td>B5.2.0</td>\n",
       "      <td>3/12/2021</td>\n",
       "      <td>12/12/2028</td>\n",
       "      <td>100</td>\n",
       "      <td>0.05</td>\n",
       "      <td>0.01</td>\n",
       "      <td>2</td>\n",
       "      <td>0.4</td>\n",
       "      <td>0.03</td>\n",
       "      <td>2</td>\n",
       "      <td>92</td>\n",
       "    </tr>\n",
       "    <tr>\n",
       "      <th>31</th>\n",
       "      <td>Corporate_Bond</td>\n",
       "      <td>B8.9.3</td>\n",
       "      <td>3/12/2019</td>\n",
       "      <td>3/12/2025</td>\n",
       "      <td>100</td>\n",
       "      <td>0.04</td>\n",
       "      <td>0.01</td>\n",
       "      <td>12</td>\n",
       "      <td>0.4</td>\n",
       "      <td>0.03</td>\n",
       "      <td>3</td>\n",
       "      <td>96</td>\n",
       "    </tr>\n",
       "  </tbody>\n",
       "</table>\n",
       "</div>"
      ],
      "text/plain": [
       "              Asset_Type    NACE Issue_Date Maturity_Date  Notional_Amount  \\\n",
       "Asset_ID                                                                     \n",
       "1234      Corporate_Bond  A1.4.5  3/12/2021    12/12/2026              100   \n",
       "2889      Corporate_Bond  B5.2.0  3/12/2021    12/12/2028              100   \n",
       "31        Corporate_Bond  B8.9.3  3/12/2019     3/12/2025              100   \n",
       "\n",
       "          Coupon_Rate  Z_Spread  Frequency  Recovery_Rate  \\\n",
       "Asset_ID                                                    \n",
       "1234             0.03      0.01          1            0.4   \n",
       "2889             0.05      0.01          2            0.4   \n",
       "31               0.04      0.01         12            0.4   \n",
       "\n",
       "          Default_Probability  Units  Market_Price  \n",
       "Asset_ID                                            \n",
       "1234                     0.03      1            94  \n",
       "2889                     0.03      2            92  \n",
       "31                       0.03      3            96  "
      ]
     },
     "metadata": {},
     "output_type": "display_data"
    }
   ],
   "source": [
    "display(bonds)"
   ]
  },
  {
   "cell_type": "markdown",
   "id": "4ff24892",
   "metadata": {},
   "source": [
    "### Cash\n",
    "\n",
    "Initial cash position:"
   ]
  },
  {
   "cell_type": "code",
   "execution_count": 65,
   "id": "1a47498e",
   "metadata": {},
   "outputs": [],
   "source": [
    "cash = pd.read_csv(\"Input/Cash_Portfolio_test.csv\",index_col=0)"
   ]
  },
  {
   "cell_type": "code",
   "execution_count": 66,
   "id": "6a392a2e",
   "metadata": {},
   "outputs": [
    {
     "data": {
      "text/html": [
       "<div>\n",
       "<style scoped>\n",
       "    .dataframe tbody tr th:only-of-type {\n",
       "        vertical-align: middle;\n",
       "    }\n",
       "\n",
       "    .dataframe tbody tr th {\n",
       "        vertical-align: top;\n",
       "    }\n",
       "\n",
       "    .dataframe thead th {\n",
       "        text-align: right;\n",
       "    }\n",
       "</style>\n",
       "<table border=\"1\" class=\"dataframe\">\n",
       "  <thead>\n",
       "    <tr style=\"text-align: right;\">\n",
       "      <th></th>\n",
       "      <th>Bank_Account</th>\n",
       "    </tr>\n",
       "    <tr>\n",
       "      <th>Asset_ID</th>\n",
       "      <th></th>\n",
       "    </tr>\n",
       "  </thead>\n",
       "  <tbody>\n",
       "    <tr>\n",
       "      <th>1</th>\n",
       "      <td>10000</td>\n",
       "    </tr>\n",
       "  </tbody>\n",
       "</table>\n",
       "</div>"
      ],
      "text/plain": [
       "          Bank_Account\n",
       "Asset_ID              \n",
       "1                10000"
      ]
     },
     "metadata": {},
     "output_type": "display_data"
    }
   ],
   "source": [
    "display(cash)"
   ]
  },
  {
   "cell_type": "markdown",
   "id": "c3d4d432",
   "metadata": {},
   "source": [
    "### Liability profile\n",
    "\n",
    "An aggregated view of liabilities displayed as aggregated outflows at future dates:"
   ]
  },
  {
   "cell_type": "code",
   "execution_count": 67,
   "id": "9445d8a1",
   "metadata": {},
   "outputs": [],
   "source": [
    "liability = pd.read_csv(\"Input/Liability_Cashflow.csv\",index_col=0)"
   ]
  },
  {
   "cell_type": "code",
   "execution_count": 68,
   "id": "7b952e34",
   "metadata": {},
   "outputs": [
    {
     "data": {
      "text/html": [
       "<div>\n",
       "<style scoped>\n",
       "    .dataframe tbody tr th:only-of-type {\n",
       "        vertical-align: middle;\n",
       "    }\n",
       "\n",
       "    .dataframe tbody tr th {\n",
       "        vertical-align: top;\n",
       "    }\n",
       "\n",
       "    .dataframe thead th {\n",
       "        text-align: right;\n",
       "    }\n",
       "</style>\n",
       "<table border=\"1\" class=\"dataframe\">\n",
       "  <thead>\n",
       "    <tr style=\"text-align: right;\">\n",
       "      <th></th>\n",
       "      <th>Liability_Size</th>\n",
       "    </tr>\n",
       "    <tr>\n",
       "      <th>Liability_Date</th>\n",
       "      <th></th>\n",
       "    </tr>\n",
       "  </thead>\n",
       "  <tbody>\n",
       "    <tr>\n",
       "      <th>1/9/2023</th>\n",
       "      <td>6</td>\n",
       "    </tr>\n",
       "    <tr>\n",
       "      <th>2/10/2023</th>\n",
       "      <td>92</td>\n",
       "    </tr>\n",
       "    <tr>\n",
       "      <th>2/11/2023</th>\n",
       "      <td>93</td>\n",
       "    </tr>\n",
       "    <tr>\n",
       "      <th>3/12/2023</th>\n",
       "      <td>2</td>\n",
       "    </tr>\n",
       "    <tr>\n",
       "      <th>3/1/2024</th>\n",
       "      <td>7</td>\n",
       "    </tr>\n",
       "    <tr>\n",
       "      <th>...</th>\n",
       "      <td>...</td>\n",
       "    </tr>\n",
       "    <tr>\n",
       "      <th>19/3/2049</th>\n",
       "      <td>14</td>\n",
       "    </tr>\n",
       "    <tr>\n",
       "      <th>19/4/2049</th>\n",
       "      <td>28</td>\n",
       "    </tr>\n",
       "    <tr>\n",
       "      <th>20/5/2049</th>\n",
       "      <td>53</td>\n",
       "    </tr>\n",
       "    <tr>\n",
       "      <th>20/6/2049</th>\n",
       "      <td>92</td>\n",
       "    </tr>\n",
       "    <tr>\n",
       "      <th>21/7/2049</th>\n",
       "      <td>41</td>\n",
       "    </tr>\n",
       "  </tbody>\n",
       "</table>\n",
       "<p>306 rows × 1 columns</p>\n",
       "</div>"
      ],
      "text/plain": [
       "                Liability_Size\n",
       "Liability_Date                \n",
       "1/9/2023                     6\n",
       "2/10/2023                   92\n",
       "2/11/2023                   93\n",
       "3/12/2023                    2\n",
       "3/1/2024                     7\n",
       "...                        ...\n",
       "19/3/2049                   14\n",
       "19/4/2049                   28\n",
       "20/5/2049                   53\n",
       "20/6/2049                   92\n",
       "21/7/2049                   41\n",
       "\n",
       "[306 rows x 1 columns]"
      ]
     },
     "metadata": {},
     "output_type": "display_data"
    }
   ],
   "source": [
    "display(liability)"
   ]
  },
  {
   "cell_type": "markdown",
   "id": "da3280f5",
   "metadata": {},
   "source": [
    "<a id=\"3\"></a> <br>\n",
    "## What is in the summary csv\n",
    "\n",
    "During the OSEM run, pieces of information area saved into the \"Summary\" dataframe. The object captures the performance of the portfolio and size of cash flows in each step."
   ]
  },
  {
   "cell_type": "markdown",
   "id": "da091298",
   "metadata": {},
   "source": [
    "***\n",
    "<span style=color:black>\n",
    "    <b>SUMMARY OBJECT</b>\n",
    "</span>\n",
    "<br>\n",
    "<span style=color:black>   \n",
    "    All collumns\n",
    "</span>"
   ]
  },
  {
   "cell_type": "code",
   "execution_count": 69,
   "id": "fd4ee55c",
   "metadata": {},
   "outputs": [
    {
     "data": {
      "text/html": [
       "<div>\n",
       "<style scoped>\n",
       "    .dataframe tbody tr th:only-of-type {\n",
       "        vertical-align: middle;\n",
       "    }\n",
       "\n",
       "    .dataframe tbody tr th {\n",
       "        vertical-align: top;\n",
       "    }\n",
       "\n",
       "    .dataframe thead th {\n",
       "        text-align: right;\n",
       "    }\n",
       "</style>\n",
       "<table border=\"1\" class=\"dataframe\">\n",
       "  <thead>\n",
       "    <tr style=\"text-align: right;\">\n",
       "      <th></th>\n",
       "      <th>Start cash</th>\n",
       "      <th>End cash</th>\n",
       "      <th>Start market value</th>\n",
       "      <th>After growth market value</th>\n",
       "      <th>End market value</th>\n",
       "      <th>Portfolio return</th>\n",
       "      <th>Dividend cash flow</th>\n",
       "      <th>Coupon cash flow</th>\n",
       "      <th>Terminal cash flow</th>\n",
       "      <th>Notional cash flow</th>\n",
       "      <th>Liability cash flow</th>\n",
       "    </tr>\n",
       "  </thead>\n",
       "  <tbody>\n",
       "    <tr>\n",
       "      <th>2023-04-29</th>\n",
       "      <td>NaN</td>\n",
       "      <td>1.000000e+04</td>\n",
       "      <td>NaN</td>\n",
       "      <td>NaN</td>\n",
       "      <td>944.000000</td>\n",
       "      <td>NaN</td>\n",
       "      <td>NaN</td>\n",
       "      <td>NaN</td>\n",
       "      <td>NaN</td>\n",
       "      <td>NaN</td>\n",
       "      <td>NaN</td>\n",
       "    </tr>\n",
       "    <tr>\n",
       "      <th>2024-04-28</th>\n",
       "      <td>1.000000e+04</td>\n",
       "      <td>0.000000e+00</td>\n",
       "      <td>944.000000</td>\n",
       "      <td>1131.647758</td>\n",
       "      <td>11094.910085</td>\n",
       "      <td>0.198779</td>\n",
       "      <td>15.262327</td>\n",
       "      <td>167.000000</td>\n",
       "      <td>0.0</td>\n",
       "      <td>0.000000</td>\n",
       "      <td>-219.0</td>\n",
       "    </tr>\n",
       "    <tr>\n",
       "      <th>2025-04-28</th>\n",
       "      <td>0.000000e+00</td>\n",
       "      <td>-6.821210e-13</td>\n",
       "      <td>11094.910085</td>\n",
       "      <td>11257.140153</td>\n",
       "      <td>12979.814124</td>\n",
       "      <td>0.014622</td>\n",
       "      <td>152.371222</td>\n",
       "      <td>1637.302749</td>\n",
       "      <td>0.0</td>\n",
       "      <td>0.000000</td>\n",
       "      <td>-67.0</td>\n",
       "    </tr>\n",
       "    <tr>\n",
       "      <th>2026-04-28</th>\n",
       "      <td>-6.821210e-13</td>\n",
       "      <td>0.000000e+00</td>\n",
       "      <td>12979.814124</td>\n",
       "      <td>13090.969540</td>\n",
       "      <td>17276.502093</td>\n",
       "      <td>0.008564</td>\n",
       "      <td>178.930021</td>\n",
       "      <td>1345.240337</td>\n",
       "      <td>0.0</td>\n",
       "      <td>3391.362195</td>\n",
       "      <td>-730.0</td>\n",
       "    </tr>\n",
       "    <tr>\n",
       "      <th>2027-04-28</th>\n",
       "      <td>0.000000e+00</td>\n",
       "      <td>-5.911716e-12</td>\n",
       "      <td>17276.502093</td>\n",
       "      <td>17395.189415</td>\n",
       "      <td>18978.761104</td>\n",
       "      <td>0.006870</td>\n",
       "      <td>240.546475</td>\n",
       "      <td>343.134796</td>\n",
       "      <td>0.0</td>\n",
       "      <td>1491.890418</td>\n",
       "      <td>-492.0</td>\n",
       "    </tr>\n",
       "    <tr>\n",
       "      <th>2028-04-27</th>\n",
       "      <td>-5.911716e-12</td>\n",
       "      <td>-1.136868e-12</td>\n",
       "      <td>18978.761104</td>\n",
       "      <td>19090.621750</td>\n",
       "      <td>18958.562891</td>\n",
       "      <td>0.005894</td>\n",
       "      <td>267.400197</td>\n",
       "      <td>325.540943</td>\n",
       "      <td>0.0</td>\n",
       "      <td>0.000000</td>\n",
       "      <td>-725.0</td>\n",
       "    </tr>\n",
       "    <tr>\n",
       "      <th>2029-04-27</th>\n",
       "      <td>-1.136868e-12</td>\n",
       "      <td>-9.094947e-13</td>\n",
       "      <td>18958.562891</td>\n",
       "      <td>19072.185893</td>\n",
       "      <td>22132.001591</td>\n",
       "      <td>0.005993</td>\n",
       "      <td>270.636452</td>\n",
       "      <td>323.289022</td>\n",
       "      <td>0.0</td>\n",
       "      <td>3232.890224</td>\n",
       "      <td>-767.0</td>\n",
       "    </tr>\n",
       "    <tr>\n",
       "      <th>2030-04-27</th>\n",
       "      <td>-9.094947e-13</td>\n",
       "      <td>-1.136868e-13</td>\n",
       "      <td>22132.001591</td>\n",
       "      <td>22263.127554</td>\n",
       "      <td>21957.250051</td>\n",
       "      <td>0.005925</td>\n",
       "      <td>320.122497</td>\n",
       "      <td>0.000000</td>\n",
       "      <td>0.0</td>\n",
       "      <td>0.000000</td>\n",
       "      <td>-626.0</td>\n",
       "    </tr>\n",
       "    <tr>\n",
       "      <th>2031-04-27</th>\n",
       "      <td>-1.136868e-13</td>\n",
       "      <td>-1.023182e-12</td>\n",
       "      <td>21957.250051</td>\n",
       "      <td>22088.246116</td>\n",
       "      <td>21861.138535</td>\n",
       "      <td>0.005966</td>\n",
       "      <td>321.892419</td>\n",
       "      <td>0.000000</td>\n",
       "      <td>0.0</td>\n",
       "      <td>0.000000</td>\n",
       "      <td>-549.0</td>\n",
       "    </tr>\n",
       "    <tr>\n",
       "      <th>2032-04-26</th>\n",
       "      <td>-1.023182e-12</td>\n",
       "      <td>-6.821210e-13</td>\n",
       "      <td>21861.138535</td>\n",
       "      <td>22003.641584</td>\n",
       "      <td>21805.518160</td>\n",
       "      <td>0.006519</td>\n",
       "      <td>324.876576</td>\n",
       "      <td>0.000000</td>\n",
       "      <td>0.0</td>\n",
       "      <td>0.000000</td>\n",
       "      <td>-523.0</td>\n",
       "    </tr>\n",
       "  </tbody>\n",
       "</table>\n",
       "</div>"
      ],
      "text/plain": [
       "              Start cash      End cash  Start market value  \\\n",
       "2023-04-29           NaN  1.000000e+04                 NaN   \n",
       "2024-04-28  1.000000e+04  0.000000e+00          944.000000   \n",
       "2025-04-28  0.000000e+00 -6.821210e-13        11094.910085   \n",
       "2026-04-28 -6.821210e-13  0.000000e+00        12979.814124   \n",
       "2027-04-28  0.000000e+00 -5.911716e-12        17276.502093   \n",
       "2028-04-27 -5.911716e-12 -1.136868e-12        18978.761104   \n",
       "2029-04-27 -1.136868e-12 -9.094947e-13        18958.562891   \n",
       "2030-04-27 -9.094947e-13 -1.136868e-13        22132.001591   \n",
       "2031-04-27 -1.136868e-13 -1.023182e-12        21957.250051   \n",
       "2032-04-26 -1.023182e-12 -6.821210e-13        21861.138535   \n",
       "\n",
       "            After growth market value  End market value  Portfolio return  \\\n",
       "2023-04-29                        NaN        944.000000               NaN   \n",
       "2024-04-28                1131.647758      11094.910085          0.198779   \n",
       "2025-04-28               11257.140153      12979.814124          0.014622   \n",
       "2026-04-28               13090.969540      17276.502093          0.008564   \n",
       "2027-04-28               17395.189415      18978.761104          0.006870   \n",
       "2028-04-27               19090.621750      18958.562891          0.005894   \n",
       "2029-04-27               19072.185893      22132.001591          0.005993   \n",
       "2030-04-27               22263.127554      21957.250051          0.005925   \n",
       "2031-04-27               22088.246116      21861.138535          0.005966   \n",
       "2032-04-26               22003.641584      21805.518160          0.006519   \n",
       "\n",
       "            Dividend cash flow  Coupon cash flow  Terminal cash flow  \\\n",
       "2023-04-29                 NaN               NaN                 NaN   \n",
       "2024-04-28           15.262327        167.000000                 0.0   \n",
       "2025-04-28          152.371222       1637.302749                 0.0   \n",
       "2026-04-28          178.930021       1345.240337                 0.0   \n",
       "2027-04-28          240.546475        343.134796                 0.0   \n",
       "2028-04-27          267.400197        325.540943                 0.0   \n",
       "2029-04-27          270.636452        323.289022                 0.0   \n",
       "2030-04-27          320.122497          0.000000                 0.0   \n",
       "2031-04-27          321.892419          0.000000                 0.0   \n",
       "2032-04-26          324.876576          0.000000                 0.0   \n",
       "\n",
       "            Notional cash flow  Liability cash flow  \n",
       "2023-04-29                 NaN                  NaN  \n",
       "2024-04-28            0.000000               -219.0  \n",
       "2025-04-28            0.000000                -67.0  \n",
       "2026-04-28         3391.362195               -730.0  \n",
       "2027-04-28         1491.890418               -492.0  \n",
       "2028-04-27            0.000000               -725.0  \n",
       "2029-04-27         3232.890224               -767.0  \n",
       "2030-04-27            0.000000               -626.0  \n",
       "2031-04-27            0.000000               -549.0  \n",
       "2032-04-26            0.000000               -523.0  "
      ]
     },
     "execution_count": 69,
     "metadata": {},
     "output_type": "execute_result"
    }
   ],
   "source": [
    "out.head(10)"
   ]
  },
  {
   "cell_type": "markdown",
   "id": "b977832c",
   "metadata": {},
   "source": [
    "***"
   ]
  },
  {
   "cell_type": "markdown",
   "id": "59fd3008",
   "metadata": {},
   "source": [
    "<a id=\"4\"></a> <br>\n",
    "### Periodic cash flows\n",
    "\n",
    "The portfolio generates periodic cash flows from its investment portfolio and outflows from liabilities that the company commited to. Example of recurent inflows are dividends and coupons.\n"
   ]
  },
  {
   "cell_type": "code",
   "execution_count": 70,
   "id": "fc0220d6",
   "metadata": {},
   "outputs": [],
   "source": [
    "time_axis = out.index[:-1]\n",
    "\n",
    "div_axis = out[\"Dividend cash flow\"][:-1]\n",
    "coup_axis = out[\"Coupon cash flow\"][:-1]\n",
    "liab_axis = out[\"Liability cash flow\"][:-1]"
   ]
  },
  {
   "cell_type": "code",
   "execution_count": 71,
   "id": "87870927",
   "metadata": {},
   "outputs": [
    {
     "data": {
      "image/png": "[encoded data removed]",
      "text/plain": [
       "<Figure size 432x288 with 3 Axes>"
      ]
     },
     "metadata": {
      "needs_background": "light"
     },
     "output_type": "display_data"
    }
   ],
   "source": [
    "fig, (ax1,ax2,ax3) = plt.subplots(3)\n",
    "ax1.stem(time_axis[div_axis>0], div_axis[div_axis>0], linefmt='grey',label='Dividend cash flow')\n",
    "ax2.stem(time_axis[coup_axis>0], coup_axis[coup_axis>0], linefmt='blue', label=\"Coupon cash flow\")\n",
    "ax3.stem(time_axis[liab_axis<0], liab_axis[liab_axis<0], linefmt='red', label= \"Liability cash flow\")\n",
    "\n",
    "ax1.legend()\n",
    "ax2.legend()\n",
    "ax3.legend()\n",
    "plt.show()"
   ]
  },
  {
   "cell_type": "markdown",
   "id": "6c140763",
   "metadata": {},
   "source": [
    "### Terminal cash flows\n",
    "\n",
    "Each asset in OSEM has a terminal value. For fixed income instruments, these are the notional payments at the maturity date, for equitiess, OSEM assumes that the all equity positions are sold at the end of the modelling window at market rates."
   ]
  },
  {
   "cell_type": "code",
   "execution_count": 72,
   "id": "9d102200",
   "metadata": {},
   "outputs": [],
   "source": [
    "not_axis = out[\"Notional cash flow\"]\n",
    "term_axis = out[\"Terminal cash flow\"]"
   ]
  },
  {
   "cell_type": "code",
   "execution_count": 73,
   "id": "5aff5aae",
   "metadata": {},
   "outputs": [
    {
     "data": {
      "image/png": "[encoded data removed]",
      "text/plain": [
       "<Figure size 432x288 with 2 Axes>"
      ]
     },
     "metadata": {
      "needs_background": "light"
     },
     "output_type": "display_data"
    }
   ],
   "source": [
    "fig, (ax1,ax2) = plt.subplots(2)\n",
    "ax1.stem(out.index[not_axis>0], not_axis[not_axis>0], linefmt='grey',label='Return of notional amount')\n",
    "ax2.stem(out.index[term_axis>0], term_axis[term_axis>0], linefmt='blue', label=\"Sale of equity portfolio\")\n",
    "\n",
    "ax1.legend()\n",
    "ax2.legend()\n",
    "plt.show()"
   ]
  },
  {
   "cell_type": "markdown",
   "id": "753de981",
   "metadata": {},
   "source": [
    "#### Cash movement"
   ]
  },
  {
   "cell_type": "markdown",
   "id": "4d4dfd2a",
   "metadata": {},
   "source": [
    "The manangement of cash between periods is fundamental to OSEM. If the initial cash is high, then in the first period, the large cash position is sold in line with the asset allocation rule. This is why the initial cash is represented separately. After the first period, cash swings as the ballance of inflows/outflows changes through time."
   ]
  },
  {
   "cell_type": "code",
   "execution_count": 74,
   "id": "28862566",
   "metadata": {},
   "outputs": [],
   "source": [
    "x_axis = out.index\n",
    "end_cash_axis = out[\"End cash\"]\n",
    "start_cash_axis = out[\"Start cash\"]"
   ]
  },
  {
   "cell_type": "code",
   "execution_count": 75,
   "id": "e62a8775",
   "metadata": {},
   "outputs": [
    {
     "data": {
      "image/png": "[encoded data removed]",
      "text/plain": [
       "<Figure size 432x288 with 2 Axes>"
      ]
     },
     "metadata": {
      "needs_background": "light"
     },
     "output_type": "display_data"
    }
   ],
   "source": [
    "fig, (ax1, ax2) = plt.subplots(2)\n",
    "ax1.stem(x_axis[0:2], end_cash_axis[0:2]-start_cash_axis[0:2], linefmt='b', label='First period')\n",
    "ax2.stem(x_axis[2:], end_cash_axis[2:]-start_cash_axis[2:], linefmt='b', label='All but first period')\n",
    "\n",
    "ax1.legend()\n",
    "ax2.legend()\n",
    "plt.show()"
   ]
  },
  {
   "cell_type": "markdown",
   "id": "4945f847",
   "metadata": {},
   "source": [
    "#### End of period market value"
   ]
  },
  {
   "cell_type": "code",
   "execution_count": 76,
   "id": "0fcdf74d",
   "metadata": {},
   "outputs": [
    {
     "data": {
      "image/png": "[encoded data removed]",
      "text/plain": [
       "<Figure size 432x288 with 1 Axes>"
      ]
     },
     "metadata": {
      "needs_background": "light"
     },
     "output_type": "display_data"
    }
   ],
   "source": [
    "start_mv_axis = out[\"After growth market value\"]\n",
    "end_mv_axis = out[\"End market value\"]\n",
    "\n",
    "fig, ax = plt.subplots(1)\n",
    "ax.stem(out.index, end_mv_axis, linefmt='b' , label='End market value')\n",
    "ax.legend()\n",
    "plt.show()"
   ]
  },
  {
   "cell_type": "markdown",
   "id": "f037d623",
   "metadata": {},
   "source": [
    "## Test 1 Return of portfolio\n",
    "\n",
    "The purpose of this test is to verify if the reported return of the porfolio is equal to the increase/decrease of the total market value of the porfolio."
   ]
  },
  {
   "cell_type": "code",
   "execution_count": 77,
   "id": "20505dcc",
   "metadata": {},
   "outputs": [],
   "source": [
    "return_calculated = (out[\"After growth market value\"]/out['Start market value']-1)[1:]"
   ]
  },
  {
   "cell_type": "code",
   "execution_count": 78,
   "id": "9503744d",
   "metadata": {},
   "outputs": [],
   "source": [
    "test_1 = out[\"Portfolio return\"][1:]-return_calculated"
   ]
  },
  {
   "cell_type": "code",
   "execution_count": 79,
   "id": "61a518fe",
   "metadata": {},
   "outputs": [
    {
     "data": {
      "image/png": "[encoded data removed]",
      "text/plain": [
       "<Figure size 432x288 with 1 Axes>"
      ]
     },
     "metadata": {
      "needs_background": "light"
     },
     "output_type": "display_data"
    }
   ],
   "source": [
    "fig, ax = plt.subplots(1)\n",
    "ax.stem(out.index[1:], test_1,linefmt='b' , label='Test return difference')\n",
    "ax.legend()\n",
    "plt.show()"
   ]
  },
  {
   "cell_type": "markdown",
   "id": "afcdc12e",
   "metadata": {},
   "source": [
    "## Test 2 no vanishing cash flows\n",
    "\n",
    "The purpose of this test is to verify if the inflows and outflows balance at every period. This test shows that all types of cash flows are accounted correctly and there is no \"leakage\".\n",
    "\n",
    "\n",
    "Starting values are\n",
    "\n",
    " * Start cash\n",
    " * After growth market value\n",
    "\n",
    "Cash flows occuring during the period and accumulating inside the bank account are\n",
    " * Coupon payments\n",
    " * Dividend payments\n",
    " * Notional payments of fixed income assets\n",
    " * Terminal value sales\n",
    "\n",
    "\n",
    "The end values are:\n",
    " * End cash value\n",
    " * End market value\n",
    "\n",
    "The test performs the following check\n",
    "\n",
    "$$\n",
    "C^{start}_i + MV^{ag}_i + CF^a_i - CF^l_i = C^{end}_i + MV^{end}_i \n",
    "$$"
   ]
  },
  {
   "cell_type": "markdown",
   "id": "cda1775f",
   "metadata": {},
   "source": [
    "Where:\n",
    "$$\n",
    "CF^a_i := div_i + coup_i + not_i + term_i\n",
    "$$"
   ]
  },
  {
   "cell_type": "markdown",
   "id": "5ba7e782",
   "metadata": {},
   "source": [
    "And:\n",
    " * $i$ is the calculation period\n",
    " * $C^{start}_i$ is the initial cash position\n",
    " * $MV^{ag}_i$ is the market value after portfolio growth but before any trading\n",
    " * $CF^l_i$ are the accumulated outflows from company's commitments\n",
    " * $C^{end}_i$ is the final cash position\n",
    " * $MV^{end}_i$ is the final market value of the portfolio\n",
    " * $div_i$ is the accumulated dividend inflows\n",
    " * $coup_i$ is the accumulated coupon inflows\n",
    " * $not_i$ is the accumulated inflows from matured fixed income instruments (bonds)\n",
    " * $term_i$ is the accumulated inflows from equity positions sold at the end of the modelling window\n",
    " \n",
    "Note that the asset growth occurs before trading therefore, \"Cash after growth\" is used as the starting value"
   ]
  },
  {
   "cell_type": "code",
   "execution_count": 80,
   "id": "283c2700",
   "metadata": {},
   "outputs": [],
   "source": [
    "cf_assets = coup_axis+div_axis+not_axis[:-1]+term_axis[:-1]\n",
    "\n",
    "test_2 = start_cash_axis + start_mv_axis + cf_assets + liab_axis - end_mv_axis - end_cash_axis"
   ]
  },
  {
   "cell_type": "code",
   "execution_count": 81,
   "id": "184c8502",
   "metadata": {},
   "outputs": [
    {
     "data": {
      "image/png": "[encoded data removed]",
      "text/plain": [
       "<Figure size 432x288 with 1 Axes>"
      ]
     },
     "metadata": {
      "needs_background": "light"
     },
     "output_type": "display_data"
    }
   ],
   "source": [
    "fig, ax = plt.subplots(1)\n",
    "ax.stem(x_axis, test_2,linefmt='b' , label='Test return difference')\n",
    "ax.legend()\n",
    "plt.show()"
   ]
  }
 ],
 "metadata": {
  "kernelspec": {
   "display_name": "Python 3 (ipykernel)",
   "language": "python",
   "name": "python3"
  },
  "language_info": {
   "codemirror_mode": {
    "name": "ipython",
    "version": 3
   },
   "file_extension": ".py",
   "mimetype": "text/x-python",
   "name": "python",
   "nbconvert_exporter": "python",
   "pygments_lexer": "ipython3",
   "version": "3.9.7"
  }
 },
 "nbformat": 4,
 "nbformat_minor": 5
}
