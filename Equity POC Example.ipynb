{
 "cells": [
  {
   "cell_type": "markdown",
   "id": "a6c55f33",
   "metadata": {},
   "source": [
    "# Example of Equity processing within OSEM\n"
   ]
  },
  {
   "cell_type": "markdown",
   "id": "65db2dd9",
   "metadata": {},
   "source": []
  },
  {
   "cell_type": "code",
   "execution_count": 1,
   "id": "24c48837",
   "metadata": {},
   "outputs": [],
   "source": [
    "import datetime\n",
    "import logging\n",
    "import os\n",
    "import pandas as pd\n",
    "\n",
    "from ConfigurationClass import Configuration\n",
    "from CurvesClass import Curves\n",
    "from EquityClasses import *\n",
    "from ExportData import save_matrices_to_csv\n",
    "from ImportData import get_EquityShare, get_settings, import_SWEiopa, get_Cash, get_Liability, \\\n",
    "    get_configuration\n",
    "from PathsClasses import Paths\n",
    "from TraceClass import tracer\n"
   ]
  },
  {
   "cell_type": "markdown",
   "id": "b4bfa770",
   "metadata": {},
   "source": [
    "Set up the base folder"
   ]
  },
  {
   "cell_type": "code",
   "execution_count": 2,
   "id": "8646cf43",
   "metadata": {},
   "outputs": [],
   "source": [
    "base_folder = os.getcwd()  # Get current working directory"
   ]
  },
  {
   "cell_type": "markdown",
   "id": "58d5d08c",
   "metadata": {},
   "source": [
    "Most of the run settings are saved in the configuration file:"
   ]
  },
  {
   "cell_type": "code",
   "execution_count": 3,
   "id": "5e66116b",
   "metadata": {},
   "outputs": [],
   "source": [
    "conf: Configuration\n",
    "conf = get_configuration(os.path.join(base_folder, \"ALM.ini\"), os)"
   ]
  },
  {
   "cell_type": "markdown",
   "id": "0172e69d",
   "metadata": {},
   "source": [
    "These lines of code just extract the absolute location of different files:"
   ]
  },
  {
   "cell_type": "code",
   "execution_count": 4,
   "id": "ec388e2d",
   "metadata": {},
   "outputs": [],
   "source": [
    "parameters_file = conf.input_parameters\n",
    "cash_portfolio_file = conf.input_cash_portfolio\n",
    "equity_portfolio_file = conf.input_equity_portfolio"
   ]
  },
  {
   "cell_type": "markdown",
   "id": "3a82d4de",
   "metadata": {},
   "source": [
    "The settings object holds data about file locations, information about the run settings and model parameters such as modelling date."
   ]
  },
  {
   "cell_type": "code",
   "execution_count": 5,
   "id": "03d54d2c",
   "metadata": {},
   "outputs": [],
   "source": [
    "settings = get_settings(parameters_file)"
   ]
  },
  {
   "cell_type": "markdown",
   "id": "2e889544",
   "metadata": {},
   "source": [
    "The EquityShare object contains information about each equity position. This includes:\n",
    " * Asset_ID\n",
    " * NACE\n",
    " * Issuer\n",
    " * Issue_Date\n",
    " * Dividend_Yield\n",
    " * Frequency\n",
    " * Market_Price\n",
    " * Growth_Rate\n",
    "  "
   ]
  },
  {
   "cell_type": "code",
   "execution_count": 6,
   "id": "00b0ef19",
   "metadata": {},
   "outputs": [],
   "source": [
    "equity_input_generator = get_EquityShare(equity_portfolio_file)\n",
    "equity_input = {equity_share.asset_id: equity_share for equity_share in equity_input_generator}"
   ]
  },
  {
   "cell_type": "markdown",
   "id": "82fc76cc",
   "metadata": {},
   "source": [
    "EquitySharePortfolio object contains all EquityShare objects in a dictionary."
   ]
  },
  {
   "cell_type": "code",
   "execution_count": 7,
   "id": "5a28ed31",
   "metadata": {},
   "outputs": [],
   "source": [
    "equity_portfolio = EquitySharePortfolio(equity_input)"
   ]
  },
  {
   "cell_type": "markdown",
   "id": "59a67107",
   "metadata": {},
   "source": [
    "import_SWEiopa() reads the necessary data about the current yield curve. One of these parameters (the ufr or ultimate forward rate) is necessary in the equity example as ufr is used in the Gordon growth formula to calculate the terminal value of the equity position. Inside OSEM, the parameters related to the yield curve are saved in the Curves object. "
   ]
  },
  {
   "cell_type": "code",
   "execution_count": 8,
   "id": "a86f0526",
   "metadata": {},
   "outputs": [],
   "source": [
    "[maturities_country, curve_country, extra_param, Qb] = import_SWEiopa(settings.EIOPA_param_file,\n",
    "                                                                          settings.EIOPA_curves_file, settings.country)\n",
    "# Curves object with information about term structure\n",
    "curves = Curves(extra_param[\"UFR\"] / 100, settings.precision, settings.tau, settings.modelling_date,\n",
    "                settings.country)"
   ]
  },
  {
   "cell_type": "code",
   "execution_count": 9,
   "id": "57ef3063",
   "metadata": {},
   "outputs": [],
   "source": [
    "import numpy as np\n",
    "from ImportData import import_SWEiopa\n",
    "from CurvesClass import Curves\n",
    "\n",
    "# ultimate forward rate\n",
    "ufr = extra_param[\"UFR\"]/100\n",
    "\n",
    "# Numeric precision of the optimisation\n",
    "precision = float(settings.precision)\n",
    "\n",
    "# Targeted distance between the extrapolated curve and the ultimate forward rate at the convergence point\n",
    "tau = float(settings.tau) # 1 basis point\n"
   ]
  },
  {
   "cell_type": "code",
   "execution_count": 10,
   "id": "dddcede3",
   "metadata": {},
   "outputs": [],
   "source": [
    "curves.SetObservedTermStructure(maturity_vec=curve_country.index.tolist(), yield_vec=curve_country.values)\n",
    "curves.CalcFwdRates()"
   ]
  },
  {
   "cell_type": "code",
   "execution_count": 11,
   "id": "c4860e67",
   "metadata": {},
   "outputs": [],
   "source": [
    "curves.ProjectForwardRate(settings.n_proj_years)"
   ]
  },
  {
   "cell_type": "code",
   "execution_count": 12,
   "id": "c4617356",
   "metadata": {},
   "outputs": [],
   "source": [
    "curves.CalibrateProjected(settings.n_proj_years, 0.05, 0.5, 1000)"
   ]
  },
  {
   "cell_type": "code",
   "execution_count": 13,
   "id": "f7d9806f",
   "metadata": {
    "scrolled": true
   },
   "outputs": [
    {
     "name": "stdout",
     "output_type": "stream",
     "text": [
      "   Discount\n",
      "0  0.982068\n",
      "1  0.969492\n",
      "2  0.965650\n"
     ]
    }
   ],
   "source": [
    "desired_mat = np.array([0.7, 1.2, 1.3543])\n",
    "print(curves.RetrieveRates(3, desired_mat, \"Discount\"))\n",
    "    "
   ]
  },
  {
   "cell_type": "markdown",
   "id": "1e51f128",
   "metadata": {},
   "source": [
    "The first computation step inside the OSEM equity preparation process is the identification of all the unique dates and divedend size amounts. The representation of assets in terms of individual cash flows on the time-line is one of the core principles of OSEM. This is done by two functions. One for dividend dates and another for terminal rates.\n",
    "\n",
    "Both functions generate a list of dictionaries containing the date of a cash flow and the amount. Same is also true for the terminal amount calculation. \n",
    "\n",
    "#### Calculation of the dividend amount:\n",
    "\n",
    "The dividend size is calculated using the dividend yield provided as input for each equity position. However the market value changes as time moves forward. To account for this, the growth rate and the time fraction between the modelling date and the date of the cash flow is used to calculate a future market value.\n",
    "\n",
    "ToDo Formulas\n",
    "\n",
    "The same logic is applied to the calculation of terminal rates. The additional complexity is that at least in theory, the equity has perpetual cash flows that extend well beyond the end of the modelling period. To account for this, the Gordon growth model is used to calculate the present value of all future cash flows as at the end of the modelling period."
   ]
  },
  {
   "cell_type": "code",
   "execution_count": 14,
   "id": "bfcf864d",
   "metadata": {},
   "outputs": [],
   "source": [
    "def create_dividend_dates(obj, modelling_date, end_date):\n",
    "    \"\"\"\n",
    "    Create the list of dictionaries containing dates at which the dividends are paid out and the total amounts for\n",
    "    all equity shares in the portfolio, for dates on or after the modelling date but not after the terminal date.\n",
    "\n",
    "    Parameters\n",
    "    ----------\n",
    "    self: EquitySharePortfolio class instance\n",
    "        The EquitySharePortfolio instance with populated initial portfolio.\n",
    "    :type modelling_date: datetime.date\n",
    "        The date from which the dividend dates and values start.\n",
    "    :type end_date: datetime.date\n",
    "        The last date that the model considers (end of the modelling window).\n",
    "\n",
    "    Returns\n",
    "    -------\n",
    "    :rtype all_dividends\n",
    "        A list of dictionaries with datetime keys and cash-flow size values, containing all the dates at which the coupons are paid out.\n",
    "    \"\"\"\n",
    "    all_dividends = []\n",
    "    dividends: dict[date, float] = {}\n",
    "    equity_share: EquityShare\n",
    "    dividend_date: date\n",
    "    for asset_id in obj.equity_share:\n",
    "        equity_share = obj.equity_share[asset_id]  # Select one asset position\n",
    "        dividends = create_single_equity(equity_share, modelling_date, end_date, equity_share.growth_rate)\n",
    "        all_dividends.append(dividends)\n",
    "    return all_dividends\n"
   ]
  },
  {
   "cell_type": "code",
   "execution_count": 15,
   "id": "9b9cfc2e",
   "metadata": {},
   "outputs": [],
   "source": [
    "test_share_1 = EquityShare(asset_id=1, nace='A1.4.5', issuer=None, issue_date=datetime.date(2021, 12, 3), dividend_yield=0.03, frequency=1, market_price=94.0, growth_rate=0.01)"
   ]
  },
  {
   "cell_type": "code",
   "execution_count": 16,
   "id": "fa8c4cbe",
   "metadata": {},
   "outputs": [],
   "source": [
    "test_dividends = test_share_1.create_single_cash_flows(settings.modelling_date, settings.end_date, 0.009831899404525758)\n",
    "test_terminal = test_share_1.create_single_terminal(settings.modelling_date, settings.end_date, 0.009831899404525758)"
   ]
  },
  {
   "cell_type": "code",
   "execution_count": 17,
   "id": "08894190",
   "metadata": {},
   "outputs": [],
   "source": [
    "def price_share(test_dividends, test_terminal, modelling_date, curves):\n",
    "    Datefrac = []\n",
    "    Values = []\n",
    "    for key, value in test_dividends.items():\n",
    "        date_frac = (key-modelling_date).days/365.25\n",
    "        Datefrac.append(date_frac)\n",
    "        Values.append(value)\n",
    "        \n",
    "    for key, value in test_terminal.items():\n",
    "        date_frac = (key-modelling_date).days/365.25\n",
    "        Datefrac.append(date_frac)\n",
    "        Values.append(value)\n",
    "    \n",
    "    Datefrac = pd.DataFrame(data = Datefrac, columns = [\"Date Fraction\"]) # No need for Dataframes. Remove them\n",
    "    Values = pd.DataFrame(data = Values, columns = [\"Cash flow\"])\n",
    "\n",
    "    discount = curves.RetrieveRates(3, Datefrac.iloc[:, 0].to_numpy(), \"Discount\")\n",
    "\n",
    "    nodisc_value = Values.values*discount\n",
    "    disc_value = sum(nodisc_value.values)\n",
    "    return disc_value"
   ]
  },
  {
   "cell_type": "code",
   "execution_count": 18,
   "id": "537d5735",
   "metadata": {},
   "outputs": [
    {
     "data": {
      "text/plain": [
       "94.0"
      ]
     },
     "execution_count": 18,
     "metadata": {},
     "output_type": "execute_result"
    }
   ],
   "source": [
    "test_share_1.market_price"
   ]
  },
  {
   "cell_type": "code",
   "execution_count": 19,
   "id": "e1adeb9a",
   "metadata": {},
   "outputs": [
    {
     "name": "stdout",
     "output_type": "stream",
     "text": [
      "-213807.11370387784\n"
     ]
    }
   ],
   "source": [
    "print(price_share(test_dividends, test_terminal, settings.modelling_date, curves)[0])"
   ]
  },
  {
   "cell_type": "code",
   "execution_count": 20,
   "id": "725a498a",
   "metadata": {},
   "outputs": [
    {
     "data": {
      "text/plain": [
       "0.009999997913837433"
      ]
     },
     "execution_count": 20,
     "metadata": {},
     "output_type": "execute_result"
    }
   ],
   "source": [
    "test_share_1.bisection_growth(-1, 1, settings.modelling_date, settings.end_date, curves, 0.00000001,100000)"
   ]
  },
  {
   "cell_type": "code",
   "execution_count": null,
   "id": "7fb3fbd2",
   "metadata": {},
   "outputs": [],
   "source": [
    "\n"
   ]
  },
  {
   "cell_type": "code",
   "execution_count": 21,
   "id": "9c5d8be4",
   "metadata": {},
   "outputs": [],
   "source": [
    "dividend_dates = equity_portfolio.create_dividend_dates(settings.modelling_date, settings.end_date)\n",
    "terminal_dates = equity_portfolio.create_terminal_dates(modelling_date=settings.modelling_date,\n",
    "                                                            terminal_date=settings.end_date,\n",
    "                                                            terminal_rate=curves.ufr)\n"
   ]
  },
  {
   "cell_type": "markdown",
   "id": "a1389511",
   "metadata": {},
   "source": [
    "All cash flows can be represented in a matrix with all possible cash flow dates as columns and all equities as rows. The non-zero entries then represent the value of the cash flow at that date. The first step is to calculate the unique dates for the entire portfolio of equities. This is done by the unique_dates_profiles() function.\n",
    "\n",
    "The same logic can be applied to terminal dates. \n",
    "\n",
    "Both can then conveniently be represented as DataFrames.\n",
    "\n",
    "Note that a vector of growth rates is also provided as output. This makes it simpler to increase the market value of the portfolio as OSEM moves from one modelling period to the next one."
   ]
  },
  {
   "cell_type": "code",
   "execution_count": 22,
   "id": "78a0a24a",
   "metadata": {},
   "outputs": [],
   "source": [
    "unique_list = equity_portfolio.unique_dates_profile(dividend_dates)\n",
    "unique_terminal_list = equity_portfolio.unique_dates_profile(terminal_dates)\n"
   ]
  },
  {
   "cell_type": "code",
   "execution_count": 23,
   "id": "7514f082",
   "metadata": {},
   "outputs": [],
   "source": [
    "[market_price_df, growth_rate_df] = equity_portfolio.init_equity_portfolio_to_dataframe(settings.modelling_date)\n"
   ]
  },
  {
   "cell_type": "markdown",
   "id": "182546f5",
   "metadata": {},
   "source": [
    "Cash is used in the trading algorithm to manage liquidity. The liquidity between buying/selling and the liquidity between modelling periods is saved in Cash. Therefore, for the Equity demonstration, Cash is also imported."
   ]
  },
  {
   "cell_type": "code",
   "execution_count": 24,
   "id": "4fb030f4",
   "metadata": {},
   "outputs": [],
   "source": [
    "cash = get_Cash(cash_portfolio_file)\n",
    "\n",
    "bank_account = pd.DataFrame(data=[cash.bank_account], columns=[settings.modelling_date])"
   ]
  },
  {
   "cell_type": "markdown",
   "id": "8a475aac",
   "metadata": {},
   "source": [
    "The create_cashflow_dataframe() function converts the list of dictionaries of cashflows and dates, into a single DataFrame:"
   ]
  },
  {
   "cell_type": "code",
   "execution_count": 25,
   "id": "1f870fe9",
   "metadata": {},
   "outputs": [],
   "source": [
    "def create_cashflow_dataframe(cash_flow_dates, unique_dates) -> pd.DataFrame:\n",
    "    cash_flows = pd.DataFrame(data=np.zeros((len(cash_flow_dates), len(unique_dates))),\n",
    "                              columns=unique_dates)  # Dataframe of cashflows (columns are dates, rows, assets)\n",
    "    counter = 0\n",
    "    for asset in cash_flow_dates:\n",
    "        keys = asset.keys()\n",
    "        for key in keys:\n",
    "            cash_flows[key].iloc[counter] = asset[key]\n",
    "        counter += 1\n",
    "    return cash_flows"
   ]
  },
  {
   "cell_type": "code",
   "execution_count": 26,
   "id": "c82b4263",
   "metadata": {},
   "outputs": [],
   "source": [
    "cash_flows = create_cashflow_dataframe(dividend_dates, unique_list)\n",
    "   \n",
    "# Dataframe with terminal cash flows\n",
    "terminal_cash_flows = create_cashflow_dataframe(terminal_dates, unique_terminal_list)\n"
   ]
  }
 ],
 "metadata": {
  "kernelspec": {
   "display_name": "Python 3 (ipykernel)",
   "language": "python",
   "name": "python3"
  },
  "language_info": {
   "codemirror_mode": {
    "name": "ipython",
    "version": 3
   },
   "file_extension": ".py",
   "mimetype": "text/x-python",
   "name": "python",
   "nbconvert_exporter": "python",
   "pygments_lexer": "ipython3",
   "version": "3.9.7"
  }
 },
 "nbformat": 4,
 "nbformat_minor": 5
}
