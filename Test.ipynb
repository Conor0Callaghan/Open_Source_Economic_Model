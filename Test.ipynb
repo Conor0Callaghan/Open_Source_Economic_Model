{
 "cells": [
  {
   "cell_type": "code",
   "execution_count": 2,
   "id": "e29a2cf6",
   "metadata": {},
   "outputs": [],
   "source": [
    "import datetime as dt\n",
    "import numpy as np\n",
    "import datetime as dt"
   ]
  },
  {
   "cell_type": "code",
   "execution_count": 21,
   "id": "e7895ead",
   "metadata": {},
   "outputs": [],
   "source": [
    "IssueDate = dt.date(2019,1,31)\n",
    "EndDate = dt.date(2025,11,15)\n",
    "\n",
    "frequency = 2"
   ]
  },
  {
   "cell_type": "code",
   "execution_count": 22,
   "id": "ff037f2d",
   "metadata": {},
   "outputs": [
    {
     "data": {
      "text/plain": [
       "array([datetime.date(2019, 8, 1), datetime.date(2020, 1, 30),\n",
       "       datetime.date(2020, 7, 30), datetime.date(2021, 1, 28),\n",
       "       datetime.date(2021, 7, 29), datetime.date(2022, 1, 27),\n",
       "       datetime.date(2022, 7, 28), datetime.date(2023, 1, 26),\n",
       "       datetime.date(2023, 7, 27), datetime.date(2024, 1, 25),\n",
       "       datetime.date(2024, 7, 25), datetime.date(2025, 1, 23),\n",
       "       datetime.date(2025, 7, 24)], dtype=object)"
      ]
     },
     "execution_count": 22,
     "metadata": {},
     "output_type": "execute_result"
    }
   ],
   "source": [
    "dates = np.array([])\n",
    "thisdate = IssueDate\n",
    "\n",
    "while thisdate <= EndDate:\n",
    "    if frequency == 1:\n",
    "        thisdate = dt.date(thisdate.year + 1, thisdate.month, thisdate.day)\n",
    "        if thisdate <=EndDate:\n",
    "            dates = np.append(dates, thisdate)\n",
    "        else:\n",
    "            #return dates\n",
    "            break\n",
    "    elif frequency == 2:\n",
    "        thisdate = thisdate + dt.timedelta(days=182)\n",
    "        if thisdate <= EndDate:\n",
    "            dates = np.append(dates, thisdate)\n",
    "        else:\n",
    "            break                \n",
    "\n",
    "dates"
   ]
  },
  {
   "cell_type": "code",
   "execution_count": 10,
   "id": "4657f9fa",
   "metadata": {},
   "outputs": [
    {
     "ename": "ValueError",
     "evalue": "year 0 is out of range",
     "output_type": "error",
     "traceback": [
      "\u001b[1;31m---------------------------------------------------------------------------\u001b[0m",
      "\u001b[1;31mValueError\u001b[0m                                Traceback (most recent call last)",
      "\u001b[1;32m~\\AppData\\Local\\Temp/ipykernel_27232/4000779744.py\u001b[0m in \u001b[0;36m<module>\u001b[1;34m\u001b[0m\n\u001b[0;32m      7\u001b[0m         \u001b[0mdates\u001b[0m\u001b[1;33m.\u001b[0m\u001b[0mappend\u001b[0m\u001b[1;33m(\u001b[0m\u001b[0mthisdate\u001b[0m\u001b[1;33m)\u001b[0m\u001b[1;33m\u001b[0m\u001b[1;33m\u001b[0m\u001b[0m\n\u001b[0;32m      8\u001b[0m     \u001b[1;32melif\u001b[0m \u001b[0mfrequency\u001b[0m \u001b[1;33m==\u001b[0m \u001b[1;36m2\u001b[0m\u001b[1;33m:\u001b[0m\u001b[1;33m\u001b[0m\u001b[1;33m\u001b[0m\u001b[0m\n\u001b[1;32m----> 9\u001b[1;33m         \u001b[0mthisdate\u001b[0m \u001b[1;33m=\u001b[0m \u001b[0mdt\u001b[0m\u001b[1;33m.\u001b[0m\u001b[0mdate\u001b[0m\u001b[1;33m(\u001b[0m\u001b[0mthisdate\u001b[0m\u001b[1;33m.\u001b[0m\u001b[0myear\u001b[0m \u001b[1;33m,\u001b[0m \u001b[0mthisdate\u001b[0m\u001b[1;33m.\u001b[0m\u001b[0mmonth\u001b[0m\u001b[1;33m,\u001b[0m \u001b[0mthisdate\u001b[0m\u001b[1;33m.\u001b[0m\u001b[0mday\u001b[0m\u001b[1;33m)\u001b[0m \u001b[1;33m+\u001b[0m \u001b[0mdt\u001b[0m\u001b[1;33m.\u001b[0m\u001b[0mdate\u001b[0m\u001b[1;33m(\u001b[0m\u001b[1;36m0\u001b[0m \u001b[1;33m,\u001b[0m \u001b[1;36m6\u001b[0m\u001b[1;33m,\u001b[0m \u001b[1;36m0\u001b[0m\u001b[1;33m)\u001b[0m\u001b[1;33m\u001b[0m\u001b[1;33m\u001b[0m\u001b[0m\n\u001b[0m\u001b[0;32m     10\u001b[0m         \u001b[0mdates\u001b[0m\u001b[1;33m.\u001b[0m\u001b[0mappend\u001b[0m\u001b[1;33m(\u001b[0m\u001b[0mthisdate\u001b[0m\u001b[1;33m)\u001b[0m\u001b[1;33m\u001b[0m\u001b[1;33m\u001b[0m\u001b[0m\n\u001b[0;32m     11\u001b[0m \u001b[1;33m\u001b[0m\u001b[0m\n",
      "\u001b[1;31mValueError\u001b[0m: year 0 is out of range"
     ]
    }
   ],
   "source": [
    "dates = []\n",
    "thisdate = IssueDate\n",
    "\n",
    "while thisdate <= EndDate:\n",
    "    if frequency == 1:\n",
    "        thisdate = dt.date(thisdate.year + 1, thisdate.month, thisdate.day)\n",
    "        dates.append(thisdate)\n",
    "    elif frequency == 2:\n",
    "        middate = thisdate.month+6\n",
    "        if middate >=EndDate\n",
    "            \n",
    "        if middate >12:\n",
    "            thisdate = dt.date(thisdate.year + 1, middate-12, thisdate.day)\n",
    "        else:\n",
    "            thisdate = dt.date(thisdate.year, middate, thisdate.day)\n",
    "        \n",
    "        dates.append(thisdate)            \n",
    "\n",
    "dates"
   ]
  }
 ],
 "metadata": {
  "kernelspec": {
   "display_name": "Python 3 (ipykernel)",
   "language": "python",
   "name": "python3"
  },
  "language_info": {
   "codemirror_mode": {
    "name": "ipython",
    "version": 3
   },
   "file_extension": ".py",
   "mimetype": "text/x-python",
   "name": "python",
   "nbconvert_exporter": "python",
   "pygments_lexer": "ipython3",
   "version": "3.9.7"
  }
 },
 "nbformat": 4,
 "nbformat_minor": 5
}
