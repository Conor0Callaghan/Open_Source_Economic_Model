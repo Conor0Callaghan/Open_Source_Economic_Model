{
 "cells": [
  {
   "cell_type": "code",
   "execution_count": 1,
   "id": "e29a2cf6",
   "metadata": {},
   "outputs": [],
   "source": [
    "import datetime as dt\n",
    "import numpy as np\n",
    "import pandas as pd"
   ]
  },
  {
   "cell_type": "code",
   "execution_count": 2,
   "id": "2e0acb43",
   "metadata": {},
   "outputs": [],
   "source": [
    "from Curves import Curves\n",
    "from ImportData import importSWEiopa\n",
    "from EquityClasses import Equity, EquityPriced"
   ]
  },
  {
   "cell_type": "code",
   "execution_count": 3,
   "id": "254b915a",
   "metadata": {},
   "outputs": [],
   "source": [
    "paramfile = pd.read_csv(\"Input/Parameters.csv\")\n",
    "paramfile.index = paramfile[\"Parameter\"]\n",
    "del paramfile[\"Parameter\"]"
   ]
  },
  {
   "cell_type": "code",
   "execution_count": 18,
   "id": "ad7a7124",
   "metadata": {},
   "outputs": [],
   "source": [
    "selected_param_file = paramfile.loc[\"EIOPA_param_file\"][0]\n",
    "selected_curves_file = paramfile.loc[\"EIOPA_curves_file\"][0]\n",
    "country = paramfile.loc[\"country\"][\"value\"]\n",
    "compounding = int(paramfile.loc[\"compounding\"][\"value\"])\n",
    "n_proj_years = int(paramfile.loc[\"n_proj_years\"][\"value\"])\n",
    "MD = dt.datetime.strptime(paramfile.loc[\"Modelling_Date\"][\"value\"],\"%d/%m/%Y\")\n",
    "MD = dt.date(MD.year,MD.month,MD.day)"
   ]
  },
  {
   "cell_type": "code",
   "execution_count": 5,
   "id": "d3afd88b",
   "metadata": {},
   "outputs": [],
   "source": [
    "Precision = float(paramfile.loc[\"Precision\"][0]) # Numeric precision of the optimisation\n",
    "Tau = float(paramfile.loc[\"Tau\"][0]) # Targeted distance between the extrapolated curve and the ultimate forward rate at the convergence point"
   ]
  },
  {
   "cell_type": "code",
   "execution_count": 6,
   "id": "dbce8cad",
   "metadata": {},
   "outputs": [],
   "source": [
    "spreadfile = pd.read_csv(\"Input/Sector_Spread.csv\")\n",
    "spreadfile.index = spreadfile[\"NACE\"]\n",
    "del spreadfile[\"NACE\"]"
   ]
  },
  {
   "cell_type": "code",
   "execution_count": 7,
   "id": "f4014b55",
   "metadata": {},
   "outputs": [],
   "source": [
    "equityfile = pd.read_csv(\"Input/Equity_Portfolio.csv\")\n",
    "equityfile.index = equityfile[\"Asset ID\"]\n",
    "del equityfile[\"Asset ID\"]"
   ]
  },
  {
   "attachments": {},
   "cell_type": "markdown",
   "id": "f63679bb",
   "metadata": {},
   "source": [
    "# IMPORT EIOPA CURVE\n",
    "\n",
    "From the EIOPA files, import the selected curve. The selection consists of what country and what type of curve (Example with or without Volatility Adjustment)"
   ]
  },
  {
   "cell_type": "code",
   "execution_count": 8,
   "id": "740cf9a9",
   "metadata": {},
   "outputs": [],
   "source": [
    "# Model parameters\n",
    "[maturities_country, curve_country, extra_param, Qb]= importSWEiopa(selected_param_file, selected_curves_file, country)"
   ]
  },
  {
   "cell_type": "code",
   "execution_count": 9,
   "id": "2f43c801",
   "metadata": {},
   "outputs": [],
   "source": [
    "# Maturity of observations:\n",
    "M_Obs = np.transpose(np.array(maturities_country.values))\n",
    "\n",
    "# Ultimate froward rate ufr represents the rate to which the rate curve will converge as time increases:\n",
    "ufr = extra_param.iloc[3]/100\n",
    "\n",
    "# Convergence speed parameter alpha controls the speed at which the curve converges towards the ufr from the last liquid point:\n",
    "alpha = extra_param.iloc[4]\n",
    "\n",
    "# Qb calibration vector published by EIOPA for the curve calibration:\n",
    "Qb = np.transpose(np.array(Qb.values))"
   ]
  },
  {
   "cell_type": "code",
   "execution_count": null,
   "id": "8d76a060",
   "metadata": {},
   "outputs": [],
   "source": []
  },
  {
   "cell_type": "code",
   "execution_count": null,
   "id": "b6f36fe5",
   "metadata": {},
   "outputs": [],
   "source": []
  },
  {
   "attachments": {},
   "cell_type": "markdown",
   "id": "4fa2d76f",
   "metadata": {},
   "source": [
    "# PRICING EQUITY"
   ]
  },
  {
   "attachments": {},
   "cell_type": "markdown",
   "id": "48be8f64",
   "metadata": {},
   "source": [
    "Equity object contains all the information necessary to identify and project the cashflows.\n",
    "\n",
    "Simulate cashflows from dividend payments from the modelling date until the end of the simulation period.\n",
    "\n",
    "Calibrate the growth rate\n",
    "\n",
    "$$\n",
    "MV = \\frac{MV*(1+g) dy}{1+y_1}+\\frac{MV*(1+g)^2 dy}{(1+y_2)^2}+\\dots + \\frac{MV*(1+g)^m dy}{(1+y_m)^m} + \\frac{1}{(1+y_m)^m} \\frac{MV*dy}{r-g}\n",
    "$$\n",
    "\n",
    "$$\n",
    "1 = \\frac{(1+g) dy}{1+y_1}+\\frac{(1+g)^2 dy}{(1+y_2)^2}+\\dots + \\frac{(1+g)^m dy}{(1+y_m)^m} + \\frac{1}{(1+y_m)^m} \\frac{dy}{r-g}\n",
    "$$\n",
    "\n",
    "$$\n",
    "\\frac{1}{dy} = \\frac{(1+g)}{1+y_1}+\\frac{(1+g)^2}{(1+y_2)^2}+\\dots + \\frac{(1+g)^m}{(1+y_m)^m} + \\frac{1}{(1+y_m)^m} \\frac{1}{r-g}\n",
    "$$\n",
    "\n",
    "\n",
    "\n"
   ]
  },
  {
   "cell_type": "code",
   "execution_count": 10,
   "id": "aa4c924c",
   "metadata": {},
   "outputs": [
    {
     "data": {
      "text/html": [
       "<div>\n",
       "<style scoped>\n",
       "    .dataframe tbody tr th:only-of-type {\n",
       "        vertical-align: middle;\n",
       "    }\n",
       "\n",
       "    .dataframe tbody tr th {\n",
       "        vertical-align: top;\n",
       "    }\n",
       "\n",
       "    .dataframe thead th {\n",
       "        text-align: right;\n",
       "    }\n",
       "</style>\n",
       "<table border=\"1\" class=\"dataframe\">\n",
       "  <thead>\n",
       "    <tr style=\"text-align: right;\">\n",
       "      <th></th>\n",
       "      <th>Asset_Type</th>\n",
       "      <th>Issuer_Name</th>\n",
       "      <th>NACE</th>\n",
       "      <th>Issue_Date</th>\n",
       "      <th>Dividend_Yield</th>\n",
       "      <th>Frequency</th>\n",
       "      <th>Market_Price</th>\n",
       "      <th>Terminal</th>\n",
       "    </tr>\n",
       "    <tr>\n",
       "      <th>Asset ID</th>\n",
       "      <th></th>\n",
       "      <th></th>\n",
       "      <th></th>\n",
       "      <th></th>\n",
       "      <th></th>\n",
       "      <th></th>\n",
       "      <th></th>\n",
       "      <th></th>\n",
       "    </tr>\n",
       "  </thead>\n",
       "  <tbody>\n",
       "    <tr>\n",
       "      <th>1</th>\n",
       "      <td>Equity</td>\n",
       "      <td>Open Source Modelling</td>\n",
       "      <td>A1.4.5</td>\n",
       "      <td>3/12/2021</td>\n",
       "      <td>0.03</td>\n",
       "      <td>1</td>\n",
       "      <td>94</td>\n",
       "      <td>1</td>\n",
       "    </tr>\n",
       "    <tr>\n",
       "      <th>2</th>\n",
       "      <td>Equity</td>\n",
       "      <td>Open Source Modelling</td>\n",
       "      <td>B5.2.0</td>\n",
       "      <td>3/12/2021</td>\n",
       "      <td>0.05</td>\n",
       "      <td>1</td>\n",
       "      <td>92</td>\n",
       "      <td>1</td>\n",
       "    </tr>\n",
       "    <tr>\n",
       "      <th>3</th>\n",
       "      <td>Equity</td>\n",
       "      <td>Open Source Modelling</td>\n",
       "      <td>B8.9.3</td>\n",
       "      <td>3/12/2019</td>\n",
       "      <td>0.04</td>\n",
       "      <td>1</td>\n",
       "      <td>96</td>\n",
       "      <td>1</td>\n",
       "    </tr>\n",
       "  </tbody>\n",
       "</table>\n",
       "</div>"
      ],
      "text/plain": [
       "         Asset_Type            Issuer_Name    NACE Issue_Date  Dividend_Yield  \\\n",
       "Asset ID                                                                        \n",
       "1            Equity  Open Source Modelling  A1.4.5  3/12/2021            0.03   \n",
       "2            Equity  Open Source Modelling  B5.2.0  3/12/2021            0.05   \n",
       "3            Equity  Open Source Modelling  B8.9.3  3/12/2019            0.04   \n",
       "\n",
       "          Frequency  Market_Price  Terminal  \n",
       "Asset ID                                     \n",
       "1                 1            94         1  \n",
       "2                 1            92         1  \n",
       "3                 1            96         1  "
      ]
     },
     "metadata": {},
     "output_type": "display_data"
    }
   ],
   "source": [
    "display(equityfile)"
   ]
  },
  {
   "cell_type": "code",
   "execution_count": 11,
   "id": "46f3e18c",
   "metadata": {},
   "outputs": [],
   "source": [
    "def converttime(date_time):\n",
    "    format = \"%d/%m/%Y\"\n",
    "    datetime_str = dt.datetime.strptime(date_time,format).date()\n",
    "    return datetime_str"
   ]
  },
  {
   "cell_type": "code",
   "execution_count": 12,
   "id": "541e211c",
   "metadata": {},
   "outputs": [],
   "source": [
    "nace = np.array([])\n",
    "issuername = np.array([])\n",
    "issuedate = np.array([])\n",
    "dividendyield = np.array([])\n",
    "frequency = np.array([])\n",
    "marketprice = np.array([])\n",
    "terminalvalue = np.array([])\n",
    "\n",
    "for iCount in range(0,equityfile.index.size):\n",
    "    nace = np.append(nace,equityfile[\"NACE\"].iloc[iCount])\n",
    "    issuedate = np.append(issuedate,converttime(equityfile[\"Issue_Date\"].iloc[iCount]))\n",
    "    issuername = np.append(issuername, equityfile[\"Issuer_Name\"].iloc[iCount])\n",
    "    dividendyield = np.append(dividendyield,equityfile[\"Dividend_Yield\"].iloc[iCount])\n",
    "    frequency = np.append(frequency,equityfile[\"Frequency\"].iloc[iCount])\n",
    "    marketprice = np.append(marketprice, equityfile[\"Market_Price\"].iloc[iCount])\n",
    "    terminalvalue = np.append(terminalvalue, equityfile[\"Terminal\"].iloc[iCount])\n",
    "    "
   ]
  },
  {
   "cell_type": "code",
   "execution_count": 13,
   "id": "2d7fb75f",
   "metadata": {},
   "outputs": [],
   "source": [
    "eq = Equity(nace, issuedate, issuername, dividendyield, frequency, marketprice,terminalvalue)"
   ]
  },
  {
   "attachments": {},
   "cell_type": "markdown",
   "id": "61aa5d2b",
   "metadata": {},
   "source": [
    "The createcashflows function does the folowing steps:\n",
    "\n",
    " - 1) Calculates the fractions of dates for every dividend payout from modelling date until the end of the modelling period\n",
    " - 2) Calculate the yield at each date the dividend is paid\n",
    " - 3) Calibrate the growth rate of the equity using the formula above\n",
    " - 4) Use growth rate to calculate the evolution of Market Value\n",
    " - 5) Use market value to calculate the size of each dividend cash flow"
   ]
  },
  {
   "cell_type": "code",
   "execution_count": 20,
   "id": "b50ee567",
   "metadata": {},
   "outputs": [],
   "source": [
    "#zcb.createcashflows()\n",
    "enddate = dt.date(day=MD.day, month=MD.month, year= MD.year+n_proj_years)"
   ]
  },
  {
   "cell_type": "code",
   "execution_count": 21,
   "id": "84ece565",
   "metadata": {},
   "outputs": [
    {
     "data": {
      "text/plain": [
       "datetime.date(2073, 4, 29)"
      ]
     },
     "execution_count": 21,
     "metadata": {},
     "output_type": "execute_result"
    }
   ],
   "source": [
    "enddate"
   ]
  },
  {
   "attachments": {},
   "cell_type": "markdown",
   "id": "c97b7362",
   "metadata": {},
   "source": [
    "Price the equity instrument and calculate cashflows.\n",
    "Step 1 calculate datefrac"
   ]
  },
  {
   "cell_type": "code",
   "execution_count": 22,
   "id": "2309b9af",
   "metadata": {},
   "outputs": [
    {
     "data": {
      "text/plain": [
       "array([datetime.date(2021, 12, 3), datetime.date(2021, 12, 3),\n",
       "       datetime.date(2019, 12, 3)], dtype=object)"
      ]
     },
     "execution_count": 22,
     "metadata": {},
     "output_type": "execute_result"
    }
   ],
   "source": [
    "eq.issuedate"
   ]
  },
  {
   "attachments": {},
   "cell_type": "markdown",
   "id": "31834dee",
   "metadata": {},
   "source": [
    "Calculate the fractions of the year at which the dividends are being paid"
   ]
  },
  {
   "cell_type": "code",
   "execution_count": 39,
   "id": "668cb7d7",
   "metadata": {},
   "outputs": [
    {
     "name": "stdout",
     "output_type": "stream",
     "text": [
      "[1. 1. 1.]\n",
      "2023-04-29\n",
      "2073-04-29\n"
     ]
    }
   ],
   "source": [
    "print(eq.frequency)\n",
    "print(MD)\n",
    "print(enddate)\n",
    "\n",
    "dividenddatefrac = np.array([])\n",
    "dividenddate = np.array([])\n",
    "\n",
    "startdivdate = dt.date(day=eq.issuedate[0].day, month=eq.issuedate[0].month,year=MD.year)\n",
    "# if dividend date is earlier than modeling date in the same year, start one year later\n",
    "if (startdivdate-MD).days > 0:\n",
    "    startdivdate = dt.date(day=startdivdate.day, month=startdivdate.month, year=startdivdate.year+1)\n",
    "\n",
    "enddivdate = dt.date(day=eq.issuedate[0].day, month=eq.issuedate[0].month,year=enddate.year)\n",
    "# if last dividend is after the end of the modelling date, end one year later\n",
    "if (enddivdate-enddate).days > 0:\n",
    "    enddivdate = dt.date(day=enddivdate.day, month=enddivdate.month, year=enddivdate.year-1)\n",
    "\n",
    "for iYear in range(startdivdate.year,enddivdate.year):\n",
    "    dividenddate = np.append(dividenddatefrac,dt.date(day=eq.issuedate[0].day, month=eq.issuedate[0].month, year=iYear))\n",
    "    timefractmp = dt.date(day=eq.issuedate[0].day, month=eq.issuedate[0].month, year=iYear) - MD\n",
    "    dividenddatefrac = np.append(dividenddatefrac,float(timefractmp.days/365.5))"
   ]
  },
  {
   "attachments": {},
   "cell_type": "markdown",
   "id": "890bf76b",
   "metadata": {},
   "source": [
    "Calculate yield at points where the dividends are paid"
   ]
  },
  {
   "cell_type": "code",
   "execution_count": null,
   "id": "b1ef8ef1",
   "metadata": {},
   "outputs": [],
   "source": []
  },
  {
   "cell_type": "code",
   "execution_count": 40,
   "id": "cd16ff41",
   "metadata": {},
   "outputs": [
    {
     "data": {
      "text/plain": [
       "array([ 1.59781122,  2.59644323,  3.59507524,  4.59370725,  5.59507524,\n",
       "        6.59370725,  7.59233926,  8.59097127,  9.59233926, 10.59097127,\n",
       "       11.58960328, 12.58823529, 13.58960328, 14.58823529, 15.58686731,\n",
       "       16.58549932, 17.58686731, 18.58549932, 19.58413133, 20.58276334,\n",
       "       21.58413133, 22.58276334, 23.58139535, 24.58002736, 25.58139535,\n",
       "       26.58002736, 27.57865937, 28.57729138, 29.57865937, 30.57729138,\n",
       "       31.57592339, 32.5745554 , 33.57592339, 34.5745554 , 35.57318741,\n",
       "       36.57181943, 37.57318741, 38.57181943, 39.57045144, 40.56908345,\n",
       "       41.57045144, 42.56908345, 43.56771546, 44.56634747, 45.56771546,\n",
       "       46.56634747, 47.56497948, 48.56361149])"
      ]
     },
     "execution_count": 40,
     "metadata": {},
     "output_type": "execute_result"
    }
   ],
   "source": [
    "dividenddatefrac"
   ]
  },
  {
   "cell_type": "code",
   "execution_count": 15,
   "id": "537c1720",
   "metadata": {},
   "outputs": [
    {
     "ename": "TypeError",
     "evalue": "__init__() missing 3 required positional arguments: 'dividendyield', 'marketprice', and 'terminalvalue'",
     "output_type": "error",
     "traceback": [
      "\u001b[1;31m---------------------------------------------------------------------------\u001b[0m",
      "\u001b[1;31mTypeError\u001b[0m                                 Traceback (most recent call last)",
      "\u001b[1;32m~\\AppData\\Local\\Temp/ipykernel_1232/2692192246.py\u001b[0m in \u001b[0;36m<module>\u001b[1;34m\u001b[0m\n\u001b[1;32m----> 1\u001b[1;33m \u001b[0mzcbPriced\u001b[0m \u001b[1;33m=\u001b[0m \u001b[0mEquityPriced\u001b[0m\u001b[1;33m(\u001b[0m\u001b[0mMD\u001b[0m\u001b[1;33m,\u001b[0m\u001b[0mcompounding\u001b[0m\u001b[1;33m,\u001b[0m \u001b[0menddate\u001b[0m\u001b[1;33m)\u001b[0m\u001b[1;33m\u001b[0m\u001b[1;33m\u001b[0m\u001b[0m\n\u001b[0m",
      "\u001b[1;31mTypeError\u001b[0m: __init__() missing 3 required positional arguments: 'dividendyield', 'marketprice', and 'terminalvalue'"
     ]
    }
   ],
   "source": [
    "zcbPriced = EquityPriced(MD,compounding, enddate)"
   ]
  },
  {
   "cell_type": "code",
   "execution_count": null,
   "id": "1d0a1ff9",
   "metadata": {},
   "outputs": [],
   "source": [
    "EquityPriced.createcashflows() # ToDo"
   ]
  },
  {
   "cell_type": "code",
   "execution_count": null,
   "id": "4f566cf5",
   "metadata": {},
   "outputs": [
    {
     "ename": "AttributeError",
     "evalue": "'EquityPriced' object has no attribute 'refactordates'",
     "output_type": "error",
     "traceback": [
      "\u001b[1;31m---------------------------------------------------------------------------\u001b[0m",
      "\u001b[1;31mAttributeError\u001b[0m                            Traceback (most recent call last)",
      "\u001b[1;32m~\\AppData\\Local\\Temp/ipykernel_22824/199296373.py\u001b[0m in \u001b[0;36m<module>\u001b[1;34m\u001b[0m\n\u001b[1;32m----> 1\u001b[1;33m \u001b[1;33m[\u001b[0m\u001b[0mcoupondatesconsidered\u001b[0m\u001b[1;33m,\u001b[0m\u001b[0mcoupondatefrac\u001b[0m\u001b[1;33m]\u001b[0m \u001b[1;33m=\u001b[0m \u001b[0mzcbPriced\u001b[0m\u001b[1;33m.\u001b[0m\u001b[0mrefactordates\u001b[0m\u001b[1;33m(\u001b[0m\u001b[0mzcb\u001b[0m\u001b[1;33m.\u001b[0m\u001b[0mcoupondates\u001b[0m\u001b[1;33m,\u001b[0m\u001b[0mMD\u001b[0m\u001b[1;33m)\u001b[0m\u001b[1;33m\u001b[0m\u001b[1;33m\u001b[0m\u001b[0m\n\u001b[0m\u001b[0;32m      2\u001b[0m \u001b[1;33m[\u001b[0m\u001b[0mnotionaldatesconsidered\u001b[0m\u001b[1;33m,\u001b[0m\u001b[0mnotionaldatefrac\u001b[0m\u001b[1;33m]\u001b[0m \u001b[1;33m=\u001b[0m \u001b[0mzcbPriced\u001b[0m\u001b[1;33m.\u001b[0m\u001b[0mrefactordates\u001b[0m\u001b[1;33m(\u001b[0m\u001b[0mzcb\u001b[0m\u001b[1;33m.\u001b[0m\u001b[0mnotionaldates\u001b[0m\u001b[1;33m,\u001b[0m\u001b[0mMD\u001b[0m\u001b[1;33m)\u001b[0m\u001b[1;33m\u001b[0m\u001b[1;33m\u001b[0m\u001b[0m\n",
      "\u001b[1;31mAttributeError\u001b[0m: 'EquityPriced' object has no attribute 'refactordates'"
     ]
    }
   ],
   "source": [
    "[coupondatesconsidered,coupondatefrac] = zcbPriced.refactordates(zcb.coupondates,MD)\n",
    "[notionaldatesconsidered,notionaldatefrac] = zcbPriced.refactordates(zcb.notionaldates,MD)"
   ]
  },
  {
   "cell_type": "code",
   "execution_count": null,
   "id": "d85de327",
   "metadata": {},
   "outputs": [],
   "source": [
    "# carry forward the sspread of bonds that are still relevant\n",
    "zcbPriced.sspread = []\n",
    "zcbPriced.marketprice = []\n",
    "\n",
    "for iCount in range(0,len(notionaldatesconsidered)-1):\n",
    "    if notionaldatesconsidered[iCount] == [0]:\n",
    "        zcbPriced.sspread = np.append(zcbPriced.sspread,zcb.sspread[iCount])\n",
    "        zcbPriced.marketprice = np.append(zcbPriced.marketprice,zcb.marketprice[iCount])"
   ]
  },
  {
   "cell_type": "code",
   "execution_count": null,
   "id": "3a2cf658",
   "metadata": {},
   "outputs": [],
   "source": [
    "# Numeric precision of the optimisation\n",
    "Precision = float(paramfile.loc[\"Precision\"][0])\n",
    "# Targeted distance between the extrapolated curve and the ultimate forward rate at the convergence point\n",
    "Tau = float(paramfile.loc[\"Tau\"][0]) # 1 basis point\n",
    "Country = paramfile.loc[\"country\"]\n",
    "InitialDate = paramfile.loc[\"Modelling_Date\"]\n",
    "Curves = Curves(ufr, Precision, Tau, InitialDate, Country)"
   ]
  },
  {
   "cell_type": "code",
   "execution_count": null,
   "id": "9021e186",
   "metadata": {},
   "outputs": [],
   "source": [
    "coupontargetrates = []\n",
    "notionaltargetrates = []\n",
    "\n",
    "for iAsset in range(0,issuedate.size-1):\n",
    "\n",
    "    if not notionaldatesconsidered:\n",
    "       print(\"This bond has matured\") \n",
    "    else: \n",
    "        coupontargetrates.append(Curves.SWExtrapolate(np.transpose(coupondatefrac[iAsset]),M_Obs, Qb, ufr, alpha))\n",
    "        notionaltargetrates.append(Curves.SWExtrapolate(np.transpose(notionaldatefrac[iAsset]),M_Obs, Qb, ufr, alpha))\n",
    "        zcbPriced.coupondatefrac.append(np.transpose(coupondatefrac[iAsset]))\n",
    "        zcbPriced.notionaldatefrac.append(np.transpose(notionaldatefrac[iAsset]))\n",
    "        zcbPriced.couponcfs.append(zcb.couponcfs[iAsset][coupondatesconsidered[iAsset]])\n",
    "        zcbPriced.notionalcfs.append(zcb.notionalcfs[iAsset])"
   ]
  },
  {
   "attachments": {},
   "cell_type": "markdown",
   "id": "4463a0b1",
   "metadata": {},
   "source": [
    "Remove cashflows that are not considered"
   ]
  },
  {
   "cell_type": "code",
   "execution_count": null,
   "id": "6320842d",
   "metadata": {},
   "outputs": [],
   "source": [
    "#zcbPriced.PriceBond(coupontargetrates,notionaltargetrates,coupondatefrac,notionaldatefrac,zcbPriced.couponcfs,zcbPriced.notionalcfs,zcbPriced.sspread,np.array([0.01,0.01]))"
   ]
  },
  {
   "attachments": {},
   "cell_type": "markdown",
   "id": "acd9b9e7",
   "metadata": {},
   "source": [
    "### Calibration of two hypothetical bonds that mature after modelling date"
   ]
  },
  {
   "cell_type": "code",
   "execution_count": null,
   "id": "38663980",
   "metadata": {},
   "outputs": [],
   "source": [
    "def BisectionsSpread(zcbPriced, xStart, xEnd, coupontargetrate,notionaltargetrate,coupondatefrac,notionaldatefrac,couponcfs,notionalcf,sspread, marketprice, Precision, maxIter):\n",
    "    \"\"\"\n",
    "    Bisection root finding algorithm for finding the root of a function. The function here is the allowed difference between the ultimate forward rate and the extrapolated curve using Smith & Wilson.\n",
    "\n",
    "    Args:\n",
    "        xStart =    1 x 1 floating number representing the minimum allowed value of the convergence speed parameter alpha. Ex. alpha = 0.05\n",
    "        xEnd =      1 x 1 floating number representing the maximum allowed value of the convergence speed parameter alpha. Ex. alpha = 0.8\n",
    "        M_Obs =     n x 1 ndarray of maturities of bonds, that have rates provided in input (r). Ex. u = [[1], [3]]\n",
    "        r_Obs =     n x 1 ndarray of rates, for which you wish to calibrate the algorithm. Each rate belongs to an observable Zero-Coupon Bond with a known maturity. Ex. r = [[0.0024], [0.0034]]\n",
    "        ufr  =      1 x 1 floating number, representing the ultimate forward rate. Ex. ufr = 0.042\n",
    "        Tau =       1 x 1 floating number representing the allowed difference between ufr and actual curve. Ex. Tau = 0.00001\n",
    "        Precision = 1 x 1 floating number representing the precision of the calculation. Higher the precision, more accurate the estimation of the root\n",
    "        maxIter =   1 x 1 positive integer representing the maximum number of iterations allowed. This is to prevent an infinite loop in case the method does not converge to a solution         \n",
    "    \n",
    "    Returns:\n",
    "        1 x 1 floating number representing the optimal value of the parameter alpha \n",
    "\n",
    "    Example of use:\n",
    "        >>> import numpy as np\n",
    "        >>> from SWCalibrate import SWCalibrate as SWCalibrate\n",
    "        >>> M_Obs = np.transpose(np.array([1, 2, 4, 5, 6, 7]))\n",
    "        >>> r_Obs =  np.transpose(np.array([0.01, 0.02, 0.03, 0.032, 0.035, 0.04]))\n",
    "        >>> xStart = 0.05\n",
    "        >>> xEnd = 0.5\n",
    "        >>> maxIter = 1000\n",
    "        >>> alfa = 0.15\n",
    "        >>> ufr = 0.042\n",
    "        >>> Precision = 0.0000000001\n",
    "        >>> Tau = 0.0001\n",
    "        >>> BisectionAlpha(xStart, xEnd, M_Obs, r_Obs, ufr, Tau, Precision, maxIter)\n",
    "        [Out] 0.11549789285636511\n",
    "\n",
    "    For more information see https://www.eiopa.europa.eu/sites/default/files/risk_free_interest_rate/12092019-technical_documentation.pdf and https://en.wikipedia.org/wiki/Bisection_method\n",
    "    \n",
    "    Implemented by Gregor Fabjan from Qnity Consultants on 17/12/2021.\n",
    "    \"\"\"   \n",
    "\n",
    "    yStart = zcbPriced.OpenPriceBond(coupontargetrate,notionaltargetrate,coupondatefrac,notionaldatefrac,couponcfs,notionalcf,sspread,xStart)\n",
    "    yEnd = zcbPriced.OpenPriceBond(coupontargetrate,notionaltargetrate,coupondatefrac,notionaldatefrac,couponcfs,notionalcf,sspread,xEnd)\n",
    "    if np.abs(yStart-marketprice) < Precision:\n",
    "        #self.alpha = xStart # If initial point already satisfies the conditions return start point\n",
    "        return xStart\n",
    "    if np.abs(yEnd-marketprice) < Precision:\n",
    "        #self.alpha = xEnd\n",
    "        return xEnd # If final point already satisfies the conditions return end point\n",
    "    iIter = 0\n",
    "    while iIter <= maxIter:\n",
    "        xMid = (xEnd+xStart)/2 # calculate mid-point\n",
    "        yMid = zcbPriced.OpenPriceBond(coupontargetrate,notionaltargetrate,coupondatefrac,notionaldatefrac,couponcfs,notionalcf,sspread,xMid) # What is the solution at midpoint\n",
    "        if ((yStart-marketprice) == 0 or (xEnd-xStart)/2 < Precision): # Solution found\n",
    "            #self.alpha = xMid\n",
    "            return xMid\n",
    "        else: # Solution not found\n",
    "            iIter += 1\n",
    "            if np.sign(yMid-marketprice) == np.sign(yStart-marketprice): # If the start point and the middle point have the same sign, then the root must be in the second half of the interval   \n",
    "                xStart = xMid\n",
    "            else: # If the start point and the middle point have a different sign than by mean value theorem the interval must contain at least one root\n",
    "                xEnd = xMid\n",
    "    return \"Did not converge\""
   ]
  },
  {
   "cell_type": "code",
   "execution_count": null,
   "id": "454559c1",
   "metadata": {},
   "outputs": [],
   "source": [
    "zcbPriced.zspread = []\n",
    "for iCount in range(0,len(coupontargetrates)):\n",
    "    zSpreadTmp = BisectionsSpread(zcbPriced, -0.2, 0.2, coupontargetrates[iCount],notionaltargetrates[iCount],zcbPriced.coupondatefrac[iCount],zcbPriced.notionaldatefrac[iCount],zcbPriced.couponcfs[iCount],zcbPriced.notionalcfs[iCount],zcbPriced.sspread[iCount],zcbPriced.marketprice[iCount], Precision, 1000)\n",
    "    zcbPriced.zspread = np.append(zcbPriced.zspread,zSpreadTmp)"
   ]
  },
  {
   "cell_type": "code",
   "execution_count": null,
   "id": "836d1e95",
   "metadata": {},
   "outputs": [
    {
     "data": {
      "text/plain": [
       "array([94., 92.])"
      ]
     },
     "execution_count": 21,
     "metadata": {},
     "output_type": "execute_result"
    }
   ],
   "source": [
    "zcbPriced.marketprice"
   ]
  },
  {
   "cell_type": "code",
   "execution_count": null,
   "id": "d577c4a7",
   "metadata": {},
   "outputs": [
    {
     "data": {
      "text/plain": [
       "[array([0.04474545, 0.04352242, 0.04174698, 0.04015462]),\n",
       " array([0.04474545, 0.04352242, 0.04174698, 0.04015462, 0.03903412,\n",
       "        0.03830698])]"
      ]
     },
     "execution_count": 22,
     "metadata": {},
     "output_type": "execute_result"
    }
   ],
   "source": [
    "coupontargetrates"
   ]
  },
  {
   "cell_type": "code",
   "execution_count": null,
   "id": "1c4d82cf",
   "metadata": {},
   "outputs": [
    {
     "data": {
      "text/plain": [
       "array([0.01, 0.01])"
      ]
     },
     "execution_count": 23,
     "metadata": {},
     "output_type": "execute_result"
    }
   ],
   "source": [
    "zcbPriced.sspread"
   ]
  },
  {
   "cell_type": "code",
   "execution_count": null,
   "id": "7aa0b82c",
   "metadata": {},
   "outputs": [
    {
     "data": {
      "text/plain": [
       "array([0.00056424, 0.02093499])"
      ]
     },
     "execution_count": 24,
     "metadata": {},
     "output_type": "execute_result"
    }
   ],
   "source": [
    "zcbPriced.zspread"
   ]
  }
 ],
 "metadata": {
  "kernelspec": {
   "display_name": "Python 3 (ipykernel)",
   "language": "python",
   "name": "python3"
  },
  "language_info": {
   "codemirror_mode": {
    "name": "ipython",
    "version": 3
   },
   "file_extension": ".py",
   "mimetype": "text/x-python",
   "name": "python",
   "nbconvert_exporter": "python",
   "pygments_lexer": "ipython3",
   "version": "3.9.7"
  }
 },
 "nbformat": 4,
 "nbformat_minor": 5
}
