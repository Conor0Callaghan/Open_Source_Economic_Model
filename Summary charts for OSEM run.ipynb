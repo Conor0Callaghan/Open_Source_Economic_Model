{
 "cells": [
  {
   "cell_type": "markdown",
   "id": "3f175eb6",
   "metadata": {},
   "source": [
    "# Summary of OSEM run\n",
    "\n",
    "This script shows some summary data for the run"
   ]
  },
  {
   "cell_type": "code",
   "execution_count": 94,
   "id": "de5f2301",
   "metadata": {},
   "outputs": [],
   "source": [
    "import pandas as pd\n",
    "import matplotlib.pyplot as plt\n",
    "import datetime"
   ]
  },
  {
   "cell_type": "code",
   "execution_count": 95,
   "id": "2910d990",
   "metadata": {},
   "outputs": [],
   "source": [
    "out = pd.read_csv(\"Output/Results.csv\",index_col=0)"
   ]
  },
  {
   "cell_type": "code",
   "execution_count": 96,
   "id": "fd4ee55c",
   "metadata": {},
   "outputs": [
    {
     "data": {
      "text/html": [
       "<div>\n",
       "<style scoped>\n",
       "    .dataframe tbody tr th:only-of-type {\n",
       "        vertical-align: middle;\n",
       "    }\n",
       "\n",
       "    .dataframe tbody tr th {\n",
       "        vertical-align: top;\n",
       "    }\n",
       "\n",
       "    .dataframe thead th {\n",
       "        text-align: right;\n",
       "    }\n",
       "</style>\n",
       "<table border=\"1\" class=\"dataframe\">\n",
       "  <thead>\n",
       "    <tr style=\"text-align: right;\">\n",
       "      <th></th>\n",
       "      <th>Start cash</th>\n",
       "      <th>End cash</th>\n",
       "      <th>Start market value</th>\n",
       "      <th>After growth market value</th>\n",
       "      <th>End market value</th>\n",
       "      <th>Portfolio return</th>\n",
       "      <th>Dividend cash flow</th>\n",
       "      <th>Terminal cash flow</th>\n",
       "      <th>Liability cash flow</th>\n",
       "    </tr>\n",
       "  </thead>\n",
       "  <tbody>\n",
       "    <tr>\n",
       "      <th>2023-04-29</th>\n",
       "      <td>NaN</td>\n",
       "      <td>1.000000e+05</td>\n",
       "      <td>NaN</td>\n",
       "      <td>NaN</td>\n",
       "      <td>282.000000</td>\n",
       "      <td>NaN</td>\n",
       "      <td>NaN</td>\n",
       "      <td>NaN</td>\n",
       "      <td>NaN</td>\n",
       "    </tr>\n",
       "    <tr>\n",
       "      <th>2024-04-28</th>\n",
       "      <td>1.000000e+05</td>\n",
       "      <td>-1.455192e-11</td>\n",
       "      <td>282.000000</td>\n",
       "      <td>288.610809</td>\n",
       "      <td>100081.033136</td>\n",
       "      <td>0.023443</td>\n",
       "      <td>11.422327</td>\n",
       "      <td>0.0</td>\n",
       "      <td>-219.0</td>\n",
       "    </tr>\n",
       "    <tr>\n",
       "      <th>2025-04-28</th>\n",
       "      <td>-1.455192e-11</td>\n",
       "      <td>-5.456968e-12</td>\n",
       "      <td>100081.033136</td>\n",
       "      <td>102442.542655</td>\n",
       "      <td>106433.218987</td>\n",
       "      <td>0.023596</td>\n",
       "      <td>4057.676333</td>\n",
       "      <td>0.0</td>\n",
       "      <td>-67.0</td>\n",
       "    </tr>\n",
       "    <tr>\n",
       "      <th>2026-04-28</th>\n",
       "      <td>-5.456968e-12</td>\n",
       "      <td>-5.456968e-12</td>\n",
       "      <td>106433.218987</td>\n",
       "      <td>108961.006881</td>\n",
       "      <td>112550.058372</td>\n",
       "      <td>0.023750</td>\n",
       "      <td>4319.051491</td>\n",
       "      <td>0.0</td>\n",
       "      <td>-730.0</td>\n",
       "    </tr>\n",
       "    <tr>\n",
       "      <th>2027-04-28</th>\n",
       "      <td>-5.456968e-12</td>\n",
       "      <td>-2.273737e-11</td>\n",
       "      <td>112550.058372</td>\n",
       "      <td>115240.521978</td>\n",
       "      <td>119319.786910</td>\n",
       "      <td>0.023905</td>\n",
       "      <td>4571.264932</td>\n",
       "      <td>0.0</td>\n",
       "      <td>-492.0</td>\n",
       "    </tr>\n",
       "    <tr>\n",
       "      <th>2028-04-27</th>\n",
       "      <td>-2.273737e-11</td>\n",
       "      <td>1.818989e-12</td>\n",
       "      <td>119319.786910</td>\n",
       "      <td>122190.591613</td>\n",
       "      <td>126315.979565</td>\n",
       "      <td>0.024060</td>\n",
       "      <td>4850.387952</td>\n",
       "      <td>0.0</td>\n",
       "      <td>-725.0</td>\n",
       "    </tr>\n",
       "    <tr>\n",
       "      <th>2029-04-27</th>\n",
       "      <td>1.818989e-12</td>\n",
       "      <td>-1.182343e-11</td>\n",
       "      <td>126315.979565</td>\n",
       "      <td>129374.775092</td>\n",
       "      <td>133747.250769</td>\n",
       "      <td>0.024215</td>\n",
       "      <td>5139.475676</td>\n",
       "      <td>0.0</td>\n",
       "      <td>-767.0</td>\n",
       "    </tr>\n",
       "    <tr>\n",
       "      <th>2030-04-27</th>\n",
       "      <td>-1.182343e-11</td>\n",
       "      <td>-3.274181e-11</td>\n",
       "      <td>133747.250769</td>\n",
       "      <td>137006.882629</td>\n",
       "      <td>141827.243646</td>\n",
       "      <td>0.024372</td>\n",
       "      <td>5446.361018</td>\n",
       "      <td>0.0</td>\n",
       "      <td>-626.0</td>\n",
       "    </tr>\n",
       "    <tr>\n",
       "      <th>2031-04-27</th>\n",
       "      <td>-3.274181e-11</td>\n",
       "      <td>-1.182343e-11</td>\n",
       "      <td>141827.243646</td>\n",
       "      <td>145306.006634</td>\n",
       "      <td>150537.114636</td>\n",
       "      <td>0.024528</td>\n",
       "      <td>5780.108002</td>\n",
       "      <td>0.0</td>\n",
       "      <td>-549.0</td>\n",
       "    </tr>\n",
       "    <tr>\n",
       "      <th>2032-04-26</th>\n",
       "      <td>-1.182343e-11</td>\n",
       "      <td>4.547474e-12</td>\n",
       "      <td>150537.114636</td>\n",
       "      <td>154253.147909</td>\n",
       "      <td>159870.146125</td>\n",
       "      <td>0.024685</td>\n",
       "      <td>6139.998216</td>\n",
       "      <td>0.0</td>\n",
       "      <td>-523.0</td>\n",
       "    </tr>\n",
       "  </tbody>\n",
       "</table>\n",
       "</div>"
      ],
      "text/plain": [
       "              Start cash      End cash  Start market value  \\\n",
       "2023-04-29           NaN  1.000000e+05                 NaN   \n",
       "2024-04-28  1.000000e+05 -1.455192e-11          282.000000   \n",
       "2025-04-28 -1.455192e-11 -5.456968e-12       100081.033136   \n",
       "2026-04-28 -5.456968e-12 -5.456968e-12       106433.218987   \n",
       "2027-04-28 -5.456968e-12 -2.273737e-11       112550.058372   \n",
       "2028-04-27 -2.273737e-11  1.818989e-12       119319.786910   \n",
       "2029-04-27  1.818989e-12 -1.182343e-11       126315.979565   \n",
       "2030-04-27 -1.182343e-11 -3.274181e-11       133747.250769   \n",
       "2031-04-27 -3.274181e-11 -1.182343e-11       141827.243646   \n",
       "2032-04-26 -1.182343e-11  4.547474e-12       150537.114636   \n",
       "\n",
       "            After growth market value  End market value  Portfolio return  \\\n",
       "2023-04-29                        NaN        282.000000               NaN   \n",
       "2024-04-28                 288.610809     100081.033136          0.023443   \n",
       "2025-04-28              102442.542655     106433.218987          0.023596   \n",
       "2026-04-28              108961.006881     112550.058372          0.023750   \n",
       "2027-04-28              115240.521978     119319.786910          0.023905   \n",
       "2028-04-27              122190.591613     126315.979565          0.024060   \n",
       "2029-04-27              129374.775092     133747.250769          0.024215   \n",
       "2030-04-27              137006.882629     141827.243646          0.024372   \n",
       "2031-04-27              145306.006634     150537.114636          0.024528   \n",
       "2032-04-26              154253.147909     159870.146125          0.024685   \n",
       "\n",
       "            Dividend cash flow  Terminal cash flow  Liability cash flow  \n",
       "2023-04-29                 NaN                 NaN                  NaN  \n",
       "2024-04-28           11.422327                 0.0               -219.0  \n",
       "2025-04-28         4057.676333                 0.0                -67.0  \n",
       "2026-04-28         4319.051491                 0.0               -730.0  \n",
       "2027-04-28         4571.264932                 0.0               -492.0  \n",
       "2028-04-27         4850.387952                 0.0               -725.0  \n",
       "2029-04-27         5139.475676                 0.0               -767.0  \n",
       "2030-04-27         5446.361018                 0.0               -626.0  \n",
       "2031-04-27         5780.108002                 0.0               -549.0  \n",
       "2032-04-26         6139.998216                 0.0               -523.0  "
      ]
     },
     "execution_count": 96,
     "metadata": {},
     "output_type": "execute_result"
    }
   ],
   "source": [
    "out.head(10)"
   ]
  },
  {
   "cell_type": "code",
   "execution_count": 97,
   "id": "159d9ee4",
   "metadata": {},
   "outputs": [],
   "source": [
    "return_calculated = (out[\"After growth market value\"]/out['Start market value']-1)[1:]"
   ]
  },
  {
   "cell_type": "markdown",
   "id": "113aca67",
   "metadata": {},
   "source": [
    "Test 1 Performance of portfolio"
   ]
  },
  {
   "cell_type": "code",
   "execution_count": 98,
   "id": "c0f17c61",
   "metadata": {},
   "outputs": [],
   "source": [
    "test_1 = out[\"Portfolio return\"][1:]-return_calculated"
   ]
  },
  {
   "cell_type": "markdown",
   "id": "59fd3008",
   "metadata": {},
   "source": [
    "ToDo, test specification"
   ]
  },
  {
   "cell_type": "code",
   "execution_count": 99,
   "id": "6a4d1d5a",
   "metadata": {},
   "outputs": [],
   "source": [
    "y = out[\"Dividend cash flow\"]\n",
    "z = out[\"Liability cash flow\"]\n",
    "k = out[\"Terminal cash flow\"]"
   ]
  },
  {
   "cell_type": "code",
   "execution_count": 100,
   "id": "87870927",
   "metadata": {},
   "outputs": [
    {
     "data": {
      "image/png": "[encoded data removed]",
      "text/plain": [
       "<Figure size 432x288 with 3 Axes>"
      ]
     },
     "metadata": {
      "needs_background": "light"
     },
     "output_type": "display_data"
    }
   ],
   "source": [
    "fig, (ax1,ax2,ax3) = plt.subplots(3)\n",
    "ax1.bar(out.index.to_list()[:-1], y[:-1], width=0.5, color='b', align='center', label='Dividend cash flow')\n",
    "ax2.bar(out.index.to_list()[:-1], z[:-1], width=0.5, color='g', align='center', label=\"Liability cash flow\")\n",
    "ax3.bar(out.index.to_list()[:-1], k[:-1], width=0.5, color='r', align='center', label= \"Terminal cash flow\")\n",
    "\n",
    "ax1.legend()\n",
    "ax2.legend()\n",
    "ax3.legend()\n",
    "plt.show()"
   ]
  },
  {
   "cell_type": "code",
   "execution_count": 101,
   "id": "9d102200",
   "metadata": {},
   "outputs": [],
   "source": [
    "l = out[\"End cash\"]\n",
    "m = out[\"Start cash\"]\n",
    "n = out[\"After growth market value\"]\n",
    "o = out[\"End market value\"]\n",
    "p = out[\"Start market value\"]\n"
   ]
  },
  {
   "cell_type": "markdown",
   "id": "753de981",
   "metadata": {},
   "source": [
    "#### Cash movement"
   ]
  },
  {
   "cell_type": "markdown",
   "id": "4d4dfd2a",
   "metadata": {},
   "source": [
    "ToDo"
   ]
  },
  {
   "cell_type": "code",
   "execution_count": 102,
   "id": "e62a8775",
   "metadata": {},
   "outputs": [
    {
     "data": {
      "image/png": "[encoded data removed]",
      "text/plain": [
       "<Figure size 432x288 with 2 Axes>"
      ]
     },
     "metadata": {
      "needs_background": "light"
     },
     "output_type": "display_data"
    }
   ],
   "source": [
    "fig, (ax1,ax2) = plt.subplots(2)\n",
    "ax1.bar(out.index.to_list()[0:3], l[0:3]-m[0:3], width=0.5, color='b', align='center', label='First 3 periods')\n",
    "ax2.bar(out.index.to_list()[2:], l[2:]-m[2:], width=0.5, color='b', align='center', label='All but first 2 periods ')\n",
    "\n",
    "ax1.legend()\n",
    "ax2.legend()\n",
    "plt.show()"
   ]
  },
  {
   "cell_type": "markdown",
   "id": "4945f847",
   "metadata": {},
   "source": []
  },
  {
   "cell_type": "code",
   "execution_count": 103,
   "id": "0fcdf74d",
   "metadata": {},
   "outputs": [
    {
     "data": {
      "image/png": "[encoded data removed]",
      "text/plain": [
       "<Figure size 432x288 with 1 Axes>"
      ]
     },
     "metadata": {
      "needs_background": "light"
     },
     "output_type": "display_data"
    }
   ],
   "source": [
    "fig, ax = plt.subplots(1)\n",
    "ax.bar(out.index.to_list(), o, width=0.5, color='b', align='center', label='End market value')\n",
    "ax.legend()\n",
    "plt.show()"
   ]
  }
 ],
 "metadata": {
  "kernelspec": {
   "display_name": "Python 3 (ipykernel)",
   "language": "python",
   "name": "python3"
  },
  "language_info": {
   "codemirror_mode": {
    "name": "ipython",
    "version": 3
   },
   "file_extension": ".py",
   "mimetype": "text/x-python",
   "name": "python",
   "nbconvert_exporter": "python",
   "pygments_lexer": "ipython3",
   "version": "3.9.7"
  }
 },
 "nbformat": 4,
 "nbformat_minor": 5
}
