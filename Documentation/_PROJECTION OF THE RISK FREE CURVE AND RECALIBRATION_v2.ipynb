{
 "cells": [
  {
   "cell_type": "markdown",
   "id": "e4a19110",
   "metadata": {},
   "source": [
    "# PROJECTION OF THE RISK FREE CURVE AND RECALIBRATION_v2"
   ]
  },
  {
   "cell_type": "markdown",
   "id": "6924f6fb",
   "metadata": {},
   "source": [
    "The purpose of this workbook is to showcase the calibration methodology inside OSEM. The key to the calibration is the Smith Wilson algorithm commonly used in insurance. This algorithm allows a continuous approximation of arbitrary maturities based on a subset of available maturities. This example is split onto 3 parts. "
   ]
  },
  {
   "cell_type": "markdown",
   "id": "3d4ea939",
   "metadata": {},
   "source": [
    " - The first part shows how the necessary parameters and curves are imported from input files. \n",
    " - Second part shows how the curves are generated and the Smith-Wilson calibrations derived. \n",
    " - The last part shows how the saved calibration can be used to derive an the discount rates for any maturity."
   ]
  },
  {
   "cell_type": "code",
   "execution_count": 1,
   "id": "49ae88db",
   "metadata": {},
   "outputs": [],
   "source": [
    "import numpy as np\n",
    "import pandas as pd\n",
    "import matplotlib.pyplot as plt\n",
    "import matplotlib.ticker as mtick"
   ]
  },
  {
   "cell_type": "code",
   "execution_count": 2,
   "id": "cae8e38e",
   "metadata": {},
   "outputs": [],
   "source": [
    "from ImportData import import_SWEiopa\n",
    "from CurvesClass import Curves"
   ]
  },
  {
   "cell_type": "markdown",
   "id": "e7936c21",
   "metadata": {},
   "source": [
    "## Importing files"
   ]
  },
  {
   "cell_type": "markdown",
   "id": "489cc61f",
   "metadata": {},
   "source": [
    "The parameters and the current risk free curve are provided as input:\n",
    "\n",
    " - Parameters.csv; Parameters related to the run \n",
    " - EIOPA_param_file.csv; Assumed yield curve at modelling date and relevant maturities\n",
    " - EIOPA_curves_file.csv; Parameters related to the EIOPA time 0 calibration\n",
    " \n",
    " \n",
    " The exact location of the EIOPA files is encoded in the Parameters input file. "
   ]
  },
  {
   "cell_type": "code",
   "execution_count": 3,
   "id": "76947335",
   "metadata": {},
   "outputs": [],
   "source": [
    "paramfile = pd.read_csv(\"Input\\Parameters.csv\", index_col=\"Parameter\")"
   ]
  },
  {
   "cell_type": "markdown",
   "id": "3df2f181",
   "metadata": {},
   "source": [
    "The location of the two EIOPA files are:"
   ]
  },
  {
   "cell_type": "code",
   "execution_count": 4,
   "id": "96ba2d05",
   "metadata": {},
   "outputs": [],
   "source": [
    "selected_param_file = paramfile[\"Value\"].loc[\"EIOPA_param_file\"]\n",
    "selected_curves_file = paramfile[\"Value\"].loc[\"EIOPA_curves_file\"]"
   ]
  },
  {
   "cell_type": "markdown",
   "id": "e98d64b4",
   "metadata": {},
   "source": [
    "The risk free curve belongs to the following country:"
   ]
  },
  {
   "cell_type": "code",
   "execution_count": 5,
   "id": "9cf13695",
   "metadata": {},
   "outputs": [],
   "source": [
    "country = paramfile[\"Value\"].loc[\"country\"]"
   ]
  },
  {
   "cell_type": "markdown",
   "id": "fc1b15a1",
   "metadata": {},
   "source": [
    "Import all necessary parameters:"
   ]
  },
  {
   "cell_type": "code",
   "execution_count": 6,
   "id": "96d0a173",
   "metadata": {},
   "outputs": [],
   "source": [
    "[maturities_country, curve_country, extra_param, Qb] = import_SWEiopa(selected_param_file, selected_curves_file, country)"
   ]
  },
  {
   "cell_type": "markdown",
   "id": "f2358d29",
   "metadata": {},
   "source": [
    "## Preparation and treatment of the curves"
   ]
  },
  {
   "cell_type": "markdown",
   "id": "703fedca",
   "metadata": {},
   "source": [
    "The OSEM does multiple steps in order to make it easier for OSEM to access discount curves at any point in time and for arbitrary maturities. All steps are performed and saved within the Curves class."
   ]
  },
  {
   "cell_type": "markdown",
   "id": "5eaaeb2e",
   "metadata": {},
   "source": [
    "### The curves class"
   ]
  },
  {
   "cell_type": "markdown",
   "id": "c7b94b91",
   "metadata": {},
   "source": [
    "The curve class object contains all the data necessary to run the model."
   ]
  },
  {
   "cell_type": "code",
   "execution_count": 7,
   "id": "78b1b253",
   "metadata": {},
   "outputs": [],
   "source": [
    "# ultimate forward rate\n",
    "ufr = extra_param[\"UFR\"]/100\n",
    "\n",
    "# Numeric precision of the optimisation\n",
    "precision = float(paramfile[\"Value\"].loc[\"Precision\"])\n",
    "\n",
    "# Targeted distance between the extrapolated curve and the ultimate forward rate at the convergence point\n",
    "tau = float(paramfile[\"Value\"].loc[\"Tau\"])# 1 basis point\n",
    "\n",
    "modelling_date = paramfile.loc[\"Modelling_Date\"]\n",
    "\n",
    "# Number of projection years\n",
    "n_years = int(paramfile.loc[\"n_proj_years\"][0])"
   ]
  },
  {
   "cell_type": "code",
   "execution_count": 8,
   "id": "68513113",
   "metadata": {},
   "outputs": [],
   "source": [
    "curves = Curves(ufr, precision, tau, modelling_date, country)"
   ]
  },
  {
   "cell_type": "markdown",
   "id": "27b97643",
   "metadata": {},
   "source": [
    "After the Curves class is initiated, there are a series if calibrations that needs to be performed.\n",
    "\n",
    " - Saving of the input term structure\n",
    " - Calculation of the forward rates\n",
    " - Projection of the forward spot rates\n",
    " - Calculation of the Smith-Wilson calibrations for each period"
   ]
  },
  {
   "cell_type": "markdown",
   "id": "31f91ad4",
   "metadata": {},
   "source": [
    "### Save the input term structure\n",
    "\n",
    "SetObservedTermStructure sets the liquid maturities and the corresponding yields to the m_obs and r_obs property of the Curves class. "
   ]
  },
  {
   "cell_type": "code",
   "execution_count": 9,
   "id": "5ed1a4af",
   "metadata": {},
   "outputs": [],
   "source": [
    "curves.SetObservedTermStructure(maturity_vec=curve_country.index.tolist(), yield_vec=curve_country.values)"
   ]
  },
  {
   "cell_type": "markdown",
   "id": "df97b77f",
   "metadata": {},
   "source": [
    "### Calculate 1 year forward rates\n",
    "\n",
    "Using the time 0 spot curve provided as input, the yearly forward rates can be calculated from the annually reported yield curve\n",
    "$$\n",
    "fw_{EIOPA,1} = y_1\n",
    "$$\n",
    "\n",
    "otherwise:\n",
    "\n",
    "$$\n",
    "fw_{EIOPA,i} = \\frac{(1 + y_i)^{-i}}{(1 + y_{i-1})^{-(i-1)}} \n",
    "$$\n",
    "\n",
    "Note that this implementation assumes that all forward rates are exactly 1 year apart as provided by EIOPA."
   ]
  },
  {
   "cell_type": "markdown",
   "id": "06cf272b",
   "metadata": {},
   "source": [
    "Where:\n",
    "\n",
    " - $i$ is the year (Ex. 1,2,3, $\\dots$)\n",
    " - $y_i$ is the yield for the year $i$\n",
    " - $fw_{EIOPA,i}$ is the 1-year forward rate between years $i-1$ and $i$"
   ]
  },
  {
   "cell_type": "code",
   "execution_count": 10,
   "id": "aade7ad2",
   "metadata": {},
   "outputs": [],
   "source": [
    "curves.CalcFwdRates()"
   ]
  },
  {
   "cell_type": "markdown",
   "id": "88cc544e",
   "metadata": {},
   "source": [
    "### Forward yield curve\n",
    "\n",
    "The forward yield curve can be calculated by using the 1-year forward rates from the suitable moment onwards. The spot yield curve is calculated for each projection period. For the projection period $i$, the yield curve can be calculated as:"
   ]
  },
  {
   "cell_type": "markdown",
   "id": "eb1997e6",
   "metadata": {},
   "source": [
    "$$\n",
    "y^j_{i-j} = \\prod_{k=j}^i\\big(1+fw_{EIOPA}(k)\\big)^{-(k-j)}\n",
    "$$"
   ]
  },
  {
   "cell_type": "markdown",
   "id": "bcda63b7",
   "metadata": {},
   "source": [
    "Where:\n",
    " - $j$ is the modelling period at which the model is performing the calculations \n",
    " - $i-j$ is the time period within the modelling period\n",
    " - $y^j_{k}$ is the yield $k$ years after the modelling period $j$"
   ]
  },
  {
   "cell_type": "code",
   "execution_count": 11,
   "id": "66b733c1",
   "metadata": {},
   "outputs": [],
   "source": [
    "curves.ProjectForwardRate(n_years)"
   ]
  },
  {
   "cell_type": "markdown",
   "id": "017a8ee1",
   "metadata": {},
   "source": [
    "## Calibrate Smith-Wilson on each yield curve"
   ]
  },
  {
   "cell_type": "markdown",
   "id": "01756712",
   "metadata": {},
   "source": [
    "Each forward yield curve is used to calibrate the SW algorithm. This calibration can then be used to generate yield corves of arbitrary maturities. The calibration is split on two parts. First one calibrates the curve at time 0."
   ]
  },
  {
   "cell_type": "markdown",
   "id": "ea489278",
   "metadata": {},
   "source": [
    "### Calibration of the interpolation/extrapolation algorithm"
   ]
  },
  {
   "cell_type": "markdown",
   "id": "68da0f63",
   "metadata": {},
   "source": [
    "Both at time 0 and in following projection years, the same calibration algorithm is performed. The algorithm looks to minimize the difference between the xxx and the ultimate forward rate as recommended by EIOPA:\n",
    "\n",
    "\n",
    "$$\n",
    "T = \\max(U+40,60)\n",
    "$$\n",
    "\n",
    "$$\n",
    "g(\\alpha) = |f(T) - \\omega| = \\frac{\\alpha}{|1-\\kappa e^{\\alpha T}|}\n",
    "$$\n",
    "\n",
    "The calibration consists of using a bisection algorithm to minimize the difference between the ultimate forward rate $\\omega$.\n",
    "\n",
    "The calibration is:\n",
    "\n",
    "$$\n",
    "\\min \\alpha \n",
    "$$\n",
    "\n",
    "subject to constraints:\n",
    "\n",
    "$$\n",
    "\\alpha \\geq \\alpha_{min}\n",
    "$$\n",
    "and\n",
    "\n",
    "$$\n",
    "g(\\alpha) \\leq \\tau\n",
    "$$\n",
    "\n",
    " And $\\kappa$ is defined as:\n",
    "\n",
    " $$\n",
    "\\kappa = \\frac{1 + \\alpha u^T Qb}{sinh(\\alpha u^T)Qb}\n",
    " $$ \n",
    "\n",
    " $$\n",
    "Q = d I C\n",
    " $$\n",
    "\n",
    "$$\n",
    "d = e^{-\\omega u}\n",
    "$$\n",
    "\n",
    "\n",
    "\n",
    "Where:\n",
    " - $\\alpha$ is the free parameter to be calibrated\n",
    " - $\\alpha_{min}$ is the lower bound of the allowable values\n",
    " - $U$ is the last liquid point\n",
    " - $g(\\alpha)$ is the extrapolated\n",
    " - $C$ is a matrix of cash flows"
   ]
  },
  {
   "cell_type": "code",
   "execution_count": 12,
   "id": "d4ce9ba0",
   "metadata": {},
   "outputs": [],
   "source": [
    "curves.CalibrateProjected(n_years, 0.05, 0.5, 1000)"
   ]
  },
  {
   "cell_type": "markdown",
   "id": "d50fa78e",
   "metadata": {},
   "source": [
    "## Example 1\n",
    "\n",
    "One of the properties of the Smith-Wilson algorithm is that it retains the curve values at the liquid points provided in the calibration. This property is tested in the first example. A projection year is selected and the algorithm is asked to provide the values using the calibration vector. The original yield curve that was used to calibrate is then compared to the output."
   ]
  },
  {
   "cell_type": "code",
   "execution_count": 13,
   "id": "a7589215",
   "metadata": {},
   "outputs": [],
   "source": [
    "p_year = 6"
   ]
  },
  {
   "cell_type": "code",
   "execution_count": 14,
   "id": "7e76257a",
   "metadata": {},
   "outputs": [],
   "source": [
    "interpolated_curve = curves.RetrieveRates(p_year, curves.m_obs[\"Maturities_year_\"+str(p_year)].values[:-p_year], \"Yield\")"
   ]
  },
  {
   "cell_type": "code",
   "execution_count": 15,
   "id": "93e7db31",
   "metadata": {},
   "outputs": [
    {
     "data": {
      "image/png": "[encoded data removed]",
      "text/plain": [
       "<Figure size 432x216 with 1 Axes>"
      ]
     },
     "metadata": {
      "needs_background": "light"
     },
     "output_type": "display_data"
    }
   ],
   "source": [
    "fig, ax1 = plt.subplots(1, 1)\n",
    "ax1.scatter(curves.m_obs[\"Maturities_year_\"+str(p_year)].values[:-p_year], interpolated_curve*100, label=\"Calculated\", marker=\"x\")\n",
    "ax1.plot(curves.m_obs[\"Maturities_year_\"+str(p_year)].values[:-p_year], curves.r_obs[\"Yield_year_\"+str(p_year)].values[:-p_year]*100)\n",
    "ax1.set_ylabel(\"yield\")\n",
    "ax1.set_title('Recalculated & provided yield curve')\n",
    "ax1.set_xlabel(\"time\")\n",
    "ax1.legend()\n",
    "ax1.yaxis.set_major_formatter(mtick.PercentFormatter())\n",
    "fig.set_figwidth(6)\n",
    "fig.set_figheight(3)\n",
    "plt.show()"
   ]
  },
  {
   "cell_type": "markdown",
   "id": "a395933b",
   "metadata": {},
   "source": [
    "## Example 2"
   ]
  },
  {
   "cell_type": "markdown",
   "id": "5f4a2902",
   "metadata": {},
   "source": [
    "The calibration will be used to provide OSAM with yields for arbitrary maturities. This example verifies if the calibration provides yields for maturities not provided as input into the calibration.\n",
    "Assuming the algorithm is processing the year 3. A hypothetical asset has a cash flow at year fractions:\n",
    "\n",
    "$$ \\{0.7, 1.2, 2.1, 3.543\\} $$\n",
    "\n",
    "To make it possible to calculate the present value, the corresponding discount rates are calculated:\n"
   ]
  },
  {
   "cell_type": "markdown",
   "id": "003c4e7e",
   "metadata": {},
   "source": [
    "With the calibrated vector $b$, the required yields can easily be obtained by applying the formula:\n",
    "\n",
    "$$\n",
    "p(v) = e^{-\\omega v} \\big(1 + H(v,u) b \\big)\n",
    "$$\n",
    "\n",
    "Where:\n",
    " - $v$ is the vector of desired maturities\n",
    " - $ \\omega $ is the ultimate forward intensity\n",
    " - $u$ is the vector of maturities that were used in the calibration\n",
    " - $H(v,u)$ is the Heart of the Wilson function\n",
    " - $b$ is the calibration vector\n"
   ]
  },
  {
   "cell_type": "code",
   "execution_count": 16,
   "id": "2eaf4b16",
   "metadata": {},
   "outputs": [],
   "source": [
    "desired_mat = np.array([0.7,1.2,1.3543])"
   ]
  },
  {
   "cell_type": "markdown",
   "id": "f6ec91c2",
   "metadata": {},
   "source": [
    "### Yield calculation\n",
    "\n",
    "\n",
    "The yield in each modelling period can be interpolated/extrapolated using the Smith-Wilson calibration vector calculated above. This allows OSEM to apply continuous yields."
   ]
  },
  {
   "cell_type": "code",
   "execution_count": 17,
   "id": "02100def",
   "metadata": {},
   "outputs": [
    {
     "data": {
      "text/html": [
       "<div>\n",
       "<style scoped>\n",
       "    .dataframe tbody tr th:only-of-type {\n",
       "        vertical-align: middle;\n",
       "    }\n",
       "\n",
       "    .dataframe tbody tr th {\n",
       "        vertical-align: top;\n",
       "    }\n",
       "\n",
       "    .dataframe thead th {\n",
       "        text-align: right;\n",
       "    }\n",
       "</style>\n",
       "<table border=\"1\" class=\"dataframe\">\n",
       "  <thead>\n",
       "    <tr style=\"text-align: right;\">\n",
       "      <th></th>\n",
       "      <th>Yield</th>\n",
       "    </tr>\n",
       "  </thead>\n",
       "  <tbody>\n",
       "    <tr>\n",
       "      <th>0</th>\n",
       "      <td>0.026187</td>\n",
       "    </tr>\n",
       "    <tr>\n",
       "      <th>1</th>\n",
       "      <td>0.026155</td>\n",
       "    </tr>\n",
       "    <tr>\n",
       "      <th>2</th>\n",
       "      <td>0.026145</td>\n",
       "    </tr>\n",
       "  </tbody>\n",
       "</table>\n",
       "</div>"
      ],
      "text/plain": [
       "      Yield\n",
       "0  0.026187\n",
       "1  0.026155\n",
       "2  0.026145"
      ]
     },
     "execution_count": 17,
     "metadata": {},
     "output_type": "execute_result"
    }
   ],
   "source": [
    "curves.RetrieveRates(3, desired_mat, \"Yield\")"
   ]
  },
  {
   "cell_type": "code",
   "execution_count": 18,
   "id": "7c8441da",
   "metadata": {},
   "outputs": [
    {
     "data": {
      "image/png": "[encoded data removed]",
      "text/plain": [
       "<Figure size 432x216 with 1 Axes>"
      ]
     },
     "metadata": {
      "needs_background": "light"
     },
     "output_type": "display_data"
    }
   ],
   "source": [
    "fig, ax1 = plt.subplots(1, 1)\n",
    "ax1.scatter(desired_mat, curves.RetrieveRates(3, desired_mat, \"Yield\")*100, label=\"Yield\", marker=\"x\")\n",
    "ax1.set_ylabel(\"yield\")\n",
    "ax1.set_title('Selected yield curve')\n",
    "ax1.set_xlabel(\"time\")\n",
    "ax1.legend()\n",
    "ax1.yaxis.set_major_formatter(mtick.PercentFormatter())\n",
    "fig.set_figwidth(6)\n",
    "fig.set_figheight(3)\n",
    "plt.show()"
   ]
  },
  {
   "cell_type": "markdown",
   "id": "4dff1424",
   "metadata": {},
   "source": [
    "### Capitalisation factor calculation\n",
    "\n",
    "\n",
    "The capitalisation factor can be calculated as:\n",
    "\n",
    "$$\n",
    "c_i(t) = \\big(1+ y_i(t)\\big)^{t} \n",
    "$$\n"
   ]
  },
  {
   "cell_type": "code",
   "execution_count": 19,
   "id": "3ee30a54",
   "metadata": {},
   "outputs": [
    {
     "data": {
      "text/html": [
       "<div>\n",
       "<style scoped>\n",
       "    .dataframe tbody tr th:only-of-type {\n",
       "        vertical-align: middle;\n",
       "    }\n",
       "\n",
       "    .dataframe tbody tr th {\n",
       "        vertical-align: top;\n",
       "    }\n",
       "\n",
       "    .dataframe thead th {\n",
       "        text-align: right;\n",
       "    }\n",
       "</style>\n",
       "<table border=\"1\" class=\"dataframe\">\n",
       "  <thead>\n",
       "    <tr style=\"text-align: right;\">\n",
       "      <th></th>\n",
       "      <th>Capitalisation</th>\n",
       "    </tr>\n",
       "  </thead>\n",
       "  <tbody>\n",
       "    <tr>\n",
       "      <th>0</th>\n",
       "      <td>1.018259</td>\n",
       "    </tr>\n",
       "    <tr>\n",
       "      <th>1</th>\n",
       "      <td>1.031468</td>\n",
       "    </tr>\n",
       "    <tr>\n",
       "      <th>2</th>\n",
       "      <td>1.035572</td>\n",
       "    </tr>\n",
       "  </tbody>\n",
       "</table>\n",
       "</div>"
      ],
      "text/plain": [
       "   Capitalisation\n",
       "0        1.018259\n",
       "1        1.031468\n",
       "2        1.035572"
      ]
     },
     "execution_count": 19,
     "metadata": {},
     "output_type": "execute_result"
    }
   ],
   "source": [
    "curves.RetrieveRates(3, desired_mat, \"Capitalisation\")"
   ]
  },
  {
   "cell_type": "code",
   "execution_count": 20,
   "id": "5b0a6993",
   "metadata": {},
   "outputs": [
    {
     "data": {
      "image/png": "[encoded data removed]",
      "text/plain": [
       "<Figure size 432x216 with 1 Axes>"
      ]
     },
     "metadata": {
      "needs_background": "light"
     },
     "output_type": "display_data"
    }
   ],
   "source": [
    "fig, ax1 = plt.subplots(1, 1)\n",
    "ax1.scatter(desired_mat, curves.RetrieveRates(3, desired_mat, \"Capitalisation\")*100, label=\"Capitalisation factor\", marker=\"x\")\n",
    "ax1.set_ylabel(\"Capitalisation factor\")\n",
    "ax1.set_title('Selected capitalisation curve')\n",
    "ax1.set_xlabel(\"time\")\n",
    "ax1.legend()\n",
    "ax1.yaxis.set_major_formatter(mtick.PercentFormatter())\n",
    "fig.set_figwidth(6)\n",
    "fig.set_figheight(3)\n",
    "plt.show()"
   ]
  },
  {
   "cell_type": "markdown",
   "id": "9354da8c",
   "metadata": {},
   "source": [
    "### Discount factor calculation\n",
    "\n",
    "The discount factors can be calculated from the yield:\n",
    "\n",
    "$$\n",
    "d_i(t) = \\big(1+ y_i(t)\\big)^{-t} \n",
    "$$"
   ]
  },
  {
   "cell_type": "markdown",
   "id": "3e89dcab",
   "metadata": {},
   "source": [
    "Where:\n",
    " - $t$ is time increment from the modelling period (Ex. 1.5 is 1 year and 6 months after the modelling period\n",
    " - $y_i(t)$ is the annualized yield for maturity t after the modelling period $i$\n",
    " - $c_i(t)$ is the capitalisation factor for 1 unit, until $t$ years after the modelling period $i$\n",
    "\n",
    " - $d_i(t)$ is the discount factor for a cash flow of value 1, occurring $t$ years after the modelling period $i$, discounted to the modelling period $i$\n"
   ]
  },
  {
   "cell_type": "code",
   "execution_count": 21,
   "id": "7478eb1d",
   "metadata": {},
   "outputs": [
    {
     "data": {
      "text/html": [
       "<div>\n",
       "<style scoped>\n",
       "    .dataframe tbody tr th:only-of-type {\n",
       "        vertical-align: middle;\n",
       "    }\n",
       "\n",
       "    .dataframe tbody tr th {\n",
       "        vertical-align: top;\n",
       "    }\n",
       "\n",
       "    .dataframe thead th {\n",
       "        text-align: right;\n",
       "    }\n",
       "</style>\n",
       "<table border=\"1\" class=\"dataframe\">\n",
       "  <thead>\n",
       "    <tr style=\"text-align: right;\">\n",
       "      <th></th>\n",
       "      <th>Discount</th>\n",
       "    </tr>\n",
       "  </thead>\n",
       "  <tbody>\n",
       "    <tr>\n",
       "      <th>0</th>\n",
       "      <td>0.982068</td>\n",
       "    </tr>\n",
       "    <tr>\n",
       "      <th>1</th>\n",
       "      <td>0.969492</td>\n",
       "    </tr>\n",
       "    <tr>\n",
       "      <th>2</th>\n",
       "      <td>0.965650</td>\n",
       "    </tr>\n",
       "  </tbody>\n",
       "</table>\n",
       "</div>"
      ],
      "text/plain": [
       "   Discount\n",
       "0  0.982068\n",
       "1  0.969492\n",
       "2  0.965650"
      ]
     },
     "execution_count": 21,
     "metadata": {},
     "output_type": "execute_result"
    }
   ],
   "source": [
    "curves.RetrieveRates(3, desired_mat, \"Discount\")"
   ]
  },
  {
   "cell_type": "code",
   "execution_count": 22,
   "id": "de82dbb8",
   "metadata": {
    "scrolled": true
   },
   "outputs": [
    {
     "data": {
      "image/png": "[encoded data removed]",
      "text/plain": [
       "<Figure size 432x216 with 1 Axes>"
      ]
     },
     "metadata": {
      "needs_background": "light"
     },
     "output_type": "display_data"
    }
   ],
   "source": [
    "fig, ax1 = plt.subplots(1, 1)\n",
    "ax1.scatter(desired_mat, curves.RetrieveRates(3, desired_mat, \"Discount\")*100, label=\"Discount factor\", marker=\"x\")\n",
    "ax1.set_ylabel(\"Discount factor\")\n",
    "ax1.set_title('Selected discount curve')\n",
    "ax1.set_xlabel(\"time\")\n",
    "ax1.legend()\n",
    "ax1.yaxis.set_major_formatter(mtick.PercentFormatter())\n",
    "fig.set_figwidth(6)\n",
    "fig.set_figheight(3)\n",
    "plt.show()"
   ]
  }
 ],
 "metadata": {
  "kernelspec": {
   "display_name": "Python 3 (ipykernel)",
   "language": "python",
   "name": "python3"
  },
  "language_info": {
   "codemirror_mode": {
    "name": "ipython",
    "version": 3
   },
   "file_extension": ".py",
   "mimetype": "text/x-python",
   "name": "python",
   "nbconvert_exporter": "python",
   "pygments_lexer": "ipython3",
   "version": "3.9.7"
  }
 },
 "nbformat": 4,
 "nbformat_minor": 5
}
