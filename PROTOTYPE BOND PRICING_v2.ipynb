{
 "cells": [
  {
   "cell_type": "code",
   "execution_count": 1,
   "id": "e29a2cf6",
   "metadata": {},
   "outputs": [],
   "source": [
    "import os\n",
    "import datetime as dt\n",
    "import numpy as np\n",
    "import pandas as pd"
   ]
  },
  {
   "cell_type": "code",
   "execution_count": 2,
   "id": "2e0acb43",
   "metadata": {},
   "outputs": [],
   "source": [
    "from CurvesClass import Curves\n",
    "from ImportData import import_SWEiopa, get_corporate_bonds\n",
    "from BondClasses import *\n",
    "from ConfigurationClass import Configuration\n",
    "from ImportData import get_configuration, get_settings\n",
    "from MainLoop import create_cashflow_dataframe"
   ]
  },
  {
   "cell_type": "markdown",
   "id": "1294f88b",
   "metadata": {},
   "source": [
    "## Input files\n",
    "\n",
    "There are multiple input files needed to calibrate the fixed income portfolio. They are located in the \"Input\" folder."
   ]
  },
  {
   "cell_type": "markdown",
   "id": "77e4fea4",
   "metadata": {},
   "source": [
    "### Parameters.csv\n",
    "\n",
    "Parameters file holds information about the type of run and the modelling date.\n",
    "\n",
    " - EIOPA_param_file ...the relative location of the EIOPA parameter file that will be used as the RFR Ex. \"Input/Param_no_VA.csv\"\n",
    " - EIOPA_curves_file ... the relative location of the EIOPA yield curve that will be used as the RFR Ex. \"Input/Curves_no_VA.csv\"\n",
    " - country ... the name of the country that will be used as the base for this run Ex. \"Slovenia\"\n",
    " - n_proj_years ... length of a run in years starting from the Modelling date Ex. 50\n",
    " - Precision ... precision parameter specifying the acceptable tollerance between the calibrated bond price and the market value Ex. 0.00000001\n",
    " - Tau ... the acceptable size of the gap between the extrapolated yield rate and the ulitmate forward rate Ex. 0.0001\n",
    " - compounding ... the way that the interest rates are compounded in the run Ex. -1\n",
    " - Modelling_Date ... the starting date of the run specified as a date string Ex.\"29/04/2023\"\n"
   ]
  },
  {
   "cell_type": "markdown",
   "id": "e54e482e",
   "metadata": {},
   "source": [
    "### EIOPA RFR files\n",
    "\n",
    "There are two types of files derived from the monthly EIOPA RFR submision that are used in this model. The \"Curves_XX.csv\" containing the yearly yield curves for all countries in scope and the \"Param_XX.csv\" with the paameters used to derive the curves. These files are used to derive the risk free term structure at the modelling date and to efficiently project the evolution of the term structure."
   ]
  },
  {
   "cell_type": "markdown",
   "id": "aea3d2a6",
   "metadata": {},
   "source": [
    "### Portfolio description\n",
    "\n",
    "The modelled portfolio is split by asset classes. The fixed income portfolio is located in the file \"Bond_Portfolio.csv\". Each security needs the following fields:\n",
    "\n",
    " -  Asset ID ... unique id such as an ISIN, SEDOL or CUSIP code Ex. IT1234567891\n",
    " -  Asset_Type ... asset type string Ex. \"Corporate_Bond\"\n",
    " -  NACE ... NACE asset classification code (nomenclature statistique des activités économiques dans la Communauté européenne) Ex. A1.4.5\n",
    " -  Issue_Date ... the string date specifying the issue date of the bond Ex. 3/12/2021\n",
    " -  Maturity_Date ... the string date specifying the maturity date of the bond Ex. 3/12/2021\n",
    " -  Notional_amount ... the notional amount of the bond Ex. 100\n",
    " -  Coupon_Rate ... percentage of the notional amount paid in dividends every period (specified by Frequency) Ex. 0.0014\n",
    " -  Frequency ... number of times per a year that dividends are paid Ex. 1 (once per a year)\n",
    " -  Recovery_Rate ... percentage of the notional amound that can be recovered in case of a default Ex. 0.80\n",
    " -  Default_Probability ... percentage probability of default per year Ex. 0.012\n",
    " -  Units ... number of each bond held in the portfolio Ex. 230\n",
    " -  Market_Price ... market price of the bond at the modelling date Ex. 96"
   ]
  },
  {
   "cell_type": "markdown",
   "id": "7fb266af",
   "metadata": {},
   "source": [
    "### Sector spread\n",
    "The list of NACE sector codes and the sector specific spread over the risk free rate\n",
    " - NACE ... NACE code of the issuer Ex. \"A1.1\" \n",
    " - NACE code text  ... description of the NACE code for this issuer Ex. \"Growing of non-perennial crops\" \n",
    " - sSpread  ...  NACE sector specific spread over the risk free rate Ex. 0.01\n"
   ]
  },
  {
   "cell_type": "markdown",
   "id": "bc1f9c50",
   "metadata": {},
   "source": [
    "Set up the base folder"
   ]
  },
  {
   "cell_type": "code",
   "execution_count": 3,
   "id": "3e6008fd",
   "metadata": {},
   "outputs": [],
   "source": [
    "base_folder = os.getcwd()  # Get current working directory"
   ]
  },
  {
   "cell_type": "markdown",
   "id": "7eff419f",
   "metadata": {},
   "source": [
    "Most of the run settings are saved in the configuration file:"
   ]
  },
  {
   "cell_type": "code",
   "execution_count": 4,
   "id": "0de4b3d4",
   "metadata": {},
   "outputs": [],
   "source": [
    "conf: Configuration\n",
    "conf = get_configuration(os.path.join(base_folder, \"ALM.ini\"), os)"
   ]
  },
  {
   "cell_type": "markdown",
   "id": "abdbce0f",
   "metadata": {},
   "source": [
    "These lines of code just extract the absolute location of different files:"
   ]
  },
  {
   "cell_type": "code",
   "execution_count": 5,
   "id": "a4fe2672",
   "metadata": {},
   "outputs": [],
   "source": [
    "parameters_file = conf.input_parameters\n",
    "cash_portfolio_file = conf.input_cash_portfolio\n",
    "bond_portfolio_file = conf.input_bond_portfolio"
   ]
  },
  {
   "cell_type": "code",
   "execution_count": 6,
   "id": "254b915a",
   "metadata": {},
   "outputs": [],
   "source": [
    "paramfile = pd.read_csv(\"Input/Parameters.csv\")\n",
    "paramfile.index = paramfile[\"Parameter\"]\n"
   ]
  },
  {
   "cell_type": "markdown",
   "id": "b3051082",
   "metadata": {},
   "source": [
    "The parameter file is:"
   ]
  },
  {
   "cell_type": "code",
   "execution_count": 7,
   "id": "05896586",
   "metadata": {},
   "outputs": [
    {
     "data": {
      "text/html": [
       "<div>\n",
       "<style scoped>\n",
       "    .dataframe tbody tr th:only-of-type {\n",
       "        vertical-align: middle;\n",
       "    }\n",
       "\n",
       "    .dataframe tbody tr th {\n",
       "        vertical-align: top;\n",
       "    }\n",
       "\n",
       "    .dataframe thead th {\n",
       "        text-align: right;\n",
       "    }\n",
       "</style>\n",
       "<table border=\"1\" class=\"dataframe\">\n",
       "  <thead>\n",
       "    <tr style=\"text-align: right;\">\n",
       "      <th></th>\n",
       "      <th>Parameter</th>\n",
       "      <th>Value</th>\n",
       "    </tr>\n",
       "    <tr>\n",
       "      <th>Parameter</th>\n",
       "      <th></th>\n",
       "      <th></th>\n",
       "    </tr>\n",
       "  </thead>\n",
       "  <tbody>\n",
       "    <tr>\n",
       "      <th>EIOPA_param_file</th>\n",
       "      <td>EIOPA_param_file</td>\n",
       "      <td>Input/Param_no_VA.csv</td>\n",
       "    </tr>\n",
       "    <tr>\n",
       "      <th>EIOPA_curves_file</th>\n",
       "      <td>EIOPA_curves_file</td>\n",
       "      <td>Input/Curves_no_VA.csv</td>\n",
       "    </tr>\n",
       "    <tr>\n",
       "      <th>country</th>\n",
       "      <td>country</td>\n",
       "      <td>Slovenia</td>\n",
       "    </tr>\n",
       "    <tr>\n",
       "      <th>run_type</th>\n",
       "      <td>run_type</td>\n",
       "      <td>Risk Neutral</td>\n",
       "    </tr>\n",
       "    <tr>\n",
       "      <th>n_proj_years</th>\n",
       "      <td>n_proj_years</td>\n",
       "      <td>50</td>\n",
       "    </tr>\n",
       "    <tr>\n",
       "      <th>Precision</th>\n",
       "      <td>Precision</td>\n",
       "      <td>1E-10</td>\n",
       "    </tr>\n",
       "    <tr>\n",
       "      <th>Tau</th>\n",
       "      <td>Tau</td>\n",
       "      <td>0.0001</td>\n",
       "    </tr>\n",
       "    <tr>\n",
       "      <th>compounding</th>\n",
       "      <td>compounding</td>\n",
       "      <td>-1</td>\n",
       "    </tr>\n",
       "    <tr>\n",
       "      <th>Modelling_Date</th>\n",
       "      <td>Modelling_Date</td>\n",
       "      <td>29/04/2023</td>\n",
       "    </tr>\n",
       "  </tbody>\n",
       "</table>\n",
       "</div>"
      ],
      "text/plain": [
       "                           Parameter                   Value\n",
       "Parameter                                                   \n",
       "EIOPA_param_file    EIOPA_param_file   Input/Param_no_VA.csv\n",
       "EIOPA_curves_file  EIOPA_curves_file  Input/Curves_no_VA.csv\n",
       "country                      country                Slovenia\n",
       "run_type                    run_type            Risk Neutral\n",
       "n_proj_years            n_proj_years                      50\n",
       "Precision                  Precision                   1E-10\n",
       "Tau                              Tau                  0.0001\n",
       "compounding              compounding                      -1\n",
       "Modelling_Date        Modelling_Date              29/04/2023"
      ]
     },
     "metadata": {},
     "output_type": "display_data"
    }
   ],
   "source": [
    "display(paramfile)"
   ]
  },
  {
   "cell_type": "code",
   "execution_count": 8,
   "id": "324f5b35",
   "metadata": {},
   "outputs": [],
   "source": [
    "del paramfile[\"Parameter\"]"
   ]
  },
  {
   "cell_type": "markdown",
   "id": "1a0e0606",
   "metadata": {},
   "source": [
    "The settings object holds data about file locations, information about the run settings and model parameters such as modelling date."
   ]
  },
  {
   "cell_type": "code",
   "execution_count": 9,
   "id": "389e3d90",
   "metadata": {},
   "outputs": [],
   "source": [
    "settings = get_settings(parameters_file)"
   ]
  },
  {
   "cell_type": "markdown",
   "id": "ae86c785",
   "metadata": {},
   "source": [
    "The CorpBond object contains information about each equity position. This includes:\n",
    "* asset_id\n",
    "* nace\n",
    "* issuer\n",
    "* issue_date\n",
    "* maturity_date\n",
    "* coupon_rate\n",
    "* bond specific spread\n",
    "* notional_amount\n",
    "* frequency\n",
    "* recovery_rate\n",
    "* default_probability\n",
    "* units\n",
    "* market_price\n",
    "  "
   ]
  },
  {
   "cell_type": "code",
   "execution_count": 10,
   "id": "f43d9b12",
   "metadata": {},
   "outputs": [],
   "source": [
    "bond_input_generator = get_corporate_bonds(bond_portfolio_file)\n",
    "bond_input = {corp_bond.asset_id: corp_bond for corp_bond in bond_input_generator}"
   ]
  },
  {
   "cell_type": "code",
   "execution_count": 11,
   "id": "f92b972b",
   "metadata": {},
   "outputs": [
    {
     "data": {
      "text/plain": [
       "{1234: CorpBond(asset_id=1234, nace='A1.4.5', issuer=None, issue_date=datetime.date(2021, 12, 3), maturity_date=datetime.date(2026, 12, 12), coupon_rate=0.03, notional_amount=100.0, zspread=0.01, frequency=1, recovery_rate=0.4, default_probability=0.03, units=1.0, market_price=94.0),\n",
       " 2889: CorpBond(asset_id=2889, nace='B5.2.0', issuer=None, issue_date=datetime.date(2021, 12, 3), maturity_date=datetime.date(2028, 12, 12), coupon_rate=0.05, notional_amount=100.0, zspread=0.01, frequency=2, recovery_rate=0.4, default_probability=0.03, units=2.0, market_price=92.0),\n",
       " 31: CorpBond(asset_id=31, nace='B8.9.3', issuer=None, issue_date=datetime.date(2019, 12, 3), maturity_date=datetime.date(2025, 12, 3), coupon_rate=0.04, notional_amount=100.0, zspread=0.01, frequency=12, recovery_rate=0.4, default_probability=0.03, units=3.0, market_price=96.0)}"
      ]
     },
     "metadata": {},
     "output_type": "display_data"
    }
   ],
   "source": [
    "display(bond_input)"
   ]
  },
  {
   "cell_type": "markdown",
   "id": "d23aa529",
   "metadata": {},
   "source": [
    "CorpBondPortfolio object contains all CorpBond objects in a dictionary:"
   ]
  },
  {
   "cell_type": "code",
   "execution_count": 12,
   "id": "5a93ea15",
   "metadata": {},
   "outputs": [
    {
     "name": "stderr",
     "output_type": "stream",
     "text": [
      "--- Logging error ---\n",
      "Traceback (most recent call last):\n",
      "  File \"C:\\ProgramData\\Anaconda3\\lib\\logging\\__init__.py\", line 434, in format\n",
      "    return self._format(record)\n",
      "  File \"C:\\ProgramData\\Anaconda3\\lib\\logging\\__init__.py\", line 430, in _format\n",
      "    return self._fmt % record.__dict__\n",
      "KeyError: 'mesage'\n",
      "\n",
      "During handling of the above exception, another exception occurred:\n",
      "\n",
      "Traceback (most recent call last):\n",
      "  File \"C:\\ProgramData\\Anaconda3\\lib\\logging\\__init__.py\", line 1083, in emit\n",
      "    msg = self.format(record)\n",
      "  File \"C:\\ProgramData\\Anaconda3\\lib\\logging\\__init__.py\", line 927, in format\n",
      "    return fmt.format(record)\n",
      "  File \"C:\\ProgramData\\Anaconda3\\lib\\logging\\__init__.py\", line 666, in format\n",
      "    s = self.formatMessage(record)\n",
      "  File \"C:\\ProgramData\\Anaconda3\\lib\\logging\\__init__.py\", line 635, in formatMessage\n",
      "    return self._style.format(record)\n",
      "  File \"C:\\ProgramData\\Anaconda3\\lib\\logging\\__init__.py\", line 436, in format\n",
      "    raise ValueError('Formatting field not found in record: %s' % e)\n",
      "ValueError: Formatting field not found in record: 'mesage'\n",
      "Call stack:\n",
      "  File \"C:\\ProgramData\\Anaconda3\\lib\\runpy.py\", line 197, in _run_module_as_main\n",
      "    return _run_code(code, main_globals, None,\n",
      "  File \"C:\\ProgramData\\Anaconda3\\lib\\runpy.py\", line 87, in _run_code\n",
      "    exec(code, run_globals)\n",
      "  File \"C:\\ProgramData\\Anaconda3\\lib\\site-packages\\ipykernel_launcher.py\", line 16, in <module>\n",
      "    app.launch_new_instance()\n",
      "  File \"C:\\ProgramData\\Anaconda3\\lib\\site-packages\\traitlets\\config\\application.py\", line 846, in launch_instance\n",
      "    app.start()\n",
      "  File \"C:\\ProgramData\\Anaconda3\\lib\\site-packages\\ipykernel\\kernelapp.py\", line 677, in start\n",
      "    self.io_loop.start()\n",
      "  File \"C:\\ProgramData\\Anaconda3\\lib\\site-packages\\tornado\\platform\\asyncio.py\", line 199, in start\n",
      "    self.asyncio_loop.run_forever()\n",
      "  File \"C:\\ProgramData\\Anaconda3\\lib\\asyncio\\base_events.py\", line 596, in run_forever\n",
      "    self._run_once()\n",
      "  File \"C:\\ProgramData\\Anaconda3\\lib\\asyncio\\base_events.py\", line 1890, in _run_once\n",
      "    handle._run()\n",
      "  File \"C:\\ProgramData\\Anaconda3\\lib\\asyncio\\events.py\", line 80, in _run\n",
      "    self._context.run(self._callback, *self._args)\n",
      "  File \"C:\\ProgramData\\Anaconda3\\lib\\site-packages\\ipykernel\\kernelbase.py\", line 457, in dispatch_queue\n",
      "    await self.process_one()\n",
      "  File \"C:\\ProgramData\\Anaconda3\\lib\\site-packages\\ipykernel\\kernelbase.py\", line 446, in process_one\n",
      "    await dispatch(*args)\n",
      "  File \"C:\\ProgramData\\Anaconda3\\lib\\site-packages\\ipykernel\\kernelbase.py\", line 353, in dispatch_shell\n",
      "    await result\n",
      "  File \"C:\\ProgramData\\Anaconda3\\lib\\site-packages\\ipykernel\\kernelbase.py\", line 648, in execute_request\n",
      "    reply_content = await reply_content\n",
      "  File \"C:\\ProgramData\\Anaconda3\\lib\\site-packages\\ipykernel\\ipkernel.py\", line 353, in do_execute\n",
      "    res = shell.run_cell(code, store_history=store_history, silent=silent)\n",
      "  File \"C:\\ProgramData\\Anaconda3\\lib\\site-packages\\ipykernel\\zmqshell.py\", line 533, in run_cell\n",
      "    return super(ZMQInteractiveShell, self).run_cell(*args, **kwargs)\n",
      "  File \"C:\\ProgramData\\Anaconda3\\lib\\site-packages\\IPython\\core\\interactiveshell.py\", line 2901, in run_cell\n",
      "    result = self._run_cell(\n",
      "  File \"C:\\ProgramData\\Anaconda3\\lib\\site-packages\\IPython\\core\\interactiveshell.py\", line 2947, in _run_cell\n",
      "    return runner(coro)\n",
      "  File \"C:\\ProgramData\\Anaconda3\\lib\\site-packages\\IPython\\core\\async_helpers.py\", line 68, in _pseudo_sync_runner\n",
      "    coro.send(None)\n",
      "  File \"C:\\ProgramData\\Anaconda3\\lib\\site-packages\\IPython\\core\\interactiveshell.py\", line 3172, in run_cell_async\n",
      "    has_raised = await self.run_ast_nodes(code_ast.body, cell_name,\n",
      "  File \"C:\\ProgramData\\Anaconda3\\lib\\site-packages\\IPython\\core\\interactiveshell.py\", line 3364, in run_ast_nodes\n",
      "    if (await self.run_code(code, result,  async_=asy)):\n",
      "  File \"C:\\ProgramData\\Anaconda3\\lib\\site-packages\\IPython\\core\\interactiveshell.py\", line 3444, in run_code\n",
      "    exec(code_obj, self.user_global_ns, self.user_ns)\n",
      "  File \"C:\\Users\\grego\\AppData\\Local\\Temp/ipykernel_11916/2653449668.py\", line 1, in <module>\n",
      "    bond_portfolio = CorpBondPortfolio(bond_input)\n",
      "  File \"C:\\Users\\grego\\Desktop\\Asset_Liability_Model_POC_python-main\\BondClasses.py\", line 209, in __init__\n",
      "    logger.info(\"CorpBondPortfolio initializer called\")\n",
      "Message: 'CorpBondPortfolio initializer called'\n",
      "Arguments: ()\n"
     ]
    }
   ],
   "source": [
    "bond_portfolio = CorpBondPortfolio(bond_input)"
   ]
  },
  {
   "cell_type": "code",
   "execution_count": 13,
   "id": "eff8c400",
   "metadata": {},
   "outputs": [
    {
     "data": {
      "text/plain": [
       "{1234: CorpBond(asset_id=1234, nace='A1.4.5', issuer=None, issue_date=datetime.date(2021, 12, 3), maturity_date=datetime.date(2026, 12, 12), coupon_rate=0.03, notional_amount=100.0, zspread=0.01, frequency=1, recovery_rate=0.4, default_probability=0.03, units=1.0, market_price=94.0),\n",
       " 2889: CorpBond(asset_id=2889, nace='B5.2.0', issuer=None, issue_date=datetime.date(2021, 12, 3), maturity_date=datetime.date(2028, 12, 12), coupon_rate=0.05, notional_amount=100.0, zspread=0.01, frequency=2, recovery_rate=0.4, default_probability=0.03, units=2.0, market_price=92.0),\n",
       " 31: CorpBond(asset_id=31, nace='B8.9.3', issuer=None, issue_date=datetime.date(2019, 12, 3), maturity_date=datetime.date(2025, 12, 3), coupon_rate=0.04, notional_amount=100.0, zspread=0.01, frequency=12, recovery_rate=0.4, default_probability=0.03, units=3.0, market_price=96.0)}"
      ]
     },
     "execution_count": 13,
     "metadata": {},
     "output_type": "execute_result"
    }
   ],
   "source": [
    "bond_portfolio.corporate_bonds"
   ]
  },
  {
   "cell_type": "markdown",
   "id": "4a99d246",
   "metadata": {},
   "source": [
    "## Importing the information about the economic environment\n",
    "\n",
    "import_SWEiopa() reads the necessary data about the current yield curve. One of these parameters (the ufr or ultimate forward rate) is necessary in the equity example as ufr is used in the Gordon growth formula to calculate the terminal value of the equity position. Inside OSEM, the parameters related to the yield curve are saved in the Curves object. "
   ]
  },
  {
   "cell_type": "code",
   "execution_count": 14,
   "id": "cad2aa84",
   "metadata": {},
   "outputs": [],
   "source": [
    "[maturities_country, curve_country, extra_param, Qb] = import_SWEiopa(settings.EIOPA_param_file,\n",
    "                                                                          settings.EIOPA_curves_file, settings.country)\n",
    "# Curves object with information about term structure\n",
    "curves = Curves(extra_param[\"UFR\"] / 100, settings.precision, settings.tau, settings.modelling_date,\n",
    "                settings.country)"
   ]
  },
  {
   "cell_type": "code",
   "execution_count": 15,
   "id": "b0947b28",
   "metadata": {},
   "outputs": [],
   "source": [
    "ufr = extra_param[\"UFR\"]/100 # ultimate forward rate\n",
    "precision = float(settings.precision) # Numeric precision of the optimisation\n",
    "# Targeted distance between the extrapolated curve and the ufr at the convergence point\n",
    "tau = float(settings.tau) # 1 basis point"
   ]
  },
  {
   "cell_type": "code",
   "execution_count": 16,
   "id": "7fddfac3",
   "metadata": {},
   "outputs": [],
   "source": [
    "curves.SetObservedTermStructure(maturity_vec=curve_country.index.tolist(), yield_vec=curve_country.values)\n",
    "curves.CalcFwdRates()\n",
    "curves.ProjectForwardRate(settings.n_proj_years)\n",
    "curves.CalibrateProjected(settings.n_proj_years, 0.05, 0.5, 1000)"
   ]
  },
  {
   "cell_type": "code",
   "execution_count": 17,
   "id": "dbce8cad",
   "metadata": {},
   "outputs": [],
   "source": [
    "spreadfile = pd.read_csv(\"Input/Sector_Spread.csv\")\n",
    "spreadfile.index = spreadfile[\"NACE\"]\n",
    "del spreadfile[\"NACE\"]"
   ]
  },
  {
   "cell_type": "code",
   "execution_count": 18,
   "id": "8b5cb7a7",
   "metadata": {},
   "outputs": [],
   "source": [
    "#bondfile = pd.read_csv(\"Input/Bond_Portfolio.csv\")\n",
    "#bondfile.index = bondfile[\"Asset ID\"]\n",
    "#del bondfile[\"Asset ID\"]"
   ]
  },
  {
   "cell_type": "markdown",
   "id": "3775ba12",
   "metadata": {},
   "source": [
    "Save the calibration parameters of the selected curve into the Curves instance:"
   ]
  },
  {
   "cell_type": "markdown",
   "id": "4fa2d76f",
   "metadata": {},
   "source": [
    "# PRICING OF A COUPON BOND"
   ]
  },
  {
   "cell_type": "code",
   "execution_count": 19,
   "id": "aa4c924c",
   "metadata": {},
   "outputs": [
    {
     "data": {
      "text/plain": [
       "<BondClasses.CorpBondPortfolio at 0x2360c5516d0>"
      ]
     },
     "metadata": {},
     "output_type": "display_data"
    }
   ],
   "source": [
    "display(bond_portfolio)"
   ]
  },
  {
   "cell_type": "markdown",
   "id": "0db6bb42",
   "metadata": {},
   "source": []
  },
  {
   "cell_type": "code",
   "execution_count": 20,
   "id": "bae77bd7",
   "metadata": {},
   "outputs": [],
   "source": [
    "dividend_flows = bond_portfolio.create_coupon_flows(settings.modelling_date, settings.end_date)\n"
   ]
  },
  {
   "cell_type": "code",
   "execution_count": 21,
   "id": "bd86897d",
   "metadata": {},
   "outputs": [],
   "source": [
    "terminal_flows = bond_portfolio.create_maturity_flows(terminal_date=settings.end_date)"
   ]
  },
  {
   "cell_type": "code",
   "execution_count": 22,
   "id": "718e8ca8",
   "metadata": {},
   "outputs": [
    {
     "data": {
      "text/plain": [
       "{1234: {datetime.date(2026, 12, 12): 100.0},\n",
       " 2889: {datetime.date(2028, 12, 12): 100.0},\n",
       " 31: {datetime.date(2025, 12, 3): 100.0}}"
      ]
     },
     "execution_count": 22,
     "metadata": {},
     "output_type": "execute_result"
    }
   ],
   "source": [
    "terminal_flows"
   ]
  },
  {
   "cell_type": "markdown",
   "id": "1efeaffe",
   "metadata": {},
   "source": [
    "All cash flows can be represented in a matrix with all possible cash flow dates as columns and all equities as rows. The non-zero entries then represent the value of the cash flow at that date. The first step is to calculate the unique dates for the entire portfolio of equities. This is done by the unique_dates_profiles() function.\n",
    "\n",
    "The same logic can be applied to terminal dates. \n",
    "\n",
    "Both can then conveniently be represented as DataFrames.\n",
    "\n",
    "Note that a vector of growth rates is also provided as output. This makes it simpler to increase the market value of the portfolio as OSEM moves from one modelling period to the next one."
   ]
  },
  {
   "cell_type": "code",
   "execution_count": 23,
   "id": "5c7c31be",
   "metadata": {},
   "outputs": [],
   "source": [
    "unique_list = bond_portfolio.unique_dates_profile(dividend_flows)\n"
   ]
  },
  {
   "cell_type": "code",
   "execution_count": 24,
   "id": "0ff89040",
   "metadata": {},
   "outputs": [],
   "source": [
    "unique_terminal_list = bond_portfolio.unique_dates_profile(terminal_flows)"
   ]
  },
  {
   "cell_type": "markdown",
   "id": "54eab2d0",
   "metadata": {},
   "source": []
  },
  {
   "cell_type": "code",
   "execution_count": 25,
   "id": "e1e06fdc",
   "metadata": {},
   "outputs": [],
   "source": [
    "[market_price_df, zspread_df, units_df] = bond_portfolio.init_bond_portfolio_to_dataframe(settings.modelling_date)"
   ]
  },
  {
   "cell_type": "markdown",
   "id": "787e2fe9",
   "metadata": {},
   "source": []
  },
  {
   "cell_type": "code",
   "execution_count": 26,
   "id": "f5c66705",
   "metadata": {},
   "outputs": [],
   "source": [
    "cash_flows = create_cashflow_dataframe(dividend_flows, unique_list)\n",
    "# Dataframe with terminal cash flows\n",
    "notional_cash_flows = create_cashflow_dataframe(terminal_flows, unique_terminal_list)"
   ]
  },
  {
   "cell_type": "markdown",
   "id": "7ca3312a",
   "metadata": {},
   "source": []
  },
  {
   "cell_type": "code",
   "execution_count": 27,
   "id": "f402f6d6",
   "metadata": {},
   "outputs": [
    {
     "data": {
      "text/html": [
       "<div>\n",
       "<style scoped>\n",
       "    .dataframe tbody tr th:only-of-type {\n",
       "        vertical-align: middle;\n",
       "    }\n",
       "\n",
       "    .dataframe tbody tr th {\n",
       "        vertical-align: top;\n",
       "    }\n",
       "\n",
       "    .dataframe thead th {\n",
       "        text-align: right;\n",
       "    }\n",
       "</style>\n",
       "<table border=\"1\" class=\"dataframe\">\n",
       "  <thead>\n",
       "    <tr style=\"text-align: right;\">\n",
       "      <th></th>\n",
       "      <th>2023-05-03</th>\n",
       "      <th>2023-06-03</th>\n",
       "      <th>2023-07-03</th>\n",
       "      <th>2023-08-03</th>\n",
       "      <th>2023-09-03</th>\n",
       "      <th>2023-10-03</th>\n",
       "      <th>2023-11-03</th>\n",
       "      <th>2023-12-03</th>\n",
       "      <th>2024-01-03</th>\n",
       "      <th>2024-02-03</th>\n",
       "      <th>...</th>\n",
       "      <th>2025-09-03</th>\n",
       "      <th>2025-10-03</th>\n",
       "      <th>2025-11-03</th>\n",
       "      <th>2025-12-03</th>\n",
       "      <th>2026-06-03</th>\n",
       "      <th>2026-12-03</th>\n",
       "      <th>2027-06-03</th>\n",
       "      <th>2027-12-03</th>\n",
       "      <th>2028-06-03</th>\n",
       "      <th>2028-12-03</th>\n",
       "    </tr>\n",
       "  </thead>\n",
       "  <tbody>\n",
       "    <tr>\n",
       "      <th>1234</th>\n",
       "      <td>0.0</td>\n",
       "      <td>0.0</td>\n",
       "      <td>0.0</td>\n",
       "      <td>0.0</td>\n",
       "      <td>0.0</td>\n",
       "      <td>0.0</td>\n",
       "      <td>0.0</td>\n",
       "      <td>3.0</td>\n",
       "      <td>0.0</td>\n",
       "      <td>0.0</td>\n",
       "      <td>...</td>\n",
       "      <td>0.0</td>\n",
       "      <td>0.0</td>\n",
       "      <td>0.0</td>\n",
       "      <td>3.0</td>\n",
       "      <td>0.0</td>\n",
       "      <td>3.0</td>\n",
       "      <td>0.0</td>\n",
       "      <td>0.0</td>\n",
       "      <td>0.0</td>\n",
       "      <td>0.0</td>\n",
       "    </tr>\n",
       "    <tr>\n",
       "      <th>2889</th>\n",
       "      <td>0.0</td>\n",
       "      <td>5.0</td>\n",
       "      <td>0.0</td>\n",
       "      <td>0.0</td>\n",
       "      <td>0.0</td>\n",
       "      <td>0.0</td>\n",
       "      <td>0.0</td>\n",
       "      <td>5.0</td>\n",
       "      <td>0.0</td>\n",
       "      <td>0.0</td>\n",
       "      <td>...</td>\n",
       "      <td>0.0</td>\n",
       "      <td>0.0</td>\n",
       "      <td>0.0</td>\n",
       "      <td>5.0</td>\n",
       "      <td>5.0</td>\n",
       "      <td>5.0</td>\n",
       "      <td>5.0</td>\n",
       "      <td>5.0</td>\n",
       "      <td>5.0</td>\n",
       "      <td>5.0</td>\n",
       "    </tr>\n",
       "    <tr>\n",
       "      <th>31</th>\n",
       "      <td>4.0</td>\n",
       "      <td>4.0</td>\n",
       "      <td>4.0</td>\n",
       "      <td>4.0</td>\n",
       "      <td>4.0</td>\n",
       "      <td>4.0</td>\n",
       "      <td>4.0</td>\n",
       "      <td>4.0</td>\n",
       "      <td>4.0</td>\n",
       "      <td>4.0</td>\n",
       "      <td>...</td>\n",
       "      <td>4.0</td>\n",
       "      <td>4.0</td>\n",
       "      <td>4.0</td>\n",
       "      <td>4.0</td>\n",
       "      <td>0.0</td>\n",
       "      <td>0.0</td>\n",
       "      <td>0.0</td>\n",
       "      <td>0.0</td>\n",
       "      <td>0.0</td>\n",
       "      <td>0.0</td>\n",
       "    </tr>\n",
       "  </tbody>\n",
       "</table>\n",
       "<p>3 rows × 38 columns</p>\n",
       "</div>"
      ],
      "text/plain": [
       "      2023-05-03  2023-06-03  2023-07-03  2023-08-03  2023-09-03  2023-10-03  \\\n",
       "1234         0.0         0.0         0.0         0.0         0.0         0.0   \n",
       "2889         0.0         5.0         0.0         0.0         0.0         0.0   \n",
       "31           4.0         4.0         4.0         4.0         4.0         4.0   \n",
       "\n",
       "      2023-11-03  2023-12-03  2024-01-03  2024-02-03  ...  2025-09-03  \\\n",
       "1234         0.0         3.0         0.0         0.0  ...         0.0   \n",
       "2889         0.0         5.0         0.0         0.0  ...         0.0   \n",
       "31           4.0         4.0         4.0         4.0  ...         4.0   \n",
       "\n",
       "      2025-10-03  2025-11-03  2025-12-03  2026-06-03  2026-12-03  2027-06-03  \\\n",
       "1234         0.0         0.0         3.0         0.0         3.0         0.0   \n",
       "2889         0.0         0.0         5.0         5.0         5.0         5.0   \n",
       "31           4.0         4.0         4.0         0.0         0.0         0.0   \n",
       "\n",
       "      2027-12-03  2028-06-03  2028-12-03  \n",
       "1234         0.0         0.0         0.0  \n",
       "2889         5.0         5.0         5.0  \n",
       "31           0.0         0.0         0.0  \n",
       "\n",
       "[3 rows x 38 columns]"
      ]
     },
     "metadata": {},
     "output_type": "display_data"
    }
   ],
   "source": [
    "display(cash_flows)"
   ]
  },
  {
   "cell_type": "markdown",
   "id": "15622214",
   "metadata": {},
   "source": []
  },
  {
   "cell_type": "code",
   "execution_count": 28,
   "id": "6648b5bd",
   "metadata": {},
   "outputs": [
    {
     "data": {
      "text/html": [
       "<div>\n",
       "<style scoped>\n",
       "    .dataframe tbody tr th:only-of-type {\n",
       "        vertical-align: middle;\n",
       "    }\n",
       "\n",
       "    .dataframe tbody tr th {\n",
       "        vertical-align: top;\n",
       "    }\n",
       "\n",
       "    .dataframe thead th {\n",
       "        text-align: right;\n",
       "    }\n",
       "</style>\n",
       "<table border=\"1\" class=\"dataframe\">\n",
       "  <thead>\n",
       "    <tr style=\"text-align: right;\">\n",
       "      <th></th>\n",
       "      <th>2025-12-03</th>\n",
       "      <th>2026-12-12</th>\n",
       "      <th>2028-12-12</th>\n",
       "    </tr>\n",
       "  </thead>\n",
       "  <tbody>\n",
       "    <tr>\n",
       "      <th>1234</th>\n",
       "      <td>0.0</td>\n",
       "      <td>100.0</td>\n",
       "      <td>0.0</td>\n",
       "    </tr>\n",
       "    <tr>\n",
       "      <th>2889</th>\n",
       "      <td>0.0</td>\n",
       "      <td>0.0</td>\n",
       "      <td>100.0</td>\n",
       "    </tr>\n",
       "    <tr>\n",
       "      <th>31</th>\n",
       "      <td>100.0</td>\n",
       "      <td>0.0</td>\n",
       "      <td>0.0</td>\n",
       "    </tr>\n",
       "  </tbody>\n",
       "</table>\n",
       "</div>"
      ],
      "text/plain": [
       "      2025-12-03  2026-12-12  2028-12-12\n",
       "1234         0.0       100.0         0.0\n",
       "2889         0.0         0.0       100.0\n",
       "31         100.0         0.0         0.0"
      ]
     },
     "metadata": {},
     "output_type": "display_data"
    }
   ],
   "source": [
    "display(notional_cash_flows)"
   ]
  },
  {
   "cell_type": "markdown",
   "id": "51ce58a6",
   "metadata": {},
   "source": []
  },
  {
   "cell_type": "code",
   "execution_count": 29,
   "id": "2180058e",
   "metadata": {},
   "outputs": [
    {
     "data": {
      "text/html": [
       "<div>\n",
       "<style scoped>\n",
       "    .dataframe tbody tr th:only-of-type {\n",
       "        vertical-align: middle;\n",
       "    }\n",
       "\n",
       "    .dataframe tbody tr th {\n",
       "        vertical-align: top;\n",
       "    }\n",
       "\n",
       "    .dataframe thead th {\n",
       "        text-align: right;\n",
       "    }\n",
       "</style>\n",
       "<table border=\"1\" class=\"dataframe\">\n",
       "  <thead>\n",
       "    <tr style=\"text-align: right;\">\n",
       "      <th></th>\n",
       "      <th>2023-04-29</th>\n",
       "    </tr>\n",
       "  </thead>\n",
       "  <tbody>\n",
       "    <tr>\n",
       "      <th>1234</th>\n",
       "      <td>0.01</td>\n",
       "    </tr>\n",
       "    <tr>\n",
       "      <th>2889</th>\n",
       "      <td>0.01</td>\n",
       "    </tr>\n",
       "    <tr>\n",
       "      <th>31</th>\n",
       "      <td>0.01</td>\n",
       "    </tr>\n",
       "  </tbody>\n",
       "</table>\n",
       "</div>"
      ],
      "text/plain": [
       "      2023-04-29\n",
       "1234        0.01\n",
       "2889        0.01\n",
       "31          0.01"
      ]
     },
     "metadata": {},
     "output_type": "display_data"
    }
   ],
   "source": [
    "display(zspread_df)"
   ]
  },
  {
   "cell_type": "markdown",
   "id": "e013f1fd",
   "metadata": {},
   "source": [
    "The example of obtaining discount factors for all cash flows of a corporate bond"
   ]
  },
  {
   "cell_type": "markdown",
   "id": "fe17e09c",
   "metadata": {},
   "source": [
    "#### Calculation of present value of each instrument\n",
    "\n",
    "The cashflows can be used to price the current market value of the bond, implied by the assumed economic parameters.\n",
    "\n",
    "Note that this pricing is done using the risk free rate as the discounting factor. In practice, the price of risk for an equity share is positive.\n",
    "\n",
    "This example will show pricing at the modelling date."
   ]
  },
  {
   "cell_type": "code",
   "execution_count": 36,
   "id": "2a8aa3da",
   "metadata": {},
   "outputs": [],
   "source": [
    "proj_period = 0"
   ]
  },
  {
   "cell_type": "code",
   "execution_count": 37,
   "id": "2b63eab0",
   "metadata": {},
   "outputs": [
    {
     "data": {
      "text/plain": [
       "array([96.37579889])"
      ]
     },
     "execution_count": 37,
     "metadata": {},
     "output_type": "execute_result"
    }
   ],
   "source": [
    "bond_portfolio.price_bond(cash_flows.loc[1234],notional_cash_flows.loc[1234],settings.modelling_date, proj_period,curves,zspread_df.loc[1234][0])"
   ]
  },
  {
   "cell_type": "markdown",
   "id": "64b6463e",
   "metadata": {},
   "source": [
    "### Calibrate the spread to match market price"
   ]
  },
  {
   "cell_type": "code",
   "execution_count": null,
   "id": "9681162e",
   "metadata": {},
   "outputs": [],
   "source": []
  },
  {
   "cell_type": "code",
   "execution_count": null,
   "id": "a5eed195",
   "metadata": {},
   "outputs": [],
   "source": []
  },
  {
   "cell_type": "markdown",
   "id": "8a7a828a",
   "metadata": {},
   "source": [
    "Calculate the price of each bond using the discounted cash flow method"
   ]
  },
  {
   "cell_type": "code",
   "execution_count": null,
   "id": "6b196f32",
   "metadata": {},
   "outputs": [],
   "source": [
    "asset_id_tmp = cash_flows.index[0]\n",
    "    \n",
    "temp_dividend = cash_flows.loc[asset_id_tmp].to_dict() \n",
    "\n",
    "temp_terminal = terminal_cash_flows.loc[asset_id_tmp].to_dict()\n"
   ]
  },
  {
   "cell_type": "code",
   "execution_count": null,
   "id": "3d6f0932",
   "metadata": {},
   "outputs": [],
   "source": [
    "\n",
    "price = bond_portfolio.corporate_bonds[asset_id_tmp].price_share(temp_dividend, temp_terminal, settings.modelling_date, proj_period, curves)\n",
    "print(price)"
   ]
  },
  {
   "cell_type": "code",
   "execution_count": null,
   "id": "46f3e18c",
   "metadata": {},
   "outputs": [],
   "source": [
    "def converttime(date_time):\n",
    "    format = \"%d/%m/%Y\"\n",
    "    datetime_str = dt.datetime.strptime(date_time,format).date()\n",
    "    return datetime_str"
   ]
  },
  {
   "cell_type": "code",
   "execution_count": null,
   "id": "541e211c",
   "metadata": {},
   "outputs": [],
   "source": [
    "nace = np.array([])\n",
    "issuedate = np.array([])\n",
    "maturitydate = np.array([])\n",
    "notional = np.array([])\n",
    "couponrate = np.array([])\n",
    "frequency = np.array([])\n",
    "recovrate = np.array([])\n",
    "defprob = np.array([])\n",
    "sspread = np.array([])\n",
    "zspread = np.array([])\n",
    "marketprice = np.array([])\n",
    "\n",
    "for iCount in range(0,bondfile.index.size):\n",
    "    nace = np.append(nace,bondfile[\"NACE\"].iloc[iCount])\n",
    "    issuedate = np.append(issuedate,converttime(bondfile[\"Issue_Date\"].iloc[iCount]))\n",
    "    maturitydate = np.append(maturitydate,converttime(bondfile[\"Maturity_Date\"].iloc[iCount]))\n",
    "    notional = np.append(notional,bondfile[\"Notional_Amount\"].iloc[iCount])\n",
    "    couponrate = np.append(couponrate,bondfile[\"Coupon_Rate\"].iloc[iCount])\n",
    "    frequency = np.append(frequency,bondfile[\"Frequency\"].iloc[iCount])\n",
    "    recovrate = np.append(recovrate,bondfile[\"Recovery_Rate\"].iloc[iCount])\n",
    "    defprob = np.append(defprob,bondfile[\"Default_Probability\"].iloc[iCount])\n",
    "    if run_type==\"Risk Neutral\":\n",
    "        sspread = np.append(sspread,0)\n",
    "    else:\n",
    "        sspread = np.append(sspread,spreadfile.loc[bondfile[\"NACE\"].iloc[iCount]][\"sSpread\"])   \n",
    "    marketprice = np.append(marketprice, bondfile[\"Market_Price\"].iloc[iCount])"
   ]
  },
  {
   "cell_type": "code",
   "execution_count": null,
   "id": "2d7fb75f",
   "metadata": {},
   "outputs": [],
   "source": [
    "cb = CorporateBond(issuedate, maturitydate, frequency, notional, couponrate, recovrate, defprob, sspread, zspread, marketprice,compounding)"
   ]
  },
  {
   "cell_type": "markdown",
   "id": "af26b0b2",
   "metadata": {},
   "source": [
    "### createcashflowdates() function\n",
    "\n",
    "Based on the bond description, issue and maturity date, this function creates a list of lists of dates when the cash flows are expected to be paid. \n",
    "\n",
    "Note that this list is indepenedent of the modelling date."
   ]
  },
  {
   "cell_type": "code",
   "execution_count": null,
   "id": "9acf761d",
   "metadata": {},
   "outputs": [],
   "source": [
    "cb.createcashflowdates()"
   ]
  },
  {
   "cell_type": "markdown",
   "id": "b50097a4",
   "metadata": {},
   "source": [
    "Test to see what the function produced:"
   ]
  },
  {
   "cell_type": "code",
   "execution_count": null,
   "id": "a2936208",
   "metadata": {},
   "outputs": [],
   "source": [
    "cb.coupondates"
   ]
  },
  {
   "cell_type": "code",
   "execution_count": null,
   "id": "1a748d19",
   "metadata": {},
   "outputs": [],
   "source": [
    "cb.notionaldates"
   ]
  },
  {
   "cell_type": "code",
   "execution_count": null,
   "id": "b50ee567",
   "metadata": {},
   "outputs": [],
   "source": [
    "#cb.createcashflows()"
   ]
  },
  {
   "cell_type": "markdown",
   "id": "c9ffba53",
   "metadata": {},
   "source": [
    "### refactordates() function\n",
    "\n",
    "Given a specific modelling date, the function calculates the fractionns of the year between the modelling date and each cash flow. Only cash flows after the modelling date are considered. The second input is the index number of cashflows that occur after the modelling date.\n"
   ]
  },
  {
   "cell_type": "code",
   "execution_count": null,
   "id": "b26de413",
   "metadata": {},
   "outputs": [],
   "source": [
    "cb.refactordates(MD)"
   ]
  },
  {
   "cell_type": "markdown",
   "id": "004f49b9",
   "metadata": {},
   "source": [
    "Test refactordates() function"
   ]
  },
  {
   "cell_type": "code",
   "execution_count": null,
   "id": "27a8f433",
   "metadata": {},
   "outputs": [],
   "source": [
    "cb.coupondatesfrac"
   ]
  },
  {
   "cell_type": "markdown",
   "id": "b7d73e13",
   "metadata": {},
   "source": [
    "### generatecashflows()\n",
    "\n",
    "Generates the vector of cash flows for each asset. One for each coupon and one for each notional amount."
   ]
  },
  {
   "cell_type": "code",
   "execution_count": null,
   "id": "e87709e0",
   "metadata": {},
   "outputs": [],
   "source": [
    "cb.createcashflowsnew()"
   ]
  },
  {
   "cell_type": "markdown",
   "id": "920f3206",
   "metadata": {},
   "source": [
    "### Calibrate the bonds"
   ]
  },
  {
   "cell_type": "code",
   "execution_count": null,
   "id": "5b11f6de",
   "metadata": {},
   "outputs": [],
   "source": [
    "coupontargetrates = []\n",
    "notionaltargetrates = []\n",
    "\n",
    "for iAsset in range(0,cb.issuedate.size-1):\n",
    "\n",
    "    if (cb.maturitydate-MD)[iAsset].days < 0:\n",
    "       coupontargetrates.append([0])\n",
    "       notionaltargetrates.append([0])\n",
    "    else: \n",
    "        coupontargetrates.append(Curves.SWExtrapolate(np.transpose(cb.coupondatesfrac[iAsset]),M_Obs, Qb, ufr, alpha))\n",
    "        notionaltargetrates.append(Curves.SWExtrapolate(np.transpose(cb.notionaldatesfrac[iAsset]),M_Obs, Qb, ufr, alpha))"
   ]
  },
  {
   "cell_type": "code",
   "execution_count": null,
   "id": "e0a27131",
   "metadata": {},
   "outputs": [],
   "source": [
    "coupontargetrates"
   ]
  },
  {
   "cell_type": "code",
   "execution_count": null,
   "id": "2d3a4873",
   "metadata": {},
   "outputs": [],
   "source": [
    "def BisectionsSpread(obj, xStart, xEnd, coupontargetrate,notionaltargetrate,coupondatefrac,notionaldatefrac,couponcfs,notionalcf,sspread, marketprice, Precision, maxIter):\n",
    "    \"\"\"\n",
    "    Bisection root finding algorithm for finding the root of a function. The function here is the allowed difference between the ultimate forward rate and the extrapolated curve using Smith & Wilson.\n",
    "\n",
    "    Args:\n",
    "        cbPriced =  CorporateBondPriced object containing the list of priced bonds, spreads and cash flows\n",
    "        xStart =    1 x 1 floating number representing the minimum allowed value of the convergence speed parameter alpha. Ex. alpha = 0.05\n",
    "        xEnd =      1 x 1 floating number representing the maximum allowed value of the convergence speed parameter alpha. Ex. alpha = 0.8\n",
    "        M_Obs =     n x 1 ndarray of maturities of bonds, that have rates provided in input (r). Ex. u = [[1], [3]]\n",
    "        r_Obs =     n x 1 ndarray of rates, for which you wish to calibrate the algorithm. Each rate belongs to an observable Zero-Coupon Bond with a known maturity. Ex. r = [[0.0024], [0.0034]]\n",
    "        ufr  =      1 x 1 floating number, representing the ultimate forward rate. Ex. ufr = 0.042\n",
    "        Tau =       1 x 1 floating number representing the allowed difference between ufr and actual curve. Ex. Tau = 0.00001\n",
    "        Precision = 1 x 1 floating number representing the precision of the calculation. Higher the precision, more accurate the estimation of the root\n",
    "        maxIter =   1 x 1 positive integer representing the maximum number of iterations allowed. This is to prevent an infinite loop in case the method does not converge to a solution         \n",
    "    \n",
    "    Returns:\n",
    "        1 x 1 floating number representing the optimal value of the parameter alpha \n",
    "\n",
    "    Example of use:\n",
    "        >>> import numpy as np\n",
    "        >>> from SWCalibrate import SWCalibrate as SWCalibrate\n",
    "        >>> M_Obs = np.transpose(np.array([1, 2, 4, 5, 6, 7]))\n",
    "        >>> r_Obs =  np.transpose(np.array([0.01, 0.02, 0.03, 0.032, 0.035, 0.04]))\n",
    "        >>> xStart = 0.05\n",
    "        >>> xEnd = 0.5\n",
    "        >>> maxIter = 1000\n",
    "        >>> alfa = 0.15\n",
    "        >>> ufr = 0.042\n",
    "        >>> Precision = 0.0000000001\n",
    "        >>> Tau = 0.0001\n",
    "        >>> BisectionAlpha(xStart, xEnd, M_Obs, r_Obs, ufr, Tau, Precision, maxIter)\n",
    "        [Out] 0.11549789285636511\n",
    "\n",
    "    For more information see https://www.eiopa.europa.eu/sites/default/files/risk_free_interest_rate/12092019-technical_documentation.pdf and https://en.wikipedia.org/wiki/Bisection_method\n",
    "    \n",
    "    Implemented by Gregor Fabjan from Qnity Consultants on 17/12/2021.\n",
    "    \"\"\"   \n",
    "\n",
    "    yStart = obj.OpenPriceBond(coupontargetrate,notionaltargetrate,coupondatefrac,notionaldatefrac,couponcfs,notionalcf,sspread,xStart)\n",
    "    yEnd = obj.OpenPriceBond(coupontargetrate,notionaltargetrate,coupondatefrac,notionaldatefrac,couponcfs,notionalcf,sspread,xEnd)\n",
    "    if np.abs(yStart-marketprice) < Precision:\n",
    "        return xStart\n",
    "    if np.abs(yEnd-marketprice) < Precision:\n",
    "        return xEnd # If final point already satisfies the conditions return end point\n",
    "    iIter = 0\n",
    "    while iIter <= maxIter:\n",
    "        xMid = (xEnd+xStart)/2 # calculate mid-point\n",
    "        yMid = obj.OpenPriceBond(coupontargetrate,notionaltargetrate,coupondatefrac,notionaldatefrac,couponcfs,notionalcf,sspread,xMid) # What is the solution at midpoint\n",
    "        if ((yStart-marketprice) == 0 or (xEnd-xStart)/2 < Precision): # Solution found\n",
    "            return xMid\n",
    "        else: # Solution not found\n",
    "            iIter += 1\n",
    "            if np.sign(yMid-marketprice) == np.sign(yStart-marketprice): # If the start point and the middle point have the same sign, then the root must be in the second half of the interval   \n",
    "                xStart = xMid\n",
    "            else: # If the start point and the middle point have a different sign than by mean value theorem the interval must contain at least one root\n",
    "                xEnd = xMid\n",
    "    return \"Did not converge\""
   ]
  },
  {
   "cell_type": "code",
   "execution_count": null,
   "id": "8e075fd8",
   "metadata": {},
   "outputs": [],
   "source": [
    "cb.zspread = []\n",
    "for iCount in range(0,len(coupontargetrates)):\n",
    "    if (cb.maturitydate-MD)[iCount].days < 0:\n",
    "       print(\"This bond has matured\") \n",
    "    else: \n",
    "        zSpreadTmp = BisectionsSpread(cb, -0.2, 0.2, coupontargetrates[iCount],notionaltargetrates[iCount],cb.coupondatesfrac[iCount],cb.notionaldatesfrac[iCount],cb.couponcfs[iCount],cb.notionalcfs[iCount],cb.sspread[iCount],cb.marketprice[iCount], Precision, 1000)\n",
    "        cb.zspread = np.append(cb.zspread,zSpreadTmp)"
   ]
  },
  {
   "cell_type": "code",
   "execution_count": null,
   "id": "a8e7ffc0",
   "metadata": {},
   "outputs": [],
   "source": [
    "cb.zspread"
   ]
  },
  {
   "cell_type": "code",
   "execution_count": null,
   "id": "b4568056",
   "metadata": {},
   "outputs": [],
   "source": [
    "#cbPriced.PriceBond(coupontargetrates,notionaltargetrates,coupondatefrac,notionaldatefrac,cbPriced.couponcfs,cbPriced.notionalcfs,cbPriced.sspread,np.array([0.01,0.01]))"
   ]
  },
  {
   "cell_type": "code",
   "execution_count": null,
   "id": "836d1e95",
   "metadata": {},
   "outputs": [],
   "source": [
    "cb.marketprice"
   ]
  },
  {
   "cell_type": "code",
   "execution_count": null,
   "id": "1c4d82cf",
   "metadata": {},
   "outputs": [],
   "source": [
    "cb.sspread"
   ]
  }
 ],
 "metadata": {
  "kernelspec": {
   "display_name": "Python 3 (ipykernel)",
   "language": "python",
   "name": "python3"
  },
  "language_info": {
   "codemirror_mode": {
    "name": "ipython",
    "version": 3
   },
   "file_extension": ".py",
   "mimetype": "text/x-python",
   "name": "python",
   "nbconvert_exporter": "python",
   "pygments_lexer": "ipython3",
   "version": "3.9.7"
  }
 },
 "nbformat": 4,
 "nbformat_minor": 5
}
