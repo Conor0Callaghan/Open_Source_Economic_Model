{
 "cells": [
  {
   "cell_type": "markdown",
   "id": "e4a19110",
   "metadata": {},
   "source": [
    "# Projection of the risk free curve and recalibration inside OSEM"
   ]
  },
  {
   "cell_type": "markdown",
   "id": "6924f6fb",
   "metadata": {},
   "source": [
    "The purpose of this workbook is to showcase the calibration methodology inside OSEM. The key to the calibration is the Smith Wilson algorithm commonly used in insurance. This algorithm allows a continious approximation of arbitrary maturities based on a subset of available maturities. This example is split onto 3 parts. "
   ]
  },
  {
   "cell_type": "markdown",
   "id": "3d4ea939",
   "metadata": {},
   "source": [
    " - The first part shows how the necessary parameters and curves are imported from input files. \n",
    " - Second part shows how the curves are generated and the Smith-Wilson calibrations derived. \n",
    " - The last part shows how the saved calibration can be used to derive an the discount rates for any maturity."
   ]
  },
  {
   "cell_type": "code",
   "execution_count": 16,
   "id": "49ae88db",
   "metadata": {},
   "outputs": [],
   "source": [
    "import numpy as np\n",
    "import pandas as pd\n",
    "import matplotlib.pyplot as plt\n",
    "import matplotlib.ticker as mtick"
   ]
  },
  {
   "cell_type": "code",
   "execution_count": 17,
   "id": "cae8e38e",
   "metadata": {},
   "outputs": [],
   "source": [
    "from ImportData import import_SWEiopa\n",
    "from CurvesClass import Curves"
   ]
  },
  {
   "cell_type": "markdown",
   "id": "e7936c21",
   "metadata": {},
   "source": [
    "## Importing files"
   ]
  },
  {
   "cell_type": "markdown",
   "id": "489cc61f",
   "metadata": {},
   "source": [
    "The parameters and the current risk free curve are provided as input:\n",
    "\n",
    " - Parameters.csv; Parameters related to the run \n",
    " - EIOPA_param_file.csv; Assumed yield curve at modelling date and relevant maturities\n",
    " - EIOPA_curves_file.csv; Parameters related to the EIOPA time 0 calibration\n",
    " \n",
    " \n",
    " The exact location of the EIOPA files is encoded in the Parameters input file. "
   ]
  },
  {
   "cell_type": "code",
   "execution_count": 18,
   "id": "76947335",
   "metadata": {},
   "outputs": [],
   "source": [
    "paramfile = pd.read_csv(\"Input\\Parameters.csv\", index_col=\"Parameter\")"
   ]
  },
  {
   "cell_type": "markdown",
   "id": "3df2f181",
   "metadata": {},
   "source": [
    "The location of the two EIOPA files are:"
   ]
  },
  {
   "cell_type": "code",
   "execution_count": 19,
   "id": "96ba2d05",
   "metadata": {},
   "outputs": [],
   "source": [
    "selected_param_file = paramfile[\"Value\"].loc[\"EIOPA_param_file\"]\n",
    "selected_curves_file = paramfile[\"Value\"].loc[\"EIOPA_curves_file\"]"
   ]
  },
  {
   "cell_type": "markdown",
   "id": "e98d64b4",
   "metadata": {},
   "source": [
    "The risk free curve belongs to the following country:"
   ]
  },
  {
   "cell_type": "code",
   "execution_count": 20,
   "id": "9cf13695",
   "metadata": {},
   "outputs": [],
   "source": [
    "country = paramfile[\"Value\"].loc[\"country\"]"
   ]
  },
  {
   "cell_type": "markdown",
   "id": "fc1b15a1",
   "metadata": {},
   "source": [
    "Import all necessary parameters:"
   ]
  },
  {
   "cell_type": "code",
   "execution_count": 21,
   "id": "96d0a173",
   "metadata": {},
   "outputs": [],
   "source": [
    "[maturities_country, curve_country, extra_param, Qb] = import_SWEiopa(selected_param_file, selected_curves_file, country)"
   ]
  },
  {
   "cell_type": "markdown",
   "id": "f2358d29",
   "metadata": {},
   "source": [
    "## Preparation and treatment of the curves"
   ]
  },
  {
   "cell_type": "markdown",
   "id": "703fedca",
   "metadata": {},
   "source": [
    "The OSEM does multiple steps in order to make it easier for OSEM to access discount curves at any point in time and for arbitrary maturities. All steps are performed and saved within the Curves class."
   ]
  },
  {
   "cell_type": "markdown",
   "id": "5eaaeb2e",
   "metadata": {},
   "source": [
    "### The curves class"
   ]
  },
  {
   "cell_type": "markdown",
   "id": "c7b94b91",
   "metadata": {},
   "source": [
    "The curve class object contains all the data necessary to run the model."
   ]
  },
  {
   "cell_type": "code",
   "execution_count": 22,
   "id": "78b1b253",
   "metadata": {},
   "outputs": [],
   "source": [
    "# ultimate forward rate\n",
    "ufr = extra_param[\"UFR\"]/100\n",
    "\n",
    "# Numeric precision of the optimisation\n",
    "precision = float(paramfile[\"Value\"].loc[\"Precision\"])\n",
    "\n",
    "# Targeted distance between the extrapolated curve and the ultimate forward rate at the convergence point\n",
    "tau = float(paramfile[\"Value\"].loc[\"Tau\"])# 1 basis point\n",
    "\n",
    "modelling_date = paramfile.loc[\"Modelling_Date\"]\n",
    "\n",
    "# Number of projection years\n",
    "n_years = int(paramfile.loc[\"n_proj_years\"][0])"
   ]
  },
  {
   "cell_type": "code",
   "execution_count": 23,
   "id": "68513113",
   "metadata": {},
   "outputs": [],
   "source": [
    "curves = Curves(ufr, precision, tau, modelling_date, country)"
   ]
  },
  {
   "cell_type": "markdown",
   "id": "27b97643",
   "metadata": {},
   "source": [
    "After the Curves class is initiated, there are a series if calibrations that needs to be performed.\n",
    "\n",
    " - Saving of the input term structure\n",
    " - Calculation of the forward rates\n",
    " - Projection of the forward spot rates\n",
    " - Calculation of the Smith-Wilson calibrations for each period"
   ]
  },
  {
   "cell_type": "markdown",
   "id": "31f91ad4",
   "metadata": {},
   "source": [
    "### Save the input term structure\n",
    "\n",
    "SetObservedTermStructure sets the liquid maturities and the coresponding yields to the m_obs and r_obs property of the Curves class. "
   ]
  },
  {
   "cell_type": "code",
   "execution_count": 24,
   "id": "5ed1a4af",
   "metadata": {},
   "outputs": [],
   "source": [
    "curves.SetObservedTermStructure(maturity_vec=curve_country.index.tolist(), yield_vec=curve_country.values)"
   ]
  },
  {
   "cell_type": "markdown",
   "id": "df97b77f",
   "metadata": {},
   "source": [
    "### Calculate 1 year forward rates\n",
    "\n",
    "Using the time 0 spot curve provided as input, the yearly forward rates can be calculated from the annually reported yield curve\n",
    "$$\n",
    "fw_{EIOPA,1} = y_1\n",
    "$$\n",
    "\n",
    "otherwise:\n",
    "\n",
    "$$\n",
    "fw_{EIOPA,i} = \\frac{(1 + y_i)^{-i}}{(1 + y_{i-1})^{-(i-1)}} \n",
    "$$\n",
    "\n",
    "The forward rates will be used to calculate forward spot curves."
   ]
  },
  {
   "cell_type": "markdown",
   "id": "06cf272b",
   "metadata": {},
   "source": [
    "Where:\n",
    "\n",
    " - $i$ is the year (Ex. 1,2,3, $\\dots$)\n",
    " - $y_i$ is the yield for the year $i$\n",
    " - $fw_{EIOPA,i}$ is the 1-year forward rate between years $i-1$ and $i$"
   ]
  },
  {
   "cell_type": "code",
   "execution_count": 25,
   "id": "aade7ad2",
   "metadata": {},
   "outputs": [],
   "source": [
    "curves.CalcFwdRates()"
   ]
  },
  {
   "cell_type": "markdown",
   "id": "88cc544e",
   "metadata": {},
   "source": [
    "### Forward yield curve\n",
    "\n",
    "The forward yield curve can be calculated by using the 1-year forward rates from the suitable moment onwards. The spot yield curve is calculated for each projection period. For the projection period $i$, the yield curve can be calculated as:"
   ]
  },
  {
   "cell_type": "markdown",
   "id": "eb1997e6",
   "metadata": {},
   "source": [
    "$$\n",
    "y^j_{i-j} = \\prod_{k=j}^i\\big(1+fw_{EIOPA}(k)\\big)^{-(k-j)}\n",
    "$$"
   ]
  },
  {
   "cell_type": "markdown",
   "id": "bcda63b7",
   "metadata": {},
   "source": [
    "Where:\n",
    " - $j$ is the modelling period at which the model is performing the calculations \n",
    " - $i-j$ is the time period within the modelling period\n",
    " - $y^j_{k}$ is the yield $k$ years after the modelling period $j$"
   ]
  },
  {
   "cell_type": "code",
   "execution_count": 26,
   "id": "66b733c1",
   "metadata": {},
   "outputs": [],
   "source": [
    "curves.ProjectForwardRate(n_years)"
   ]
  },
  {
   "cell_type": "markdown",
   "id": "017a8ee1",
   "metadata": {},
   "source": [
    "## Calibrate Smith-Wilson on each yield curve"
   ]
  },
  {
   "cell_type": "markdown",
   "id": "01756712",
   "metadata": {},
   "source": [
    "Each forward spot curve is used to calibrate the SW algorithm. This calibration can then be used to generate yield corves of arbitrary maturities. The calibration is split on two parts. First one calibrates the curve at time 0"
   ]
  },
  {
   "cell_type": "markdown",
   "id": "ea489278",
   "metadata": {},
   "source": [
    "### Calibration of the interpolation/extrapolation algorithm"
   ]
  },
  {
   "cell_type": "code",
   "execution_count": 27,
   "id": "d4ce9ba0",
   "metadata": {},
   "outputs": [],
   "source": [
    "curves.CalibrateProjected(n_years, 0.05, 0.5, 1000)"
   ]
  },
  {
   "cell_type": "markdown",
   "id": "d50fa78e",
   "metadata": {},
   "source": [
    "## Example 1\n",
    "\n",
    "Is the yield curve equal to the curve used for the calibration?"
   ]
  },
  {
   "cell_type": "code",
   "execution_count": 28,
   "id": "a7589215",
   "metadata": {},
   "outputs": [],
   "source": [
    "#r_obs_est = curves.SWExtrapolate(m_obs, m_obs, curves.b[NameOfYear_3][:-(ProjYear)], curves.ufr, curves.alpha[NameOfYear_4][0])"
   ]
  },
  {
   "cell_type": "code",
   "execution_count": 29,
   "id": "93e7db31",
   "metadata": {},
   "outputs": [],
   "source": [
    "#fig, ax1 = plt.subplots(1, 1)\n",
    "#ax1.scatter(m_obs, r_obs, label=\"Calculated\", marker=\"x\")\n",
    "#ax1.plot(m_obs, r_obs_est)\n",
    "#ax1.set_ylabel(\"yield\")\n",
    "#ax1.set_title('Recalculated & provided yield curve')\n",
    "#ax1.set_xlabel(\"time\")\n",
    "#ax1.legend()\n",
    "#ax1.yaxis.set_major_formatter(mtick.PercentFormatter())\n",
    "#fig.set_figwidth(6)\n",
    "#fig.set_figheight(3)\n",
    "#plt.show()"
   ]
  },
  {
   "cell_type": "markdown",
   "id": "a395933b",
   "metadata": {},
   "source": [
    "## Example 2\n",
    "\n",
    "The future yield curve for arbitrary maturities."
   ]
  },
  {
   "cell_type": "markdown",
   "id": "5f4a2902",
   "metadata": {},
   "source": [
    "Assuming the algorithm is processing the year 3. A hypothetical asset has a cash flow at year fractions:\n",
    "\n",
    "$$ \\{0.7, 1.2, 2.1, 3.543\\} $$\n",
    "\n",
    "To make it possible to calculate the present value, the coresponding dicount rates are calculated:\n"
   ]
  },
  {
   "cell_type": "code",
   "execution_count": 30,
   "id": "1c55a86f",
   "metadata": {},
   "outputs": [],
   "source": [
    "ModellingYear = 3\n",
    "maturity_name = \"Maturities_year_\" + str(ModellingYear)\n",
    "calibration_name = \"Calibration_year_\" + str(ModellingYear)\n",
    "alpha_name = \"Alpha_year_\" + str(ModellingYear)\n",
    "\n",
    "# The maturities for which we are looking the discount yields\n",
    "desired_mat = np.array([0.7, 1.2, 2.1, 3.543])"
   ]
  },
  {
   "cell_type": "code",
   "execution_count": 31,
   "id": "b6aac4d1",
   "metadata": {},
   "outputs": [],
   "source": [
    "calib_b = curves.b[calibration_name][:-ModellingYear].values"
   ]
  },
  {
   "cell_type": "code",
   "execution_count": 32,
   "id": "4115034d",
   "metadata": {},
   "outputs": [],
   "source": [
    "calib_maturities = curves.m_obs[maturity_name][:-ModellingYear].values"
   ]
  },
  {
   "cell_type": "code",
   "execution_count": 33,
   "id": "3464b517",
   "metadata": {},
   "outputs": [],
   "source": [
    "calib_alpha = curves.alpha[alpha_name][0]"
   ]
  },
  {
   "cell_type": "code",
   "execution_count": 34,
   "id": "96aae05c",
   "metadata": {},
   "outputs": [],
   "source": [
    "result = curves.SWExtrapolate(desired_mat, calib_maturities, calib_b, curves.ufr, calib_alpha)"
   ]
  },
  {
   "cell_type": "markdown",
   "id": "06358980",
   "metadata": {},
   "source": [
    "The required yields are:"
   ]
  },
  {
   "cell_type": "code",
   "execution_count": 35,
   "id": "f159de32",
   "metadata": {},
   "outputs": [
    {
     "data": {
      "text/plain": [
       "array([0.02618662, 0.026155  , 0.02616982, 0.02642073])"
      ]
     },
     "metadata": {},
     "output_type": "display_data"
    }
   ],
   "source": [
    "display(result)"
   ]
  },
  {
   "cell_type": "markdown",
   "id": "b9abf119",
   "metadata": {},
   "source": [
    "### Discount factors"
   ]
  },
  {
   "cell_type": "markdown",
   "id": "d3a9a682",
   "metadata": {},
   "source": [
    "The discount factors can be calculated from the yield:\n",
    "\n",
    "$$\n",
    "\n",
    "df = \n",
    "\n",
    "$$\n"
   ]
  }
 ],
 "metadata": {
  "kernelspec": {
   "display_name": "Python 3 (ipykernel)",
   "language": "python",
   "name": "python3"
  },
  "language_info": {
   "codemirror_mode": {
    "name": "ipython",
    "version": 3
   },
   "file_extension": ".py",
   "mimetype": "text/x-python",
   "name": "python",
   "nbconvert_exporter": "python",
   "pygments_lexer": "ipython3",
   "version": "3.9.7"
  }
 },
 "nbformat": 4,
 "nbformat_minor": 5
}
