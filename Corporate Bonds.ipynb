{
 "cells": [
  {
   "cell_type": "code",
   "execution_count": 6,
   "id": "87c16d3e",
   "metadata": {},
   "outputs": [],
   "source": [
    "from BondClasses import CorpBond, Frequency, CorpBondPortfolio\n",
    "from datetime import datetime\n",
    "import ImportData\n",
    "import dateutil"
   ]
  },
  {
   "cell_type": "code",
   "execution_count": 12,
   "id": "a0d344e1",
   "metadata": {},
   "outputs": [
    {
     "name": "stdout",
     "output_type": "stream",
     "text": [
      "CorpBond(asset_id=1, nace='A1.4.5', issuer=None, issue_date=datetime.date(2021, 12, 3), maturity_date=datetime.date(2026, 12, 12), coupon_rate=0.03, notional_amount=100.0, frequency=1, recovery_rate=0.4, default_probability=0.03, market_price=94.0)\n",
      "CorpBond(asset_id=2, nace='B5.2.0', issuer=None, issue_date=datetime.date(2021, 12, 3), maturity_date=datetime.date(2028, 12, 12), coupon_rate=0.05, notional_amount=100.0, frequency=2, recovery_rate=0.4, default_probability=0.03, market_price=92.0)\n",
      "CorpBond(asset_id=3, nace='B8.9.3', issuer=None, issue_date=datetime.date(2019, 12, 3), maturity_date=datetime.date(2025, 12, 3), coupon_rate=0.04, notional_amount=100.0, frequency=12, recovery_rate=0.4, default_probability=0.03, market_price=96.0)\n"
     ]
    }
   ],
   "source": [
    "corporate_bond_portfolio = CorpBondPortfolio()\n",
    "for corp_bond in ImportData.GetCorporateBonds(\"Input/Bond_Portfolio 2.csv\"):\n",
    "    print(corp_bond)\n",
    "    corporate_bond_portfolio.add(corp_bond)\n",
    "    "
   ]
  },
  {
   "cell_type": "code",
   "execution_count": 13,
   "id": "9b2bd1cd",
   "metadata": {},
   "outputs": [
    {
     "name": "stdout",
     "output_type": "stream",
     "text": [
      "{1: CorpBond(asset_id=1, nace='A1.4.5', issuer=None, issue_date=datetime.date(2021, 12, 3), maturity_date=datetime.date(2026, 12, 12), coupon_rate=0.03, notional_amount=100.0, frequency=1, recovery_rate=0.4, default_probability=0.03, market_price=94.0), 2: CorpBond(asset_id=2, nace='B5.2.0', issuer=None, issue_date=datetime.date(2021, 12, 3), maturity_date=datetime.date(2028, 12, 12), coupon_rate=0.05, notional_amount=100.0, frequency=2, recovery_rate=0.4, default_probability=0.03, market_price=92.0), 3: CorpBond(asset_id=3, nace='B8.9.3', issuer=None, issue_date=datetime.date(2019, 12, 3), maturity_date=datetime.date(2025, 12, 3), coupon_rate=0.04, notional_amount=100.0, frequency=12, recovery_rate=0.4, default_probability=0.03, market_price=96.0)}\n"
     ]
    }
   ],
   "source": [
    "print(corporate_bond_portfolio.corporate_bonds)"
   ]
  },
  {
   "cell_type": "code",
   "execution_count": 14,
   "id": "81d1083b",
   "metadata": {},
   "outputs": [
    {
     "name": "stdout",
     "output_type": "stream",
     "text": [
      "{datetime.date(2023, 12, 3): 12.0, datetime.date(2024, 12, 3): 12.0, datetime.date(2025, 12, 3): 12.0, datetime.date(2026, 12, 3): 8.0, datetime.date(2024, 6, 3): 9.0, datetime.date(2025, 6, 3): 9.0, datetime.date(2026, 6, 3): 5.0, datetime.date(2027, 6, 3): 5.0, datetime.date(2027, 12, 3): 5.0, datetime.date(2028, 6, 3): 5.0, datetime.date(2028, 12, 3): 5.0, datetime.date(2023, 8, 3): 4.0, datetime.date(2023, 9, 3): 4.0, datetime.date(2023, 10, 3): 4.0, datetime.date(2023, 11, 3): 4.0, datetime.date(2024, 1, 3): 4.0, datetime.date(2024, 2, 3): 4.0, datetime.date(2024, 3, 3): 4.0, datetime.date(2024, 4, 3): 4.0, datetime.date(2024, 5, 3): 4.0, datetime.date(2024, 7, 3): 4.0, datetime.date(2024, 8, 3): 4.0, datetime.date(2024, 9, 3): 4.0, datetime.date(2024, 10, 3): 4.0, datetime.date(2024, 11, 3): 4.0, datetime.date(2025, 1, 3): 4.0, datetime.date(2025, 2, 3): 4.0, datetime.date(2025, 3, 3): 4.0, datetime.date(2025, 4, 3): 4.0, datetime.date(2025, 5, 3): 4.0, datetime.date(2025, 7, 3): 4.0, datetime.date(2025, 8, 3): 4.0, datetime.date(2025, 9, 3): 4.0, datetime.date(2025, 10, 3): 4.0, datetime.date(2025, 11, 3): 4.0}\n"
     ]
    }
   ],
   "source": [
    "modelling_date = datetime(2023,8,1).date()\n",
    "print(corporate_bond_portfolio.create_coupon_dates(modelling_date))\n"
   ]
  },
  {
   "cell_type": "code",
   "execution_count": 15,
   "id": "bd617e39",
   "metadata": {},
   "outputs": [
    {
     "name": "stdout",
     "output_type": "stream",
     "text": [
      "{datetime.date(2026, 12, 12): 100.0, datetime.date(2028, 12, 12): 100.0, datetime.date(2025, 12, 3): 100.0}\n"
     ]
    }
   ],
   "source": [
    "print(corporate_bond_portfolio.create_maturity_cashflow(modelling_date))"
   ]
  },
  {
   "cell_type": "code",
   "execution_count": null,
   "id": "5a08abdc",
   "metadata": {},
   "outputs": [],
   "source": []
  },
  {
   "cell_type": "code",
   "execution_count": null,
   "id": "1f156961",
   "metadata": {},
   "outputs": [],
   "source": []
  }
 ],
 "metadata": {
  "kernelspec": {
   "display_name": "Python 3 (ipykernel)",
   "language": "python",
   "name": "python3"
  },
  "language_info": {
   "codemirror_mode": {
    "name": "ipython",
    "version": 3
   },
   "file_extension": ".py",
   "mimetype": "text/x-python",
   "name": "python",
   "nbconvert_exporter": "python",
   "pygments_lexer": "ipython3",
   "version": "3.10.9"
  }
 },
 "nbformat": 4,
 "nbformat_minor": 5
}
